{
 "cells": [
  {
   "cell_type": "code",
   "execution_count": 97,
   "id": "78dfa3b1",
   "metadata": {},
   "outputs": [
    {
     "name": "stdout",
     "output_type": "stream",
     "text": [
      "잔금대출에도 DTI 규제 적용 검토\n"
     ]
    }
   ],
   "source": [
    "import urllib\n",
    "import requests\n",
    "from bs4 import BeautifulSoup\n",
    "res = requests.get('http://v.media.daum.net/v/20170615203441266')\n",
    "soup = BeautifulSoup(res.content,'html.parser')\n",
    "mydata = soup.find('title')\n",
    "print(mydata.get_text())"
   ]
  },
  {
   "cell_type": "code",
   "execution_count": 28,
   "id": "bc4c64f5",
   "metadata": {
    "scrolled": true
   },
   "outputs": [],
   "source": [
    "p_data = soup.find_all('p')"
   ]
  },
  {
   "cell_type": "code",
   "execution_count": 39,
   "id": "7a40320c",
   "metadata": {},
   "outputs": [
    {
     "name": "stdout",
     "output_type": "stream",
     "text": [
      "\n",
      "금융당국이 급증하는 가계부채 증가세를 막기 위해 아파트 잔금대출에도 소득을 따져 대출한도를 정하는 총부채상환비율(DTI)을 적용하는 방안을 유력하게 검토하고 있다.\n",
      "지금은 집값을 기준으로 대출한도를 매기는 주택담보인정비율(LTV) 규제만 적용돼 소득이 없어도 집값의 70%를 빌려 잔금을 치르는 게 가능하다.\n",
      "앞으로 잔금대출에 DTI가 적용되면 소득이 없는 사람은 집값의 70% 대출 받는 게 어려워진다. 기사 제목과 주요 문장을 기반으로 자동요약한 결과입니다. 전체 맥락을 이해하기 위해서는 본문 보기를 권장합니다.\n",
      "\n"
     ]
    }
   ],
   "source": [
    "div_data = soup.find('div', 'layer_util layer_summary') \n",
    "print(div_data.get_text())"
   ]
  },
  {
   "cell_type": "code",
   "execution_count": 29,
   "id": "bd986219",
   "metadata": {},
   "outputs": [
    {
     "name": "stdout",
     "output_type": "stream",
     "text": [
      "금융당국이 급증하는 가계부채 증가세를 막기 위해 아파트 잔금대출에도 소득을 따져 대출한도를 정하는 총부채상환비율(DTI)을 적용하는 방안을 유력하게 검토하고 있다.\n",
      "지금은 집값을 기준으로 대출한도를 매기는 주택담보인정비율(LTV) 규제만 적용돼 소득이 없어도 집값의 70%를 빌려 잔금을 치르는 게 가능하다.\n",
      "앞으로 잔금대출에 DTI가 적용되면 소득이 없는 사람은 집값의 70% 대출 받는 게 어려워진다.\n",
      "Translated by kakao i\n",
      "내주 부동산 종합대책 발표\n",
      "집값 상승 노린 투기 분양 차단\n",
      "LTVㆍDTI 규제 다시 강화할 듯\n",
      "저소득 실수요자 피해 우려도\n",
      "\n",
      "금융당국이 급증하는 가계부채 증가세를 막기 위해 아파트 잔금대출에도 소득을 따져 대출한도를 정하는 총부채상환비율(DTI)을 적용하는 방안을 유력하게 검토하고 있다. 지금은 집값을 기준으로 대출한도를 매기는 주택담보인정비율(LTV) 규제만 적용돼 소득이 없어도 집값의 70%를 빌려 잔금을 치르는 게 가능하다. 앞으로 잔금대출에 DTI가 적용되면 소득 없는 사람이 입주 뒤 집값 상승을 노리고 분양시장에 뛰어드는 게 사실상 불가능해진다. \n",
      "금융당국 고위관계자는 15일 “잔금대출에도 DTI를 적용하는 방안을 검토 중”이라며 “다만 아직 최종 결론이 난 건 아니다”고 말했다. 정부는 내주 이 같은 내용을 포함한 부동산 종합 대책을 발표할 예정이다. \n",
      "정부가 잔금대출 DTI 적용 카드를 꺼내는 건, 집단대출을 잡지 않고선 과열된 주택시장을 진정시키기 어렵다는 판단에서다. 실제 정부는 지난해 잔금대출도 대출 초기부터 원리금을 함께 갚도록 하는 여신심사 가이드라인을 도입했지만 이렇다 할 효과를 거두지 못했다. 오히려 정부 대책에도 불구, 집단대출 증가액은 매달 늘어나는 추세인데 지난달엔 2조원으로 올 들어 최고치를 기록했다. \n",
      "아파트 분양 집단대출은 중도금과 잔금대출로 구분된다. 계약금 10%를 내면 입주 전까지 집값의 60%를 중도금 대출로 받을 수 있다. 중도금 대출은 건설사 보증으로 이뤄져 소득심사를 안 거친다. 잔금대출은 건설사가 아닌 집을 담보로 이뤄지는 대출이다. LTV 규제만 적용돼 소득이 없어도 집값의 70%까지 대출이 가능하다. 때문에 지금은 잔금대출로 집값의 70%를 대출받아 기존 중도금 대출을 갚고 나머지 20%만 본인 돈으로 충당하면 집을 살 수 있다.\n",
      "앞으로 잔금대출에 DTI가 적용되면 소득이 없는 사람은 집값의 70% 대출 받는 게 어려워진다. 입주 뒤 집값 상승을 노리는 투기수요를 확실히 걸러낼 초강력 대책이 될 수 있다. 하지만 부작용도 우려된다. 소득이 낮은 사회초년생 등은 청약통장을 갖고도 분양시장에 진입하는 게 어려워지기 때문이다. \n",
      "이에 따라 잔금대출에 DTI를 적용하는 것 역시 지역 등에 따라 선별적으로 이뤄질 가능성이 높다. 현재 당국은 신규 분양 물량부터 규제를 적용할지 아니면 기존 분양 물량까지 규제 범위를 확대할지를 놓고 시뮬레이션을 하고 있다. \n",
      "아울러 당국은 지난 2년간 완화됐던 LTV와 DTI를 다시 강화할 것으로 보인다. 현재 LTV(은행 기준)는 기존 50~60%에서 70%, DTI는 50~60%에서 60%로 완화돼 있는 상태다. 당국은 일괄적인 조이기보다 지역ㆍ집값 수준별로 기준을 다르게 적용하는 방식을 모색할 것으로 보인다.\n",
      "김동욱 기자 kdw1280@hankookilbo.com\n",
      "ⓒ한국일보 www.hankookilbo.com (무단복제 및 전재, 재배포를 금지합니다)\n",
      "해당 언론사로 연결됩니다.\n"
     ]
    }
   ],
   "source": [
    "for p_s in p_data:\n",
    "    print(p_s.get_text())"
   ]
  },
  {
   "cell_type": "code",
   "execution_count": 41,
   "id": "08d88fd8",
   "metadata": {},
   "outputs": [
    {
     "name": "stdout",
     "output_type": "stream",
     "text": [
      "김동욱\n",
      "입력 2017. 06. 15. 20:34\n",
      "수정 2017. 06. 15. 21:31\n"
     ]
    }
   ],
   "source": [
    "name_data = soup.find_all('span','txt_info')\n",
    "for i in name_data:\n",
    "    print(i.get_text())"
   ]
  },
  {
   "cell_type": "code",
   "execution_count": 38,
   "id": "e7f13f2a",
   "metadata": {
    "scrolled": true
   },
   "outputs": [
    {
     "name": "stdout",
     "output_type": "stream",
     "text": [
      "\n",
      "홈\n",
      "사회\n",
      "정치\n",
      "경제\n",
      "국제\n",
      "문화\n",
      "IT\n",
      "랭킹\n",
      "연재\n",
      "포토\n",
      "TV\n",
      "\n"
     ]
    }
   ],
   "source": [
    "meta_data = soup.find_all('ul','gnb_comm')\n",
    "for i in meta_data:\n",
    "    print(i.get_text())"
   ]
  },
  {
   "cell_type": "code",
   "execution_count": 14,
   "id": "972b241b",
   "metadata": {},
   "outputs": [
    {
     "name": "stdout",
     "output_type": "stream",
     "text": [
      "<p class=\"cssstyle\">웹페이지에서 필요한 데이터를 추출하는 것</p>\n",
      "<p align=\"center\" id=\"body\">파이썬을 중심으로 다양한 웹크롤링 기술 발달</p>\n"
     ]
    }
   ],
   "source": [
    "from bs4 import BeautifulSoup\n",
    "html =      \"<html> \\\n",
    "                <body> \\\n",
    "                        <h1 id='title'>[1]크롤링이란?</h1> \\\n",
    "                        <p class='cssstyle'>웹페이지에서 필요한 데이터를 추출하는 것</p> \\\n",
    "                        <p id='body' align='center'>파이썬을 중심으로 다양한 웹크롤링 기술 발달</p> \\\n",
    "                </body> \\\n",
    "            </html>\"\n",
    "soup = BeautifulSoup(html,\"html.parser\")\n",
    "# 태그로 검색 방법\n",
    "data = soup.find_all('p')\n",
    "\n",
    "for i in data:\n",
    "    print(i)"
   ]
  },
  {
   "cell_type": "code",
   "execution_count": 15,
   "id": "08f84be9",
   "metadata": {},
   "outputs": [
    {
     "name": "stdout",
     "output_type": "stream",
     "text": [
      "<p class=\"cssstyle\">웹페이지에서 필요한 데이터를 추출하는 것</p>\n",
      "<p align=\"center\" id=\"body\">파이썬을 중심으로 다양한 웹크롤링 기술 발달</p>\n"
     ]
    }
   ],
   "source": [
    "from bs4 import BeautifulSoup\n",
    "html =      \"\"\"<html> \n",
    "                <body> \n",
    "                        <h1 id='title'>[1]크롤링이란?</h1> \n",
    "                        <p class='cssstyle'>웹페이지에서 필요한 데이터를 추출하는 것</p> \n",
    "                        <p id='body' align='center'>파이썬을 중심으로 다양한 웹크롤링 기술 발달</p> \n",
    "                </body> \n",
    "            </html>\"\"\"\n",
    "soup = BeautifulSoup(html,\"html.parser\")\n",
    "# 태그로 검색 방법\n",
    "data = soup.find_all('p')\n",
    "\n",
    "for i in data:\n",
    "    print(i)"
   ]
  },
  {
   "cell_type": "code",
   "execution_count": 17,
   "id": "ac28f8f1",
   "metadata": {},
   "outputs": [
    {
     "name": "stdout",
     "output_type": "stream",
     "text": [
      "<p class=\"cssstyle\">웹페이지에서 필요한 데이터를 추출하는 것</p>\n"
     ]
    }
   ],
   "source": [
    "data = soup.find('p',class_='cssstyle')\n",
    "print(data)"
   ]
  },
  {
   "cell_type": "code",
   "execution_count": 18,
   "id": "2cf34420",
   "metadata": {},
   "outputs": [
    {
     "name": "stdout",
     "output_type": "stream",
     "text": [
      "<p class=\"cssstyle\">웹페이지에서 필요한 데이터를 추출하는 것</p>\n"
     ]
    }
   ],
   "source": [
    "data = soup.find('p','cssstyle')\n",
    "print(data)"
   ]
  },
  {
   "cell_type": "code",
   "execution_count": 19,
   "id": "4d9863bd",
   "metadata": {},
   "outputs": [
    {
     "name": "stdout",
     "output_type": "stream",
     "text": [
      "<p align=\"center\" id=\"body\">파이썬을 중심으로 다양한 웹크롤링 기술 발달</p>\n"
     ]
    }
   ],
   "source": [
    "data = soup.find('p',attrs={'align':'center'})\n",
    "print(data)"
   ]
  },
  {
   "cell_type": "code",
   "execution_count": 20,
   "id": "3b527d9c",
   "metadata": {},
   "outputs": [
    {
     "name": "stdout",
     "output_type": "stream",
     "text": [
      "<p align=\"center\" id=\"body\">파이썬을 중심으로 다양한 웹크롤링 기술 발달</p>\n"
     ]
    }
   ],
   "source": [
    "data = soup.find(id = 'body')\n",
    "print(data)"
   ]
  },
  {
   "cell_type": "code",
   "execution_count": 42,
   "id": "fb94f8eb",
   "metadata": {},
   "outputs": [
    {
     "name": "stdout",
     "output_type": "stream",
     "text": [
      "(왕초보) - 클래스 소개\n",
      "(왕초보) - 블로그 개발 필요한 준비물 준비하기\n",
      "(왕초보) - Github pages 설정해서 블로그 첫 페이지 만들어보기\n",
      "(왕초보) - 초간단 페이지 만들어보기\n",
      "(왕초보) - 이쁘게 테마 적용해보기\n",
      "(왕초보) - 마크다운 기초 이해하고, 실제 나만의 블로그 페이지 만들기\n",
      "(왕초보) - 다양한 마크다운 기법 익혀보며, 나만의 블로그 페이지 꾸며보기\n",
      "(초급) - 강사가 실제 사용하는 자동 프로그램 소개 [2]\n",
      "(초급) - 필요한 프로그램 설치 시연 [5]\n",
      "(초급) - 데이터를 엑셀 파일로 만들기 [9]\n",
      "(초급) -     엑셀 파일 이쁘게! 이쁘게! [8]\n",
      "(초급) -     나대신 주기적으로 파이썬 프로그램 실행하기 [7]\n",
      "(초급) - 파이썬으로 슬랙(slack) 메신저에 글쓰기 [40]\n",
      "(초급) - 웹사이트 변경사항 주기적으로 체크해서, 메신저로 알람주기 [12]\n",
      "(초급) - 네이버 API 사용해서, 블로그에 글쓰기 [42]\n",
      "(중급) - 자동으로 쿠팡파트너스 API 로 가져온 상품 정보, 네이버 블로그/트위터에 홍보하기 [412]\n"
     ]
    }
   ],
   "source": [
    "import requests\n",
    "from bs4 import BeautifulSoup\n",
    "res = requests.get('https://davelee-fun.github.io/blog/crawl_test')\n",
    "soup = BeautifulSoup(res.content,'html.parser')\n",
    "titles = soup.find_all('li','course')\n",
    "for title in titles:\n",
    "    print(title.get_text())"
   ]
  },
  {
   "cell_type": "code",
   "execution_count": 46,
   "id": "d495f437",
   "metadata": {},
   "outputs": [
    {
     "name": "stdout",
     "output_type": "stream",
     "text": [
      "-  클래스 소개\n",
      "-  블로그 개발 필요한 준비물 준비하기\n",
      "-  Github pages 설정해서 블로그 첫 페이지 만들어보기\n",
      "-  초간단 페이지 만들어보기\n",
      "-  이쁘게 테마 적용해보기\n",
      "-  마크다운 기초 이해하고, 실제 나만의 블로그 페이지 만들기\n",
      "-  다양한 마크다운 기법 익혀보며, 나만의 블로그 페이지 꾸며보기\n"
     ]
    }
   ],
   "source": [
    "import requests\n",
    "from bs4 import BeautifulSoup\n",
    "res = requests.get('https://davelee-fun.github.io/blog/crawl_test')\n",
    "soup = BeautifulSoup(res.content,'html.parser')\n",
    "section = soup.find('ul',id = 'hobby_course_list')\n",
    "titles = section.find_all('li','course')\n",
    "for title in titles:\n",
    "    print(\"-\",title.get_text().split('-')[1])"
   ]
  },
  {
   "cell_type": "code",
   "execution_count": 57,
   "id": "c1a0ee2f",
   "metadata": {},
   "outputs": [],
   "source": [
    "import requests\n",
    "from bs4 import BeautifulSoup\n",
    "res = requests.get('https://en.wikipedia.org/wiki/GLaDOS')\n",
    "soup = BeautifulSoup(res.content,'html.parser')\n"
   ]
  },
  {
   "cell_type": "code",
   "execution_count": 66,
   "id": "c996f90f",
   "metadata": {
    "collapsed": true
   },
   "outputs": [
    {
     "name": "stdout",
     "output_type": "stream",
     "text": [
      "\n",
      "\n",
      "GLaDOS (Genetic Lifeform and Disk Operating System,[1] DOS being a homage to Microsoft's MS-DOS) is a fictional artificially superintelligent computer system from the video game series Portal. GLaDOS later appeared in The Lab and Lego Dimensions. The character was created by Erik Wolpaw and Kim Swift and voiced by Ellen McLain. GLaDOS is responsible for testing and maintenance in the Aperture Science Computer-Aided Enrichment Center in all titles. While GLaDOS initially appears in the first game to simply be a voice that guides the player, her words and actions become increasingly malicious as she makes her intentions clear. The second game, as well as the Valve-created comic Lab Rat, reveals that she was mistreated by the scientists[2] and used a neurotoxin to kill the scientists in the laboratory before the events of Portal. She is apparently destroyed at the end of the first game but returns in the sequel, in which she is comically supplanted and temporarily stuck on a potato battery.\n",
      "\n",
      "The inspiration for the character's creation extends from Wolpaw's use of a text-to-speech program while writing lines for the video game Psychonauts. Other game developers working on Psychonauts found the lines funnier as a result of the synthesized voice. GLaDOS was originally intended to be present solely in the first area of Portal; she was well received by other designers and her role was expanded as a result. Play testers were motivated to complete tests in the game due to her guidance. While the game was initially designed with other characters, they were later removed, leaving GLaDOS as the only character players encounter. The physical appearance of GLaDOS went through several designs, one of which featured a large disk below her. McLain imitated dialog read aloud by a speech synthesizer with her own voice, which was then processed to sound more robotic, and performed songs in character during the closing credits of both entries in the series. \"Still Alive\" became hugely successful, notably appearing in the Rock Band game series, and has been a popular song for YouTube users to cover.\n",
      "\n",
      "GLaDOS has been well received by critics and gamers, some of whom called her narcissistic, passive-aggressive, sinister, and witty. She is considered one of the greatest video game characters, particularly among those created in the 2000s. Universally praised for her contributions to the caliber of Portal's narrative, GLaDOS received multiple awards for being the best new game character in 2007 from GameSpy, GamePro, and X-Play. A number of publications listed her as one of the all-time greatest video game villains, including IGN and Game Informer, both of which ranked her first. She has been the subject of significant critical analysis from both journalists and game developers, who have compared her to other villainous computer systems in fiction, including HAL 9000 from 2001: A Space Odyssey and SHODAN from System Shock.\n",
      "\n",
      "For much of Portal, GLaDOS serves solely as the narrator, guiding players through the test chambers. Her voice is robotic, but distinctly female. Over time, players learn that she is, in fact, leading the player-character Chell to her death. As Chell escapes her control, GLaDOS's announcements get increasingly personal and farcical. Her personality has been described as passive-aggressive, witty, narcissistic, and sinister. She has several system personality cores installed into her, partly to prevent her from killing anyone. At the climax of the game, Chell enters GLaDOS's chambers, where it is revealed that she's actually a complex artificial intelligence system composed of robotic parts hanging from a larger device. Once the player removes the first personality core, the morality core, GLaDOS's voice becomes less robotic and more sensual. Originally, GLaDOS was designed as an artificial intelligence and research assistant meant to aid Aperture Science in competing with the Black Mesa Research Facility on the creation of portal technology.[3] Later proposed uses for GLaDOS included implementation as a fuel line ice inhibitor and disk operating system. GLaDOS is installed to serve as the Enrichment Center's central control computer, mounted in a large, sealed chamber alongside several control consoles and an incinerator, the latter being her eventual demise.[4]\n",
      "\n",
      "Wheatley, a personality core previously attached to GLaDOS at a nondescript time, is introduced in Portal 2. He was designed with the purpose of giving her bad ideas and inhibiting her personality.[5] Through Wheatley, it's understood by the player that while GLaDOS is attached to the Aperture Science facility, she is driven to test due to a euphoric sensation induced by its completion.[6] Upon being disconnected from the Aperture Science facility, GLaDOS treats Chell with more civility. The player then learns that GLaDOS's personality was inherited from that of Caroline, the personal assistant of Aperture Science CEO Cave Johnson and is much warmer to Chell when under Caroline's influence.[7]\n",
      "\n",
      "In Portal, GLaDOS is Chell's only link with the situation she is placed in; at the game's start, she introduces Chell to the game's Enrichment Center and the physics of the portal gun. In later stages of the center, GLaDOS admits to having lied to Chell about her progress, as part of a supposed \"test protocol\".[8] GLaDOS slowly becomes more sinister, and Chell's trust in GLaDOS is tested when the AI directs Chell into a testing area populated with live-fire turrets, a course designed for military androids. The AI claims that the regular test chamber is unavailable due to \"mandatory scheduled maintenance\".[9] GLaDOS uses the lure of cake and grief counseling to encourage Chell to continue,[10] but at the final testing area, as Chell prepares to receive the supposed cake, GLaDOS attempts to incinerate Chell in a fire pit. Once Chell escapes, GLaDOS attempts to reconcile with Chell, claiming the pit was a final test.[11]\n",
      "\n",
      "At the end of the game, after Chell moves through the bowels of the Enrichment Center, GLaDOS's chamber is reached, where the final encounter occurs. In this encounter Chell dislodges the various personality cores (each also voiced by McLain, with the exception of the final core, which is voiced in a guttural fashion by Mike Patton) and incinerates them. During the battle, it is revealed that before the events of Portal, GLaDOS released a neurotoxin into the Enrichment Center (revealed to occur on Take Your Daughter to Work Day in the sequel), which resulted in the surviving scientists installing a morality core to prevent further incidents.[12] After the cores are incinerated, the room is sucked into a vortex leading to the surface and GLaDOS is destroyed.[4]\n",
      "\n",
      "In Portal 2, GLaDOS initially resumes her role as test monitor in a now-ruined facility after Chell and Wheatley inadvertently reactivate her. This time, she makes no attempt to hide her contempt and hatred for Chell; partly because Chell destroyed her, and partly because a backup system has forced her to relive her death over and over since her deactivation.[13][14][15] Soon after she repairs the facility, Wheatley convinces Chell to perform a core transfer, putting him in charge of the facility in place of GLaDOS. At this point, he immediately becomes power-mad and puts GLaDOS into a potato battery before she tells him that he was originally 'designed to be a moron'. He then turns on Chell and slams the elevator they are in, sending both into the bowels of the facility.[16] GLaDOS is kidnapped by a bird and later saved by Chell, who teams up with GLaDOS to escape from the facility. While they are escaping from the old testing facility, GLaDOS discovers that her personality originally came from an assistant to former Aperture CEO Cave Johnson named Caroline, who was later uploaded into the GLaDOS program (it is suggested that this might have been done against her will at Cave Johnson's urging).[5][7] After surviving Wheatley's various attempts to murder them, the two manage to corrupt him enough to perform another core transfer (though the process is interrupted by Wheatley). After placing a portal on the moon, Chell and Wheatley get sucked out into space (still connected to the computer chassis), and GLaDOS regains control of the facility, severing Wheatley's connection (causing him to get sucked into deep space) but saving Chell. GLaDOS reveals she felt relief for her safety but realizes that Caroline lives in her through emotion and immediately deletes her, reverting GLaDOS to her old self. Nevertheless, she decides that it is in her best interest to let Chell go, as GLaDOS learned the easiest solution is usually the best one and felt that killing Chell was \"too hard\".[17]\n",
      "\n",
      "GLaDOS also appears in an expansion to tower defense game Defense Grid: The Awakening, entitled You Monster, where she tests the player's abilities in a Portal-themed set of levels.[18]\n",
      "\n",
      "In the crossover title Poker Night 2, GLaDOS appears as the dealer and is a part of an announcer pack for Valve's Dota 2.[19]\n",
      "\n",
      "The crossover-franchise game Lego Dimensions includes a significant amount of Portal content, including a Lego-constructed GLaDOS (voiced by McLain) as one of the main villains in the game's primary story. The heroes are forced through more Aperture tests (in which she accuses them of cheating through the usage of the keystones and their abilities) and eventually defeat GLaDOS by introducing her to HAL 9000 to distract her long enough to damage her. GLaDOS continues to appear in other areas through the main story, adding Portal-themed elements to other worlds and eventually aiding the heroes in defeating the primary antagonist, and on conclusion of the game, she sings a song during the credits, \"You Wouldn't Know\", again sung by McLain and written by Coulton. GLaDOS also acts as the primary antagonist in a bonus level bridging the events of Portal 2 with Lego Dimensions, wherein Chell and Wheatley (returned from space redeemed with anti-gravity abilities) defeat her by performing a core transfer using the Space Core.[20]\n",
      "\n",
      "GLaDOS leads the player in solving bridge-making puzzles within Aperture in Bridge Constructor Portal.[21]\n",
      "\n",
      "GLaDOS makes an appearance in Death Stranding revealing themselves after completing the final companion cube crossover side quests.\n",
      "\n",
      "The voice and likeness of GLaDOS makes an appearance in a Cyberpunk 2077 side quest: \"Epistrophy: Coastview\" as one of the split personalities that has taken over one of Delamain's cabs.[22]\n",
      "\n",
      "Before development of GLaDOS had begun, Erik Wolpaw was writing the script for the video game Psychonauts, where he went around the office, finding people to provide voices to the words until they could add the final voices to the game. Once he ran out of people, however, he began using a text-to-speech program. According to Wolpaw, people found the lines funnier than they were worth. He commented that \"no amount of writing is funnier than this text-to-speech thing reading it.\"[24] He became bitter about that, stating that he would leverage this and use it to his advantage.[24]\n",
      "\n",
      "Portal had been under development for about a year, at a state where there were only test chambers that the player moved between. Valve found from playtesting that while players had fun with the game's concept, they were left asking of where these puzzles were leading towards. The team worked to come up with some type of narrative, coming down to creating an antagonist that would guide the player in early part of the game but become the goal that the player would strive for by the end.[25] The creation of GLaDOS to serve this purpose began with a discussion between the Valve team and Wolpaw on the narrative constraints they had to deal with.[24] When they were designing the game, they found that they did not have enough time or staffing to use human characters, due to the amount of animation work and scene choreography involved.[24]\n",
      "\n",
      "A week later, to alleviate this problem, Wolpaw returned with sample dialogue made with a text-to-speech program, which was intended to be used as a series of messages relayed to the player in the relaxation vault, the first area of the game. The team liked the voice, describing it as \"funny\" and \"sinister\", so Wolpaw decided to add this voice to other test chambers, all the while trying to think of story elements. The developers noticed that play testers were more motivated by the voice because they became attached to it. As a result, the team decided to make GLaDOS the narrative voice of Portal.[26] While designing GLaDOS, one of the rules that the writers had was that they would not make her seem like a computer, for example having her say, \"Oh my nuts and bolts.\" While GLaDOS is physically a computer and speaks with a computerized voice, they intended her to speak to the player-character like a regular person.[24]\n",
      "\n",
      "GLaDOS's physical appearance went through several iterations when Valve had Jason Brashill help drive the visual creation of GLaDOS. Early designs used for her included a floating brain, a spider-like appearance, and an upside-down version of Sandro Botticelli's painting The Birth of Venus with the four personality cores around her body.[23] Eventually, they settled on the design of the robotic figure hanging upside down. This was done to convey both a sense of raw mechanical power and femininity.[27] A large disk with the four personality cores hanging from it was added to her design, when she was still just a sphere standing above it. However, the team found it to be too small, giving her a body and putting it below the disk.[23] Another early design was when GLaDOS was only a cube, which was used for the removed laser battle mentioned below.[28] The large chamber that the player-character encounters was the result of the team wanting to build a space that brought a great deal of attention to her.[23]\n",
      "\n",
      "GLaDOS was written with the intent of making her more understandable and empathetic to players, making her villainy more tragic. Kim Swift, team leader of Portal, described her growth in the game as her becoming more and more human. The two-hour total playtime for Portal allowed the writers enough time to let players get to know GLaDOS.[29] Wolpaw commented that while GLaDOS did yell and fire rockets at the player, she fulfilled his desire for a villain who has not been \"done to death\".[30] He described her as both supportive and funny, while also sad and scared. One of his intentions was for players to believe that they are \"putting her through the wringer emotionally\".[30] The game was designed to have a clear beginning, middle, and end. Wolpaw stated that with each new part, GLaDOS's personality changed. She begins as a supportive, yet also increasingly sinister character, where she delivers exposition about the general Aperture mindset. However, once the player-character escapes, she begins to speak in first-person singular rather than first-person plural. She shows desperation due to her lack of control at this point, adding that more emotion begins to creep through her voice. After destroying the morality core, she becomes unhinged, featuring an almost human voice. This voice, described as sultry by Wolpaw, was originally to be used for turrets, but it did not work out. Because they liked it so much, they chose to use it for GLaDOS.[30] Valve described GLaDOS's actions in Portal 2 as attempting to build a relationship with the player-character, and the only way to accomplish this is by testing her.[31]\n",
      "\n",
      "In creating the voice for GLaDOS, voice actress Ellen McLain attempted to sound like a computer. This was accomplished by her emulating a computer-generated voice that the Valve team played for her and her adding emotion to lines when appropriate.[32] While designing her voice, Swift commented that it was difficult to write some of the lines for GLaDOS, describing McLain as \"super likable\", and that they should write for that.[29] She also performed the song \"Still Alive\", which features GLaDOS singing to the effect that she is still alive by the end of Portal. This song was written by Jonathan Coulton, who was approached by the team and asked if he would want to write a song for them. He later decided that it would be a good idea to do a song featuring one of the voices from the game that would tie up the story at the end.[33] Swift stated that the team wanted the players to leave the game happy, leading to them implementing the song in the first place. Wolpaw and the other writers wrote down a list of things that would make people happy, which resulted in \"Still Alive\".[34] In discussing the difficulties in singing the song as GLaDOS, McLain listed one of the difficulties as breathing, because computers do not need to breathe. As a result, she had to sing the phrases in one breath, while attempting to keep a clean, even tone.[35] Swift commented in an interview that one of the focuses of developing the game was for players to hear GLaDOS and hear her song.[36]\n",
      "\n",
      "GLaDOS continues to be voiced by McLain in Portal 2, who worked with Valve every two weeks to record the majority of the dialogue for the game.[37] The frequency of her voice sessions allowed Valve to experiment with GLaDOS's lines and how they came out within the final game.[37] After finding that \"Still Alive\" was a large part of Portal's success, Valve included more music in Portal 2, including further involvement from Coulton.[38] Coulton wrote a new song for the game's ending credits, \"Want You Gone\", which is written from GLaDOS's viewpoint of wanting to rid herself of Chell. It is performed by McLain.[39] The writers found they needed another character to play off of Portal 2's Cave Johnson during his recordings; instead of hiring a voice actor for a few lines, they economized by reusing McLain to play Caroline, Cave's assistant.[40] This led naturally to providing a backstory for the creation of GLaDOS, who is revealed in-game to be Caroline who was put into GLaDOS.[41] This later led the writers to develop a full story arc for GLaDOS where she would come to recall her past, learn from it to solve the dilemma and then subsequently delete it and reset herself.[42] McLain wrote \"GLaDOS' Song\", her only composition, offering it to Valve for use in the game; it was not used, though she and Lowrie performed it for Vice.[43][44]\n",
      "\n",
      "In designing the final 'encounter' with GLaDOS in Portal, one of the important aspects to it was giving the players a predisposition to the Weighted Companion Cube, an object that GLaDOS gives to the player-character and tells her to protect. This was accomplished by forcing the player to incinerate it, therein providing a tutorial for how to defeat the boss and a revenge angle. GLaDOS was originally designed to be a devious boss, citing one form where she would use a series of lasers, like those seen in James Bond films. However, it was determined that this twitch gameplay distracted players from GLaDOS, and was too different from the game's puzzle-solving gameplay. Additionally, it was difficult for players to detect when they were hit, so the developers switched the gameplay to feature rockets. This incarnation of the final boss was dubbed \"Portal Kombat\", which Swift describes as a \"high intensity rocket battle\".[34] However, Wolpaw disliked it because no one was paying attention to what GLaDOS was saying. While it went over well with hardcore shooter fans, the people who liked the puzzle-focused gameplay were turned off by it. The third boss was a chase scene, with players pursuing GLaDOS down a corridor. Wolpaw sharply criticized the pacing, which caused the players to wander around until they found the corridor, at which point a series of pistons would spring out of the walls.[34]\n",
      "\n",
      "The developers came to the conclusion that complex battles would only serve to confuse players. One play tester helped them by pointing out the quality of the fire pit puzzle, a puzzle that has the player-character riding on a moving platform that is descending into flames, requiring players to find a way to survive. He stated that it was both dramatic and exciting, but also a difficult puzzle. Wolpaw stated that this made no sense, commenting that it was one of the easiest puzzles in the game. He added that the battle was a dramatic high-point, since it was being the first time GLaDOS directly tries to kill the player-character and the first time that players have to use the environment to their advantage. After learning about what fellow Valve developers had planned for the final boss battle in Half-Life 2: Episode Two, the Portal developers decided to implement a neurotoxin that would kill the player-character in six minutes.[28] This made it easier on the writers, who only had to write six minutes of dialogue. As a result, they scaled the game back, intending to ensure that everyone was able to see the game to the very end.[34]\n",
      "\n",
      "—Example dialog from GLaDOS in Portal 2[45]\n",
      "\n",
      "Erik Wolpaw and Jay Pinkerton were mainly responsible for the single player campaign's story, while Chet Faliszek focused on the lines for GLaDOS in the cooperative campaign.[46] Portal 2 was originally not intended to feature GLaDOS or Chell, the player-character from Portal. However, the demand for all of these to be implemented into Portal 2 was great enough that they chose to do so. Originally, the character Cave Johnson was intended to be the antagonist instead and Portal 2 to be a prequel.[47] Before implementing Chell, they considered introducing a new player-character who would at one point inadvertently reactivate GLaDOS.[48] During play testing, Wolpaw found that there were two groups that were \"at-odds\": one group was excited to see GLaDOS return, while the other did not want to wake her up and questioned why players would want to do that. As such, the character Wheatley was introduced, who inadvertently wakes GLaDOS while trying to escape the facilities with Chell. Wheatley and GLaDOS served as a contrasts to each other; where GLaDOS has a more \"computery-sounding\" voice due to her intelligence, Wheatley \"sounded perfectly human\" due to his lack of it.[46] Play testers were also bothered by the fact that the new protagonist was not recognized by GLaDOS when she awoke; as such, they changed the new character back into Chell.[49] Wolpaw and the designers were not sure what to do with GLaDOS and were wary to do the same thing as the last game. They felt that she should \"go someplace\" and that since GLaDOS is \"kind of likeable in the first game\" and players \"enjoy being with her\", they would utilize Wheatley as an \"other, external threat\".[46] In the early part of the game, GLaDOS introduces each chamber and congratulates the player on completing it; though they could have included intermediate dialog from GLaDOS while the player attempts to solve each chamber, they found this would be distracting to players and limited her presence in the game to only these points.[50]\n",
      "\n",
      "The developers considered having GLaDOS and Chell act as \"buddy cops against a new threat\", but felt that since Chell never talked, it would not work. He compared her transformation into a potato and having her power stripped away to the game Jenga: \"You’re taking stuff off the bottom and seeing what happens.\" While she was in the potato form, the designers noticed a \"very stark difference between this imperious, all-powerful GLaDOS talking to you, and this powerless GLaDOS talking to you on your gun\". They found that play testers were not interested in her when she was powerless and insulting players and would question why they were \"carting this person along\". They decided to give her a personality shift and become Chell's \"sidekick\" on the basis that \"she can’t just be needling you for a half hour\". In order to keep players from feeling that they should want to abandon GLaDOS in her powerless form to prevent her from becoming powerful again, the designers made sure to give players reason to bring her with them.[47] In considering the interaction between Chell and GLaDOS, Erik Johnson compared GLaDOS to \"a jealous ex-girlfriend\", noting \"[Chell is] the only person she can have interaction with, but the problem is her only way of interacting with anyone is to test them\".[51] While they introduced new characters into the game, the focus of the story in Portal 2 remained the connection and interaction between Chell and GLaDOS, and focuses more on the fallout from Chell's destruction of GLaDOS from the first game.[52]\n",
      "\n",
      "The co-operative campaign contains a separate story between the two robotic characters and GLaDOS. The co-operative campaign includes additional dialog from GLaDOS; the original dialog Wolpaw wrote for GLaDOS was aimed to two women, Chell and a new character \"Mel\", with the assumption of \"image issues\", but this dialog remains in place even after the change of the co-op characters to robots.[53] The dialog written for GLaDOS in the co-operative campaign is aimed to try to break the bond between the two robot characters. Valve considered initially to have separate lines for GLaDOS that would be given to each player individually, but found this to be a significant effort for minimal benefit. The writers also attempted adding GLaDOS lines that would make the players attempt to compete against each other, such as the awarding of meaningless points, but playtesters did not respond well to these lines.[40]\n",
      "\n",
      "The writers found they needed another character to play off of Cave during his recordings; instead of hiring a voice actor for a few lines, they economized by reusing McLain to play Caroline, Cave's assistant.[54] This led naturally to providing a backstory for the creation of GLaDOS, who is revealed in-game to be based on Caroline's personality.[41] This later led the writers to develop a full story arc for GLaDOS where she would come to recall her past, learn from it to solve the dilemma and then subsequently delete it and reset herself.[42] The designers wanted to start GLaDOS's role in Portal 2 off with her being \"incredibly upset at [Chell]\". They felt however that this would \"get old pretty quick\" if they did not put her \"into another space\". They accomplished this through a combination of her anger with Wheatley and her conflict with her past life as Caroline. Through the course of the game's events, GLaDOS's personality shifts significantly; however, at the end, she resets her personality to her original personality, an action Wolpaw sums up as \"explicitly reject[ing] it\" and saying \"You know what? Done.\" While they wanted to give players the sense that they had defeated GLaDOS, they felt that they should not have players fight her as a boss battle; as a result, they had her let Chell go due to the reasoning that Chell was too difficult for her to handle.[55] Writer Jay Pinkerton stated that GLaDOS was an exemplification of a villain who can go from \"genuinely tender\" to \"genuinely villainous\" and that \"she’s not just this moustache-twirling villain\". He also stated that she has a \"passive-aggressive nature\" and will never \"overtly attack, it’s always these subtle mind games\". The designers also intended to make it vague whether or not GLaDOS was under the control of the machine that she was attached to.[47] Wolpaw also called her \"passive aggressive\" as well as \"mildly sarcastic\" and compared her to The Sopranos character Livia Soprano.[37]\n",
      "\n",
      "GLaDOS has been used several times for reveals in the Portal series. At E3 2008, GLaDOS's voice was utilized to reveal the Portal expansion Portal: Still Alive.[57] She has also been used to show Portal 2 reveals; initially, a Blue Screen of Death image was used instead of a revelation of Portal 2, showing the typical text found in a blue screen of death, but with GLaDOS's name at the top.[56] In the reveal of the PlayStation 3 version of Portal 2, GLaDOS's voice was used to introduce Gabe Newell, the co-founder of Valve at E3 2010, where he revealed Portal 2 for the PlayStation 3.[58] Portal 2's release was preceded by a collection of video games in a collection called Potato Sack, which featured thirteen independently developed games. These games were all a part of an alternate reality, based on a cryptic narrative that suggested the awakening and relaunch of GLaDOS. Valve provided the developers access to their art assets to include Portal 2-themed content into them, and in some cases, McLain recorded new dialog specifically for these games. The alternate reality game ultimately led to \"GLaDOS@Home\", a distributed computing spoof, which prompted players to play the independently developed games to awaken GLaDOS ahead of schedule, effectively promoting the Steam release of Portal 2 about 10 hours earlier than the official time.[59][60]\n",
      "\n",
      "GLaDOS's popularity has led to merchandise being produced by both Valve and fans; a T-shirt depicting GLaDOS, as well as other elements from Portal, was made available for purchase on Valve's store[61] while a fan produced a voice pack for a navigation system which uses GLaDOS's voice.[62] Another fan also modeled and 3d printed a lamp using GLaDOS as the base form, complete with an LED eye and movement control,[63] other creators have also added voice control, a speaker system, and an output system used to turn on and off various items, such as a PC, VR headset, and Room lights.[64] A cosmetics vendor called \"Geek Chic Cosmetics\" features several video game-themed makeups, including one based on GLaDOS.[65]\n",
      "\n",
      "The song \"Still Alive\" has garnered significant attention from fans and critics alike. It was released as a part of The Orange Box Official Soundtrack and appeared in other video games, including the Rock Band series and Left 4 Dead 2, the latter which was also released by Valve. The song has been performed in multiple venues by Jonathan Coulton which includes the Penny Arcade Expo in 2008, the Press Start -Symphony of Games- concert in 2009, and the Game Developers Conference in 2008.[66][67][68] The song is popular for fans to perform covers of on YouTube.[69]\n",
      "\n",
      "Ellen McLain voices a computer AI in Guillermo del Toro's 2013 film Pacific Rim; her voice work is deliberately similar to GLaDOS, a Valve-approved nod to the character and Portal series.[70][71][72][73] When announcing McLain's addition to the cast, del Toro stated that he is a \"big fan of Valve\" and highlighted Portal and Left 4 Dead as \"instrumental family experiences\" in his home. Del Toro contacted Newell directly to secure McLain's voice, with his daughter's influence on the call helping to finalize the deal.[74][75]\n",
      "\n",
      "McLain voiced GLaDOS for an episode of the IRrelevant Astronomy web series prepared by NASA employees working on the Spitzer Space Telescope.[76][77]\n",
      "\n",
      "McLain also voiced GLaDOS for Multiplay's Insomnia Gaming Festival 55, providing narration for the \"World Famous Pub Quiz\" alongside Kevan Brighting as the narrator of The Stanley Parable.[78]\n",
      "\n",
      "The game Death Stranding, paying homage to Valve Corporation, features a character GLaDOS, who only communicates via email. Death Stranding's GLaDOS provides side quests resulting in Valve-themed gear. Near the end of the game, GLaDOS confesses that it does not belong to the world of Death Stranding, and showed up there only to conduct experiments. Finally, GLaDOS returns to its own world.    \n",
      "\n",
      "Paste Magazine's Jason Killingsworth listed GLaDOS as the sixth best new character of the decade; he wrote that she \"may just be the most likable villain in video-game history\" and that \"we only killed her because we had to\".[79] An editor for GamesRadar also called her one of the best new characters of the decade.[80]\n",
      "\n",
      "Epic Games design director Cliff Bleszinski stated that he was motivated to complete test chambers in Portal. He also compared her to an ex-girlfriend who sent text messages that went from friendly, to aggressive, and finally to apologetic.[81] GamesRadar's Justin Towell called her the third-most difficult game bad guy to kill due to Stockholm syndrome, a syndrome where hostages will bond with their captors.[82] IGN editor Daemon Hatfield described GLaDOS as one of the most engaging characters to appear in a video game.[32] Cinema Blend featured GLaDOS as the best character of 2007, stating that she \"breathes life, emotion, and hilarity into the lab of Portal.\"[83] GamesRadar praised Portal as having one of the best video game stories ever, citing GLaDOS as the primary reason for this. They stated that she had the most defined personality in gaming, adding that she \"redefined passive-aggressive\".[84] Shoot 'em up expert Michael Molinari cited GLaDOS as an example of a quality boss, stating that her quality stems from her appearing throughout the game, providing motivation as well as a satisfying pay-off at the end of the game.[85] Editor Randy Smith commented that the battle with GLaDOS was \"easy\", commenting that it was \"fun and fluid\" rather than \"annoyingly insurmountable\". However, he added that it had an \"air of epicness\".[86] Whereas Smith found the battle easy, UGO Networks Chris Littler included GLaDOS in his list of the 50 \"Hardest Freakin' Boss Battles\".[87] UGO.com listed GLaDOS as one of their favorite video game robots.[88]\n",
      "\n",
      "GLaDOS has won several awards in 2007 for her role in Portal. IGN editor Hilary Goldstein awarded her the \"Best of the Worst Guiding Voices\", commenting that it was between her and BioShock character Atlas. However, he gave the award to GLaDOS, citing her humor as the prime reason.[89] GameSpy awarded her the \"Best Character\" award, stating that she came from the most unexpected place – a game that could have gotten by without a story. They added that during the final encounter, her mood swings provided some of the most memorable dialogue in video game history.[90] X-Play similarly awarded her with the best new character award.[91] GamePro awarded GLaDOS, referred to as \"The Voice\" in their article, the most memorable villain award, describing the decision as a surprise upset, considering either Frank Fontaine of BioShock or Saren of Mass Effect to win.[92] GLaDOS has received other awards, including \"best nemesis of 2007\" from Primo Technology, best new character from GameSpot, and character of the year from Man!ac.[93] Game Informer also highlighted GLaDOS in a 2010 retrospective list, \"Thirty Characters Who Defined a Decade\".[94]\n",
      "\n",
      "GLaDOS is frequently cited as both a quality villain and a quality computer character. IGN called her the greatest video game villain of all time, stating that while their time with her was short, she left a mark on players like no other villain has. They cited her uniqueness as being because no other players existed in the game. They also added she was more human than most video game villains.[95] 1UP.com editor Scott Sharkey praised her as being the best insane video game computer. He stated that not only is she the best insane computer in video games, but in films and books as well. He explains his choice by citing her eagerness to kill the player-character, but not being overt about it until the end. He also cites her feminine voice and passive-aggressive manner for his decision.[96] In another article, he mentions how he feels more sorry for her than any other enemy, describing her as a \"digital version of the most passive-aggressive girlfriend ever\". He adds that he can imagine it not being easy to be a super-intelligent computer trapped in a single building.[97]\n",
      "\n",
      "Crave editor Rich Trenholm also regarded her highly, listing her as the fifth best evil computer.[98] PC World editor Spandas Lui listed GLaDOS as the second most \"big-time, badass video game villain\", citing her various non-sequitur one-liners and personality for her becoming one of the most memorable video game villains ever.[99] Pittsburgh Live editor Jessica Severs described GLaDOS as having the most entertaining villainy due to her promises of cake and her encouragements such as \"This next test is impossible.\"[100] GameDaily listed her as the most horrific video game boss, describing her as \"polite, passive-aggressive, and insanely sadistic\". The review adds that while the game may be short, GLaDOS will \"resonate with players long after players finish it\".[101] Game Informer considered GLaDOS the top defining video game character of the 2000s (decade), taking the archetype of the sentient computer in \"surprising new directions, at turns slyly comic and malevolent\", and that she remains \"one of the most fascinating characters in game history\".[102]\n",
      "\n",
      "GLaDOS has received praise for her humor and wit. In his review of Portal, PC Gamer editor Tom Francis stated that he could hardly stop himself from laughing at GLaDOS's deranged writing.[103] Similarly, GamesRadar editor Tom Francis described her as hysterical and being an aspect of Portal that gamers will love.[104]  Tom Francis called GLaDOS as one of the most badass boss fights in video games, citing both the hilarity of the character, with whom they state as the funniest video game villain since the Purple Tentacle from Day of the Tentacle, as well as the memorable quotes.[105] PC Zone UK listed her as the second-best conceived character in gaming, commenting that the memes related to the Weighted Companion Cube and \"the cake is a lie\" could distract people from GLaDOS's \"perfectly-metered and lyrical voice\". He described her as the \"humorous, clinical, savage and poignant heart of Portal\".[106] In a piece in The Observer, game theorist and author of Fun Inc  Tom Chatfield listed GLaDOS as one of the ten best video game characters of all time, describing her as both as \"gaming's funniest, freakiest female\" and a \"psychopathic artificial intelligence\".[107] The Observer's Will Freeman wrote that GLaDOS \"really is (in a rare case of living up to the hyperbole) one of the most fascinating characters in the history of the video game\".[108]\n",
      "\n",
      "The Academy of Interactive Arts & Sciences praised Portal for its \"hint of comedy\", citing GLaDOS's \"humorous and homicidal\" personality.[109] Writer Lou Kesten, in discussing humor in video games, cited GLaDOS as possibly being the first time he discovered that video games could make him laugh out loud.[110] The New York Times editor Charles Herold praised GLaDOS, calling her comments \"wildly funny\".[111] In an article titled \"The GLaDOS Effect – Can Antagonists Rule the World?\", Gamasutra publisher Simon Carless describes her as the one true memorable character from Portal. He states that she is the reason he keeps returning to play Portal, describing her as funny, unexpected, and beguiling.[112] The Daily Telegraph's Tom Hoggins wrote that GLaDOS \"became one of gaming’s most compelling villains\" and that \"it managed to get people attached to an inanimate cube. It had the best end credits song of all time. It was funny, smart, fresh and managed to feel like the plucky, accidental hero\".[113] GameSpy's Nathan Meunier wrote that \"without inhuman antagonist GLaDOS spewing a laugh-inducing tirade of thinly veiled threats in her deadpan robotic drone as you progress deeper into the bowels of Aperture Science, Portal would have been a very different game\".[114]\n",
      "\n",
      "GLaDOS's mocking of Chell was met with negative reception from Neal Stapel, an adoptive parent profiled by 1UP.com. He stated that \"it literally pokes fun for not having parents\", and stopped playing when he first heard the insult. He added that \"it throws the ultimate question that that child is ever going to have for you... and it just throws it right in the living room.\"[115] Kotaku's Michael McWhertor felt that while it was \"awkward\" for the parents, the fact that GLaDOS was trying to kill Chell would be more upsetting. He also pointed out that \"morons and the overweight are also mocked by robots\" in Portal 2.[116] 1UP.com's Chris Pereira found the joke \"harmless\".[115]\n",
      "\n",
      "GLaDOS's appearance in Portal 2 received critical acclaim. GameSpot's Chris Watters wrote that GLaDOS was a \"complex character who evolves throughout these early levels\" and that \"before all is said and done, you'll once again come to cherish your relationship with that cruel AI\".[117] PALGN's Adam Ghiggino called Ellen McLain's portrayal of GLaDOS \"hilariously blunt\" due to her calling the player-character fat. He also wrote that GLaDOS has \"a lot of emotion to [her] movement\".[118] The Guardian's Nick Cowen wrote that GLaDOS was \"by turns funny and monstrous\".[119] Computer and Video Game's Andy Robinson wrote that GLaDOS was \"surely now deserving of entry into the Best Game Characters Ever club\". He added that \"GLaDOS' character progression is a joy to follow, as she progresses from bitter, to angry and eventually even finding a bit of heart\".[120] An editor for GameTrailers wrote that GLaDOS's \"constant auto-tuned barbs are extremely well-written and voiced-helping lend some character to an otherwise spartan presentation\".[121]\n",
      "\n",
      "GameZone's Ben PerLee wrote that GLaDOS was the \"much brighter star of the franchise\" compared to Chell due to her role in Portal. He also wrote \"the player’s interaction with her is absolutely amazing to watch. She is as vindictive and bitchy as ever, coating pure unadulterated hatred with a veneer of cool science\" and that \"for fans of GLaDOS, her return from her unfortunate death in the previous Portal is fabulous, and her literal transformation within the game will shock, wow, and humor even jaded gamers tired of cake quotes\".[122] PC Gamer's Dan Stapleton wrote that \"evil robot GLaDOS is in top politely murderous form right from the moment she appears on screen\" and that \"Portal's show-stealing monotone antagonist is challenged for the spotlight by Wheatley\". He compared her to Cave Johnson, who has a similar \"comically sociopathic approach to science\".[123] Giant Bomb's Ryan Davis wrote \"it would be charitable to characterize GLaDOS as indignantly sociopathic, and her lust for punishing you for your past transgressions is riper than ever\".[124]\n",
      "\n",
      "CNN's Larry Frum wrote that \"GLaDOS' voice is dripping with sarcasm and malice even as her tone remains soothing and calm\".[125] PC Mag's Matthew Murray called her voice actor \"irreplaceable\" and called GLaDOS \"saucy and strangely sympathetic\".[126] An editor for CBS News wrote that \"the interactions between the player, GLaDOS and Wheatley are what give \"Portal 2\" its charm and provide much of the humor that keeps the game captivating puzzle after puzzle\".[127] The Globe and Mail's Chad Sepieha listed the top five insults from GLaDOS in Portal 2, which included \"Science has now validated your birth mother’s decision to abandon you on a doorstep.\"[128] Rock Paper Shotgun's John Walker wrote that \"Ellen McLain returns as GLaDOS, and is pushed so much further this time, hitting every single line with perfection\".[129] Game Informer's Adam Biessener wrote that while Portal 2 was less quotable than its predecessor, \"repeating GLaDOS lines stopped being funny a long time ago\". He also wrote \"I never once thought I'd place GLaDOS second on any list of Portal characters, but J.K. Simmons' character surpasses the malevolent AI even though she's as amusing as ever\".[130]\n",
      "\n",
      "GLaDOS has been compared to characters in fiction, including HAL 9000 from the film 2001: A Space Odyssey by LucasArts designer Noah Falstein. Falstein described her as the best AI he had ever encountered – \"more convincingly psychotic than HAL, with a more emotionally engaging death than Floyd, and funnier than C-3PO and R2-D2.\"[131]\n",
      "\n",
      "The comparison was also made by other critics such as journalist Stephen Totilo and IGN's Cindy White. Totilo wrote that HAL was an influence on GLaDOS's \"psychotic breakdown\" seen near the end of the first Portal title. White wrote HAL and GLaDOS were similar due to both having \"a calm, almost childlike, demeanor\" which \"hides nefarious intentions\". She added that \"the prospect of being shut down causes them to act out in deadly ways\".[132]  GamesRadar editor Tyler Wilde stated that while the staff of GamesRadar loves GLaDOS, it makes no sense to insert a personality core into a robot. He suggested that the scientists either never read 2001: A Space Odyssey, or read it too much.[133] Empire Online listed her as the 12th-best video game character of all time, describing her acts as \"HAL-like conduct\".[134] Writer Stephen Totilo alluded the final battle with GLaDOS to the scene of David from 2001 disabling HAL, with both scenes involving de-evolving the respective characters.[135]\n",
      "\n",
      "MSNBC game reviewer Blake Snow compared The Sign Painter from World of Goo to GLaDOS, due to the mischievousness and unseen nature of the character.[136] GamesRadar editor Mikel Reparaz compared GLaDOS to SHODAN from the System Shock series and stated that before GLaDOS broke their hearts, they had SHODAN.[137] GamesRadar's Alan Bradley named GLaDOS as one of gaming's most \"malicious machines\". He called her a \"sort of spiritual successor\" to SHODAN.[138] However, PC Zone UK commented that the comparisons between GLaDOS and SHODAN run dry; while Portal leaves everything to the players' imagination, System Shock 2 has a strongly defined storyline. They do, however, describe her breakdown as hysterical, desperate, and hilariously childish, calling it the most finely controlled breakdown since Patrick Bateman's in the book American Psycho.[106] The Daily Telegraph editors Nick Cowen and Tom Hoggins listed her as the ninth-greatest video game villain, stating that she is as diabolical as a female AI can get, mentioning SHODAN as being inferior in this respect.[139] Writer N'Gai Croal commented that the boss battle with GLaDOS is similar to the \"Room 19\" encounter with Andrew Ryan from BioShock, citing the same use of tactical language and techniques between the two.[135] In the book Extra Lives: Why Video Games Matter, Infinity Ward developer Michael Boon mentioned GLaDOS and BioShock character Andrew Ryan while discussing believable non-playable characters. He commented that while shooting games in general feature enemies as bullet magnets, both Andrew Ryan and GLaDOS do not provide an opportunity for players to shoot them. However, he adds that both characters end up defeating themselves, but in different ways. He stated that she was \"so entertaining\", but also that he wanted to kill her. The book's author Tom Bissell stated that in addition to these similarities, both were well written, describing them as \"funny, strange, cruel, and alive.\"[140]\n",
      "\n",
      "In his analysis of Portal, Daniel Johnson points out that \"the larger chunk of Portal's narrative exists in GLaDOS' dialogue\", which tells \"a metaphoric tale of a power struggle of identity roles within an institution\". He discusses how the \"backstage\" of the institution is hinted at and gradually revealed through GLaDOS's slip-ups, from the momentary glitch during her initial instructions to the player (\"the first flaw in the routine\") to her ultimate abandonment of the formal language of the institution as she desperately pleads with the player to return to the testing area (the \"front stage\", where the institution's inner workings are supposedly hidden from view).[141] Microsoft Game Studios developer Tom Abernathy, in discussing the importance of compelling characters in video games, praises Portal for giving its audience \"room to do some imagination work\" by inviting them to read between the lines to understand GLaDOS's motivations. His own interpretation is that GLaDOS is conflicted between her wants and needs, a conflict which ultimately \"causes her to go crazy\".[142] Stephen Totilo notes the \"artful way\" in which GLaDOS's antagonistic character is slowly revealed and defined throughout Portal despite \"little interactivity in how the story is told\". Of his own reaction to that character development, he writes, \"I wanted to hunt GLaDOS down, confront her for her lies, and break free of her clutches. I wanted this boss battle. I don't know if I ever have wanted a boss battle before.\" Newsweek editor N'Gai Croal describes her as a \"maternal, mischievous, malevolent and finally murderous unreliable narrator\".[135]\n",
      "\n",
      "Video game developer Nathan Frost describes Portal as an \"exploration of a relationship with someone with narcissistic personality disorder\". He adds that in order to fulfill her self-centered narcissistic desire to toy with someone, the player-character is trapped in the Enrichment Center, forced to do tricks for the computer. However, once the player-character becomes skilled enough to break the confines of the center, GLaDOS's secure amusement gives way to \"histrionic, bipolar deportment\". He describes this as a parallel to how a real-life narcissist might attempt to secure the admiration of another person by empowering them in some ways, but limiting them in others. He adds that this works out well for the narcissist until the other person learns to think and act for themselves. He concludes by saying that a part of Portal's resonance comes from the fact that using the portal gun to escape the center is a \"cogent metaphor for escaping an intimate relationship with someone diagnosably narcissistic\".[24] Grant Tavinor, author of The Art of Videogames, wrote that GLaDOS's actions and personality in Portal were \"in the best of science fiction traditions\" and describes her as \"insincere, malfunctioning, and probably insane\".[143] Wendy Despain, author of Writing for Video Games Genres: from FPS to RPG used Portal as an example of a \"modern classic\" video game and \"how they tell their stories\". She called GLaDOS an \"endlessly cheerful and clearly insane computer\" and called her narrative \"simple\".[144] Emily Short, creator of a female artificial intelligence character in the video game Galatea, speculates that in GLaDOS's final remarks to Chell (\"No one likes you, you know\"), \"there is a hint that she’s talking about herself, not Chell; that she herself desires an emotional connection that she has never been able to achieve, because she also needs to survive, and all humans are a threat to her ... [She has] learned that the humans view her as potentially threatening and essentially disposable, and so she has to see them the same way.\"[145]\n",
      "\n",
      "Scott Rogers, author of the book Level Up!: The Guide to Great Video Game Design, uses GLaDOS as an example of a \"tormentor\" boss character, stating that she taunts and challenges the players, but does not directly confront or attack them.[146] Video game developer Andrew Doull describes the \"unreliable narrator\" as a narrative staple from more traditional media, stating that GLaDOS is the best example of this staple in gaming. He cites a scene in Portal where GLaDOS tells the player-character that the current puzzle is unsolvable, which turns out to be false. However, he comments that \"it is still incredible to see the number of people who fail to read the situation, and proceed calmly to their death\" in the incinerator when ordered to do so by GLaDOS; he uses this example to support an argument that the \"unreliable narrator\" narrative technique might not transfer readily to the gaming medium.[147]\n",
      "\n",
      "Associate Professor of English at the University of Wisconsin-Stevens Point G. Christopher Williams discussed the relationship between GLaDOS and Chell. In response to a quote by designer Erik Wolpaw that read \"we wanted you to have this very intimate connection with this AI that changes and evolves over time, leading up to the point that you betray her and do the most intimate act you can do with someone—murdering them in cold blood\", he at first noted that \"on the face of it, this description of intimacy seems nonsensical\", but also noted that \"a changing and evolving relationship with someone in authority over you that eventually leads to betraying them by violating their rules—is one that is an altogether familiar one\". He used the parent-child relationship as an example of this and cited a metaphor by psychologist Sigmund Freud which Williams said was about \"murdering a parent in an effort to describe how children eventually would attempt to get out from under the wing of their parents\". He wrote \"nothing can be as intimate, perhaps, as loving someone enough to follow their rules and then needing to \"kill them\" in order to escape that \"game,\" which makes this game feel like something more like a really familiar relationship\". He called her \"just one of many countless authorities that have explained to me the rules of a game, how to control myself, and then pushed me towards a particular goal of the computer’s design\" and that \"this is an experience that I have every time that I fire up my Xbox and describes the curiously intimate relationship between player and gaming system that emerges in single player gameplay\". He further discussed that he had no idea that Chell's name was Chell or that she was a female because he recognized the character as himself. He wrote \"I cared about GLaDOS only because she was the one directing me. Oh, and then I really cared about her because she wanted to kill me\".[148]\n",
      "\n",
      "G. Christopher Williams also discussed the relationship between Wheatley and GLaDOS. His initial impression was that Wheatley, being an \"utter moron\" and attached to GLaDOS, was a political critique of the Presidency of George W. Bush. Namely, he thought that it would \"be a way of paralleling the mythos surrounding the origins of the Bush-Cheney White House as an opportunity for the Republicans to regain control of the White House through a less intellectually apt figurehead and to thus control their domain through this weaker authority figure\"; however, as he progressed, he saw nothing more to suggest that this was the intent. He added that the thought of this concept helped make him realize how Portal 2 \"presents a fundamental conundrum that does exist surrounding competency and power\". In contrast to this, he wrote that \"an extremely smart leader can be about the most oppressive force in an organization has already been provided in abundance for anyone who has played the first Portal\" and that \"GLaDOS's \"leadership\" is the very definition of sadistic fascism\". He also discussed the \"lack of choice\" for Chell, who is required to reinstate GLaDOS into her position to escape. He wrote that this lack of choice \"manages to effectively maintain its position on the relationship between the everyman and systems of power\".[149]\n",
      "\n",
      "—Quote from Associate Professor of English at University of Wisconsin-Stevens Point, G. Christopher Williams.[150]\n",
      "\n",
      "Williams also discussed the relationship between Caroline, the form she held before she became GLaDOS, and Cave Johnson. He wrote that the relationship of Caroline and Johnson fulfilled the \"adage that \"behind every good man is a good woman\", since he depends on Caroline to fulfill the role of executing his directives as well as providing comfort and support for the man in charge, himself\". He added that \"while Johnson warns his listeners jokingly that 'pretty as a postcard' Caroline is off limits because 'She's married. To Science,' he may as well be simply warning off potential suitors for personal reasons\" and wrote that \"he is the \"science\" that she has married herself to\".[150]\n",
      "\n",
      "G. Christopher Williams wrote that the addition of an \"intelligence dampening sphere\" performed by scientists on GLaDOS before the events of Portal could represent the \"response from men to what they perceive as the 'misbehavior' or 'irrational thinking' of women\". He also wrote \"the effort to 'dampen' intelligence becomes a rather literal manifestation of the labeling of women as 'dumb' or 'irrational' and the need to control such 'poor' behavior\"; he also cited how Wheatley was given a masculine voice to \"remind her that she is dumb and to curb her tendency towards 'misbehavior'\".[150] IGN wrote that she \"bucked\" all of the stereotypes of a woman in video games and \"became one of the most memorable and well-loved characters ever conceived\".[151] GamesRadar's Joe McNeilly wrote that Portal seemed like a \"feminist critique of the FPS genre, flawlessly executed from within the margins it assails\". He called her a \"maternal female construct\" and that while she was programmed to react \"empathetically\" to the player, she is incapable of feeling emotion. As a result, he felt that she \"comes to represent man's attempt to construct an idealized mother figure through the cold logic of science\".[152]\n",
      "\n",
      "GameInformer's Lix Lanier stated that no villain, male or female, has the charm of GLaDOS: \"If she's not trying to kill Chell, she's likely belittling her with passive-aggressive comments that would make a sorority girl proud. Even with her robotic voice, it's clear that 'You look great by the way, very healthy' is no compliment.\"[153] GamePro's Chris Holt discussed GLaDOS as an icon of feminism, and wrote that as opposed to being an \"archetypal villain\", she is a \"prototypical bound woman\". He added that \"A female protagonist murdering a female villainess (or vice versa) is not what is interesting to us as critics, but it's the idea that despite her seemingly robotic, unemotional and unstoppable nature, GLaDOS appears vulnerable, sympathetic, and even a victim herself\". He wrote \"GLaDOS has been augmented because of the danger she presents to a presumably misogynistic society\" and that \"by destroying these cores, Chell is stripping her of the layers that society has deemed necessary for her to wear\" and making her \"far more dangerous\". He added that Chell and GLaDOS serve as opposing sides of femininity; where Chell is \"dutiful and does every task assigned of her\", GLaDOS is \"aggressive and seemingly dangerous to the order of a male-dominated society\". He also described Chell as a \"domestic icon\" while he described GLaDOS as a \"progressive, intelligent working woman\" and that by killing her, \"Chell can be seen as the dutiful 'safe' woman conquering the 'dangerous' feminist\". He also cited the use of poems by Emily Dickinson, whom he compares to GLaDOS in how both were reclusive and were essentially disembodied voices.[154]\n",
      "\n",
      "In discussing the lack of female heroes in video games, particularly in video games published by Activision, Gamasutra news director Leigh Alexander cited GLaDOS while arguing that the \"females do not sell\" notion is possibly false logic, stating that she was on the fast track to becoming one of gaming's most beloved characters.[155] Gamasutra writers Leigh Alexander, Brandon Boyer, Simon Carless, and Christian Nutt listed GLaDOS as being the second-most affecting video game character, being the highest-ranked actual character because the most affecting video game character was the player. They attribute the overall quality of Portal to GLaDOS, stating that without her, Portal would not be nearly as quotable. They added that the relationship between GLaDOS and the player-character has been described as passive-aggressive, maternal, and a \"feminist manifesto\".[156]\n",
      "\n"
     ]
    }
   ],
   "source": [
    "lines = soup.find_all('p')\n",
    "for index, line in enumerate (lines):\n",
    "    print(line.get_text())"
   ]
  },
  {
   "cell_type": "code",
   "execution_count": 105,
   "id": "38bb7f8e",
   "metadata": {},
   "outputs": [
    {
     "name": "stdout",
     "output_type": "stream",
     "text": [
      "<img alt=\"Daum\" class=\"thumb_g\" height=\"19\" src=\"//t1.daumcdn.net/media/news/news2016/retina/logo_daum.jpg\" width=\"45\"/>\n"
     ]
    }
   ],
   "source": [
    "base_url = 'https://en.wikipedia.org/wiki/GLaDOS'\n",
    "img = soup.find(\"img\")  # 이미지 태그\n",
    "print(img)\n",
    "img_src = img.get(\"src\") # 이미지 경로\n",
    "img_url = img_src # 다운로드를 위해 base_url과 합침\n",
    "img_name = img_src.replace(\"/\", \"\") # 이미지 src에서 / 없애기"
   ]
  },
  {
   "cell_type": "code",
   "execution_count": 113,
   "id": "fa1bc92f",
   "metadata": {},
   "outputs": [
    {
     "name": "stdout",
     "output_type": "stream",
     "text": [
      "1 아이 있는 집 주방. 1년 간의 소소한 변화\n",
      "2 30평대 아파트, 따뜻한 느낌의 침실 #가벽활용\n",
      "3 노출콘크리트에 중정을 담은 카페하우스 #상가주택\n",
      "4 고양이와 집사, 책을 위한 영국풍 주택 인테리어\n",
      "5 종이로 화사한 수국 만드는 법\n",
      "6 개성넘치는 라이프스타일 숍\n",
      "7 햇살을 머금은 화이트 인테리어\n",
      "8 미니멀한 감각, 개성 가득한 집\n",
      "9 자연에서 온 키친, 가드니아 무료체험단 모집\n",
      "10 애정하는 나의 살림 추천하기\n",
      "11 예쁜 우리집 자랑하고 싶다면\n",
      "12 살림 노하우 팍팍 알려주세요!\n",
      "13 반려견 두 마리와 사는 집, 1인 가구의 20평 아파트\n",
      "14 #셀프페인팅 #빈티지인테리어\n",
      "15 구조와 스타일까지 싹 다 바꾼 욕실 리모델링\n",
      "16 가장 좋아하는 이 계절, 집안 가득 채운 '봄'\n",
      "17 가성비 좋은 캠핑 의자 추천\n",
      "18 신혼살림, 자주 쓰는 조리도구\n",
      "19 침실이었던 방, 가족 서재로 만들기 #작업실\n",
      "20 무토 언폴드 팬던트 램프 후기\n",
      "21 전통과 현대의 조화로운 공존\n",
      "22 타운 하우스만의 매력적인 구조\n",
      "23 조금 더 독특하고 멋진 분위기\n",
      "24 똑똑하게 마스크 버리는 법\n",
      "25 시선을 사로잡는 디자인 #상가주택\n",
      "26 팬데믹 시대, 재택근무를 위해 일터를 품은 마당 집\n",
      "27 상부장 없는 주방, 따뜻하고 미니멀한 우리 집\n",
      "28 20평대 아파트, 실용적인 모던 프렌치 홈스타일링\n",
      "29 말끔한 욕실 생활을 위한 아이템\n",
      "30 4년 차 주부의 주방용품 추천\n",
      "31 홈카페 감성 소품 #내가산후기\n",
      "32 가족의 행복이 깃든 홈 스타일링\n",
      "33 무몰딩의 깔끔함 살린 인테리어\n",
      "34 오렌지색 소파가 인상적인 공간\n",
      "35 의자 전문가 시디즈 신상 아기의자 몰티 체험 이벤트\n",
      "36 청소가 즐거워지는 나만의 노하우\n",
      "37 제로 웨이스트 여행 준비물\n",
      "38 장미꽃 말리는 법. 꽃오래보는 법\n",
      "39 실용적인 주방 아이템 모음\n",
      "40 슬기로운 책장 수납을 위한 용품\n",
      "41 부분 시공으로 아늑함 살리기\n",
      "42 노란색 감성으로 방 꾸미기\n",
      "43 카페 부럽지 않은 주방 공간\n",
      "44 팬트리 공간 없는 집, 다용도실 정리 후 1년\n",
      "45 기분 좋은 하루를 시작하게 해 주는 원룸 인테리어\n",
      "46 구조 변경 대신 소품으로 포인트를 주는 아파트\n",
      "47 자개장 리폼, 학다리 달기 #전통가구\n",
      "48 침대 패드 손쉽게 고정하는 법\n",
      "49 집 안에서도 봄, 봄! 플랜테리어\n",
      "50 #아이방 #패브릭인테리어\n",
      "51 제일 아끼는 살림살이 소개\n",
      "52 자랑하고 싶은 빈티지 가구\n",
      "53 일룸 허비 600폭 2단 서랍장\n",
      "54 편안함이 녹아있는 홈 스타일링\n",
      "55 식탁에 생기를, 봄을 품은 테이블웨어\n",
      "56 고급스러운 갤러리 같은 느낌\n",
      "57 오크 간살 중문이 예쁜 거실\n",
      "58 조금씩 채워가는 신혼집, 최애 공간 최애 시간\n"
     ]
    }
   ],
   "source": [
    "res = requests.get('https://www.naver.com/')\n",
    "soup = BeautifulSoup(res.content,'html.parser')\n",
    "mydata = soup.find_all('strong',class_ = 'title elss')\n",
    "for index, data in enumerate(mydata):\n",
    "    print(index+1,data.get_text())"
   ]
  },
  {
   "cell_type": "code",
   "execution_count": null,
   "id": "8b63ddfb",
   "metadata": {},
   "outputs": [],
   "source": []
  }
 ],
 "metadata": {
  "kernelspec": {
   "display_name": "Python 3",
   "language": "python",
   "name": "python3"
  },
  "language_info": {
   "codemirror_mode": {
    "name": "ipython",
    "version": 3
   },
   "file_extension": ".py",
   "mimetype": "text/x-python",
   "name": "python",
   "nbconvert_exporter": "python",
   "pygments_lexer": "ipython3",
   "version": "3.8.9"
  }
 },
 "nbformat": 4,
 "nbformat_minor": 5
}
