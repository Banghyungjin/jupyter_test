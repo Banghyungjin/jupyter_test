{
 "cells": [
  {
   "cell_type": "markdown",
   "id": "3fad58d5",
   "metadata": {},
   "source": [
    "## import 해올것들"
   ]
  },
  {
   "cell_type": "code",
   "execution_count": 1,
   "id": "9053a180",
   "metadata": {},
   "outputs": [],
   "source": [
    "import sklearn\n",
    "import numpy as np\n",
    "import pandas as pd\n",
    "import matplotlib.pyplot as plt\n",
    "import seaborn as sns\n",
    "import graphviz\n",
    "from sklearn import preprocessing\n",
    "from sklearn.model_selection import train_test_split\n",
    "from sklearn.tree import DecisionTreeClassifier\n",
    "from sklearn.ensemble import RandomForestClassifier\n",
    "from sklearn.linear_model import LogisticRegression\n",
    "from sklearn.metrics import accuracy_score, precision_score , recall_score, f1_score, roc_curve, roc_auc_score,confusion_matrix, precision_recall_curve\n",
    "from sklearn.model_selection import train_test_split\n",
    "from sklearn.model_selection import cross_val_score\n",
    "from sklearn.model_selection import GridSearchCV\n",
    "from sklearn.tree import export_graphviz\n",
    "from sklearn.ensemble import GradientBoostingClassifier\n",
    "import warnings\n",
    "import time\n",
    "\n",
    "warnings.filterwarnings('ignore')\n",
    "%matplotlib inline"
   ]
  },
  {
   "cell_type": "markdown",
   "id": "74cd5e17",
   "metadata": {},
   "source": [
    "## 정밀도, 재현율 그림 함수"
   ]
  },
  {
   "cell_type": "code",
   "execution_count": 2,
   "id": "409f4880",
   "metadata": {},
   "outputs": [],
   "source": [
    "def precision_recall_curve_plot(y_test=None, pred_proba_c1=None):\n",
    "    # threshold ndarray와 이 threshold에 따른 정밀도, 재현율 ndarray 추출. \n",
    "    precisions, recalls, thresholds = precision_recall_curve( y_test, pred_proba_c1)\n",
    "    \n",
    "    # X축을 threshold값으로, Y축은 정밀도, 재현율 값으로 각각 Plot 수행. 정밀도는 점선으로 표시\n",
    "    plt.figure(figsize=(8,6))\n",
    "    threshold_boundary = thresholds.shape[0]\n",
    "    plt.plot(thresholds, precisions[0:threshold_boundary], linestyle='--', label='precision')\n",
    "    plt.plot(thresholds, recalls[0:threshold_boundary],label='recall')\n",
    "    \n",
    "    # threshold 값 X 축의 Scale을 0.1 단위로 변경\n",
    "    start, end = plt.xlim()\n",
    "    plt.xticks(np.round(np.arange(start, end, 0.1),2))\n",
    "    \n",
    "    # x축, y축 label과 legend, 그리고 grid 설정\n",
    "    plt.xlabel('Threshold value'); plt.ylabel('Precision and Recall value')\n",
    "    plt.legend(); plt.grid()\n",
    "    plt.show()"
   ]
  },
  {
   "cell_type": "markdown",
   "id": "7e37831a",
   "metadata": {},
   "source": [
    "## string 값 인코딩 함수"
   ]
  },
  {
   "cell_type": "code",
   "execution_count": 3,
   "id": "80c931e0",
   "metadata": {},
   "outputs": [],
   "source": [
    "def encode_features(dataDF):\n",
    "    features = test_df_dropna.columns\n",
    "    for feature in features:\n",
    "        le = preprocessing.LabelEncoder()\n",
    "        le = le.fit(dataDF[feature])\n",
    "        dataDF[feature] = le.transform(dataDF[feature])\n",
    "        \n",
    "    return dataDF"
   ]
  },
  {
   "cell_type": "code",
   "execution_count": 4,
   "id": "70660638",
   "metadata": {},
   "outputs": [],
   "source": [
    "test_df = pd.read_csv('./adult.data_converted.csv')\n",
    "#test_df.drop(32561, axis=0, inplace=True)"
   ]
  },
  {
   "cell_type": "code",
   "execution_count": 5,
   "id": "a053728e",
   "metadata": {
    "scrolled": true
   },
   "outputs": [
    {
     "data": {
      "text/html": [
       "<div>\n",
       "<style scoped>\n",
       "    .dataframe tbody tr th:only-of-type {\n",
       "        vertical-align: middle;\n",
       "    }\n",
       "\n",
       "    .dataframe tbody tr th {\n",
       "        vertical-align: top;\n",
       "    }\n",
       "\n",
       "    .dataframe thead th {\n",
       "        text-align: right;\n",
       "    }\n",
       "</style>\n",
       "<table border=\"1\" class=\"dataframe\">\n",
       "  <thead>\n",
       "    <tr style=\"text-align: right;\">\n",
       "      <th></th>\n",
       "      <th>age</th>\n",
       "      <th>work-class</th>\n",
       "      <th>fnlwgt</th>\n",
       "      <th>education</th>\n",
       "      <th>education-num</th>\n",
       "      <th>marital-status</th>\n",
       "      <th>occupation</th>\n",
       "      <th>relationship</th>\n",
       "      <th>race</th>\n",
       "      <th>sex</th>\n",
       "      <th>capital-gain</th>\n",
       "      <th>capital-loss</th>\n",
       "      <th>hours-per-week</th>\n",
       "      <th>native-country</th>\n",
       "      <th>is_more_than_50K</th>\n",
       "    </tr>\n",
       "  </thead>\n",
       "  <tbody>\n",
       "    <tr>\n",
       "      <th>0</th>\n",
       "      <td>39.0</td>\n",
       "      <td>State-gov</td>\n",
       "      <td>77516.0</td>\n",
       "      <td>Bachelors</td>\n",
       "      <td>13.0</td>\n",
       "      <td>Never-married</td>\n",
       "      <td>Adm-clerical</td>\n",
       "      <td>Not-in-family</td>\n",
       "      <td>White</td>\n",
       "      <td>Male</td>\n",
       "      <td>2174.0</td>\n",
       "      <td>0.0</td>\n",
       "      <td>40.0</td>\n",
       "      <td>United-States</td>\n",
       "      <td>0.0</td>\n",
       "    </tr>\n",
       "    <tr>\n",
       "      <th>1</th>\n",
       "      <td>50.0</td>\n",
       "      <td>Self-emp-not-inc</td>\n",
       "      <td>83311.0</td>\n",
       "      <td>Bachelors</td>\n",
       "      <td>13.0</td>\n",
       "      <td>Married-civ-spouse</td>\n",
       "      <td>Exec-managerial</td>\n",
       "      <td>Husband</td>\n",
       "      <td>White</td>\n",
       "      <td>Male</td>\n",
       "      <td>0.0</td>\n",
       "      <td>0.0</td>\n",
       "      <td>13.0</td>\n",
       "      <td>United-States</td>\n",
       "      <td>0.0</td>\n",
       "    </tr>\n",
       "    <tr>\n",
       "      <th>2</th>\n",
       "      <td>38.0</td>\n",
       "      <td>Private</td>\n",
       "      <td>215646.0</td>\n",
       "      <td>HS-grad</td>\n",
       "      <td>9.0</td>\n",
       "      <td>Divorced</td>\n",
       "      <td>Handlers-cleaners</td>\n",
       "      <td>Not-in-family</td>\n",
       "      <td>White</td>\n",
       "      <td>Male</td>\n",
       "      <td>0.0</td>\n",
       "      <td>0.0</td>\n",
       "      <td>40.0</td>\n",
       "      <td>United-States</td>\n",
       "      <td>0.0</td>\n",
       "    </tr>\n",
       "    <tr>\n",
       "      <th>3</th>\n",
       "      <td>53.0</td>\n",
       "      <td>Private</td>\n",
       "      <td>234721.0</td>\n",
       "      <td>11th</td>\n",
       "      <td>7.0</td>\n",
       "      <td>Married-civ-spouse</td>\n",
       "      <td>Handlers-cleaners</td>\n",
       "      <td>Husband</td>\n",
       "      <td>Black</td>\n",
       "      <td>Male</td>\n",
       "      <td>0.0</td>\n",
       "      <td>0.0</td>\n",
       "      <td>40.0</td>\n",
       "      <td>United-States</td>\n",
       "      <td>0.0</td>\n",
       "    </tr>\n",
       "    <tr>\n",
       "      <th>4</th>\n",
       "      <td>28.0</td>\n",
       "      <td>Private</td>\n",
       "      <td>338409.0</td>\n",
       "      <td>Bachelors</td>\n",
       "      <td>13.0</td>\n",
       "      <td>Married-civ-spouse</td>\n",
       "      <td>Prof-specialty</td>\n",
       "      <td>Wife</td>\n",
       "      <td>Black</td>\n",
       "      <td>Female</td>\n",
       "      <td>0.0</td>\n",
       "      <td>0.0</td>\n",
       "      <td>40.0</td>\n",
       "      <td>Cuba</td>\n",
       "      <td>0.0</td>\n",
       "    </tr>\n",
       "    <tr>\n",
       "      <th>5</th>\n",
       "      <td>37.0</td>\n",
       "      <td>Private</td>\n",
       "      <td>284582.0</td>\n",
       "      <td>Masters</td>\n",
       "      <td>14.0</td>\n",
       "      <td>Married-civ-spouse</td>\n",
       "      <td>Exec-managerial</td>\n",
       "      <td>Wife</td>\n",
       "      <td>White</td>\n",
       "      <td>Female</td>\n",
       "      <td>0.0</td>\n",
       "      <td>0.0</td>\n",
       "      <td>40.0</td>\n",
       "      <td>United-States</td>\n",
       "      <td>0.0</td>\n",
       "    </tr>\n",
       "    <tr>\n",
       "      <th>6</th>\n",
       "      <td>49.0</td>\n",
       "      <td>Private</td>\n",
       "      <td>160187.0</td>\n",
       "      <td>9th</td>\n",
       "      <td>5.0</td>\n",
       "      <td>Married-spouse-absent</td>\n",
       "      <td>Other-service</td>\n",
       "      <td>Not-in-family</td>\n",
       "      <td>Black</td>\n",
       "      <td>Female</td>\n",
       "      <td>0.0</td>\n",
       "      <td>0.0</td>\n",
       "      <td>16.0</td>\n",
       "      <td>Jamaica</td>\n",
       "      <td>0.0</td>\n",
       "    </tr>\n",
       "    <tr>\n",
       "      <th>7</th>\n",
       "      <td>52.0</td>\n",
       "      <td>Self-emp-not-inc</td>\n",
       "      <td>209642.0</td>\n",
       "      <td>HS-grad</td>\n",
       "      <td>9.0</td>\n",
       "      <td>Married-civ-spouse</td>\n",
       "      <td>Exec-managerial</td>\n",
       "      <td>Husband</td>\n",
       "      <td>White</td>\n",
       "      <td>Male</td>\n",
       "      <td>0.0</td>\n",
       "      <td>0.0</td>\n",
       "      <td>45.0</td>\n",
       "      <td>United-States</td>\n",
       "      <td>1.0</td>\n",
       "    </tr>\n",
       "    <tr>\n",
       "      <th>8</th>\n",
       "      <td>31.0</td>\n",
       "      <td>Private</td>\n",
       "      <td>45781.0</td>\n",
       "      <td>Masters</td>\n",
       "      <td>14.0</td>\n",
       "      <td>Never-married</td>\n",
       "      <td>Prof-specialty</td>\n",
       "      <td>Not-in-family</td>\n",
       "      <td>White</td>\n",
       "      <td>Female</td>\n",
       "      <td>14084.0</td>\n",
       "      <td>0.0</td>\n",
       "      <td>50.0</td>\n",
       "      <td>United-States</td>\n",
       "      <td>1.0</td>\n",
       "    </tr>\n",
       "    <tr>\n",
       "      <th>9</th>\n",
       "      <td>42.0</td>\n",
       "      <td>Private</td>\n",
       "      <td>159449.0</td>\n",
       "      <td>Bachelors</td>\n",
       "      <td>13.0</td>\n",
       "      <td>Married-civ-spouse</td>\n",
       "      <td>Exec-managerial</td>\n",
       "      <td>Husband</td>\n",
       "      <td>White</td>\n",
       "      <td>Male</td>\n",
       "      <td>5178.0</td>\n",
       "      <td>0.0</td>\n",
       "      <td>40.0</td>\n",
       "      <td>United-States</td>\n",
       "      <td>1.0</td>\n",
       "    </tr>\n",
       "  </tbody>\n",
       "</table>\n",
       "</div>"
      ],
      "text/plain": [
       "    age        work-class    fnlwgt  education  education-num  \\\n",
       "0  39.0         State-gov   77516.0  Bachelors           13.0   \n",
       "1  50.0  Self-emp-not-inc   83311.0  Bachelors           13.0   \n",
       "2  38.0           Private  215646.0    HS-grad            9.0   \n",
       "3  53.0           Private  234721.0       11th            7.0   \n",
       "4  28.0           Private  338409.0  Bachelors           13.0   \n",
       "5  37.0           Private  284582.0    Masters           14.0   \n",
       "6  49.0           Private  160187.0        9th            5.0   \n",
       "7  52.0  Self-emp-not-inc  209642.0    HS-grad            9.0   \n",
       "8  31.0           Private   45781.0    Masters           14.0   \n",
       "9  42.0           Private  159449.0  Bachelors           13.0   \n",
       "\n",
       "          marital-status         occupation   relationship   race     sex  \\\n",
       "0          Never-married       Adm-clerical  Not-in-family  White    Male   \n",
       "1     Married-civ-spouse    Exec-managerial        Husband  White    Male   \n",
       "2               Divorced  Handlers-cleaners  Not-in-family  White    Male   \n",
       "3     Married-civ-spouse  Handlers-cleaners        Husband  Black    Male   \n",
       "4     Married-civ-spouse     Prof-specialty           Wife  Black  Female   \n",
       "5     Married-civ-spouse    Exec-managerial           Wife  White  Female   \n",
       "6  Married-spouse-absent      Other-service  Not-in-family  Black  Female   \n",
       "7     Married-civ-spouse    Exec-managerial        Husband  White    Male   \n",
       "8          Never-married     Prof-specialty  Not-in-family  White  Female   \n",
       "9     Married-civ-spouse    Exec-managerial        Husband  White    Male   \n",
       "\n",
       "   capital-gain  capital-loss  hours-per-week native-country  is_more_than_50K  \n",
       "0        2174.0           0.0            40.0  United-States               0.0  \n",
       "1           0.0           0.0            13.0  United-States               0.0  \n",
       "2           0.0           0.0            40.0  United-States               0.0  \n",
       "3           0.0           0.0            40.0  United-States               0.0  \n",
       "4           0.0           0.0            40.0           Cuba               0.0  \n",
       "5           0.0           0.0            40.0  United-States               0.0  \n",
       "6           0.0           0.0            16.0        Jamaica               0.0  \n",
       "7           0.0           0.0            45.0  United-States               1.0  \n",
       "8       14084.0           0.0            50.0  United-States               1.0  \n",
       "9        5178.0           0.0            40.0  United-States               1.0  "
      ]
     },
     "execution_count": 5,
     "metadata": {},
     "output_type": "execute_result"
    }
   ],
   "source": [
    "test_df.head(10)"
   ]
  },
  {
   "cell_type": "code",
   "execution_count": 6,
   "id": "27dcedc6",
   "metadata": {
    "scrolled": true
   },
   "outputs": [
    {
     "name": "stdout",
     "output_type": "stream",
     "text": [
      "<class 'pandas.core.frame.DataFrame'>\n",
      "RangeIndex: 32562 entries, 0 to 32561\n",
      "Data columns (total 15 columns):\n",
      " #   Column            Non-Null Count  Dtype  \n",
      "---  ------            --------------  -----  \n",
      " 0   age               32561 non-null  float64\n",
      " 1   work-class        32561 non-null  object \n",
      " 2   fnlwgt            32561 non-null  float64\n",
      " 3   education         32561 non-null  object \n",
      " 4   education-num     32561 non-null  float64\n",
      " 5   marital-status    32561 non-null  object \n",
      " 6   occupation        32561 non-null  object \n",
      " 7   relationship      32561 non-null  object \n",
      " 8   race              32561 non-null  object \n",
      " 9   sex               32561 non-null  object \n",
      " 10  capital-gain      32561 non-null  float64\n",
      " 11  capital-loss      32561 non-null  float64\n",
      " 12  hours-per-week    32561 non-null  float64\n",
      " 13  native-country    32561 non-null  object \n",
      " 14  is_more_than_50K  32561 non-null  float64\n",
      "dtypes: float64(7), object(8)\n",
      "memory usage: 3.7+ MB\n"
     ]
    }
   ],
   "source": [
    "test_df.info()"
   ]
  },
  {
   "cell_type": "code",
   "execution_count": 7,
   "id": "cbf55279",
   "metadata": {
    "scrolled": true
   },
   "outputs": [
    {
     "name": "stdout",
     "output_type": "stream",
     "text": [
      "데이터 세트 Null 값 갯수 \n",
      " age                 1\n",
      "work-class          1\n",
      "fnlwgt              1\n",
      "education           1\n",
      "education-num       1\n",
      "marital-status      1\n",
      "occupation          1\n",
      "relationship        1\n",
      "race                1\n",
      "sex                 1\n",
      "capital-gain        1\n",
      "capital-loss        1\n",
      "hours-per-week      1\n",
      "native-country      1\n",
      "is_more_than_50K    1\n",
      "dtype: int64\n"
     ]
    }
   ],
   "source": [
    "print('데이터 세트 Null 값 갯수 \\n',test_df.isnull().sum()) #이 csv파일에는 ?를 널로 안바꿔서 널값이 없습니다."
   ]
  },
  {
   "cell_type": "code",
   "execution_count": 8,
   "id": "24a3fd7f",
   "metadata": {},
   "outputs": [],
   "source": [
    "test_df_dropna = test_df#.dropna(axis = 0)"
   ]
  },
  {
   "cell_type": "markdown",
   "id": "239bfd26",
   "metadata": {},
   "source": [
    "## 각 칼럼별 50K이상인 사람 히스토그램"
   ]
  },
  {
   "cell_type": "markdown",
   "id": "790f28c1",
   "metadata": {},
   "source": [
    "### <li>나이"
   ]
  },
  {
   "cell_type": "code",
   "execution_count": 9,
   "id": "fa5b67c8",
   "metadata": {},
   "outputs": [
    {
     "data": {
      "text/plain": [
       "<AxesSubplot:xlabel='age', ylabel='is_more_than_50K'>"
      ]
     },
     "execution_count": 9,
     "metadata": {},
     "output_type": "execute_result"
    },
    {
     "data": {
      "image/png": "[encoded data removed]",
      "text/plain": [
       "<Figure size 1440x432 with 1 Axes>"
      ]
     },
     "metadata": {
      "needs_background": "light"
     },
     "output_type": "display_data"
    }
   ],
   "source": [
    "plt.figure(figsize=(20, 6))\n",
    "plt.xticks(rotation = - 45 )\n",
    "sns.barplot(x='age', y = 'is_more_than_50K', data=test_df_dropna)"
   ]
  },
  {
   "cell_type": "markdown",
   "id": "3fd3976d",
   "metadata": {},
   "source": [
    "### <li>직종"
   ]
  },
  {
   "cell_type": "code",
   "execution_count": 10,
   "id": "c62af020",
   "metadata": {},
   "outputs": [
    {
     "data": {
      "text/plain": [
       "<AxesSubplot:xlabel='work-class', ylabel='is_more_than_50K'>"
      ]
     },
     "execution_count": 10,
     "metadata": {},
     "output_type": "execute_result"
    },
    {
     "data": {
      "image/png": "[encoded data removed]",
      "text/plain": [
       "<Figure size 720x432 with 1 Axes>"
      ]
     },
     "metadata": {
      "needs_background": "light"
     },
     "output_type": "display_data"
    }
   ],
   "source": [
    "plt.figure(figsize=(10, 6))\n",
    "plt.xticks(rotation = - 45 )\n",
    "sns.barplot(x='work-class', y = 'is_more_than_50K', data=test_df_dropna)"
   ]
  },
  {
   "cell_type": "markdown",
   "id": "dab2f287",
   "metadata": {},
   "source": [
    "### <li>교육"
   ]
  },
  {
   "cell_type": "code",
   "execution_count": 11,
   "id": "798bc5bd",
   "metadata": {},
   "outputs": [
    {
     "data": {
      "text/plain": [
       "<AxesSubplot:xlabel='education-num', ylabel='is_more_than_50K'>"
      ]
     },
     "execution_count": 11,
     "metadata": {},
     "output_type": "execute_result"
    },
    {
     "data": {
      "image/png": "[encoded data removed]",
      "text/plain": [
       "<Figure size 720x432 with 1 Axes>"
      ]
     },
     "metadata": {
      "needs_background": "light"
     },
     "output_type": "display_data"
    }
   ],
   "source": [
    "plt.figure(figsize=(10, 6))\n",
    "plt.xticks(rotation = - 45)\n",
    "sns.barplot(x='education-num', y = 'is_more_than_50K', data=test_df_dropna)"
   ]
  },
  {
   "cell_type": "markdown",
   "id": "5ecc218d",
   "metadata": {},
   "source": [
    "### <li>결혼여부"
   ]
  },
  {
   "cell_type": "code",
   "execution_count": 12,
   "id": "c69d4538",
   "metadata": {},
   "outputs": [
    {
     "data": {
      "text/plain": [
       "<AxesSubplot:xlabel='marital-status', ylabel='is_more_than_50K'>"
      ]
     },
     "execution_count": 12,
     "metadata": {},
     "output_type": "execute_result"
    },
    {
     "data": {
      "image/png": "[encoded data removed]",
      "text/plain": [
       "<Figure size 720x432 with 1 Axes>"
      ]
     },
     "metadata": {
      "needs_background": "light"
     },
     "output_type": "display_data"
    }
   ],
   "source": [
    "plt.figure(figsize=(10, 6))\n",
    "plt.xticks(rotation = - 45 )\n",
    "sns.barplot(x='marital-status', y = 'is_more_than_50K', data=test_df_dropna)"
   ]
  },
  {
   "cell_type": "markdown",
   "id": "829434e1",
   "metadata": {},
   "source": [
    "### <li>직업"
   ]
  },
  {
   "cell_type": "code",
   "execution_count": 13,
   "id": "9a26a0e8",
   "metadata": {},
   "outputs": [
    {
     "data": {
      "text/plain": [
       "<AxesSubplot:xlabel='occupation', ylabel='is_more_than_50K'>"
      ]
     },
     "execution_count": 13,
     "metadata": {},
     "output_type": "execute_result"
    },
    {
     "data": {
      "text/plain": [
       "<Figure size 720x432 with 0 Axes>"
      ]
     },
     "metadata": {},
     "output_type": "display_data"
    },
    {
     "data": {
      "image/png": "[encoded data removed]",
      "text/plain": [
       "<Figure size 720x432 with 1 Axes>"
      ]
     },
     "metadata": {
      "needs_background": "light"
     },
     "output_type": "display_data"
    }
   ],
   "source": [
    "plt.figure(figsize=(10, 6))\n",
    "plt.figure(figsize=(10, 6))\n",
    "plt.xticks(rotation = - 45)\n",
    "sns.barplot(x='occupation', y = 'is_more_than_50K', data=test_df_dropna)"
   ]
  },
  {
   "cell_type": "markdown",
   "id": "c8333ed6",
   "metadata": {},
   "source": [
    "### <li>가족관계"
   ]
  },
  {
   "cell_type": "code",
   "execution_count": 14,
   "id": "5171b21b",
   "metadata": {},
   "outputs": [
    {
     "data": {
      "text/plain": [
       "<AxesSubplot:xlabel='relationship', ylabel='is_more_than_50K'>"
      ]
     },
     "execution_count": 14,
     "metadata": {},
     "output_type": "execute_result"
    },
    {
     "data": {
      "image/png": "[encoded data removed]",
      "text/plain": [
       "<Figure size 720x432 with 1 Axes>"
      ]
     },
     "metadata": {
      "needs_background": "light"
     },
     "output_type": "display_data"
    }
   ],
   "source": [
    "plt.figure(figsize=(10, 6))\n",
    "plt.xticks(rotation = - 45 )\n",
    "sns.barplot(x='relationship', y = 'is_more_than_50K', data=test_df_dropna)"
   ]
  },
  {
   "cell_type": "markdown",
   "id": "32661e41",
   "metadata": {},
   "source": [
    "### <li>인종"
   ]
  },
  {
   "cell_type": "code",
   "execution_count": 15,
   "id": "7d38b7e0",
   "metadata": {},
   "outputs": [
    {
     "data": {
      "text/plain": [
       "<AxesSubplot:xlabel='race', ylabel='is_more_than_50K'>"
      ]
     },
     "execution_count": 15,
     "metadata": {},
     "output_type": "execute_result"
    },
    {
     "data": {
      "image/png": "[encoded data removed]",
      "text/plain": [
       "<Figure size 720x432 with 1 Axes>"
      ]
     },
     "metadata": {
      "needs_background": "light"
     },
     "output_type": "display_data"
    }
   ],
   "source": [
    "plt.figure(figsize=(10, 6))\n",
    "plt.xticks(rotation = - 45 )\n",
    "sns.barplot(x='race', y = 'is_more_than_50K', data=test_df_dropna)"
   ]
  },
  {
   "cell_type": "markdown",
   "id": "6d9403e9",
   "metadata": {},
   "source": [
    "### <li>성별"
   ]
  },
  {
   "cell_type": "code",
   "execution_count": 16,
   "id": "30244de3",
   "metadata": {},
   "outputs": [
    {
     "data": {
      "text/plain": [
       "<AxesSubplot:xlabel='sex', ylabel='is_more_than_50K'>"
      ]
     },
     "execution_count": 16,
     "metadata": {},
     "output_type": "execute_result"
    },
    {
     "data": {
      "image/png": "[encoded data removed]",
      "text/plain": [
       "<Figure size 720x432 with 1 Axes>"
      ]
     },
     "metadata": {
      "needs_background": "light"
     },
     "output_type": "display_data"
    }
   ],
   "source": [
    "plt.figure(figsize=(10, 6))\n",
    "sns.barplot(x='sex', y = 'is_more_than_50K', data=test_df_dropna)"
   ]
  },
  {
   "cell_type": "markdown",
   "id": "c2c09bd7",
   "metadata": {},
   "source": [
    "### <li>주간 업무량"
   ]
  },
  {
   "cell_type": "code",
   "execution_count": 17,
   "id": "23d5dff7",
   "metadata": {},
   "outputs": [
    {
     "data": {
      "text/plain": [
       "<AxesSubplot:xlabel='hours-per-week', ylabel='is_more_than_50K'>"
      ]
     },
     "execution_count": 17,
     "metadata": {},
     "output_type": "execute_result"
    },
    {
     "data": {
      "image/png": "[encoded data removed]",
      "text/plain": [
       "<Figure size 1440x720 with 1 Axes>"
      ]
     },
     "metadata": {
      "needs_background": "light"
     },
     "output_type": "display_data"
    }
   ],
   "source": [
    "plt.figure(figsize=(20, 10))\n",
    "plt.xticks(rotation = - 45 )\n",
    "sns.barplot(x='hours-per-week', y = 'is_more_than_50K', data=test_df_dropna)"
   ]
  },
  {
   "cell_type": "markdown",
   "id": "567cf9ed",
   "metadata": {},
   "source": [
    "### <li>국적"
   ]
  },
  {
   "cell_type": "code",
   "execution_count": 18,
   "id": "978719e7",
   "metadata": {},
   "outputs": [
    {
     "data": {
      "text/plain": [
       "<AxesSubplot:xlabel='native-country', ylabel='is_more_than_50K'>"
      ]
     },
     "execution_count": 18,
     "metadata": {},
     "output_type": "execute_result"
    },
    {
     "data": {
      "image/png": "[encoded data removed]",
      "text/plain": [
       "<Figure size 1440x432 with 1 Axes>"
      ]
     },
     "metadata": {
      "needs_background": "light"
     },
     "output_type": "display_data"
    }
   ],
   "source": [
    "plt.figure(figsize=(20, 6))\n",
    "plt.xticks(rotation = - 45)\n",
    "sns.barplot(x='native-country', y = 'is_more_than_50K', data=test_df_dropna)"
   ]
  },
  {
   "cell_type": "code",
   "execution_count": 19,
   "id": "be98a361",
   "metadata": {},
   "outputs": [],
   "source": [
    "test_df.drop(['education','native-country','fnlwgt','sex','work-class','race'], axis=1, inplace=True) #3개의 칼럼 제거"
   ]
  },
  {
   "cell_type": "code",
   "execution_count": 20,
   "id": "b6a1b9cf",
   "metadata": {},
   "outputs": [
    {
     "name": "stdout",
     "output_type": "stream",
     "text": [
      "데이터 세트 Null 값 갯수 \n",
      " age                 1\n",
      "education-num       1\n",
      "marital-status      1\n",
      "occupation          1\n",
      "relationship        1\n",
      "capital-gain        1\n",
      "capital-loss        1\n",
      "hours-per-week      1\n",
      "is_more_than_50K    1\n",
      "dtype: int64\n"
     ]
    }
   ],
   "source": [
    "print('데이터 세트 Null 값 갯수 \\n',test_df_dropna.isnull().sum())"
   ]
  },
  {
   "cell_type": "code",
   "execution_count": 21,
   "id": "f670b539",
   "metadata": {},
   "outputs": [
    {
     "data": {
      "text/html": [
       "<div>\n",
       "<style scoped>\n",
       "    .dataframe tbody tr th:only-of-type {\n",
       "        vertical-align: middle;\n",
       "    }\n",
       "\n",
       "    .dataframe tbody tr th {\n",
       "        vertical-align: top;\n",
       "    }\n",
       "\n",
       "    .dataframe thead th {\n",
       "        text-align: right;\n",
       "    }\n",
       "</style>\n",
       "<table border=\"1\" class=\"dataframe\">\n",
       "  <thead>\n",
       "    <tr style=\"text-align: right;\">\n",
       "      <th></th>\n",
       "      <th>age</th>\n",
       "      <th>education-num</th>\n",
       "      <th>marital-status</th>\n",
       "      <th>occupation</th>\n",
       "      <th>relationship</th>\n",
       "      <th>capital-gain</th>\n",
       "      <th>capital-loss</th>\n",
       "      <th>hours-per-week</th>\n",
       "      <th>is_more_than_50K</th>\n",
       "    </tr>\n",
       "  </thead>\n",
       "  <tbody>\n",
       "    <tr>\n",
       "      <th>0</th>\n",
       "      <td>39.0</td>\n",
       "      <td>13.0</td>\n",
       "      <td>Never-married</td>\n",
       "      <td>Adm-clerical</td>\n",
       "      <td>Not-in-family</td>\n",
       "      <td>2174.0</td>\n",
       "      <td>0.0</td>\n",
       "      <td>40.0</td>\n",
       "      <td>0.0</td>\n",
       "    </tr>\n",
       "    <tr>\n",
       "      <th>1</th>\n",
       "      <td>50.0</td>\n",
       "      <td>13.0</td>\n",
       "      <td>Married-civ-spouse</td>\n",
       "      <td>Exec-managerial</td>\n",
       "      <td>Husband</td>\n",
       "      <td>0.0</td>\n",
       "      <td>0.0</td>\n",
       "      <td>13.0</td>\n",
       "      <td>0.0</td>\n",
       "    </tr>\n",
       "    <tr>\n",
       "      <th>2</th>\n",
       "      <td>38.0</td>\n",
       "      <td>9.0</td>\n",
       "      <td>Divorced</td>\n",
       "      <td>Handlers-cleaners</td>\n",
       "      <td>Not-in-family</td>\n",
       "      <td>0.0</td>\n",
       "      <td>0.0</td>\n",
       "      <td>40.0</td>\n",
       "      <td>0.0</td>\n",
       "    </tr>\n",
       "    <tr>\n",
       "      <th>3</th>\n",
       "      <td>53.0</td>\n",
       "      <td>7.0</td>\n",
       "      <td>Married-civ-spouse</td>\n",
       "      <td>Handlers-cleaners</td>\n",
       "      <td>Husband</td>\n",
       "      <td>0.0</td>\n",
       "      <td>0.0</td>\n",
       "      <td>40.0</td>\n",
       "      <td>0.0</td>\n",
       "    </tr>\n",
       "    <tr>\n",
       "      <th>4</th>\n",
       "      <td>28.0</td>\n",
       "      <td>13.0</td>\n",
       "      <td>Married-civ-spouse</td>\n",
       "      <td>Prof-specialty</td>\n",
       "      <td>Wife</td>\n",
       "      <td>0.0</td>\n",
       "      <td>0.0</td>\n",
       "      <td>40.0</td>\n",
       "      <td>0.0</td>\n",
       "    </tr>\n",
       "    <tr>\n",
       "      <th>5</th>\n",
       "      <td>37.0</td>\n",
       "      <td>14.0</td>\n",
       "      <td>Married-civ-spouse</td>\n",
       "      <td>Exec-managerial</td>\n",
       "      <td>Wife</td>\n",
       "      <td>0.0</td>\n",
       "      <td>0.0</td>\n",
       "      <td>40.0</td>\n",
       "      <td>0.0</td>\n",
       "    </tr>\n",
       "    <tr>\n",
       "      <th>6</th>\n",
       "      <td>49.0</td>\n",
       "      <td>5.0</td>\n",
       "      <td>Married-spouse-absent</td>\n",
       "      <td>Other-service</td>\n",
       "      <td>Not-in-family</td>\n",
       "      <td>0.0</td>\n",
       "      <td>0.0</td>\n",
       "      <td>16.0</td>\n",
       "      <td>0.0</td>\n",
       "    </tr>\n",
       "    <tr>\n",
       "      <th>7</th>\n",
       "      <td>52.0</td>\n",
       "      <td>9.0</td>\n",
       "      <td>Married-civ-spouse</td>\n",
       "      <td>Exec-managerial</td>\n",
       "      <td>Husband</td>\n",
       "      <td>0.0</td>\n",
       "      <td>0.0</td>\n",
       "      <td>45.0</td>\n",
       "      <td>1.0</td>\n",
       "    </tr>\n",
       "    <tr>\n",
       "      <th>8</th>\n",
       "      <td>31.0</td>\n",
       "      <td>14.0</td>\n",
       "      <td>Never-married</td>\n",
       "      <td>Prof-specialty</td>\n",
       "      <td>Not-in-family</td>\n",
       "      <td>14084.0</td>\n",
       "      <td>0.0</td>\n",
       "      <td>50.0</td>\n",
       "      <td>1.0</td>\n",
       "    </tr>\n",
       "    <tr>\n",
       "      <th>9</th>\n",
       "      <td>42.0</td>\n",
       "      <td>13.0</td>\n",
       "      <td>Married-civ-spouse</td>\n",
       "      <td>Exec-managerial</td>\n",
       "      <td>Husband</td>\n",
       "      <td>5178.0</td>\n",
       "      <td>0.0</td>\n",
       "      <td>40.0</td>\n",
       "      <td>1.0</td>\n",
       "    </tr>\n",
       "  </tbody>\n",
       "</table>\n",
       "</div>"
      ],
      "text/plain": [
       "    age  education-num         marital-status         occupation  \\\n",
       "0  39.0           13.0          Never-married       Adm-clerical   \n",
       "1  50.0           13.0     Married-civ-spouse    Exec-managerial   \n",
       "2  38.0            9.0               Divorced  Handlers-cleaners   \n",
       "3  53.0            7.0     Married-civ-spouse  Handlers-cleaners   \n",
       "4  28.0           13.0     Married-civ-spouse     Prof-specialty   \n",
       "5  37.0           14.0     Married-civ-spouse    Exec-managerial   \n",
       "6  49.0            5.0  Married-spouse-absent      Other-service   \n",
       "7  52.0            9.0     Married-civ-spouse    Exec-managerial   \n",
       "8  31.0           14.0          Never-married     Prof-specialty   \n",
       "9  42.0           13.0     Married-civ-spouse    Exec-managerial   \n",
       "\n",
       "    relationship  capital-gain  capital-loss  hours-per-week  is_more_than_50K  \n",
       "0  Not-in-family        2174.0           0.0            40.0               0.0  \n",
       "1        Husband           0.0           0.0            13.0               0.0  \n",
       "2  Not-in-family           0.0           0.0            40.0               0.0  \n",
       "3        Husband           0.0           0.0            40.0               0.0  \n",
       "4           Wife           0.0           0.0            40.0               0.0  \n",
       "5           Wife           0.0           0.0            40.0               0.0  \n",
       "6  Not-in-family           0.0           0.0            16.0               0.0  \n",
       "7        Husband           0.0           0.0            45.0               1.0  \n",
       "8  Not-in-family       14084.0           0.0            50.0               1.0  \n",
       "9        Husband        5178.0           0.0            40.0               1.0  "
      ]
     },
     "execution_count": 21,
     "metadata": {},
     "output_type": "execute_result"
    }
   ],
   "source": [
    "test_df_dropna.head(10)"
   ]
  },
  {
   "cell_type": "code",
   "execution_count": 22,
   "id": "014f29a0",
   "metadata": {
    "scrolled": false
   },
   "outputs": [
    {
     "data": {
      "text/html": [
       "<div>\n",
       "<style scoped>\n",
       "    .dataframe tbody tr th:only-of-type {\n",
       "        vertical-align: middle;\n",
       "    }\n",
       "\n",
       "    .dataframe tbody tr th {\n",
       "        vertical-align: top;\n",
       "    }\n",
       "\n",
       "    .dataframe thead th {\n",
       "        text-align: right;\n",
       "    }\n",
       "</style>\n",
       "<table border=\"1\" class=\"dataframe\">\n",
       "  <thead>\n",
       "    <tr style=\"text-align: right;\">\n",
       "      <th></th>\n",
       "      <th>age</th>\n",
       "      <th>education-num</th>\n",
       "      <th>marital-status</th>\n",
       "      <th>occupation</th>\n",
       "      <th>relationship</th>\n",
       "      <th>capital-gain</th>\n",
       "      <th>capital-loss</th>\n",
       "      <th>hours-per-week</th>\n",
       "      <th>is_more_than_50K</th>\n",
       "    </tr>\n",
       "  </thead>\n",
       "  <tbody>\n",
       "    <tr>\n",
       "      <th>0</th>\n",
       "      <td>22</td>\n",
       "      <td>12</td>\n",
       "      <td>4</td>\n",
       "      <td>0</td>\n",
       "      <td>1</td>\n",
       "      <td>25</td>\n",
       "      <td>0</td>\n",
       "      <td>39</td>\n",
       "      <td>0</td>\n",
       "    </tr>\n",
       "    <tr>\n",
       "      <th>1</th>\n",
       "      <td>33</td>\n",
       "      <td>12</td>\n",
       "      <td>2</td>\n",
       "      <td>3</td>\n",
       "      <td>0</td>\n",
       "      <td>0</td>\n",
       "      <td>0</td>\n",
       "      <td>12</td>\n",
       "      <td>0</td>\n",
       "    </tr>\n",
       "    <tr>\n",
       "      <th>2</th>\n",
       "      <td>21</td>\n",
       "      <td>8</td>\n",
       "      <td>0</td>\n",
       "      <td>5</td>\n",
       "      <td>1</td>\n",
       "      <td>0</td>\n",
       "      <td>0</td>\n",
       "      <td>39</td>\n",
       "      <td>0</td>\n",
       "    </tr>\n",
       "    <tr>\n",
       "      <th>3</th>\n",
       "      <td>36</td>\n",
       "      <td>6</td>\n",
       "      <td>2</td>\n",
       "      <td>5</td>\n",
       "      <td>0</td>\n",
       "      <td>0</td>\n",
       "      <td>0</td>\n",
       "      <td>39</td>\n",
       "      <td>0</td>\n",
       "    </tr>\n",
       "    <tr>\n",
       "      <th>4</th>\n",
       "      <td>11</td>\n",
       "      <td>12</td>\n",
       "      <td>2</td>\n",
       "      <td>9</td>\n",
       "      <td>5</td>\n",
       "      <td>0</td>\n",
       "      <td>0</td>\n",
       "      <td>39</td>\n",
       "      <td>0</td>\n",
       "    </tr>\n",
       "    <tr>\n",
       "      <th>5</th>\n",
       "      <td>20</td>\n",
       "      <td>13</td>\n",
       "      <td>2</td>\n",
       "      <td>3</td>\n",
       "      <td>5</td>\n",
       "      <td>0</td>\n",
       "      <td>0</td>\n",
       "      <td>39</td>\n",
       "      <td>0</td>\n",
       "    </tr>\n",
       "    <tr>\n",
       "      <th>6</th>\n",
       "      <td>32</td>\n",
       "      <td>4</td>\n",
       "      <td>3</td>\n",
       "      <td>7</td>\n",
       "      <td>1</td>\n",
       "      <td>0</td>\n",
       "      <td>0</td>\n",
       "      <td>15</td>\n",
       "      <td>0</td>\n",
       "    </tr>\n",
       "    <tr>\n",
       "      <th>7</th>\n",
       "      <td>35</td>\n",
       "      <td>8</td>\n",
       "      <td>2</td>\n",
       "      <td>3</td>\n",
       "      <td>0</td>\n",
       "      <td>0</td>\n",
       "      <td>0</td>\n",
       "      <td>44</td>\n",
       "      <td>1</td>\n",
       "    </tr>\n",
       "    <tr>\n",
       "      <th>8</th>\n",
       "      <td>14</td>\n",
       "      <td>13</td>\n",
       "      <td>4</td>\n",
       "      <td>9</td>\n",
       "      <td>1</td>\n",
       "      <td>105</td>\n",
       "      <td>0</td>\n",
       "      <td>49</td>\n",
       "      <td>1</td>\n",
       "    </tr>\n",
       "    <tr>\n",
       "      <th>9</th>\n",
       "      <td>25</td>\n",
       "      <td>12</td>\n",
       "      <td>2</td>\n",
       "      <td>3</td>\n",
       "      <td>0</td>\n",
       "      <td>79</td>\n",
       "      <td>0</td>\n",
       "      <td>39</td>\n",
       "      <td>1</td>\n",
       "    </tr>\n",
       "  </tbody>\n",
       "</table>\n",
       "</div>"
      ],
      "text/plain": [
       "   age  education-num  marital-status  occupation  relationship  capital-gain  \\\n",
       "0   22             12               4           0             1            25   \n",
       "1   33             12               2           3             0             0   \n",
       "2   21              8               0           5             1             0   \n",
       "3   36              6               2           5             0             0   \n",
       "4   11             12               2           9             5             0   \n",
       "5   20             13               2           3             5             0   \n",
       "6   32              4               3           7             1             0   \n",
       "7   35              8               2           3             0             0   \n",
       "8   14             13               4           9             1           105   \n",
       "9   25             12               2           3             0            79   \n",
       "\n",
       "   capital-loss  hours-per-week  is_more_than_50K  \n",
       "0             0              39                 0  \n",
       "1             0              12                 0  \n",
       "2             0              39                 0  \n",
       "3             0              39                 0  \n",
       "4             0              39                 0  \n",
       "5             0              39                 0  \n",
       "6             0              15                 0  \n",
       "7             0              44                 1  \n",
       "8             0              49                 1  \n",
       "9             0              39                 1  "
      ]
     },
     "execution_count": 22,
     "metadata": {},
     "output_type": "execute_result"
    }
   ],
   "source": [
    "test_df_dropna = encode_features(test_df_dropna)\n",
    "test_df_dropna.head(10)"
   ]
  },
  {
   "cell_type": "code",
   "execution_count": 23,
   "id": "6f314e76",
   "metadata": {},
   "outputs": [
    {
     "data": {
      "text/html": [
       "<div>\n",
       "<style scoped>\n",
       "    .dataframe tbody tr th:only-of-type {\n",
       "        vertical-align: middle;\n",
       "    }\n",
       "\n",
       "    .dataframe tbody tr th {\n",
       "        vertical-align: top;\n",
       "    }\n",
       "\n",
       "    .dataframe thead th {\n",
       "        text-align: right;\n",
       "    }\n",
       "</style>\n",
       "<table border=\"1\" class=\"dataframe\">\n",
       "  <thead>\n",
       "    <tr style=\"text-align: right;\">\n",
       "      <th></th>\n",
       "      <th>age</th>\n",
       "      <th>education-num</th>\n",
       "      <th>marital-status</th>\n",
       "      <th>occupation</th>\n",
       "      <th>relationship</th>\n",
       "      <th>capital-gain</th>\n",
       "      <th>capital-loss</th>\n",
       "      <th>hours-per-week</th>\n",
       "      <th>is_more_than_50K</th>\n",
       "    </tr>\n",
       "  </thead>\n",
       "  <tbody>\n",
       "    <tr>\n",
       "      <th>0</th>\n",
       "      <td>22</td>\n",
       "      <td>12</td>\n",
       "      <td>4</td>\n",
       "      <td>0</td>\n",
       "      <td>1</td>\n",
       "      <td>25</td>\n",
       "      <td>0</td>\n",
       "      <td>39</td>\n",
       "      <td>0</td>\n",
       "    </tr>\n",
       "    <tr>\n",
       "      <th>1</th>\n",
       "      <td>33</td>\n",
       "      <td>12</td>\n",
       "      <td>2</td>\n",
       "      <td>3</td>\n",
       "      <td>0</td>\n",
       "      <td>0</td>\n",
       "      <td>0</td>\n",
       "      <td>12</td>\n",
       "      <td>0</td>\n",
       "    </tr>\n",
       "    <tr>\n",
       "      <th>2</th>\n",
       "      <td>21</td>\n",
       "      <td>8</td>\n",
       "      <td>0</td>\n",
       "      <td>5</td>\n",
       "      <td>1</td>\n",
       "      <td>0</td>\n",
       "      <td>0</td>\n",
       "      <td>39</td>\n",
       "      <td>0</td>\n",
       "    </tr>\n",
       "    <tr>\n",
       "      <th>3</th>\n",
       "      <td>36</td>\n",
       "      <td>6</td>\n",
       "      <td>2</td>\n",
       "      <td>5</td>\n",
       "      <td>0</td>\n",
       "      <td>0</td>\n",
       "      <td>0</td>\n",
       "      <td>39</td>\n",
       "      <td>0</td>\n",
       "    </tr>\n",
       "    <tr>\n",
       "      <th>4</th>\n",
       "      <td>11</td>\n",
       "      <td>12</td>\n",
       "      <td>2</td>\n",
       "      <td>9</td>\n",
       "      <td>5</td>\n",
       "      <td>0</td>\n",
       "      <td>0</td>\n",
       "      <td>39</td>\n",
       "      <td>0</td>\n",
       "    </tr>\n",
       "    <tr>\n",
       "      <th>5</th>\n",
       "      <td>20</td>\n",
       "      <td>13</td>\n",
       "      <td>2</td>\n",
       "      <td>3</td>\n",
       "      <td>5</td>\n",
       "      <td>0</td>\n",
       "      <td>0</td>\n",
       "      <td>39</td>\n",
       "      <td>0</td>\n",
       "    </tr>\n",
       "    <tr>\n",
       "      <th>6</th>\n",
       "      <td>32</td>\n",
       "      <td>4</td>\n",
       "      <td>3</td>\n",
       "      <td>7</td>\n",
       "      <td>1</td>\n",
       "      <td>0</td>\n",
       "      <td>0</td>\n",
       "      <td>15</td>\n",
       "      <td>0</td>\n",
       "    </tr>\n",
       "    <tr>\n",
       "      <th>7</th>\n",
       "      <td>35</td>\n",
       "      <td>8</td>\n",
       "      <td>2</td>\n",
       "      <td>3</td>\n",
       "      <td>0</td>\n",
       "      <td>0</td>\n",
       "      <td>0</td>\n",
       "      <td>44</td>\n",
       "      <td>1</td>\n",
       "    </tr>\n",
       "    <tr>\n",
       "      <th>8</th>\n",
       "      <td>14</td>\n",
       "      <td>13</td>\n",
       "      <td>4</td>\n",
       "      <td>9</td>\n",
       "      <td>1</td>\n",
       "      <td>105</td>\n",
       "      <td>0</td>\n",
       "      <td>49</td>\n",
       "      <td>1</td>\n",
       "    </tr>\n",
       "    <tr>\n",
       "      <th>9</th>\n",
       "      <td>25</td>\n",
       "      <td>12</td>\n",
       "      <td>2</td>\n",
       "      <td>3</td>\n",
       "      <td>0</td>\n",
       "      <td>79</td>\n",
       "      <td>0</td>\n",
       "      <td>39</td>\n",
       "      <td>1</td>\n",
       "    </tr>\n",
       "  </tbody>\n",
       "</table>\n",
       "</div>"
      ],
      "text/plain": [
       "   age  education-num  marital-status  occupation  relationship  capital-gain  \\\n",
       "0   22             12               4           0             1            25   \n",
       "1   33             12               2           3             0             0   \n",
       "2   21              8               0           5             1             0   \n",
       "3   36              6               2           5             0             0   \n",
       "4   11             12               2           9             5             0   \n",
       "5   20             13               2           3             5             0   \n",
       "6   32              4               3           7             1             0   \n",
       "7   35              8               2           3             0             0   \n",
       "8   14             13               4           9             1           105   \n",
       "9   25             12               2           3             0            79   \n",
       "\n",
       "   capital-loss  hours-per-week  is_more_than_50K  \n",
       "0             0              39                 0  \n",
       "1             0              12                 0  \n",
       "2             0              39                 0  \n",
       "3             0              39                 0  \n",
       "4             0              39                 0  \n",
       "5             0              39                 0  \n",
       "6             0              15                 0  \n",
       "7             0              44                 1  \n",
       "8             0              49                 1  \n",
       "9             0              39                 1  "
      ]
     },
     "execution_count": 23,
     "metadata": {},
     "output_type": "execute_result"
    }
   ],
   "source": [
    "test_df_dropna.head(10)"
   ]
  },
  {
   "cell_type": "code",
   "execution_count": 24,
   "id": "b2416597",
   "metadata": {},
   "outputs": [],
   "source": [
    "y_test_df = test_df_dropna['is_more_than_50K']\n",
    "X_test_df= test_df_dropna.drop('is_more_than_50K',axis=1)"
   ]
  },
  {
   "cell_type": "code",
   "execution_count": 25,
   "id": "b9b1ef42",
   "metadata": {},
   "outputs": [
    {
     "data": {
      "text/plain": [
       "0    0\n",
       "1    0\n",
       "2    0\n",
       "3    0\n",
       "4    0\n",
       "Name: is_more_than_50K, dtype: int64"
      ]
     },
     "execution_count": 25,
     "metadata": {},
     "output_type": "execute_result"
    }
   ],
   "source": [
    "y_test_df.head()"
   ]
  },
  {
   "cell_type": "code",
   "execution_count": 26,
   "id": "956f6cbe",
   "metadata": {},
   "outputs": [
    {
     "data": {
      "text/html": [
       "<div>\n",
       "<style scoped>\n",
       "    .dataframe tbody tr th:only-of-type {\n",
       "        vertical-align: middle;\n",
       "    }\n",
       "\n",
       "    .dataframe tbody tr th {\n",
       "        vertical-align: top;\n",
       "    }\n",
       "\n",
       "    .dataframe thead th {\n",
       "        text-align: right;\n",
       "    }\n",
       "</style>\n",
       "<table border=\"1\" class=\"dataframe\">\n",
       "  <thead>\n",
       "    <tr style=\"text-align: right;\">\n",
       "      <th></th>\n",
       "      <th>age</th>\n",
       "      <th>education-num</th>\n",
       "      <th>marital-status</th>\n",
       "      <th>occupation</th>\n",
       "      <th>relationship</th>\n",
       "      <th>capital-gain</th>\n",
       "      <th>capital-loss</th>\n",
       "      <th>hours-per-week</th>\n",
       "    </tr>\n",
       "  </thead>\n",
       "  <tbody>\n",
       "    <tr>\n",
       "      <th>0</th>\n",
       "      <td>22</td>\n",
       "      <td>12</td>\n",
       "      <td>4</td>\n",
       "      <td>0</td>\n",
       "      <td>1</td>\n",
       "      <td>25</td>\n",
       "      <td>0</td>\n",
       "      <td>39</td>\n",
       "    </tr>\n",
       "    <tr>\n",
       "      <th>1</th>\n",
       "      <td>33</td>\n",
       "      <td>12</td>\n",
       "      <td>2</td>\n",
       "      <td>3</td>\n",
       "      <td>0</td>\n",
       "      <td>0</td>\n",
       "      <td>0</td>\n",
       "      <td>12</td>\n",
       "    </tr>\n",
       "    <tr>\n",
       "      <th>2</th>\n",
       "      <td>21</td>\n",
       "      <td>8</td>\n",
       "      <td>0</td>\n",
       "      <td>5</td>\n",
       "      <td>1</td>\n",
       "      <td>0</td>\n",
       "      <td>0</td>\n",
       "      <td>39</td>\n",
       "    </tr>\n",
       "    <tr>\n",
       "      <th>3</th>\n",
       "      <td>36</td>\n",
       "      <td>6</td>\n",
       "      <td>2</td>\n",
       "      <td>5</td>\n",
       "      <td>0</td>\n",
       "      <td>0</td>\n",
       "      <td>0</td>\n",
       "      <td>39</td>\n",
       "    </tr>\n",
       "    <tr>\n",
       "      <th>4</th>\n",
       "      <td>11</td>\n",
       "      <td>12</td>\n",
       "      <td>2</td>\n",
       "      <td>9</td>\n",
       "      <td>5</td>\n",
       "      <td>0</td>\n",
       "      <td>0</td>\n",
       "      <td>39</td>\n",
       "    </tr>\n",
       "  </tbody>\n",
       "</table>\n",
       "</div>"
      ],
      "text/plain": [
       "   age  education-num  marital-status  occupation  relationship  capital-gain  \\\n",
       "0   22             12               4           0             1            25   \n",
       "1   33             12               2           3             0             0   \n",
       "2   21              8               0           5             1             0   \n",
       "3   36              6               2           5             0             0   \n",
       "4   11             12               2           9             5             0   \n",
       "\n",
       "   capital-loss  hours-per-week  \n",
       "0             0              39  \n",
       "1             0              12  \n",
       "2             0              39  \n",
       "3             0              39  \n",
       "4             0              39  "
      ]
     },
     "execution_count": 26,
     "metadata": {},
     "output_type": "execute_result"
    }
   ],
   "source": [
    "X_test_df.head()"
   ]
  },
  {
   "cell_type": "code",
   "execution_count": 27,
   "id": "bc3ca6f5",
   "metadata": {},
   "outputs": [],
   "source": [
    "X_train, X_test, y_train, y_test=train_test_split(X_test_df, y_test_df, \\\n",
    "                                                  test_size=0.3, random_state=12)"
   ]
  },
  {
   "cell_type": "markdown",
   "id": "17ea83e7",
   "metadata": {},
   "source": [
    "## 예측"
   ]
  },
  {
   "cell_type": "code",
   "execution_count": 28,
   "id": "7e439e44",
   "metadata": {},
   "outputs": [
    {
     "name": "stdout",
     "output_type": "stream",
     "text": [
      "DecisionTreeClassifier 정확도: 0.8170\n",
      "DecisionTreeClassifier 정밀도: 0.6350\n",
      "DecisionTreeClassifier 재현도: 0.5871\n",
      "DecisionTreeClassifier f1스코어: 0.6101\n",
      "\n",
      "RandomForestClassifier 정확도:0.8451\n",
      "RandomForestClassifier 정밀도: 0.7158\n",
      "RandomForestClassifier 재현도: 0.6055\n",
      "RandomForestClassifier f1스코어: 0.6561\n",
      "\n",
      "LogisticRegression 정확도: 0.8198\n",
      "LogisticRegression 정밀도: 0.7120\n",
      "LogisticRegression 재현도: 0.4389\n",
      "LogisticRegression f1스코어: 0.5431\n"
     ]
    }
   ],
   "source": [
    "# 결정트리, Random Forest, 로지스틱 회귀를 위한 사이킷런 Classifier 클래스 생성\n",
    "dt_clf = DecisionTreeClassifier(random_state=11)\n",
    "rf_clf = RandomForestClassifier(random_state=11)\n",
    "lr_clf = LogisticRegression()\n",
    "\n",
    "# DecisionTreeClassifier 학습/예측/평가\n",
    "dt_clf.fit(X_train , y_train)\n",
    "dt_pred = dt_clf.predict(X_test)\n",
    "print('DecisionTreeClassifier 정확도: {0:.4f}'.format(accuracy_score(y_test, dt_pred)))\n",
    "print('DecisionTreeClassifier 정밀도: {0:.4f}'.format(precision_score(y_test, dt_pred)))\n",
    "print('DecisionTreeClassifier 재현도: {0:.4f}'.format(recall_score(y_test, dt_pred)))\n",
    "print('DecisionTreeClassifier f1스코어: {0:.4f}'.format(f1_score(y_test, dt_pred)))\n",
    "print()\n",
    "\n",
    "# RandomForestClassifier 학습/예측/평가\n",
    "rf_clf.fit(X_train , y_train)\n",
    "rf_pred = rf_clf.predict(X_test)\n",
    "print('RandomForestClassifier 정확도:{0:.4f}'.format(accuracy_score(y_test, rf_pred)))\n",
    "print('RandomForestClassifier 정밀도: {0:.4f}'.format(precision_score(y_test, rf_pred)))\n",
    "print('RandomForestClassifier 재현도: {0:.4f}'.format(recall_score(y_test, rf_pred)))\n",
    "print('RandomForestClassifier f1스코어: {0:.4f}'.format(f1_score(y_test, rf_pred)))\n",
    "print()\n",
    "\n",
    "# LogisticRegression 학습/예측/평가\n",
    "lr_clf.fit(X_train , y_train)\n",
    "lr_pred = lr_clf.predict(X_test)\n",
    "print('LogisticRegression 정확도: {0:.4f}'.format(accuracy_score(y_test, lr_pred)))\n",
    "print('LogisticRegression 정밀도: {0:.4f}'.format(precision_score(y_test, lr_pred)))\n",
    "print('LogisticRegression 재현도: {0:.4f}'.format(recall_score(y_test, lr_pred)))\n",
    "print('LogisticRegression f1스코어: {0:.4f}'.format(f1_score(y_test, lr_pred)))\n"
   ]
  },
  {
   "cell_type": "markdown",
   "id": "facdffb0",
   "metadata": {},
   "source": [
    "## Decision Tree"
   ]
  },
  {
   "cell_type": "markdown",
   "id": "2d802a2a",
   "metadata": {},
   "source": [
    "### <li>최적 파라미터 탐색"
   ]
  },
  {
   "cell_type": "code",
   "execution_count": 29,
   "id": "6dc39fb0",
   "metadata": {},
   "outputs": [
    {
     "name": "stdout",
     "output_type": "stream",
     "text": [
      "GridSearchCV 최적 하이퍼 파라미터 : {'max_depth': 10, 'min_samples_leaf': 2, 'min_samples_split': 2}\n",
      "GridSearchCV 최고 정확도: 0.8539\n",
      "테스트 세트에서의 DecisionTreeClassifier 정확도 : 0.8513\n"
     ]
    }
   ],
   "source": [
    "parameters = {'max_depth':[2,3,5,10],\n",
    "             'min_samples_split':[2,3,5], 'min_samples_leaf':[1,2,5,8]}\n",
    "\n",
    "grid_dclf = GridSearchCV(dt_clf , param_grid=parameters , scoring='accuracy' , cv=5)\n",
    "grid_dclf.fit(X_train , y_train)\n",
    "\n",
    "print('GridSearchCV 최적 하이퍼 파라미터 :',grid_dclf.best_params_)\n",
    "print('GridSearchCV 최고 정확도: {0:.4f}'.format(grid_dclf.best_score_))\n",
    "best_dclf = grid_dclf.best_estimator_\n",
    "\n",
    "# GridSearchCV의 최적 하이퍼 파라미터로 학습된 Estimator로 예측 및 평가 수행. \n",
    "dpredictions = best_dclf.predict(X_test)\n",
    "accuracy = accuracy_score(y_test , dpredictions)\n",
    "print('테스트 세트에서의 DecisionTreeClassifier 정확도 : {0:.4f}'.format(accuracy))"
   ]
  },
  {
   "cell_type": "markdown",
   "id": "64d97bf1",
   "metadata": {},
   "source": [
    "### <li>수형도 그리기"
   ]
  },
  {
   "cell_type": "code",
   "execution_count": 30,
   "id": "ce5ccdb1",
   "metadata": {},
   "outputs": [],
   "source": [
    "# export_graphviz()의 호출 결과로 out_file로 지정된 tree.dot 파일을 생성함. \n",
    "export_graphviz(best_dclf,out_file=\"tree.dot\", max_depth=4, impurity=True, filled=True, \n",
    "                feature_names = X_test_df.columns, rounded=True) # 박스의 모양을 둥글게"
   ]
  },
  {
   "cell_type": "code",
   "execution_count": 31,
   "id": "819ea5cb",
   "metadata": {
    "scrolled": false
   },
   "outputs": [
    {
     "data": {
      "image/svg+xml": [
       "<?xml version=\"1.0\" encoding=\"UTF-8\" standalone=\"no\"?>\r\n",
       "<!DOCTYPE svg PUBLIC \"-//W3C//DTD SVG 1.1//EN\"\r\n",
       " \"http://www.w3.org/Graphics/SVG/1.1/DTD/svg11.dtd\">\r\n",
       "<!-- Generated by graphviz version 2.47.1 (20210417.1919)\r\n",
       " -->\r\n",
       "<!-- Title: Tree Pages: 1 -->\r\n",
       "<svg width=\"2251pt\" height=\"564pt\"\r\n",
       " viewBox=\"0.00 0.00 2250.50 564.00\" xmlns=\"http://www.w3.org/2000/svg\" xmlns:xlink=\"http://www.w3.org/1999/xlink\">\r\n",
       "<g id=\"graph0\" class=\"graph\" transform=\"scale(1 1) rotate(0) translate(4 560)\">\r\n",
       "<title>Tree</title>\r\n",
       "<polygon fill=\"white\" stroke=\"transparent\" points=\"-4,4 -4,-560 2246.5,-560 2246.5,4 -4,4\"/>\r\n",
       "<!-- 0 -->\r\n",
       "<g id=\"node1\" class=\"node\">\r\n",
       "<title>0</title>\r\n",
       "<path fill=\"#eda977\" stroke=\"black\" d=\"M1469,-556C1469,-556 1323,-556 1323,-556 1317,-556 1311,-550 1311,-544 1311,-544 1311,-500 1311,-500 1311,-494 1317,-488 1323,-488 1323,-488 1469,-488 1469,-488 1475,-488 1481,-494 1481,-500 1481,-500 1481,-544 1481,-544 1481,-550 1475,-556 1469,-556\"/>\r\n",
       "<text text-anchor=\"middle\" x=\"1396\" y=\"-540.8\" font-family=\"Helvetica,sans-Serif\" font-size=\"14.00\">relationship &lt;= 0.5</text>\r\n",
       "<text text-anchor=\"middle\" x=\"1396\" y=\"-525.8\" font-family=\"Helvetica,sans-Serif\" font-size=\"14.00\">gini = 0.364</text>\r\n",
       "<text text-anchor=\"middle\" x=\"1396\" y=\"-510.8\" font-family=\"Helvetica,sans-Serif\" font-size=\"14.00\">samples = 22793</text>\r\n",
       "<text text-anchor=\"middle\" x=\"1396\" y=\"-495.8\" font-family=\"Helvetica,sans-Serif\" font-size=\"14.00\">value = [17334, 5458, 1]</text>\r\n",
       "</g>\r\n",
       "<!-- 1 -->\r\n",
       "<g id=\"node2\" class=\"node\">\r\n",
       "<title>1</title>\r\n",
       "<path fill=\"#fae7d9\" stroke=\"black\" d=\"M1071,-452C1071,-452 933,-452 933,-452 927,-452 921,-446 921,-440 921,-440 921,-396 921,-396 921,-390 927,-384 933,-384 933,-384 1071,-384 1071,-384 1077,-384 1083,-390 1083,-396 1083,-396 1083,-440 1083,-440 1083,-446 1077,-452 1071,-452\"/>\r\n",
       "<text text-anchor=\"middle\" x=\"1002\" y=\"-436.8\" font-family=\"Helvetica,sans-Serif\" font-size=\"14.00\">education&#45;num &lt;= 10.5</text>\r\n",
       "<text text-anchor=\"middle\" x=\"1002\" y=\"-421.8\" font-family=\"Helvetica,sans-Serif\" font-size=\"14.00\">gini = 0.494</text>\r\n",
       "<text text-anchor=\"middle\" x=\"1002\" y=\"-406.8\" font-family=\"Helvetica,sans-Serif\" font-size=\"14.00\">samples = 9214</text>\r\n",
       "<text text-anchor=\"middle\" x=\"1002\" y=\"-391.8\" font-family=\"Helvetica,sans-Serif\" font-size=\"14.00\">value = [5092, 4122, 0]</text>\r\n",
       "</g>\r\n",
       "<!-- 0&#45;&gt;1 -->\r\n",
       "<g id=\"edge1\" class=\"edge\">\r\n",
       "<title>0&#45;&gt;1</title>\r\n",
       "<path fill=\"none\" stroke=\"black\" d=\"M1310.99,-498.99C1246.76,-482.37 1158.75,-459.58 1093.08,-442.58\"/>\r\n",
       "<polygon fill=\"black\" stroke=\"black\" points=\"1093.71,-439.13 1083.15,-440.01 1091.96,-445.9 1093.71,-439.13\"/>\r\n",
       "<text text-anchor=\"middle\" x=\"1095.83\" y=\"-457.85\" font-family=\"Helvetica,sans-Serif\" font-size=\"14.00\">True</text>\r\n",
       "</g>\r\n",
       "<!-- 266 -->\r\n",
       "<g id=\"node29\" class=\"node\">\r\n",
       "<title>266</title>\r\n",
       "<path fill=\"#e88f4f\" stroke=\"black\" d=\"M1695,-452C1695,-452 1549,-452 1549,-452 1543,-452 1537,-446 1537,-440 1537,-440 1537,-396 1537,-396 1537,-390 1543,-384 1549,-384 1549,-384 1695,-384 1695,-384 1701,-384 1707,-390 1707,-396 1707,-396 1707,-440 1707,-440 1707,-446 1701,-452 1695,-452\"/>\r\n",
       "<text text-anchor=\"middle\" x=\"1622\" y=\"-436.8\" font-family=\"Helvetica,sans-Serif\" font-size=\"14.00\">capital&#45;gain &lt;= 90.5</text>\r\n",
       "<text text-anchor=\"middle\" x=\"1622\" y=\"-421.8\" font-family=\"Helvetica,sans-Serif\" font-size=\"14.00\">gini = 0.178</text>\r\n",
       "<text text-anchor=\"middle\" x=\"1622\" y=\"-406.8\" font-family=\"Helvetica,sans-Serif\" font-size=\"14.00\">samples = 13579</text>\r\n",
       "<text text-anchor=\"middle\" x=\"1622\" y=\"-391.8\" font-family=\"Helvetica,sans-Serif\" font-size=\"14.00\">value = [12242, 1336, 1]</text>\r\n",
       "</g>\r\n",
       "<!-- 0&#45;&gt;266 -->\r\n",
       "<g id=\"edge28\" class=\"edge\">\r\n",
       "<title>0&#45;&gt;266</title>\r\n",
       "<path fill=\"none\" stroke=\"black\" d=\"M1469.38,-487.88C1491.69,-477.81 1516.37,-466.67 1539.26,-456.34\"/>\r\n",
       "<polygon fill=\"black\" stroke=\"black\" points=\"1540.93,-459.43 1548.61,-452.12 1538.05,-453.05 1540.93,-459.43\"/>\r\n",
       "<text text-anchor=\"middle\" x=\"1539.77\" y=\"-471.81\" font-family=\"Helvetica,sans-Serif\" font-size=\"14.00\">False</text>\r\n",
       "</g>\r\n",
       "<!-- 2 -->\r\n",
       "<g id=\"node3\" class=\"node\">\r\n",
       "<title>2</title>\r\n",
       "<path fill=\"#f1bc96\" stroke=\"black\" d=\"M555,-348C555,-348 417,-348 417,-348 411,-348 405,-342 405,-336 405,-336 405,-292 405,-292 405,-286 411,-280 417,-280 417,-280 555,-280 555,-280 561,-280 567,-286 567,-292 567,-292 567,-336 567,-336 567,-342 561,-348 555,-348\"/>\r\n",
       "<text text-anchor=\"middle\" x=\"486\" y=\"-332.8\" font-family=\"Helvetica,sans-Serif\" font-size=\"14.00\">capital&#45;gain &lt;= 78.0</text>\r\n",
       "<text text-anchor=\"middle\" x=\"486\" y=\"-317.8\" font-family=\"Helvetica,sans-Serif\" font-size=\"14.00\">gini = 0.435</text>\r\n",
       "<text text-anchor=\"middle\" x=\"486\" y=\"-302.8\" font-family=\"Helvetica,sans-Serif\" font-size=\"14.00\">samples = 6132</text>\r\n",
       "<text text-anchor=\"middle\" x=\"486\" y=\"-287.8\" font-family=\"Helvetica,sans-Serif\" font-size=\"14.00\">value = [4168, 1964, 0]</text>\r\n",
       "</g>\r\n",
       "<!-- 1&#45;&gt;2 -->\r\n",
       "<g id=\"edge2\" class=\"edge\">\r\n",
       "<title>1&#45;&gt;2</title>\r\n",
       "<path fill=\"none\" stroke=\"black\" d=\"M920.81,-400.95C827.38,-382.48 674.34,-352.23 576.97,-332.98\"/>\r\n",
       "<polygon fill=\"black\" stroke=\"black\" points=\"577.63,-329.55 567.14,-331.04 576.28,-336.41 577.63,-329.55\"/>\r\n",
       "</g>\r\n",
       "<!-- 151 -->\r\n",
       "<g id=\"node16\" class=\"node\">\r\n",
       "<title>151</title>\r\n",
       "<path fill=\"#8ef0b7\" stroke=\"black\" d=\"M1067,-348C1067,-348 937,-348 937,-348 931,-348 925,-342 925,-336 925,-336 925,-292 925,-292 925,-286 931,-280 937,-280 937,-280 1067,-280 1067,-280 1073,-280 1079,-286 1079,-292 1079,-292 1079,-336 1079,-336 1079,-342 1073,-348 1067,-348\"/>\r\n",
       "<text text-anchor=\"middle\" x=\"1002\" y=\"-332.8\" font-family=\"Helvetica,sans-Serif\" font-size=\"14.00\">capital&#45;gain &lt;= 78.0</text>\r\n",
       "<text text-anchor=\"middle\" x=\"1002\" y=\"-317.8\" font-family=\"Helvetica,sans-Serif\" font-size=\"14.00\">gini = 0.42</text>\r\n",
       "<text text-anchor=\"middle\" x=\"1002\" y=\"-302.8\" font-family=\"Helvetica,sans-Serif\" font-size=\"14.00\">samples = 3082</text>\r\n",
       "<text text-anchor=\"middle\" x=\"1002\" y=\"-287.8\" font-family=\"Helvetica,sans-Serif\" font-size=\"14.00\">value = [924, 2158, 0]</text>\r\n",
       "</g>\r\n",
       "<!-- 1&#45;&gt;151 -->\r\n",
       "<g id=\"edge15\" class=\"edge\">\r\n",
       "<title>1&#45;&gt;151</title>\r\n",
       "<path fill=\"none\" stroke=\"black\" d=\"M1002,-383.88C1002,-375.78 1002,-366.98 1002,-358.47\"/>\r\n",
       "<polygon fill=\"black\" stroke=\"black\" points=\"1005.5,-358.3 1002,-348.3 998.5,-358.3 1005.5,-358.3\"/>\r\n",
       "</g>\r\n",
       "<!-- 3 -->\r\n",
       "<g id=\"node4\" class=\"node\">\r\n",
       "<title>3</title>\r\n",
       "<path fill=\"#efb489\" stroke=\"black\" d=\"M308,-244C308,-244 170,-244 170,-244 164,-244 158,-238 158,-232 158,-232 158,-188 158,-188 158,-182 164,-176 170,-176 170,-176 308,-176 308,-176 314,-176 320,-182 320,-188 320,-188 320,-232 320,-232 320,-238 314,-244 308,-244\"/>\r\n",
       "<text text-anchor=\"middle\" x=\"239\" y=\"-228.8\" font-family=\"Helvetica,sans-Serif\" font-size=\"14.00\">education&#45;num &lt;= 7.5</text>\r\n",
       "<text text-anchor=\"middle\" x=\"239\" y=\"-213.8\" font-family=\"Helvetica,sans-Serif\" font-size=\"14.00\">gini = 0.409</text>\r\n",
       "<text text-anchor=\"middle\" x=\"239\" y=\"-198.8\" font-family=\"Helvetica,sans-Serif\" font-size=\"14.00\">samples = 5838</text>\r\n",
       "<text text-anchor=\"middle\" x=\"239\" y=\"-183.8\" font-family=\"Helvetica,sans-Serif\" font-size=\"14.00\">value = [4164, 1674, 0]</text>\r\n",
       "</g>\r\n",
       "<!-- 2&#45;&gt;3 -->\r\n",
       "<g id=\"edge3\" class=\"edge\">\r\n",
       "<title>2&#45;&gt;3</title>\r\n",
       "<path fill=\"none\" stroke=\"black\" d=\"M405.81,-279.88C381.2,-269.72 353.97,-258.48 328.76,-248.07\"/>\r\n",
       "<polygon fill=\"black\" stroke=\"black\" points=\"329.79,-244.71 319.21,-244.12 327.12,-251.18 329.79,-244.71\"/>\r\n",
       "</g>\r\n",
       "<!-- 140 -->\r\n",
       "<g id=\"node11\" class=\"node\">\r\n",
       "<title>140</title>\r\n",
       "<path fill=\"#3ce583\" stroke=\"black\" d=\"M538.5,-244C538.5,-244 433.5,-244 433.5,-244 427.5,-244 421.5,-238 421.5,-232 421.5,-232 421.5,-188 421.5,-188 421.5,-182 427.5,-176 433.5,-176 433.5,-176 538.5,-176 538.5,-176 544.5,-176 550.5,-182 550.5,-188 550.5,-188 550.5,-232 550.5,-232 550.5,-238 544.5,-244 538.5,-244\"/>\r\n",
       "<text text-anchor=\"middle\" x=\"486\" y=\"-228.8\" font-family=\"Helvetica,sans-Serif\" font-size=\"14.00\">age &lt;= 45.5</text>\r\n",
       "<text text-anchor=\"middle\" x=\"486\" y=\"-213.8\" font-family=\"Helvetica,sans-Serif\" font-size=\"14.00\">gini = 0.027</text>\r\n",
       "<text text-anchor=\"middle\" x=\"486\" y=\"-198.8\" font-family=\"Helvetica,sans-Serif\" font-size=\"14.00\">samples = 294</text>\r\n",
       "<text text-anchor=\"middle\" x=\"486\" y=\"-183.8\" font-family=\"Helvetica,sans-Serif\" font-size=\"14.00\">value = [4, 290, 0]</text>\r\n",
       "</g>\r\n",
       "<!-- 2&#45;&gt;140 -->\r\n",
       "<g id=\"edge10\" class=\"edge\">\r\n",
       "<title>2&#45;&gt;140</title>\r\n",
       "<path fill=\"none\" stroke=\"black\" d=\"M486,-279.88C486,-271.78 486,-262.98 486,-254.47\"/>\r\n",
       "<polygon fill=\"black\" stroke=\"black\" points=\"489.5,-254.3 486,-244.3 482.5,-254.3 489.5,-254.3\"/>\r\n",
       "</g>\r\n",
       "<!-- 4 -->\r\n",
       "<g id=\"node5\" class=\"node\">\r\n",
       "<title>4</title>\r\n",
       "<path fill=\"#e88f4e\" stroke=\"black\" d=\"M128,-140C128,-140 12,-140 12,-140 6,-140 0,-134 0,-128 0,-128 0,-84 0,-84 0,-78 6,-72 12,-72 12,-72 128,-72 128,-72 134,-72 140,-78 140,-84 140,-84 140,-128 140,-128 140,-134 134,-140 128,-140\"/>\r\n",
       "<text text-anchor=\"middle\" x=\"70\" y=\"-124.8\" font-family=\"Helvetica,sans-Serif\" font-size=\"14.00\">capital&#45;loss &lt;= 40.0</text>\r\n",
       "<text text-anchor=\"middle\" x=\"70\" y=\"-109.8\" font-family=\"Helvetica,sans-Serif\" font-size=\"14.00\">gini = 0.175</text>\r\n",
       "<text text-anchor=\"middle\" x=\"70\" y=\"-94.8\" font-family=\"Helvetica,sans-Serif\" font-size=\"14.00\">samples = 1021</text>\r\n",
       "<text text-anchor=\"middle\" x=\"70\" y=\"-79.8\" font-family=\"Helvetica,sans-Serif\" font-size=\"14.00\">value = [922, 99, 0]</text>\r\n",
       "</g>\r\n",
       "<!-- 3&#45;&gt;4 -->\r\n",
       "<g id=\"edge4\" class=\"edge\">\r\n",
       "<title>3&#45;&gt;4</title>\r\n",
       "<path fill=\"none\" stroke=\"black\" d=\"M184.13,-175.88C167.96,-166.12 150.14,-155.37 133.47,-145.31\"/>\r\n",
       "<polygon fill=\"black\" stroke=\"black\" points=\"135.25,-142.3 124.88,-140.12 131.64,-148.29 135.25,-142.3\"/>\r\n",
       "</g>\r\n",
       "<!-- 57 -->\r\n",
       "<g id=\"node8\" class=\"node\">\r\n",
       "<title>57</title>\r\n",
       "<path fill=\"#f2be99\" stroke=\"black\" d=\"M308,-140C308,-140 170,-140 170,-140 164,-140 158,-134 158,-128 158,-128 158,-84 158,-84 158,-78 164,-72 170,-72 170,-72 308,-72 308,-72 314,-72 320,-78 320,-84 320,-84 320,-128 320,-128 320,-134 314,-140 308,-140\"/>\r\n",
       "<text text-anchor=\"middle\" x=\"239\" y=\"-124.8\" font-family=\"Helvetica,sans-Serif\" font-size=\"14.00\">capital&#45;loss &lt;= 43.5</text>\r\n",
       "<text text-anchor=\"middle\" x=\"239\" y=\"-109.8\" font-family=\"Helvetica,sans-Serif\" font-size=\"14.00\">gini = 0.44</text>\r\n",
       "<text text-anchor=\"middle\" x=\"239\" y=\"-94.8\" font-family=\"Helvetica,sans-Serif\" font-size=\"14.00\">samples = 4817</text>\r\n",
       "<text text-anchor=\"middle\" x=\"239\" y=\"-79.8\" font-family=\"Helvetica,sans-Serif\" font-size=\"14.00\">value = [3242, 1575, 0]</text>\r\n",
       "</g>\r\n",
       "<!-- 3&#45;&gt;57 -->\r\n",
       "<g id=\"edge7\" class=\"edge\">\r\n",
       "<title>3&#45;&gt;57</title>\r\n",
       "<path fill=\"none\" stroke=\"black\" d=\"M239,-175.88C239,-167.78 239,-158.98 239,-150.47\"/>\r\n",
       "<polygon fill=\"black\" stroke=\"black\" points=\"242.5,-150.3 239,-140.3 235.5,-150.3 242.5,-150.3\"/>\r\n",
       "</g>\r\n",
       "<!-- 5 -->\r\n",
       "<g id=\"node6\" class=\"node\">\r\n",
       "<title>5</title>\r\n",
       "<path fill=\"#c0c0c0\" stroke=\"black\" d=\"M49,-36C49,-36 19,-36 19,-36 13,-36 7,-30 7,-24 7,-24 7,-12 7,-12 7,-6 13,0 19,0 19,0 49,0 49,0 55,0 61,-6 61,-12 61,-12 61,-24 61,-24 61,-30 55,-36 49,-36\"/>\r\n",
       "<text text-anchor=\"middle\" x=\"34\" y=\"-14.3\" font-family=\"Helvetica,sans-Serif\" font-size=\"14.00\">(...)</text>\r\n",
       "</g>\r\n",
       "<!-- 4&#45;&gt;5 -->\r\n",
       "<g id=\"edge5\" class=\"edge\">\r\n",
       "<title>4&#45;&gt;5</title>\r\n",
       "<path fill=\"none\" stroke=\"black\" d=\"M56.18,-72C52.54,-63.28 48.64,-53.98 45.16,-45.65\"/>\r\n",
       "<polygon fill=\"black\" stroke=\"black\" points=\"48.38,-44.28 41.29,-36.4 41.92,-46.98 48.38,-44.28\"/>\r\n",
       "</g>\r\n",
       "<!-- 50 -->\r\n",
       "<g id=\"node7\" class=\"node\">\r\n",
       "<title>50</title>\r\n",
       "<path fill=\"#c0c0c0\" stroke=\"black\" d=\"M121,-36C121,-36 91,-36 91,-36 85,-36 79,-30 79,-24 79,-24 79,-12 79,-12 79,-6 85,0 91,0 91,0 121,0 121,0 127,0 133,-6 133,-12 133,-12 133,-24 133,-24 133,-30 127,-36 121,-36\"/>\r\n",
       "<text text-anchor=\"middle\" x=\"106\" y=\"-14.3\" font-family=\"Helvetica,sans-Serif\" font-size=\"14.00\">(...)</text>\r\n",
       "</g>\r\n",
       "<!-- 4&#45;&gt;50 -->\r\n",
       "<g id=\"edge6\" class=\"edge\">\r\n",
       "<title>4&#45;&gt;50</title>\r\n",
       "<path fill=\"none\" stroke=\"black\" d=\"M83.82,-72C87.46,-63.28 91.36,-53.98 94.84,-45.65\"/>\r\n",
       "<polygon fill=\"black\" stroke=\"black\" points=\"98.08,-46.98 98.71,-36.4 91.62,-44.28 98.08,-46.98\"/>\r\n",
       "</g>\r\n",
       "<!-- 58 -->\r\n",
       "<g id=\"node9\" class=\"node\">\r\n",
       "<title>58</title>\r\n",
       "<path fill=\"#c0c0c0\" stroke=\"black\" d=\"M224,-36C224,-36 194,-36 194,-36 188,-36 182,-30 182,-24 182,-24 182,-12 182,-12 182,-6 188,0 194,0 194,0 224,0 224,0 230,0 236,-6 236,-12 236,-12 236,-24 236,-24 236,-30 230,-36 224,-36\"/>\r\n",
       "<text text-anchor=\"middle\" x=\"209\" y=\"-14.3\" font-family=\"Helvetica,sans-Serif\" font-size=\"14.00\">(...)</text>\r\n",
       "</g>\r\n",
       "<!-- 57&#45;&gt;58 -->\r\n",
       "<g id=\"edge8\" class=\"edge\">\r\n",
       "<title>57&#45;&gt;58</title>\r\n",
       "<path fill=\"none\" stroke=\"black\" d=\"M227.49,-72C224.48,-63.38 221.27,-54.19 218.39,-45.92\"/>\r\n",
       "<polygon fill=\"black\" stroke=\"black\" points=\"221.67,-44.69 215.07,-36.4 215.06,-47 221.67,-44.69\"/>\r\n",
       "</g>\r\n",
       "<!-- 115 -->\r\n",
       "<g id=\"node10\" class=\"node\">\r\n",
       "<title>115</title>\r\n",
       "<path fill=\"#c0c0c0\" stroke=\"black\" d=\"M296,-36C296,-36 266,-36 266,-36 260,-36 254,-30 254,-24 254,-24 254,-12 254,-12 254,-6 260,0 266,0 266,0 296,0 296,0 302,0 308,-6 308,-12 308,-12 308,-24 308,-24 308,-30 302,-36 296,-36\"/>\r\n",
       "<text text-anchor=\"middle\" x=\"281\" y=\"-14.3\" font-family=\"Helvetica,sans-Serif\" font-size=\"14.00\">(...)</text>\r\n",
       "</g>\r\n",
       "<!-- 57&#45;&gt;115 -->\r\n",
       "<g id=\"edge9\" class=\"edge\">\r\n",
       "<title>57&#45;&gt;115</title>\r\n",
       "<path fill=\"none\" stroke=\"black\" d=\"M255.12,-72C259.37,-63.28 263.91,-53.98 267.98,-45.65\"/>\r\n",
       "<polygon fill=\"black\" stroke=\"black\" points=\"271.26,-46.93 272.5,-36.4 264.97,-43.85 271.26,-46.93\"/>\r\n",
       "</g>\r\n",
       "<!-- 141 -->\r\n",
       "<g id=\"node12\" class=\"node\">\r\n",
       "<title>141</title>\r\n",
       "<path fill=\"#39e581\" stroke=\"black\" d=\"M455.5,-132.5C455.5,-132.5 350.5,-132.5 350.5,-132.5 344.5,-132.5 338.5,-126.5 338.5,-120.5 338.5,-120.5 338.5,-91.5 338.5,-91.5 338.5,-85.5 344.5,-79.5 350.5,-79.5 350.5,-79.5 455.5,-79.5 455.5,-79.5 461.5,-79.5 467.5,-85.5 467.5,-91.5 467.5,-91.5 467.5,-120.5 467.5,-120.5 467.5,-126.5 461.5,-132.5 455.5,-132.5\"/>\r\n",
       "<text text-anchor=\"middle\" x=\"403\" y=\"-117.3\" font-family=\"Helvetica,sans-Serif\" font-size=\"14.00\">gini = 0.0</text>\r\n",
       "<text text-anchor=\"middle\" x=\"403\" y=\"-102.3\" font-family=\"Helvetica,sans-Serif\" font-size=\"14.00\">samples = 265</text>\r\n",
       "<text text-anchor=\"middle\" x=\"403\" y=\"-87.3\" font-family=\"Helvetica,sans-Serif\" font-size=\"14.00\">value = [0, 265, 0]</text>\r\n",
       "</g>\r\n",
       "<!-- 140&#45;&gt;141 -->\r\n",
       "<g id=\"edge11\" class=\"edge\">\r\n",
       "<title>140&#45;&gt;141</title>\r\n",
       "<path fill=\"none\" stroke=\"black\" d=\"M459.05,-175.88C449.83,-164.56 439.52,-151.88 430.28,-140.52\"/>\r\n",
       "<polygon fill=\"black\" stroke=\"black\" points=\"432.79,-138.07 423.77,-132.52 427.36,-142.49 432.79,-138.07\"/>\r\n",
       "</g>\r\n",
       "<!-- 142 -->\r\n",
       "<g id=\"node13\" class=\"node\">\r\n",
       "<title>142</title>\r\n",
       "<path fill=\"#59e995\" stroke=\"black\" d=\"M640.5,-140C640.5,-140 497.5,-140 497.5,-140 491.5,-140 485.5,-134 485.5,-128 485.5,-128 485.5,-84 485.5,-84 485.5,-78 491.5,-72 497.5,-72 497.5,-72 640.5,-72 640.5,-72 646.5,-72 652.5,-78 652.5,-84 652.5,-84 652.5,-128 652.5,-128 652.5,-134 646.5,-140 640.5,-140\"/>\r\n",
       "<text text-anchor=\"middle\" x=\"569\" y=\"-124.8\" font-family=\"Helvetica,sans-Serif\" font-size=\"14.00\">hours&#45;per&#45;week &lt;= 45.5</text>\r\n",
       "<text text-anchor=\"middle\" x=\"569\" y=\"-109.8\" font-family=\"Helvetica,sans-Serif\" font-size=\"14.00\">gini = 0.238</text>\r\n",
       "<text text-anchor=\"middle\" x=\"569\" y=\"-94.8\" font-family=\"Helvetica,sans-Serif\" font-size=\"14.00\">samples = 29</text>\r\n",
       "<text text-anchor=\"middle\" x=\"569\" y=\"-79.8\" font-family=\"Helvetica,sans-Serif\" font-size=\"14.00\">value = [4, 25, 0]</text>\r\n",
       "</g>\r\n",
       "<!-- 140&#45;&gt;142 -->\r\n",
       "<g id=\"edge12\" class=\"edge\">\r\n",
       "<title>140&#45;&gt;142</title>\r\n",
       "<path fill=\"none\" stroke=\"black\" d=\"M512.95,-175.88C520.12,-167.07 527.96,-157.43 535.45,-148.24\"/>\r\n",
       "<polygon fill=\"black\" stroke=\"black\" points=\"538.31,-150.26 541.9,-140.3 532.88,-145.85 538.31,-150.26\"/>\r\n",
       "</g>\r\n",
       "<!-- 143 -->\r\n",
       "<g id=\"node14\" class=\"node\">\r\n",
       "<title>143</title>\r\n",
       "<path fill=\"#c0c0c0\" stroke=\"black\" d=\"M581,-36C581,-36 551,-36 551,-36 545,-36 539,-30 539,-24 539,-24 539,-12 539,-12 539,-6 545,0 551,0 551,0 581,0 581,0 587,0 593,-6 593,-12 593,-12 593,-24 593,-24 593,-30 587,-36 581,-36\"/>\r\n",
       "<text text-anchor=\"middle\" x=\"566\" y=\"-14.3\" font-family=\"Helvetica,sans-Serif\" font-size=\"14.00\">(...)</text>\r\n",
       "</g>\r\n",
       "<!-- 142&#45;&gt;143 -->\r\n",
       "<g id=\"edge13\" class=\"edge\">\r\n",
       "<title>142&#45;&gt;143</title>\r\n",
       "<path fill=\"none\" stroke=\"black\" d=\"M567.85,-72C567.55,-63.56 567.24,-54.59 566.96,-46.47\"/>\r\n",
       "<polygon fill=\"black\" stroke=\"black\" points=\"570.45,-46.28 566.61,-36.4 563.46,-46.52 570.45,-46.28\"/>\r\n",
       "</g>\r\n",
       "<!-- 150 -->\r\n",
       "<g id=\"node15\" class=\"node\">\r\n",
       "<title>150</title>\r\n",
       "<path fill=\"#c0c0c0\" stroke=\"black\" d=\"M653,-36C653,-36 623,-36 623,-36 617,-36 611,-30 611,-24 611,-24 611,-12 611,-12 611,-6 617,0 623,0 623,0 653,0 653,0 659,0 665,-6 665,-12 665,-12 665,-24 665,-24 665,-30 659,-36 653,-36\"/>\r\n",
       "<text text-anchor=\"middle\" x=\"638\" y=\"-14.3\" font-family=\"Helvetica,sans-Serif\" font-size=\"14.00\">(...)</text>\r\n",
       "</g>\r\n",
       "<!-- 142&#45;&gt;150 -->\r\n",
       "<g id=\"edge14\" class=\"edge\">\r\n",
       "<title>142&#45;&gt;150</title>\r\n",
       "<path fill=\"none\" stroke=\"black\" d=\"M595.48,-72C602.85,-62.81 610.74,-52.97 617.7,-44.3\"/>\r\n",
       "<polygon fill=\"black\" stroke=\"black\" points=\"620.51,-46.39 624.04,-36.4 615.05,-42.01 620.51,-46.39\"/>\r\n",
       "</g>\r\n",
       "<!-- 152 -->\r\n",
       "<g id=\"node17\" class=\"node\">\r\n",
       "<title>152</title>\r\n",
       "<path fill=\"#a3f3c5\" stroke=\"black\" d=\"M987,-244C987,-244 857,-244 857,-244 851,-244 845,-238 845,-232 845,-232 845,-188 845,-188 845,-182 851,-176 857,-176 857,-176 987,-176 987,-176 993,-176 999,-182 999,-188 999,-188 999,-232 999,-232 999,-238 993,-244 987,-244\"/>\r\n",
       "<text text-anchor=\"middle\" x=\"922\" y=\"-228.8\" font-family=\"Helvetica,sans-Serif\" font-size=\"14.00\">capital&#45;loss &lt;= 39.5</text>\r\n",
       "<text text-anchor=\"middle\" x=\"922\" y=\"-213.8\" font-family=\"Helvetica,sans-Serif\" font-size=\"14.00\">gini = 0.455</text>\r\n",
       "<text text-anchor=\"middle\" x=\"922\" y=\"-198.8\" font-family=\"Helvetica,sans-Serif\" font-size=\"14.00\">samples = 2637</text>\r\n",
       "<text text-anchor=\"middle\" x=\"922\" y=\"-183.8\" font-family=\"Helvetica,sans-Serif\" font-size=\"14.00\">value = [922, 1715, 0]</text>\r\n",
       "</g>\r\n",
       "<!-- 151&#45;&gt;152 -->\r\n",
       "<g id=\"edge16\" class=\"edge\">\r\n",
       "<title>151&#45;&gt;152</title>\r\n",
       "<path fill=\"none\" stroke=\"black\" d=\"M976.03,-279.88C969.11,-271.07 961.55,-261.43 954.34,-252.24\"/>\r\n",
       "<polygon fill=\"black\" stroke=\"black\" points=\"957.04,-250.01 948.12,-244.3 951.53,-254.33 957.04,-250.01\"/>\r\n",
       "</g>\r\n",
       "<!-- 257 -->\r\n",
       "<g id=\"node24\" class=\"node\">\r\n",
       "<title>257</title>\r\n",
       "<path fill=\"#3ae582\" stroke=\"black\" d=\"M1134.5,-244C1134.5,-244 1029.5,-244 1029.5,-244 1023.5,-244 1017.5,-238 1017.5,-232 1017.5,-232 1017.5,-188 1017.5,-188 1017.5,-182 1023.5,-176 1029.5,-176 1029.5,-176 1134.5,-176 1134.5,-176 1140.5,-176 1146.5,-182 1146.5,-188 1146.5,-188 1146.5,-232 1146.5,-232 1146.5,-238 1140.5,-244 1134.5,-244\"/>\r\n",
       "<text text-anchor=\"middle\" x=\"1082\" y=\"-228.8\" font-family=\"Helvetica,sans-Serif\" font-size=\"14.00\">age &lt;= 67.5</text>\r\n",
       "<text text-anchor=\"middle\" x=\"1082\" y=\"-213.8\" font-family=\"Helvetica,sans-Serif\" font-size=\"14.00\">gini = 0.009</text>\r\n",
       "<text text-anchor=\"middle\" x=\"1082\" y=\"-198.8\" font-family=\"Helvetica,sans-Serif\" font-size=\"14.00\">samples = 445</text>\r\n",
       "<text text-anchor=\"middle\" x=\"1082\" y=\"-183.8\" font-family=\"Helvetica,sans-Serif\" font-size=\"14.00\">value = [2, 443, 0]</text>\r\n",
       "</g>\r\n",
       "<!-- 151&#45;&gt;257 -->\r\n",
       "<g id=\"edge23\" class=\"edge\">\r\n",
       "<title>151&#45;&gt;257</title>\r\n",
       "<path fill=\"none\" stroke=\"black\" d=\"M1027.97,-279.88C1034.89,-271.07 1042.45,-261.43 1049.66,-252.24\"/>\r\n",
       "<polygon fill=\"black\" stroke=\"black\" points=\"1052.47,-254.33 1055.88,-244.3 1046.96,-250.01 1052.47,-254.33\"/>\r\n",
       "</g>\r\n",
       "<!-- 153 -->\r\n",
       "<g id=\"node18\" class=\"node\">\r\n",
       "<title>153</title>\r\n",
       "<path fill=\"#b5f5d0\" stroke=\"black\" d=\"M825.5,-140C825.5,-140 682.5,-140 682.5,-140 676.5,-140 670.5,-134 670.5,-128 670.5,-128 670.5,-84 670.5,-84 670.5,-78 676.5,-72 682.5,-72 682.5,-72 825.5,-72 825.5,-72 831.5,-72 837.5,-78 837.5,-84 837.5,-84 837.5,-128 837.5,-128 837.5,-134 831.5,-140 825.5,-140\"/>\r\n",
       "<text text-anchor=\"middle\" x=\"754\" y=\"-124.8\" font-family=\"Helvetica,sans-Serif\" font-size=\"14.00\">hours&#45;per&#45;week &lt;= 30.0</text>\r\n",
       "<text text-anchor=\"middle\" x=\"754\" y=\"-109.8\" font-family=\"Helvetica,sans-Serif\" font-size=\"14.00\">gini = 0.474</text>\r\n",
       "<text text-anchor=\"middle\" x=\"754\" y=\"-94.8\" font-family=\"Helvetica,sans-Serif\" font-size=\"14.00\">samples = 2365</text>\r\n",
       "<text text-anchor=\"middle\" x=\"754\" y=\"-79.8\" font-family=\"Helvetica,sans-Serif\" font-size=\"14.00\">value = [911, 1454, 0]</text>\r\n",
       "</g>\r\n",
       "<!-- 152&#45;&gt;153 -->\r\n",
       "<g id=\"edge17\" class=\"edge\">\r\n",
       "<title>152&#45;&gt;153</title>\r\n",
       "<path fill=\"none\" stroke=\"black\" d=\"M867.46,-175.88C851.53,-166.21 833.99,-155.56 817.56,-145.59\"/>\r\n",
       "<polygon fill=\"black\" stroke=\"black\" points=\"818.92,-142.32 808.56,-140.12 815.29,-148.31 818.92,-142.32\"/>\r\n",
       "</g>\r\n",
       "<!-- 242 -->\r\n",
       "<g id=\"node21\" class=\"node\">\r\n",
       "<title>242</title>\r\n",
       "<path fill=\"#41e686\" stroke=\"black\" d=\"M984,-140C984,-140 868,-140 868,-140 862,-140 856,-134 856,-128 856,-128 856,-84 856,-84 856,-78 862,-72 868,-72 868,-72 984,-72 984,-72 990,-72 996,-78 996,-84 996,-84 996,-128 996,-128 996,-134 990,-140 984,-140\"/>\r\n",
       "<text text-anchor=\"middle\" x=\"926\" y=\"-124.8\" font-family=\"Helvetica,sans-Serif\" font-size=\"14.00\">capital&#45;loss &lt;= 51.5</text>\r\n",
       "<text text-anchor=\"middle\" x=\"926\" y=\"-109.8\" font-family=\"Helvetica,sans-Serif\" font-size=\"14.00\">gini = 0.078</text>\r\n",
       "<text text-anchor=\"middle\" x=\"926\" y=\"-94.8\" font-family=\"Helvetica,sans-Serif\" font-size=\"14.00\">samples = 272</text>\r\n",
       "<text text-anchor=\"middle\" x=\"926\" y=\"-79.8\" font-family=\"Helvetica,sans-Serif\" font-size=\"14.00\">value = [11, 261, 0]</text>\r\n",
       "</g>\r\n",
       "<!-- 152&#45;&gt;242 -->\r\n",
       "<g id=\"edge20\" class=\"edge\">\r\n",
       "<title>152&#45;&gt;242</title>\r\n",
       "<path fill=\"none\" stroke=\"black\" d=\"M923.3,-175.88C923.62,-167.78 923.96,-158.98 924.3,-150.47\"/>\r\n",
       "<polygon fill=\"black\" stroke=\"black\" points=\"927.8,-150.43 924.69,-140.3 920.8,-150.15 927.8,-150.43\"/>\r\n",
       "</g>\r\n",
       "<!-- 154 -->\r\n",
       "<g id=\"node19\" class=\"node\">\r\n",
       "<title>154</title>\r\n",
       "<path fill=\"#c0c0c0\" stroke=\"black\" d=\"M728,-36C728,-36 698,-36 698,-36 692,-36 686,-30 686,-24 686,-24 686,-12 686,-12 686,-6 692,0 698,0 698,0 728,0 728,0 734,0 740,-6 740,-12 740,-12 740,-24 740,-24 740,-30 734,-36 728,-36\"/>\r\n",
       "<text text-anchor=\"middle\" x=\"713\" y=\"-14.3\" font-family=\"Helvetica,sans-Serif\" font-size=\"14.00\">(...)</text>\r\n",
       "</g>\r\n",
       "<!-- 153&#45;&gt;154 -->\r\n",
       "<g id=\"edge18\" class=\"edge\">\r\n",
       "<title>153&#45;&gt;154</title>\r\n",
       "<path fill=\"none\" stroke=\"black\" d=\"M738.27,-72C734.11,-63.28 729.68,-53.98 725.71,-45.65\"/>\r\n",
       "<polygon fill=\"black\" stroke=\"black\" points=\"728.76,-43.92 721.3,-36.4 722.44,-46.94 728.76,-43.92\"/>\r\n",
       "</g>\r\n",
       "<!-- 187 -->\r\n",
       "<g id=\"node20\" class=\"node\">\r\n",
       "<title>187</title>\r\n",
       "<path fill=\"#c0c0c0\" stroke=\"black\" d=\"M800,-36C800,-36 770,-36 770,-36 764,-36 758,-30 758,-24 758,-24 758,-12 758,-12 758,-6 764,0 770,0 770,0 800,0 800,0 806,0 812,-6 812,-12 812,-12 812,-24 812,-24 812,-30 806,-36 800,-36\"/>\r\n",
       "<text text-anchor=\"middle\" x=\"785\" y=\"-14.3\" font-family=\"Helvetica,sans-Serif\" font-size=\"14.00\">(...)</text>\r\n",
       "</g>\r\n",
       "<!-- 153&#45;&gt;187 -->\r\n",
       "<g id=\"edge19\" class=\"edge\">\r\n",
       "<title>153&#45;&gt;187</title>\r\n",
       "<path fill=\"none\" stroke=\"black\" d=\"M765.9,-72C769,-63.38 772.32,-54.19 775.3,-45.92\"/>\r\n",
       "<polygon fill=\"black\" stroke=\"black\" points=\"778.63,-47 778.73,-36.4 772.04,-44.62 778.63,-47\"/>\r\n",
       "</g>\r\n",
       "<!-- 243 -->\r\n",
       "<g id=\"node22\" class=\"node\">\r\n",
       "<title>243</title>\r\n",
       "<path fill=\"#c0c0c0\" stroke=\"black\" d=\"M873,-36C873,-36 843,-36 843,-36 837,-36 831,-30 831,-24 831,-24 831,-12 831,-12 831,-6 837,0 843,0 843,0 873,0 873,0 879,0 885,-6 885,-12 885,-12 885,-24 885,-24 885,-30 879,-36 873,-36\"/>\r\n",
       "<text text-anchor=\"middle\" x=\"858\" y=\"-14.3\" font-family=\"Helvetica,sans-Serif\" font-size=\"14.00\">(...)</text>\r\n",
       "</g>\r\n",
       "<!-- 242&#45;&gt;243 -->\r\n",
       "<g id=\"edge21\" class=\"edge\">\r\n",
       "<title>242&#45;&gt;243</title>\r\n",
       "<path fill=\"none\" stroke=\"black\" d=\"M899.9,-72C892.64,-62.81 884.86,-52.97 878.01,-44.3\"/>\r\n",
       "<polygon fill=\"black\" stroke=\"black\" points=\"880.71,-42.08 871.76,-36.4 875.22,-46.42 880.71,-42.08\"/>\r\n",
       "</g>\r\n",
       "<!-- 250 -->\r\n",
       "<g id=\"node23\" class=\"node\">\r\n",
       "<title>250</title>\r\n",
       "<path fill=\"#c0c0c0\" stroke=\"black\" d=\"M945,-36C945,-36 915,-36 915,-36 909,-36 903,-30 903,-24 903,-24 903,-12 903,-12 903,-6 909,0 915,0 915,0 945,0 945,0 951,0 957,-6 957,-12 957,-12 957,-24 957,-24 957,-30 951,-36 945,-36\"/>\r\n",
       "<text text-anchor=\"middle\" x=\"930\" y=\"-14.3\" font-family=\"Helvetica,sans-Serif\" font-size=\"14.00\">(...)</text>\r\n",
       "</g>\r\n",
       "<!-- 242&#45;&gt;250 -->\r\n",
       "<g id=\"edge22\" class=\"edge\">\r\n",
       "<title>242&#45;&gt;250</title>\r\n",
       "<path fill=\"none\" stroke=\"black\" d=\"M927.54,-72C927.93,-63.56 928.34,-54.59 928.72,-46.47\"/>\r\n",
       "<polygon fill=\"black\" stroke=\"black\" points=\"932.22,-46.56 929.19,-36.4 925.23,-46.23 932.22,-46.56\"/>\r\n",
       "</g>\r\n",
       "<!-- 258 -->\r\n",
       "<g id=\"node25\" class=\"node\">\r\n",
       "<title>258</title>\r\n",
       "<path fill=\"#39e581\" stroke=\"black\" d=\"M1131.5,-140C1131.5,-140 1026.5,-140 1026.5,-140 1020.5,-140 1014.5,-134 1014.5,-128 1014.5,-128 1014.5,-84 1014.5,-84 1014.5,-78 1020.5,-72 1026.5,-72 1026.5,-72 1131.5,-72 1131.5,-72 1137.5,-72 1143.5,-78 1143.5,-84 1143.5,-84 1143.5,-128 1143.5,-128 1143.5,-134 1137.5,-140 1131.5,-140\"/>\r\n",
       "<text text-anchor=\"middle\" x=\"1079\" y=\"-124.8\" font-family=\"Helvetica,sans-Serif\" font-size=\"14.00\">age &lt;= 45.5</text>\r\n",
       "<text text-anchor=\"middle\" x=\"1079\" y=\"-109.8\" font-family=\"Helvetica,sans-Serif\" font-size=\"14.00\">gini = 0.005</text>\r\n",
       "<text text-anchor=\"middle\" x=\"1079\" y=\"-94.8\" font-family=\"Helvetica,sans-Serif\" font-size=\"14.00\">samples = 442</text>\r\n",
       "<text text-anchor=\"middle\" x=\"1079\" y=\"-79.8\" font-family=\"Helvetica,sans-Serif\" font-size=\"14.00\">value = [1, 441, 0]</text>\r\n",
       "</g>\r\n",
       "<!-- 257&#45;&gt;258 -->\r\n",
       "<g id=\"edge24\" class=\"edge\">\r\n",
       "<title>257&#45;&gt;258</title>\r\n",
       "<path fill=\"none\" stroke=\"black\" d=\"M1081.03,-175.88C1080.79,-167.78 1080.53,-158.98 1080.28,-150.47\"/>\r\n",
       "<polygon fill=\"black\" stroke=\"black\" points=\"1083.77,-150.19 1079.98,-140.3 1076.77,-150.4 1083.77,-150.19\"/>\r\n",
       "</g>\r\n",
       "<!-- 265 -->\r\n",
       "<g id=\"node28\" class=\"node\">\r\n",
       "<title>265</title>\r\n",
       "<path fill=\"#9cf2c0\" stroke=\"black\" d=\"M1262.5,-132.5C1262.5,-132.5 1173.5,-132.5 1173.5,-132.5 1167.5,-132.5 1161.5,-126.5 1161.5,-120.5 1161.5,-120.5 1161.5,-91.5 1161.5,-91.5 1161.5,-85.5 1167.5,-79.5 1173.5,-79.5 1173.5,-79.5 1262.5,-79.5 1262.5,-79.5 1268.5,-79.5 1274.5,-85.5 1274.5,-91.5 1274.5,-91.5 1274.5,-120.5 1274.5,-120.5 1274.5,-126.5 1268.5,-132.5 1262.5,-132.5\"/>\r\n",
       "<text text-anchor=\"middle\" x=\"1218\" y=\"-117.3\" font-family=\"Helvetica,sans-Serif\" font-size=\"14.00\">gini = 0.444</text>\r\n",
       "<text text-anchor=\"middle\" x=\"1218\" y=\"-102.3\" font-family=\"Helvetica,sans-Serif\" font-size=\"14.00\">samples = 3</text>\r\n",
       "<text text-anchor=\"middle\" x=\"1218\" y=\"-87.3\" font-family=\"Helvetica,sans-Serif\" font-size=\"14.00\">value = [1, 2, 0]</text>\r\n",
       "</g>\r\n",
       "<!-- 257&#45;&gt;265 -->\r\n",
       "<g id=\"edge27\" class=\"edge\">\r\n",
       "<title>257&#45;&gt;265</title>\r\n",
       "<path fill=\"none\" stroke=\"black\" d=\"M1126.16,-175.88C1142.14,-163.9 1160.13,-150.4 1175.93,-138.55\"/>\r\n",
       "<polygon fill=\"black\" stroke=\"black\" points=\"1178.07,-141.32 1183.97,-132.52 1173.87,-135.72 1178.07,-141.32\"/>\r\n",
       "</g>\r\n",
       "<!-- 259 -->\r\n",
       "<g id=\"node26\" class=\"node\">\r\n",
       "<title>259</title>\r\n",
       "<path fill=\"#c0c0c0\" stroke=\"black\" d=\"M1058,-36C1058,-36 1028,-36 1028,-36 1022,-36 1016,-30 1016,-24 1016,-24 1016,-12 1016,-12 1016,-6 1022,0 1028,0 1028,0 1058,0 1058,0 1064,0 1070,-6 1070,-12 1070,-12 1070,-24 1070,-24 1070,-30 1064,-36 1058,-36\"/>\r\n",
       "<text text-anchor=\"middle\" x=\"1043\" y=\"-14.3\" font-family=\"Helvetica,sans-Serif\" font-size=\"14.00\">(...)</text>\r\n",
       "</g>\r\n",
       "<!-- 258&#45;&gt;259 -->\r\n",
       "<g id=\"edge25\" class=\"edge\">\r\n",
       "<title>258&#45;&gt;259</title>\r\n",
       "<path fill=\"none\" stroke=\"black\" d=\"M1065.18,-72C1061.54,-63.28 1057.64,-53.98 1054.16,-45.65\"/>\r\n",
       "<polygon fill=\"black\" stroke=\"black\" points=\"1057.38,-44.28 1050.29,-36.4 1050.92,-46.98 1057.38,-44.28\"/>\r\n",
       "</g>\r\n",
       "<!-- 260 -->\r\n",
       "<g id=\"node27\" class=\"node\">\r\n",
       "<title>260</title>\r\n",
       "<path fill=\"#c0c0c0\" stroke=\"black\" d=\"M1130,-36C1130,-36 1100,-36 1100,-36 1094,-36 1088,-30 1088,-24 1088,-24 1088,-12 1088,-12 1088,-6 1094,0 1100,0 1100,0 1130,0 1130,0 1136,0 1142,-6 1142,-12 1142,-12 1142,-24 1142,-24 1142,-30 1136,-36 1130,-36\"/>\r\n",
       "<text text-anchor=\"middle\" x=\"1115\" y=\"-14.3\" font-family=\"Helvetica,sans-Serif\" font-size=\"14.00\">(...)</text>\r\n",
       "</g>\r\n",
       "<!-- 258&#45;&gt;260 -->\r\n",
       "<g id=\"edge26\" class=\"edge\">\r\n",
       "<title>258&#45;&gt;260</title>\r\n",
       "<path fill=\"none\" stroke=\"black\" d=\"M1092.82,-72C1096.46,-63.28 1100.36,-53.98 1103.84,-45.65\"/>\r\n",
       "<polygon fill=\"black\" stroke=\"black\" points=\"1107.08,-46.98 1107.71,-36.4 1100.62,-44.28 1107.08,-46.98\"/>\r\n",
       "</g>\r\n",
       "<!-- 267 -->\r\n",
       "<g id=\"node30\" class=\"node\">\r\n",
       "<title>267</title>\r\n",
       "<path fill=\"#e78c4a\" stroke=\"black\" d=\"M1695,-348C1695,-348 1549,-348 1549,-348 1543,-348 1537,-342 1537,-336 1537,-336 1537,-292 1537,-292 1537,-286 1543,-280 1549,-280 1549,-280 1695,-280 1695,-280 1701,-280 1707,-286 1707,-292 1707,-292 1707,-336 1707,-336 1707,-342 1701,-348 1695,-348\"/>\r\n",
       "<text text-anchor=\"middle\" x=\"1622\" y=\"-332.8\" font-family=\"Helvetica,sans-Serif\" font-size=\"14.00\">relationship &lt;= 4.5</text>\r\n",
       "<text text-anchor=\"middle\" x=\"1622\" y=\"-317.8\" font-family=\"Helvetica,sans-Serif\" font-size=\"14.00\">gini = 0.146</text>\r\n",
       "<text text-anchor=\"middle\" x=\"1622\" y=\"-302.8\" font-family=\"Helvetica,sans-Serif\" font-size=\"14.00\">samples = 13289</text>\r\n",
       "<text text-anchor=\"middle\" x=\"1622\" y=\"-287.8\" font-family=\"Helvetica,sans-Serif\" font-size=\"14.00\">value = [12234, 1055, 0]</text>\r\n",
       "</g>\r\n",
       "<!-- 266&#45;&gt;267 -->\r\n",
       "<g id=\"edge29\" class=\"edge\">\r\n",
       "<title>266&#45;&gt;267</title>\r\n",
       "<path fill=\"none\" stroke=\"black\" d=\"M1622,-383.88C1622,-375.78 1622,-366.98 1622,-358.47\"/>\r\n",
       "<polygon fill=\"black\" stroke=\"black\" points=\"1625.5,-358.3 1622,-348.3 1618.5,-358.3 1625.5,-358.3\"/>\r\n",
       "</g>\r\n",
       "<!-- 542 -->\r\n",
       "<g id=\"node45\" class=\"node\">\r\n",
       "<title>542</title>\r\n",
       "<path fill=\"#3fe685\" stroke=\"black\" d=\"M1926.5,-348C1926.5,-348 1821.5,-348 1821.5,-348 1815.5,-348 1809.5,-342 1809.5,-336 1809.5,-336 1809.5,-292 1809.5,-292 1809.5,-286 1815.5,-280 1821.5,-280 1821.5,-280 1926.5,-280 1926.5,-280 1932.5,-280 1938.5,-286 1938.5,-292 1938.5,-292 1938.5,-336 1938.5,-336 1938.5,-342 1932.5,-348 1926.5,-348\"/>\r\n",
       "<text text-anchor=\"middle\" x=\"1874\" y=\"-332.8\" font-family=\"Helvetica,sans-Serif\" font-size=\"14.00\">age &lt;= 3.0</text>\r\n",
       "<text text-anchor=\"middle\" x=\"1874\" y=\"-317.8\" font-family=\"Helvetica,sans-Serif\" font-size=\"14.00\">gini = 0.06</text>\r\n",
       "<text text-anchor=\"middle\" x=\"1874\" y=\"-302.8\" font-family=\"Helvetica,sans-Serif\" font-size=\"14.00\">samples = 290</text>\r\n",
       "<text text-anchor=\"middle\" x=\"1874\" y=\"-287.8\" font-family=\"Helvetica,sans-Serif\" font-size=\"14.00\">value = [8, 281, 1]</text>\r\n",
       "</g>\r\n",
       "<!-- 266&#45;&gt;542 -->\r\n",
       "<g id=\"edge44\" class=\"edge\">\r\n",
       "<title>266&#45;&gt;542</title>\r\n",
       "<path fill=\"none\" stroke=\"black\" d=\"M1703.82,-383.88C1734.68,-371.39 1769.6,-357.26 1799.73,-345.06\"/>\r\n",
       "<polygon fill=\"black\" stroke=\"black\" points=\"1801.38,-348.17 1809.34,-341.17 1798.75,-341.68 1801.38,-348.17\"/>\r\n",
       "</g>\r\n",
       "<!-- 268 -->\r\n",
       "<g id=\"node31\" class=\"node\">\r\n",
       "<title>268</title>\r\n",
       "<path fill=\"#e68844\" stroke=\"black\" d=\"M1602,-244C1602,-244 1464,-244 1464,-244 1458,-244 1452,-238 1452,-232 1452,-232 1452,-188 1452,-188 1452,-182 1458,-176 1464,-176 1464,-176 1602,-176 1602,-176 1608,-176 1614,-182 1614,-188 1614,-188 1614,-232 1614,-232 1614,-238 1608,-244 1602,-244\"/>\r\n",
       "<text text-anchor=\"middle\" x=\"1533\" y=\"-228.8\" font-family=\"Helvetica,sans-Serif\" font-size=\"14.00\">education&#45;num &lt;= 11.5</text>\r\n",
       "<text text-anchor=\"middle\" x=\"1533\" y=\"-213.8\" font-family=\"Helvetica,sans-Serif\" font-size=\"14.00\">gini = 0.096</text>\r\n",
       "<text text-anchor=\"middle\" x=\"1533\" y=\"-198.8\" font-family=\"Helvetica,sans-Serif\" font-size=\"14.00\">samples = 12286</text>\r\n",
       "<text text-anchor=\"middle\" x=\"1533\" y=\"-183.8\" font-family=\"Helvetica,sans-Serif\" font-size=\"14.00\">value = [11666, 620, 0]</text>\r\n",
       "</g>\r\n",
       "<!-- 267&#45;&gt;268 -->\r\n",
       "<g id=\"edge30\" class=\"edge\">\r\n",
       "<title>267&#45;&gt;268</title>\r\n",
       "<path fill=\"none\" stroke=\"black\" d=\"M1593.1,-279.88C1585.33,-270.98 1576.83,-261.24 1568.74,-251.96\"/>\r\n",
       "<polygon fill=\"black\" stroke=\"black\" points=\"1571.27,-249.53 1562.06,-244.3 1565.99,-254.14 1571.27,-249.53\"/>\r\n",
       "</g>\r\n",
       "<!-- 425 -->\r\n",
       "<g id=\"node38\" class=\"node\">\r\n",
       "<title>425</title>\r\n",
       "<path fill=\"#f9e1d1\" stroke=\"black\" d=\"M1782,-244C1782,-244 1644,-244 1644,-244 1638,-244 1632,-238 1632,-232 1632,-232 1632,-188 1632,-188 1632,-182 1638,-176 1644,-176 1644,-176 1782,-176 1782,-176 1788,-176 1794,-182 1794,-188 1794,-188 1794,-232 1794,-232 1794,-238 1788,-244 1782,-244\"/>\r\n",
       "<text text-anchor=\"middle\" x=\"1713\" y=\"-228.8\" font-family=\"Helvetica,sans-Serif\" font-size=\"14.00\">education&#45;num &lt;= 11.5</text>\r\n",
       "<text text-anchor=\"middle\" x=\"1713\" y=\"-213.8\" font-family=\"Helvetica,sans-Serif\" font-size=\"14.00\">gini = 0.491</text>\r\n",
       "<text text-anchor=\"middle\" x=\"1713\" y=\"-198.8\" font-family=\"Helvetica,sans-Serif\" font-size=\"14.00\">samples = 1003</text>\r\n",
       "<text text-anchor=\"middle\" x=\"1713\" y=\"-183.8\" font-family=\"Helvetica,sans-Serif\" font-size=\"14.00\">value = [568, 435, 0]</text>\r\n",
       "</g>\r\n",
       "<!-- 267&#45;&gt;425 -->\r\n",
       "<g id=\"edge37\" class=\"edge\">\r\n",
       "<title>267&#45;&gt;425</title>\r\n",
       "<path fill=\"none\" stroke=\"black\" d=\"M1651.55,-279.88C1659.49,-270.98 1668.18,-261.24 1676.46,-251.96\"/>\r\n",
       "<polygon fill=\"black\" stroke=\"black\" points=\"1679.25,-254.09 1683.29,-244.3 1674.02,-249.43 1679.25,-254.09\"/>\r\n",
       "</g>\r\n",
       "<!-- 269 -->\r\n",
       "<g id=\"node32\" class=\"node\">\r\n",
       "<title>269</title>\r\n",
       "<path fill=\"#e6843e\" stroke=\"black\" d=\"M1435,-140C1435,-140 1305,-140 1305,-140 1299,-140 1293,-134 1293,-128 1293,-128 1293,-84 1293,-84 1293,-78 1299,-72 1305,-72 1305,-72 1435,-72 1435,-72 1441,-72 1447,-78 1447,-84 1447,-84 1447,-128 1447,-128 1447,-134 1441,-140 1435,-140\"/>\r\n",
       "<text text-anchor=\"middle\" x=\"1370\" y=\"-124.8\" font-family=\"Helvetica,sans-Serif\" font-size=\"14.00\">capital&#45;loss &lt;= 65.5</text>\r\n",
       "<text text-anchor=\"middle\" x=\"1370\" y=\"-109.8\" font-family=\"Helvetica,sans-Serif\" font-size=\"14.00\">gini = 0.049</text>\r\n",
       "<text text-anchor=\"middle\" x=\"1370\" y=\"-94.8\" font-family=\"Helvetica,sans-Serif\" font-size=\"14.00\">samples = 9860</text>\r\n",
       "<text text-anchor=\"middle\" x=\"1370\" y=\"-79.8\" font-family=\"Helvetica,sans-Serif\" font-size=\"14.00\">value = [9610, 250, 0]</text>\r\n",
       "</g>\r\n",
       "<!-- 268&#45;&gt;269 -->\r\n",
       "<g id=\"edge31\" class=\"edge\">\r\n",
       "<title>268&#45;&gt;269</title>\r\n",
       "<path fill=\"none\" stroke=\"black\" d=\"M1480.08,-175.88C1464.63,-166.21 1447.61,-155.56 1431.66,-145.59\"/>\r\n",
       "<polygon fill=\"black\" stroke=\"black\" points=\"1433.27,-142.46 1422.93,-140.12 1429.56,-148.4 1433.27,-142.46\"/>\r\n",
       "</g>\r\n",
       "<!-- 336 -->\r\n",
       "<g id=\"node35\" class=\"node\">\r\n",
       "<title>336</title>\r\n",
       "<path fill=\"#ea985d\" stroke=\"black\" d=\"M1607,-140C1607,-140 1477,-140 1477,-140 1471,-140 1465,-134 1465,-128 1465,-128 1465,-84 1465,-84 1465,-78 1471,-72 1477,-72 1477,-72 1607,-72 1607,-72 1613,-72 1619,-78 1619,-84 1619,-84 1619,-128 1619,-128 1619,-134 1613,-140 1607,-140\"/>\r\n",
       "<text text-anchor=\"middle\" x=\"1542\" y=\"-124.8\" font-family=\"Helvetica,sans-Serif\" font-size=\"14.00\">age &lt;= 15.5</text>\r\n",
       "<text text-anchor=\"middle\" x=\"1542\" y=\"-109.8\" font-family=\"Helvetica,sans-Serif\" font-size=\"14.00\">gini = 0.259</text>\r\n",
       "<text text-anchor=\"middle\" x=\"1542\" y=\"-94.8\" font-family=\"Helvetica,sans-Serif\" font-size=\"14.00\">samples = 2426</text>\r\n",
       "<text text-anchor=\"middle\" x=\"1542\" y=\"-79.8\" font-family=\"Helvetica,sans-Serif\" font-size=\"14.00\">value = [2056, 370, 0]</text>\r\n",
       "</g>\r\n",
       "<!-- 268&#45;&gt;336 -->\r\n",
       "<g id=\"edge34\" class=\"edge\">\r\n",
       "<title>268&#45;&gt;336</title>\r\n",
       "<path fill=\"none\" stroke=\"black\" d=\"M1535.92,-175.88C1536.64,-167.78 1537.41,-158.98 1538.16,-150.47\"/>\r\n",
       "<polygon fill=\"black\" stroke=\"black\" points=\"1541.67,-150.57 1539.06,-140.3 1534.7,-149.95 1541.67,-150.57\"/>\r\n",
       "</g>\r\n",
       "<!-- 270 -->\r\n",
       "<g id=\"node33\" class=\"node\">\r\n",
       "<title>270</title>\r\n",
       "<path fill=\"#c0c0c0\" stroke=\"black\" d=\"M1327,-36C1327,-36 1297,-36 1297,-36 1291,-36 1285,-30 1285,-24 1285,-24 1285,-12 1285,-12 1285,-6 1291,0 1297,0 1297,0 1327,0 1327,0 1333,0 1339,-6 1339,-12 1339,-12 1339,-24 1339,-24 1339,-30 1333,-36 1327,-36\"/>\r\n",
       "<text text-anchor=\"middle\" x=\"1312\" y=\"-14.3\" font-family=\"Helvetica,sans-Serif\" font-size=\"14.00\">(...)</text>\r\n",
       "</g>\r\n",
       "<!-- 269&#45;&gt;270 -->\r\n",
       "<g id=\"edge32\" class=\"edge\">\r\n",
       "<title>269&#45;&gt;270</title>\r\n",
       "<path fill=\"none\" stroke=\"black\" d=\"M1347.74,-72C1341.67,-63 1335.18,-53.38 1329.43,-44.84\"/>\r\n",
       "<polygon fill=\"black\" stroke=\"black\" points=\"1332.23,-42.74 1323.74,-36.4 1326.43,-46.65 1332.23,-42.74\"/>\r\n",
       "</g>\r\n",
       "<!-- 321 -->\r\n",
       "<g id=\"node34\" class=\"node\">\r\n",
       "<title>321</title>\r\n",
       "<path fill=\"#c0c0c0\" stroke=\"black\" d=\"M1399,-36C1399,-36 1369,-36 1369,-36 1363,-36 1357,-30 1357,-24 1357,-24 1357,-12 1357,-12 1357,-6 1363,0 1369,0 1369,0 1399,0 1399,0 1405,0 1411,-6 1411,-12 1411,-12 1411,-24 1411,-24 1411,-30 1405,-36 1399,-36\"/>\r\n",
       "<text text-anchor=\"middle\" x=\"1384\" y=\"-14.3\" font-family=\"Helvetica,sans-Serif\" font-size=\"14.00\">(...)</text>\r\n",
       "</g>\r\n",
       "<!-- 269&#45;&gt;321 -->\r\n",
       "<g id=\"edge33\" class=\"edge\">\r\n",
       "<title>269&#45;&gt;321</title>\r\n",
       "<path fill=\"none\" stroke=\"black\" d=\"M1375.37,-72C1376.75,-63.56 1378.21,-54.59 1379.53,-46.47\"/>\r\n",
       "<polygon fill=\"black\" stroke=\"black\" points=\"1383.01,-46.84 1381.17,-36.4 1376.11,-45.71 1383.01,-46.84\"/>\r\n",
       "</g>\r\n",
       "<!-- 337 -->\r\n",
       "<g id=\"node36\" class=\"node\">\r\n",
       "<title>337</title>\r\n",
       "<path fill=\"#c0c0c0\" stroke=\"black\" d=\"M1497,-36C1497,-36 1467,-36 1467,-36 1461,-36 1455,-30 1455,-24 1455,-24 1455,-12 1455,-12 1455,-6 1461,0 1467,0 1467,0 1497,0 1497,0 1503,0 1509,-6 1509,-12 1509,-12 1509,-24 1509,-24 1509,-30 1503,-36 1497,-36\"/>\r\n",
       "<text text-anchor=\"middle\" x=\"1482\" y=\"-14.3\" font-family=\"Helvetica,sans-Serif\" font-size=\"14.00\">(...)</text>\r\n",
       "</g>\r\n",
       "<!-- 336&#45;&gt;337 -->\r\n",
       "<g id=\"edge35\" class=\"edge\">\r\n",
       "<title>336&#45;&gt;337</title>\r\n",
       "<path fill=\"none\" stroke=\"black\" d=\"M1518.97,-72C1512.7,-63 1505.98,-53.38 1500.03,-44.84\"/>\r\n",
       "<polygon fill=\"black\" stroke=\"black\" points=\"1502.73,-42.6 1494.14,-36.4 1496.99,-46.61 1502.73,-42.6\"/>\r\n",
       "</g>\r\n",
       "<!-- 384 -->\r\n",
       "<g id=\"node37\" class=\"node\">\r\n",
       "<title>384</title>\r\n",
       "<path fill=\"#c0c0c0\" stroke=\"black\" d=\"M1569,-36C1569,-36 1539,-36 1539,-36 1533,-36 1527,-30 1527,-24 1527,-24 1527,-12 1527,-12 1527,-6 1533,0 1539,0 1539,0 1569,0 1569,0 1575,0 1581,-6 1581,-12 1581,-12 1581,-24 1581,-24 1581,-30 1575,-36 1569,-36\"/>\r\n",
       "<text text-anchor=\"middle\" x=\"1554\" y=\"-14.3\" font-family=\"Helvetica,sans-Serif\" font-size=\"14.00\">(...)</text>\r\n",
       "</g>\r\n",
       "<!-- 336&#45;&gt;384 -->\r\n",
       "<g id=\"edge36\" class=\"edge\">\r\n",
       "<title>336&#45;&gt;384</title>\r\n",
       "<path fill=\"none\" stroke=\"black\" d=\"M1546.61,-72C1547.78,-63.56 1549.03,-54.59 1550.17,-46.47\"/>\r\n",
       "<polygon fill=\"black\" stroke=\"black\" points=\"1553.66,-46.79 1551.57,-36.4 1546.72,-45.82 1553.66,-46.79\"/>\r\n",
       "</g>\r\n",
       "<!-- 426 -->\r\n",
       "<g id=\"node39\" class=\"node\">\r\n",
       "<title>426</title>\r\n",
       "<path fill=\"#f2c29f\" stroke=\"black\" d=\"M1771,-140C1771,-140 1649,-140 1649,-140 1643,-140 1637,-134 1637,-128 1637,-128 1637,-84 1637,-84 1637,-78 1643,-72 1649,-72 1649,-72 1771,-72 1771,-72 1777,-72 1783,-78 1783,-84 1783,-84 1783,-128 1783,-128 1783,-134 1777,-140 1771,-140\"/>\r\n",
       "<text text-anchor=\"middle\" x=\"1710\" y=\"-124.8\" font-family=\"Helvetica,sans-Serif\" font-size=\"14.00\">occupation &lt;= 3.5</text>\r\n",
       "<text text-anchor=\"middle\" x=\"1710\" y=\"-109.8\" font-family=\"Helvetica,sans-Serif\" font-size=\"14.00\">gini = 0.449</text>\r\n",
       "<text text-anchor=\"middle\" x=\"1710\" y=\"-94.8\" font-family=\"Helvetica,sans-Serif\" font-size=\"14.00\">samples = 730</text>\r\n",
       "<text text-anchor=\"middle\" x=\"1710\" y=\"-79.8\" font-family=\"Helvetica,sans-Serif\" font-size=\"14.00\">value = [482, 248, 0]</text>\r\n",
       "</g>\r\n",
       "<!-- 425&#45;&gt;426 -->\r\n",
       "<g id=\"edge38\" class=\"edge\">\r\n",
       "<title>425&#45;&gt;426</title>\r\n",
       "<path fill=\"none\" stroke=\"black\" d=\"M1712.03,-175.88C1711.79,-167.78 1711.53,-158.98 1711.28,-150.47\"/>\r\n",
       "<polygon fill=\"black\" stroke=\"black\" points=\"1714.77,-150.19 1710.98,-140.3 1707.77,-150.4 1714.77,-150.19\"/>\r\n",
       "</g>\r\n",
       "<!-- 507 -->\r\n",
       "<g id=\"node42\" class=\"node\">\r\n",
       "<title>507</title>\r\n",
       "<path fill=\"#94f1bb\" stroke=\"black\" d=\"M1926.5,-140C1926.5,-140 1813.5,-140 1813.5,-140 1807.5,-140 1801.5,-134 1801.5,-128 1801.5,-128 1801.5,-84 1801.5,-84 1801.5,-78 1807.5,-72 1813.5,-72 1813.5,-72 1926.5,-72 1926.5,-72 1932.5,-72 1938.5,-78 1938.5,-84 1938.5,-84 1938.5,-128 1938.5,-128 1938.5,-134 1932.5,-140 1926.5,-140\"/>\r\n",
       "<text text-anchor=\"middle\" x=\"1870\" y=\"-124.8\" font-family=\"Helvetica,sans-Serif\" font-size=\"14.00\">age &lt;= 8.5</text>\r\n",
       "<text text-anchor=\"middle\" x=\"1870\" y=\"-109.8\" font-family=\"Helvetica,sans-Serif\" font-size=\"14.00\">gini = 0.432</text>\r\n",
       "<text text-anchor=\"middle\" x=\"1870\" y=\"-94.8\" font-family=\"Helvetica,sans-Serif\" font-size=\"14.00\">samples = 273</text>\r\n",
       "<text text-anchor=\"middle\" x=\"1870\" y=\"-79.8\" font-family=\"Helvetica,sans-Serif\" font-size=\"14.00\">value = [86, 187, 0]</text>\r\n",
       "</g>\r\n",
       "<!-- 425&#45;&gt;507 -->\r\n",
       "<g id=\"edge41\" class=\"edge\">\r\n",
       "<title>425&#45;&gt;507</title>\r\n",
       "<path fill=\"none\" stroke=\"black\" d=\"M1763.97,-175.88C1778.86,-166.21 1795.25,-155.56 1810.61,-145.59\"/>\r\n",
       "<polygon fill=\"black\" stroke=\"black\" points=\"1812.54,-148.51 1819.01,-140.12 1808.72,-142.64 1812.54,-148.51\"/>\r\n",
       "</g>\r\n",
       "<!-- 427 -->\r\n",
       "<g id=\"node40\" class=\"node\">\r\n",
       "<title>427</title>\r\n",
       "<path fill=\"#c0c0c0\" stroke=\"black\" d=\"M1661,-36C1661,-36 1631,-36 1631,-36 1625,-36 1619,-30 1619,-24 1619,-24 1619,-12 1619,-12 1619,-6 1625,0 1631,0 1631,0 1661,0 1661,0 1667,0 1673,-6 1673,-12 1673,-12 1673,-24 1673,-24 1673,-30 1667,-36 1661,-36\"/>\r\n",
       "<text text-anchor=\"middle\" x=\"1646\" y=\"-14.3\" font-family=\"Helvetica,sans-Serif\" font-size=\"14.00\">(...)</text>\r\n",
       "</g>\r\n",
       "<!-- 426&#45;&gt;427 -->\r\n",
       "<g id=\"edge39\" class=\"edge\">\r\n",
       "<title>426&#45;&gt;427</title>\r\n",
       "<path fill=\"none\" stroke=\"black\" d=\"M1685.44,-72C1678.67,-62.9 1671.43,-53.18 1665.03,-44.57\"/>\r\n",
       "<polygon fill=\"black\" stroke=\"black\" points=\"1667.73,-42.34 1658.95,-36.4 1662.11,-46.52 1667.73,-42.34\"/>\r\n",
       "</g>\r\n",
       "<!-- 468 -->\r\n",
       "<g id=\"node41\" class=\"node\">\r\n",
       "<title>468</title>\r\n",
       "<path fill=\"#c0c0c0\" stroke=\"black\" d=\"M1733,-36C1733,-36 1703,-36 1703,-36 1697,-36 1691,-30 1691,-24 1691,-24 1691,-12 1691,-12 1691,-6 1697,0 1703,0 1703,0 1733,0 1733,0 1739,0 1745,-6 1745,-12 1745,-12 1745,-24 1745,-24 1745,-30 1739,-36 1733,-36\"/>\r\n",
       "<text text-anchor=\"middle\" x=\"1718\" y=\"-14.3\" font-family=\"Helvetica,sans-Serif\" font-size=\"14.00\">(...)</text>\r\n",
       "</g>\r\n",
       "<!-- 426&#45;&gt;468 -->\r\n",
       "<g id=\"edge40\" class=\"edge\">\r\n",
       "<title>426&#45;&gt;468</title>\r\n",
       "<path fill=\"none\" stroke=\"black\" d=\"M1713.07,-72C1713.85,-63.56 1714.69,-54.59 1715.44,-46.47\"/>\r\n",
       "<polygon fill=\"black\" stroke=\"black\" points=\"1718.94,-46.68 1716.38,-36.4 1711.97,-46.04 1718.94,-46.68\"/>\r\n",
       "</g>\r\n",
       "<!-- 508 -->\r\n",
       "<g id=\"node43\" class=\"node\">\r\n",
       "<title>508</title>\r\n",
       "<path fill=\"#c0c0c0\" stroke=\"black\" d=\"M1841,-36C1841,-36 1811,-36 1811,-36 1805,-36 1799,-30 1799,-24 1799,-24 1799,-12 1799,-12 1799,-6 1805,0 1811,0 1811,0 1841,0 1841,0 1847,0 1853,-6 1853,-12 1853,-12 1853,-24 1853,-24 1853,-30 1847,-36 1841,-36\"/>\r\n",
       "<text text-anchor=\"middle\" x=\"1826\" y=\"-14.3\" font-family=\"Helvetica,sans-Serif\" font-size=\"14.00\">(...)</text>\r\n",
       "</g>\r\n",
       "<!-- 507&#45;&gt;508 -->\r\n",
       "<g id=\"edge42\" class=\"edge\">\r\n",
       "<title>507&#45;&gt;508</title>\r\n",
       "<path fill=\"none\" stroke=\"black\" d=\"M1853.11,-72C1848.61,-63.19 1843.8,-53.78 1839.5,-45.38\"/>\r\n",
       "<polygon fill=\"black\" stroke=\"black\" points=\"1842.57,-43.71 1834.9,-36.4 1836.34,-46.9 1842.57,-43.71\"/>\r\n",
       "</g>\r\n",
       "<!-- 515 -->\r\n",
       "<g id=\"node44\" class=\"node\">\r\n",
       "<title>515</title>\r\n",
       "<path fill=\"#c0c0c0\" stroke=\"black\" d=\"M1913,-36C1913,-36 1883,-36 1883,-36 1877,-36 1871,-30 1871,-24 1871,-24 1871,-12 1871,-12 1871,-6 1877,0 1883,0 1883,0 1913,0 1913,0 1919,0 1925,-6 1925,-12 1925,-12 1925,-24 1925,-24 1925,-30 1919,-36 1913,-36\"/>\r\n",
       "<text text-anchor=\"middle\" x=\"1898\" y=\"-14.3\" font-family=\"Helvetica,sans-Serif\" font-size=\"14.00\">(...)</text>\r\n",
       "</g>\r\n",
       "<!-- 507&#45;&gt;515 -->\r\n",
       "<g id=\"edge43\" class=\"edge\">\r\n",
       "<title>507&#45;&gt;515</title>\r\n",
       "<path fill=\"none\" stroke=\"black\" d=\"M1880.75,-72C1883.55,-63.38 1886.54,-54.19 1889.23,-45.92\"/>\r\n",
       "<polygon fill=\"black\" stroke=\"black\" points=\"1892.57,-47 1892.33,-36.4 1885.91,-44.83 1892.57,-47\"/>\r\n",
       "</g>\r\n",
       "<!-- 543 -->\r\n",
       "<g id=\"node46\" class=\"node\">\r\n",
       "<title>543</title>\r\n",
       "<path fill=\"#f2c09c\" stroke=\"black\" d=\"M1918.5,-236.5C1918.5,-236.5 1829.5,-236.5 1829.5,-236.5 1823.5,-236.5 1817.5,-230.5 1817.5,-224.5 1817.5,-224.5 1817.5,-195.5 1817.5,-195.5 1817.5,-189.5 1823.5,-183.5 1829.5,-183.5 1829.5,-183.5 1918.5,-183.5 1918.5,-183.5 1924.5,-183.5 1930.5,-189.5 1930.5,-195.5 1930.5,-195.5 1930.5,-224.5 1930.5,-224.5 1930.5,-230.5 1924.5,-236.5 1918.5,-236.5\"/>\r\n",
       "<text text-anchor=\"middle\" x=\"1874\" y=\"-221.3\" font-family=\"Helvetica,sans-Serif\" font-size=\"14.00\">gini = 0.444</text>\r\n",
       "<text text-anchor=\"middle\" x=\"1874\" y=\"-206.3\" font-family=\"Helvetica,sans-Serif\" font-size=\"14.00\">samples = 3</text>\r\n",
       "<text text-anchor=\"middle\" x=\"1874\" y=\"-191.3\" font-family=\"Helvetica,sans-Serif\" font-size=\"14.00\">value = [2, 1, 0]</text>\r\n",
       "</g>\r\n",
       "<!-- 542&#45;&gt;543 -->\r\n",
       "<g id=\"edge45\" class=\"edge\">\r\n",
       "<title>542&#45;&gt;543</title>\r\n",
       "<path fill=\"none\" stroke=\"black\" d=\"M1874,-279.88C1874,-269.33 1874,-257.6 1874,-246.85\"/>\r\n",
       "<polygon fill=\"black\" stroke=\"black\" points=\"1877.5,-246.52 1874,-236.52 1870.5,-246.52 1877.5,-246.52\"/>\r\n",
       "</g>\r\n",
       "<!-- 544 -->\r\n",
       "<g id=\"node47\" class=\"node\">\r\n",
       "<title>544</title>\r\n",
       "<path fill=\"#3ee684\" stroke=\"black\" d=\"M2105.5,-244C2105.5,-244 1962.5,-244 1962.5,-244 1956.5,-244 1950.5,-238 1950.5,-232 1950.5,-232 1950.5,-188 1950.5,-188 1950.5,-182 1956.5,-176 1962.5,-176 1962.5,-176 2105.5,-176 2105.5,-176 2111.5,-176 2117.5,-182 2117.5,-188 2117.5,-188 2117.5,-232 2117.5,-232 2117.5,-238 2111.5,-244 2105.5,-244\"/>\r\n",
       "<text text-anchor=\"middle\" x=\"2034\" y=\"-228.8\" font-family=\"Helvetica,sans-Serif\" font-size=\"14.00\">hours&#45;per&#45;week &lt;= 72.0</text>\r\n",
       "<text text-anchor=\"middle\" x=\"2034\" y=\"-213.8\" font-family=\"Helvetica,sans-Serif\" font-size=\"14.00\">gini = 0.048</text>\r\n",
       "<text text-anchor=\"middle\" x=\"2034\" y=\"-198.8\" font-family=\"Helvetica,sans-Serif\" font-size=\"14.00\">samples = 287</text>\r\n",
       "<text text-anchor=\"middle\" x=\"2034\" y=\"-183.8\" font-family=\"Helvetica,sans-Serif\" font-size=\"14.00\">value = [6, 280, 1]</text>\r\n",
       "</g>\r\n",
       "<!-- 542&#45;&gt;544 -->\r\n",
       "<g id=\"edge46\" class=\"edge\">\r\n",
       "<title>542&#45;&gt;544</title>\r\n",
       "<path fill=\"none\" stroke=\"black\" d=\"M1925.95,-279.88C1941.11,-270.21 1957.82,-259.56 1973.47,-249.59\"/>\r\n",
       "<polygon fill=\"black\" stroke=\"black\" points=\"1975.49,-252.45 1982.04,-244.12 1971.73,-246.55 1975.49,-252.45\"/>\r\n",
       "</g>\r\n",
       "<!-- 545 -->\r\n",
       "<g id=\"node48\" class=\"node\">\r\n",
       "<title>545</title>\r\n",
       "<path fill=\"#3de684\" stroke=\"black\" d=\"M2099,-140C2099,-140 1969,-140 1969,-140 1963,-140 1957,-134 1957,-128 1957,-128 1957,-84 1957,-84 1957,-78 1963,-72 1969,-72 1969,-72 2099,-72 2099,-72 2105,-72 2111,-78 2111,-84 2111,-84 2111,-128 2111,-128 2111,-134 2105,-140 2099,-140\"/>\r\n",
       "<text text-anchor=\"middle\" x=\"2034\" y=\"-124.8\" font-family=\"Helvetica,sans-Serif\" font-size=\"14.00\">education&#45;num &lt;= 4.5</text>\r\n",
       "<text text-anchor=\"middle\" x=\"2034\" y=\"-109.8\" font-family=\"Helvetica,sans-Serif\" font-size=\"14.00\">gini = 0.041</text>\r\n",
       "<text text-anchor=\"middle\" x=\"2034\" y=\"-94.8\" font-family=\"Helvetica,sans-Serif\" font-size=\"14.00\">samples = 285</text>\r\n",
       "<text text-anchor=\"middle\" x=\"2034\" y=\"-79.8\" font-family=\"Helvetica,sans-Serif\" font-size=\"14.00\">value = [6, 279, 0]</text>\r\n",
       "</g>\r\n",
       "<!-- 544&#45;&gt;545 -->\r\n",
       "<g id=\"edge47\" class=\"edge\">\r\n",
       "<title>544&#45;&gt;545</title>\r\n",
       "<path fill=\"none\" stroke=\"black\" d=\"M2034,-175.88C2034,-167.78 2034,-158.98 2034,-150.47\"/>\r\n",
       "<polygon fill=\"black\" stroke=\"black\" points=\"2037.5,-150.3 2034,-140.3 2030.5,-150.3 2037.5,-150.3\"/>\r\n",
       "</g>\r\n",
       "<!-- 562 -->\r\n",
       "<g id=\"node51\" class=\"node\">\r\n",
       "<title>562</title>\r\n",
       "<path fill=\"#ffffff\" stroke=\"black\" d=\"M2230.5,-132.5C2230.5,-132.5 2141.5,-132.5 2141.5,-132.5 2135.5,-132.5 2129.5,-126.5 2129.5,-120.5 2129.5,-120.5 2129.5,-91.5 2129.5,-91.5 2129.5,-85.5 2135.5,-79.5 2141.5,-79.5 2141.5,-79.5 2230.5,-79.5 2230.5,-79.5 2236.5,-79.5 2242.5,-85.5 2242.5,-91.5 2242.5,-91.5 2242.5,-120.5 2242.5,-120.5 2242.5,-126.5 2236.5,-132.5 2230.5,-132.5\"/>\r\n",
       "<text text-anchor=\"middle\" x=\"2186\" y=\"-117.3\" font-family=\"Helvetica,sans-Serif\" font-size=\"14.00\">gini = 0.5</text>\r\n",
       "<text text-anchor=\"middle\" x=\"2186\" y=\"-102.3\" font-family=\"Helvetica,sans-Serif\" font-size=\"14.00\">samples = 2</text>\r\n",
       "<text text-anchor=\"middle\" x=\"2186\" y=\"-87.3\" font-family=\"Helvetica,sans-Serif\" font-size=\"14.00\">value = [0, 1, 1]</text>\r\n",
       "</g>\r\n",
       "<!-- 544&#45;&gt;562 -->\r\n",
       "<g id=\"edge50\" class=\"edge\">\r\n",
       "<title>544&#45;&gt;562</title>\r\n",
       "<path fill=\"none\" stroke=\"black\" d=\"M2083.35,-175.88C2101.38,-163.79 2121.7,-150.15 2139.47,-138.22\"/>\r\n",
       "<polygon fill=\"black\" stroke=\"black\" points=\"2141.62,-141 2147.97,-132.52 2137.72,-135.19 2141.62,-141\"/>\r\n",
       "</g>\r\n",
       "<!-- 546 -->\r\n",
       "<g id=\"node49\" class=\"node\">\r\n",
       "<title>546</title>\r\n",
       "<path fill=\"#c0c0c0\" stroke=\"black\" d=\"M2013,-36C2013,-36 1983,-36 1983,-36 1977,-36 1971,-30 1971,-24 1971,-24 1971,-12 1971,-12 1971,-6 1977,0 1983,0 1983,0 2013,0 2013,0 2019,0 2025,-6 2025,-12 2025,-12 2025,-24 2025,-24 2025,-30 2019,-36 2013,-36\"/>\r\n",
       "<text text-anchor=\"middle\" x=\"1998\" y=\"-14.3\" font-family=\"Helvetica,sans-Serif\" font-size=\"14.00\">(...)</text>\r\n",
       "</g>\r\n",
       "<!-- 545&#45;&gt;546 -->\r\n",
       "<g id=\"edge48\" class=\"edge\">\r\n",
       "<title>545&#45;&gt;546</title>\r\n",
       "<path fill=\"none\" stroke=\"black\" d=\"M2020.18,-72C2016.54,-63.28 2012.64,-53.98 2009.16,-45.65\"/>\r\n",
       "<polygon fill=\"black\" stroke=\"black\" points=\"2012.38,-44.28 2005.29,-36.4 2005.92,-46.98 2012.38,-44.28\"/>\r\n",
       "</g>\r\n",
       "<!-- 547 -->\r\n",
       "<g id=\"node50\" class=\"node\">\r\n",
       "<title>547</title>\r\n",
       "<path fill=\"#c0c0c0\" stroke=\"black\" d=\"M2085,-36C2085,-36 2055,-36 2055,-36 2049,-36 2043,-30 2043,-24 2043,-24 2043,-12 2043,-12 2043,-6 2049,0 2055,0 2055,0 2085,0 2085,0 2091,0 2097,-6 2097,-12 2097,-12 2097,-24 2097,-24 2097,-30 2091,-36 2085,-36\"/>\r\n",
       "<text text-anchor=\"middle\" x=\"2070\" y=\"-14.3\" font-family=\"Helvetica,sans-Serif\" font-size=\"14.00\">(...)</text>\r\n",
       "</g>\r\n",
       "<!-- 545&#45;&gt;547 -->\r\n",
       "<g id=\"edge49\" class=\"edge\">\r\n",
       "<title>545&#45;&gt;547</title>\r\n",
       "<path fill=\"none\" stroke=\"black\" d=\"M2047.82,-72C2051.46,-63.28 2055.36,-53.98 2058.84,-45.65\"/>\r\n",
       "<polygon fill=\"black\" stroke=\"black\" points=\"2062.08,-46.98 2062.71,-36.4 2055.62,-44.28 2062.08,-46.98\"/>\r\n",
       "</g>\r\n",
       "</g>\r\n",
       "</svg>\r\n"
      ],
      "text/plain": [
       "<graphviz.files.Source at 0x1c7d7f7fca0>"
      ]
     },
     "execution_count": 31,
     "metadata": {},
     "output_type": "execute_result"
    }
   ],
   "source": [
    "# 위에서 생성된 tree.dot 파일을 Graphviz 읽어서 Jupyter Notebook상에서 시각화 \n",
    "with open(\"tree.dot\") as f:\n",
    "    dot_graph = f.read()\n",
    "graphviz.Source(dot_graph)"
   ]
  },
  {
   "cell_type": "markdown",
   "id": "2fff6c40",
   "metadata": {},
   "source": [
    "### <li>각 파라미터의 정밀도 재현율 그래프"
   ]
  },
  {
   "cell_type": "code",
   "execution_count": 32,
   "id": "ba8edd18",
   "metadata": {},
   "outputs": [
    {
     "data": {
      "image/png": "[encoded data removed]",
      "text/plain": [
       "<Figure size 576x432 with 1 Axes>"
      ]
     },
     "metadata": {
      "needs_background": "light"
     },
     "output_type": "display_data"
    }
   ],
   "source": [
    "pred_proba_c1 = grid_dclf.predict_proba(X_test)[:, 1]\n",
    "precision_recall_curve_plot(y_test, pred_proba_c1)"
   ]
  },
  {
   "cell_type": "markdown",
   "id": "ed9c009c",
   "metadata": {},
   "source": [
    "### <li>최적 파라미터 예측 점수"
   ]
  },
  {
   "cell_type": "code",
   "execution_count": 33,
   "id": "1c4e49cd",
   "metadata": {},
   "outputs": [
    {
     "name": "stdout",
     "output_type": "stream",
     "text": [
      "예측 정확도: 0.85126\n",
      "예측 정밀도: 0.74168\n",
      "예측 재현율: 0.59883\n",
      "예측 f1스코어: 0.66264\n",
      "예측 roc_auc_스코어: 0.76577\n"
     ]
    }
   ],
   "source": [
    "# GridSearchCV의 refit으로 이미 학습이 된 estimator 반환\n",
    "estimator = grid_dclf.best_estimator_\n",
    "\n",
    "# GridSearchCV의 best_estimator_는 이미 최적 하이퍼 파라미터로 학습이 됨\n",
    "pred = estimator.predict(X_test)\n",
    "print('예측 정확도: {0:.5f}'.format(accuracy_score(y_test,pred)))\n",
    "print('예측 정밀도: {0:.5f}'.format(precision_score(y_test,pred)))\n",
    "print('예측 재현율: {0:.5f}'.format(recall_score(y_test,pred)))\n",
    "print('예측 f1스코어: {0:.5f}'.format(f1_score(y_test,pred)))\n",
    "print('예측 roc_auc_스코어: {0:.5f}'.format(roc_auc_score(y_test,pred)))"
   ]
  },
  {
   "cell_type": "markdown",
   "id": "3a39888f",
   "metadata": {},
   "source": [
    "### <li>최적 파라미터 특징 중요도"
   ]
  },
  {
   "cell_type": "code",
   "execution_count": 34,
   "id": "78eb9523",
   "metadata": {},
   "outputs": [
    {
     "data": {
      "image/png": "[encoded data removed]",
      "text/plain": [
       "<Figure size 720x432 with 1 Axes>"
      ]
     },
     "metadata": {
      "needs_background": "light"
     },
     "output_type": "display_data"
    }
   ],
   "source": [
    "ftr_importances_values = estimator.feature_importances_\n",
    "# Top 중요도로 정렬을 쉽게 하고, 시본(Seaborn)의 막대그래프로 쉽게 표현하기 위해 Series변환\n",
    "ftr_importances = pd.Series(ftr_importances_values, index=X_train.columns  )\n",
    "# 중요도값 순으로 Series를 정렬\n",
    "ftr_top = ftr_importances.sort_values(ascending=False)\n",
    "plt.figure(figsize=(10,6))\n",
    "plt.title('Decision Tree Feature importances')\n",
    "sns.barplot(x=ftr_top , y = ftr_top.index)\n",
    "plt.show()"
   ]
  },
  {
   "cell_type": "markdown",
   "id": "f9c46521",
   "metadata": {},
   "source": [
    "## Random Forest"
   ]
  },
  {
   "cell_type": "markdown",
   "id": "3172127a",
   "metadata": {},
   "source": [
    "### <li>최적 파라미터 탐색"
   ]
  },
  {
   "cell_type": "code",
   "execution_count": 35,
   "id": "df172d8a",
   "metadata": {},
   "outputs": [
    {
     "name": "stdout",
     "output_type": "stream",
     "text": [
      "최적 하이퍼 파라미터:\n",
      " {'max_depth': 12, 'min_samples_leaf': 8, 'min_samples_split': 8, 'n_estimators': 100}\n",
      "최고 예측 정확도: 0.8581\n"
     ]
    }
   ],
   "source": [
    "params = {\n",
    "    'n_estimators':[100],\n",
    "    'max_depth' : [6, 8, 10, 12], \n",
    "    'min_samples_leaf' : [8, 12, 18 ],\n",
    "    'min_samples_split' : [8, 16, 20]\n",
    "}\n",
    "# RandomForestClassifier 객체 생성 후 GridSearchCV 수행\n",
    "rf_clf = RandomForestClassifier(random_state=0, n_jobs=-1)\n",
    "grid_cv = GridSearchCV(rf_clf , param_grid=params , cv=2, n_jobs=-1 )\n",
    "grid_cv.fit(X_train , y_train)\n",
    "\n",
    "print('최적 하이퍼 파라미터:\\n', grid_cv.best_params_)\n",
    "print('최고 예측 정확도: {0:.4f}'.format(grid_cv.best_score_))\n",
    "estimator = grid_cv.best_estimator_"
   ]
  },
  {
   "cell_type": "markdown",
   "id": "2b8be94b",
   "metadata": {},
   "source": [
    "### <li>수형도 그리기"
   ]
  },
  {
   "cell_type": "code",
   "execution_count": 36,
   "id": "c2f1c01a",
   "metadata": {},
   "outputs": [],
   "source": [
    "# export_graphviz()의 호출 결과로 out_file로 지정된 tree.dot 파일을 생성함. \n",
    "export_graphviz(estimator[0], out_file='tree2.dot', \n",
    "                feature_names = X_test_df.columns,\n",
    "                max_depth = 3, # 표현하고 싶은 최대 depth\n",
    "                precision = 3, # 소수점 표기 자릿수\n",
    "                filled = True, # class별 color 채우기\n",
    "                rounded=True, # 박스의 모양을 둥글게\n",
    "               )"
   ]
  },
  {
   "cell_type": "code",
   "execution_count": 37,
   "id": "596d3a67",
   "metadata": {
    "scrolled": false
   },
   "outputs": [
    {
     "data": {
      "image/svg+xml": [
       "<?xml version=\"1.0\" encoding=\"UTF-8\" standalone=\"no\"?>\r\n",
       "<!DOCTYPE svg PUBLIC \"-//W3C//DTD SVG 1.1//EN\"\r\n",
       " \"http://www.w3.org/Graphics/SVG/1.1/DTD/svg11.dtd\">\r\n",
       "<!-- Generated by graphviz version 2.47.1 (20210417.1919)\r\n",
       " -->\r\n",
       "<!-- Title: Tree Pages: 1 -->\r\n",
       "<svg width=\"1316pt\" height=\"460pt\"\r\n",
       " viewBox=\"0.00 0.00 1316.00 460.00\" xmlns=\"http://www.w3.org/2000/svg\" xmlns:xlink=\"http://www.w3.org/1999/xlink\">\r\n",
       "<g id=\"graph0\" class=\"graph\" transform=\"scale(1 1) rotate(0) translate(4 456)\">\r\n",
       "<title>Tree</title>\r\n",
       "<polygon fill=\"white\" stroke=\"transparent\" points=\"-4,4 -4,-456 1312,-456 1312,4 -4,4\"/>\r\n",
       "<!-- 0 -->\r\n",
       "<g id=\"node1\" class=\"node\">\r\n",
       "<title>0</title>\r\n",
       "<path fill=\"#eda775\" stroke=\"black\" d=\"M743,-452C743,-452 597,-452 597,-452 591,-452 585,-446 585,-440 585,-440 585,-396 585,-396 585,-390 591,-384 597,-384 597,-384 743,-384 743,-384 749,-384 755,-390 755,-396 755,-396 755,-440 755,-440 755,-446 749,-452 743,-452\"/>\r\n",
       "<text text-anchor=\"middle\" x=\"670\" y=\"-436.8\" font-family=\"Helvetica,sans-Serif\" font-size=\"14.00\">relationship &lt;= 0.5</text>\r\n",
       "<text text-anchor=\"middle\" x=\"670\" y=\"-421.8\" font-family=\"Helvetica,sans-Serif\" font-size=\"14.00\">gini = 0.358</text>\r\n",
       "<text text-anchor=\"middle\" x=\"670\" y=\"-406.8\" font-family=\"Helvetica,sans-Serif\" font-size=\"14.00\">samples = 14386</text>\r\n",
       "<text text-anchor=\"middle\" x=\"670\" y=\"-391.8\" font-family=\"Helvetica,sans-Serif\" font-size=\"14.00\">value = [17462, 5329, 2]</text>\r\n",
       "</g>\r\n",
       "<!-- 1 -->\r\n",
       "<g id=\"node2\" class=\"node\">\r\n",
       "<title>1</title>\r\n",
       "<path fill=\"#f9e2d2\" stroke=\"black\" d=\"M572.5,-348C572.5,-348 429.5,-348 429.5,-348 423.5,-348 417.5,-342 417.5,-336 417.5,-336 417.5,-292 417.5,-292 417.5,-286 423.5,-280 429.5,-280 429.5,-280 572.5,-280 572.5,-280 578.5,-280 584.5,-286 584.5,-292 584.5,-292 584.5,-336 584.5,-336 584.5,-342 578.5,-348 572.5,-348\"/>\r\n",
       "<text text-anchor=\"middle\" x=\"501\" y=\"-332.8\" font-family=\"Helvetica,sans-Serif\" font-size=\"14.00\">hours&#45;per&#45;week &lt;= 40.5</text>\r\n",
       "<text text-anchor=\"middle\" x=\"501\" y=\"-317.8\" font-family=\"Helvetica,sans-Serif\" font-size=\"14.00\">gini = 0.492</text>\r\n",
       "<text text-anchor=\"middle\" x=\"501\" y=\"-302.8\" font-family=\"Helvetica,sans-Serif\" font-size=\"14.00\">samples = 5847</text>\r\n",
       "<text text-anchor=\"middle\" x=\"501\" y=\"-287.8\" font-family=\"Helvetica,sans-Serif\" font-size=\"14.00\">value = [5134, 3970, 0]</text>\r\n",
       "</g>\r\n",
       "<!-- 0&#45;&gt;1 -->\r\n",
       "<g id=\"edge1\" class=\"edge\">\r\n",
       "<title>0&#45;&gt;1</title>\r\n",
       "<path fill=\"none\" stroke=\"black\" d=\"M615.13,-383.88C598.96,-374.12 581.14,-363.37 564.47,-353.31\"/>\r\n",
       "<polygon fill=\"black\" stroke=\"black\" points=\"566.25,-350.3 555.88,-348.12 562.64,-356.29 566.25,-350.3\"/>\r\n",
       "<text text-anchor=\"middle\" x=\"561.88\" y=\"-368.69\" font-family=\"Helvetica,sans-Serif\" font-size=\"14.00\">True</text>\r\n",
       "</g>\r\n",
       "<!-- 280 -->\r\n",
       "<g id=\"node17\" class=\"node\">\r\n",
       "<title>280</title>\r\n",
       "<path fill=\"#e88f4f\" stroke=\"black\" d=\"M913,-348C913,-348 767,-348 767,-348 761,-348 755,-342 755,-336 755,-336 755,-292 755,-292 755,-286 761,-280 767,-280 767,-280 913,-280 913,-280 919,-280 925,-286 925,-292 925,-292 925,-336 925,-336 925,-342 919,-348 913,-348\"/>\r\n",
       "<text text-anchor=\"middle\" x=\"840\" y=\"-332.8\" font-family=\"Helvetica,sans-Serif\" font-size=\"14.00\">capital&#45;gain &lt;= 90.5</text>\r\n",
       "<text text-anchor=\"middle\" x=\"840\" y=\"-317.8\" font-family=\"Helvetica,sans-Serif\" font-size=\"14.00\">gini = 0.179</text>\r\n",
       "<text text-anchor=\"middle\" x=\"840\" y=\"-302.8\" font-family=\"Helvetica,sans-Serif\" font-size=\"14.00\">samples = 8539</text>\r\n",
       "<text text-anchor=\"middle\" x=\"840\" y=\"-287.8\" font-family=\"Helvetica,sans-Serif\" font-size=\"14.00\">value = [12328, 1359, 2]</text>\r\n",
       "</g>\r\n",
       "<!-- 0&#45;&gt;280 -->\r\n",
       "<g id=\"edge16\" class=\"edge\">\r\n",
       "<title>0&#45;&gt;280</title>\r\n",
       "<path fill=\"none\" stroke=\"black\" d=\"M725.19,-383.88C741.46,-374.12 759.39,-363.37 776.15,-353.31\"/>\r\n",
       "<polygon fill=\"black\" stroke=\"black\" points=\"778.02,-356.27 784.79,-348.12 774.42,-350.27 778.02,-356.27\"/>\r\n",
       "<text text-anchor=\"middle\" x=\"778.73\" y=\"-368.68\" font-family=\"Helvetica,sans-Serif\" font-size=\"14.00\">False</text>\r\n",
       "</g>\r\n",
       "<!-- 2 -->\r\n",
       "<g id=\"node3\" class=\"node\">\r\n",
       "<title>2</title>\r\n",
       "<path fill=\"#f3c4a3\" stroke=\"black\" d=\"M314,-244C314,-244 176,-244 176,-244 170,-244 164,-238 164,-232 164,-232 164,-188 164,-188 164,-182 170,-176 176,-176 176,-176 314,-176 314,-176 320,-176 326,-182 326,-188 326,-188 326,-232 326,-232 326,-238 320,-244 314,-244\"/>\r\n",
       "<text text-anchor=\"middle\" x=\"245\" y=\"-228.8\" font-family=\"Helvetica,sans-Serif\" font-size=\"14.00\">education&#45;num &lt;= 10.5</text>\r\n",
       "<text text-anchor=\"middle\" x=\"245\" y=\"-213.8\" font-family=\"Helvetica,sans-Serif\" font-size=\"14.00\">gini = 0.454</text>\r\n",
       "<text text-anchor=\"middle\" x=\"245\" y=\"-198.8\" font-family=\"Helvetica,sans-Serif\" font-size=\"14.00\">samples = 3474</text>\r\n",
       "<text text-anchor=\"middle\" x=\"245\" y=\"-183.8\" font-family=\"Helvetica,sans-Serif\" font-size=\"14.00\">value = [3521, 1886, 0]</text>\r\n",
       "</g>\r\n",
       "<!-- 1&#45;&gt;2 -->\r\n",
       "<g id=\"edge2\" class=\"edge\">\r\n",
       "<title>1&#45;&gt;2</title>\r\n",
       "<path fill=\"none\" stroke=\"black\" d=\"M417.88,-279.88C391.63,-269.42 362.5,-257.82 335.74,-247.16\"/>\r\n",
       "<polygon fill=\"black\" stroke=\"black\" points=\"336.97,-243.88 326.39,-243.43 334.38,-250.38 336.97,-243.88\"/>\r\n",
       "</g>\r\n",
       "<!-- 143 -->\r\n",
       "<g id=\"node10\" class=\"node\">\r\n",
       "<title>143</title>\r\n",
       "<path fill=\"#d2f9e3\" stroke=\"black\" d=\"M570,-244C570,-244 432,-244 432,-244 426,-244 420,-238 420,-232 420,-232 420,-188 420,-188 420,-182 426,-176 432,-176 432,-176 570,-176 570,-176 576,-176 582,-182 582,-188 582,-188 582,-232 582,-232 582,-238 576,-244 570,-244\"/>\r\n",
       "<text text-anchor=\"middle\" x=\"501\" y=\"-228.8\" font-family=\"Helvetica,sans-Serif\" font-size=\"14.00\">education&#45;num &lt;= 10.5</text>\r\n",
       "<text text-anchor=\"middle\" x=\"501\" y=\"-213.8\" font-family=\"Helvetica,sans-Serif\" font-size=\"14.00\">gini = 0.492</text>\r\n",
       "<text text-anchor=\"middle\" x=\"501\" y=\"-198.8\" font-family=\"Helvetica,sans-Serif\" font-size=\"14.00\">samples = 2373</text>\r\n",
       "<text text-anchor=\"middle\" x=\"501\" y=\"-183.8\" font-family=\"Helvetica,sans-Serif\" font-size=\"14.00\">value = [1613, 2084, 0]</text>\r\n",
       "</g>\r\n",
       "<!-- 1&#45;&gt;143 -->\r\n",
       "<g id=\"edge9\" class=\"edge\">\r\n",
       "<title>1&#45;&gt;143</title>\r\n",
       "<path fill=\"none\" stroke=\"black\" d=\"M501,-279.88C501,-271.78 501,-262.98 501,-254.47\"/>\r\n",
       "<polygon fill=\"black\" stroke=\"black\" points=\"504.5,-254.3 501,-244.3 497.5,-254.3 504.5,-254.3\"/>\r\n",
       "</g>\r\n",
       "<!-- 3 -->\r\n",
       "<g id=\"node4\" class=\"node\">\r\n",
       "<title>3</title>\r\n",
       "<path fill=\"#eeac7c\" stroke=\"black\" d=\"M142,-140C142,-140 12,-140 12,-140 6,-140 0,-134 0,-128 0,-128 0,-84 0,-84 0,-78 6,-72 12,-72 12,-72 142,-72 142,-72 148,-72 154,-78 154,-84 154,-84 154,-128 154,-128 154,-134 148,-140 142,-140\"/>\r\n",
       "<text text-anchor=\"middle\" x=\"77\" y=\"-124.8\" font-family=\"Helvetica,sans-Serif\" font-size=\"14.00\">capital&#45;gain &lt;= 78.0</text>\r\n",
       "<text text-anchor=\"middle\" x=\"77\" y=\"-109.8\" font-family=\"Helvetica,sans-Serif\" font-size=\"14.00\">gini = 0.378</text>\r\n",
       "<text text-anchor=\"middle\" x=\"77\" y=\"-94.8\" font-family=\"Helvetica,sans-Serif\" font-size=\"14.00\">samples = 2505</text>\r\n",
       "<text text-anchor=\"middle\" x=\"77\" y=\"-79.8\" font-family=\"Helvetica,sans-Serif\" font-size=\"14.00\">value = [2940, 996, 0]</text>\r\n",
       "</g>\r\n",
       "<!-- 2&#45;&gt;3 -->\r\n",
       "<g id=\"edge3\" class=\"edge\">\r\n",
       "<title>2&#45;&gt;3</title>\r\n",
       "<path fill=\"none\" stroke=\"black\" d=\"M190.46,-175.88C174.53,-166.21 156.99,-155.56 140.56,-145.59\"/>\r\n",
       "<polygon fill=\"black\" stroke=\"black\" points=\"141.92,-142.32 131.56,-140.12 138.29,-148.31 141.92,-142.32\"/>\r\n",
       "</g>\r\n",
       "<!-- 102 -->\r\n",
       "<g id=\"node7\" class=\"node\">\r\n",
       "<title>102</title>\r\n",
       "<path fill=\"#baf6d3\" stroke=\"black\" d=\"M306,-140C306,-140 184,-140 184,-140 178,-140 172,-134 172,-128 172,-128 172,-84 172,-84 172,-78 178,-72 184,-72 184,-72 306,-72 306,-72 312,-72 318,-78 318,-84 318,-84 318,-128 318,-128 318,-134 312,-140 306,-140\"/>\r\n",
       "<text text-anchor=\"middle\" x=\"245\" y=\"-124.8\" font-family=\"Helvetica,sans-Serif\" font-size=\"14.00\">capital&#45;gain &lt;= 78.0</text>\r\n",
       "<text text-anchor=\"middle\" x=\"245\" y=\"-109.8\" font-family=\"Helvetica,sans-Serif\" font-size=\"14.00\">gini = 0.478</text>\r\n",
       "<text text-anchor=\"middle\" x=\"245\" y=\"-94.8\" font-family=\"Helvetica,sans-Serif\" font-size=\"14.00\">samples = 969</text>\r\n",
       "<text text-anchor=\"middle\" x=\"245\" y=\"-79.8\" font-family=\"Helvetica,sans-Serif\" font-size=\"14.00\">value = [581, 890, 0]</text>\r\n",
       "</g>\r\n",
       "<!-- 2&#45;&gt;102 -->\r\n",
       "<g id=\"edge6\" class=\"edge\">\r\n",
       "<title>2&#45;&gt;102</title>\r\n",
       "<path fill=\"none\" stroke=\"black\" d=\"M245,-175.88C245,-167.78 245,-158.98 245,-150.47\"/>\r\n",
       "<polygon fill=\"black\" stroke=\"black\" points=\"248.5,-150.3 245,-140.3 241.5,-150.3 248.5,-150.3\"/>\r\n",
       "</g>\r\n",
       "<!-- 4 -->\r\n",
       "<g id=\"node5\" class=\"node\">\r\n",
       "<title>4</title>\r\n",
       "<path fill=\"#c0c0c0\" stroke=\"black\" d=\"M56,-36C56,-36 26,-36 26,-36 20,-36 14,-30 14,-24 14,-24 14,-12 14,-12 14,-6 20,0 26,0 26,0 56,0 56,0 62,0 68,-6 68,-12 68,-12 68,-24 68,-24 68,-30 62,-36 56,-36\"/>\r\n",
       "<text text-anchor=\"middle\" x=\"41\" y=\"-14.3\" font-family=\"Helvetica,sans-Serif\" font-size=\"14.00\">(...)</text>\r\n",
       "</g>\r\n",
       "<!-- 3&#45;&gt;4 -->\r\n",
       "<g id=\"edge4\" class=\"edge\">\r\n",
       "<title>3&#45;&gt;4</title>\r\n",
       "<path fill=\"none\" stroke=\"black\" d=\"M63.18,-72C59.54,-63.28 55.64,-53.98 52.16,-45.65\"/>\r\n",
       "<polygon fill=\"black\" stroke=\"black\" points=\"55.38,-44.28 48.29,-36.4 48.92,-46.98 55.38,-44.28\"/>\r\n",
       "</g>\r\n",
       "<!-- 95 -->\r\n",
       "<g id=\"node6\" class=\"node\">\r\n",
       "<title>95</title>\r\n",
       "<path fill=\"#c0c0c0\" stroke=\"black\" d=\"M128,-36C128,-36 98,-36 98,-36 92,-36 86,-30 86,-24 86,-24 86,-12 86,-12 86,-6 92,0 98,0 98,0 128,0 128,0 134,0 140,-6 140,-12 140,-12 140,-24 140,-24 140,-30 134,-36 128,-36\"/>\r\n",
       "<text text-anchor=\"middle\" x=\"113\" y=\"-14.3\" font-family=\"Helvetica,sans-Serif\" font-size=\"14.00\">(...)</text>\r\n",
       "</g>\r\n",
       "<!-- 3&#45;&gt;95 -->\r\n",
       "<g id=\"edge5\" class=\"edge\">\r\n",
       "<title>3&#45;&gt;95</title>\r\n",
       "<path fill=\"none\" stroke=\"black\" d=\"M90.82,-72C94.46,-63.28 98.36,-53.98 101.84,-45.65\"/>\r\n",
       "<polygon fill=\"black\" stroke=\"black\" points=\"105.08,-46.98 105.71,-36.4 98.62,-44.28 105.08,-46.98\"/>\r\n",
       "</g>\r\n",
       "<!-- 103 -->\r\n",
       "<g id=\"node8\" class=\"node\">\r\n",
       "<title>103</title>\r\n",
       "<path fill=\"#c0c0c0\" stroke=\"black\" d=\"M227,-36C227,-36 197,-36 197,-36 191,-36 185,-30 185,-24 185,-24 185,-12 185,-12 185,-6 191,0 197,0 197,0 227,0 227,0 233,0 239,-6 239,-12 239,-12 239,-24 239,-24 239,-30 233,-36 227,-36\"/>\r\n",
       "<text text-anchor=\"middle\" x=\"212\" y=\"-14.3\" font-family=\"Helvetica,sans-Serif\" font-size=\"14.00\">(...)</text>\r\n",
       "</g>\r\n",
       "<!-- 102&#45;&gt;103 -->\r\n",
       "<g id=\"edge7\" class=\"edge\">\r\n",
       "<title>102&#45;&gt;103</title>\r\n",
       "<path fill=\"none\" stroke=\"black\" d=\"M232.34,-72C229.03,-63.38 225.5,-54.19 222.33,-45.92\"/>\r\n",
       "<polygon fill=\"black\" stroke=\"black\" points=\"225.53,-44.49 218.68,-36.4 218.99,-46.99 225.53,-44.49\"/>\r\n",
       "</g>\r\n",
       "<!-- 142 -->\r\n",
       "<g id=\"node9\" class=\"node\">\r\n",
       "<title>142</title>\r\n",
       "<path fill=\"#c0c0c0\" stroke=\"black\" d=\"M299,-36C299,-36 269,-36 269,-36 263,-36 257,-30 257,-24 257,-24 257,-12 257,-12 257,-6 263,0 269,0 269,0 299,0 299,0 305,0 311,-6 311,-12 311,-12 311,-24 311,-24 311,-30 305,-36 299,-36\"/>\r\n",
       "<text text-anchor=\"middle\" x=\"284\" y=\"-14.3\" font-family=\"Helvetica,sans-Serif\" font-size=\"14.00\">(...)</text>\r\n",
       "</g>\r\n",
       "<!-- 102&#45;&gt;142 -->\r\n",
       "<g id=\"edge8\" class=\"edge\">\r\n",
       "<title>102&#45;&gt;142</title>\r\n",
       "<path fill=\"none\" stroke=\"black\" d=\"M259.97,-72C263.92,-63.28 268.13,-53.98 271.91,-45.65\"/>\r\n",
       "<polygon fill=\"black\" stroke=\"black\" points=\"275.17,-46.96 276.11,-36.4 268.79,-44.07 275.17,-46.96\"/>\r\n",
       "</g>\r\n",
       "<!-- 144 -->\r\n",
       "<g id=\"node11\" class=\"node\">\r\n",
       "<title>144</title>\r\n",
       "<path fill=\"#f7d9c3\" stroke=\"black\" d=\"M478,-140C478,-140 348,-140 348,-140 342,-140 336,-134 336,-128 336,-128 336,-84 336,-84 336,-78 342,-72 348,-72 348,-72 478,-72 478,-72 484,-72 490,-78 490,-84 490,-84 490,-128 490,-128 490,-134 484,-140 478,-140\"/>\r\n",
       "<text text-anchor=\"middle\" x=\"413\" y=\"-124.8\" font-family=\"Helvetica,sans-Serif\" font-size=\"14.00\">occupation &lt;= 3.5</text>\r\n",
       "<text text-anchor=\"middle\" x=\"413\" y=\"-109.8\" font-family=\"Helvetica,sans-Serif\" font-size=\"14.00\">gini = 0.484</text>\r\n",
       "<text text-anchor=\"middle\" x=\"413\" y=\"-94.8\" font-family=\"Helvetica,sans-Serif\" font-size=\"14.00\">samples = 1360</text>\r\n",
       "<text text-anchor=\"middle\" x=\"413\" y=\"-79.8\" font-family=\"Helvetica,sans-Serif\" font-size=\"14.00\">value = [1245, 870, 0]</text>\r\n",
       "</g>\r\n",
       "<!-- 143&#45;&gt;144 -->\r\n",
       "<g id=\"edge10\" class=\"edge\">\r\n",
       "<title>143&#45;&gt;144</title>\r\n",
       "<path fill=\"none\" stroke=\"black\" d=\"M472.43,-175.88C464.74,-166.98 456.34,-157.24 448.34,-147.96\"/>\r\n",
       "<polygon fill=\"black\" stroke=\"black\" points=\"450.91,-145.58 441.73,-140.3 445.61,-150.16 450.91,-145.58\"/>\r\n",
       "</g>\r\n",
       "<!-- 273 -->\r\n",
       "<g id=\"node14\" class=\"node\">\r\n",
       "<title>273</title>\r\n",
       "<path fill=\"#75eda7\" stroke=\"black\" d=\"M650,-140C650,-140 520,-140 520,-140 514,-140 508,-134 508,-128 508,-128 508,-84 508,-84 508,-78 514,-72 520,-72 520,-72 650,-72 650,-72 656,-72 662,-78 662,-84 662,-84 662,-128 662,-128 662,-134 656,-140 650,-140\"/>\r\n",
       "<text text-anchor=\"middle\" x=\"585\" y=\"-124.8\" font-family=\"Helvetica,sans-Serif\" font-size=\"14.00\">capital&#45;loss &lt;= 40.5</text>\r\n",
       "<text text-anchor=\"middle\" x=\"585\" y=\"-109.8\" font-family=\"Helvetica,sans-Serif\" font-size=\"14.00\">gini = 0.357</text>\r\n",
       "<text text-anchor=\"middle\" x=\"585\" y=\"-94.8\" font-family=\"Helvetica,sans-Serif\" font-size=\"14.00\">samples = 1013</text>\r\n",
       "<text text-anchor=\"middle\" x=\"585\" y=\"-79.8\" font-family=\"Helvetica,sans-Serif\" font-size=\"14.00\">value = [368, 1214, 0]</text>\r\n",
       "</g>\r\n",
       "<!-- 143&#45;&gt;273 -->\r\n",
       "<g id=\"edge13\" class=\"edge\">\r\n",
       "<title>143&#45;&gt;273</title>\r\n",
       "<path fill=\"none\" stroke=\"black\" d=\"M528.27,-175.88C535.53,-167.07 543.47,-157.43 551.04,-148.24\"/>\r\n",
       "<polygon fill=\"black\" stroke=\"black\" points=\"553.92,-150.24 557.58,-140.3 548.52,-145.79 553.92,-150.24\"/>\r\n",
       "</g>\r\n",
       "<!-- 145 -->\r\n",
       "<g id=\"node12\" class=\"node\">\r\n",
       "<title>145</title>\r\n",
       "<path fill=\"#c0c0c0\" stroke=\"black\" d=\"M391,-36C391,-36 361,-36 361,-36 355,-36 349,-30 349,-24 349,-24 349,-12 349,-12 349,-6 355,0 361,0 361,0 391,0 391,0 397,0 403,-6 403,-12 403,-12 403,-24 403,-24 403,-30 397,-36 391,-36\"/>\r\n",
       "<text text-anchor=\"middle\" x=\"376\" y=\"-14.3\" font-family=\"Helvetica,sans-Serif\" font-size=\"14.00\">(...)</text>\r\n",
       "</g>\r\n",
       "<!-- 144&#45;&gt;145 -->\r\n",
       "<g id=\"edge11\" class=\"edge\">\r\n",
       "<title>144&#45;&gt;145</title>\r\n",
       "<path fill=\"none\" stroke=\"black\" d=\"M398.8,-72C395.05,-63.28 391.05,-53.98 387.47,-45.65\"/>\r\n",
       "<polygon fill=\"black\" stroke=\"black\" points=\"390.65,-44.21 383.49,-36.4 384.22,-46.97 390.65,-44.21\"/>\r\n",
       "</g>\r\n",
       "<!-- 192 -->\r\n",
       "<g id=\"node13\" class=\"node\">\r\n",
       "<title>192</title>\r\n",
       "<path fill=\"#c0c0c0\" stroke=\"black\" d=\"M463,-36C463,-36 433,-36 433,-36 427,-36 421,-30 421,-24 421,-24 421,-12 421,-12 421,-6 427,0 433,0 433,0 463,0 463,0 469,0 475,-6 475,-12 475,-12 475,-24 475,-24 475,-30 469,-36 463,-36\"/>\r\n",
       "<text text-anchor=\"middle\" x=\"448\" y=\"-14.3\" font-family=\"Helvetica,sans-Serif\" font-size=\"14.00\">(...)</text>\r\n",
       "</g>\r\n",
       "<!-- 144&#45;&gt;192 -->\r\n",
       "<g id=\"edge12\" class=\"edge\">\r\n",
       "<title>144&#45;&gt;192</title>\r\n",
       "<path fill=\"none\" stroke=\"black\" d=\"M426.43,-72C429.94,-63.38 433.68,-54.19 437.04,-45.92\"/>\r\n",
       "<polygon fill=\"black\" stroke=\"black\" points=\"440.39,-46.99 440.92,-36.4 433.91,-44.35 440.39,-46.99\"/>\r\n",
       "</g>\r\n",
       "<!-- 274 -->\r\n",
       "<g id=\"node15\" class=\"node\">\r\n",
       "<title>274</title>\r\n",
       "<path fill=\"#c0c0c0\" stroke=\"black\" d=\"M545,-36C545,-36 515,-36 515,-36 509,-36 503,-30 503,-24 503,-24 503,-12 503,-12 503,-6 509,0 515,0 515,0 545,0 545,0 551,0 557,-6 557,-12 557,-12 557,-24 557,-24 557,-30 551,-36 545,-36\"/>\r\n",
       "<text text-anchor=\"middle\" x=\"530\" y=\"-14.3\" font-family=\"Helvetica,sans-Serif\" font-size=\"14.00\">(...)</text>\r\n",
       "</g>\r\n",
       "<!-- 273&#45;&gt;274 -->\r\n",
       "<g id=\"edge14\" class=\"edge\">\r\n",
       "<title>273&#45;&gt;274</title>\r\n",
       "<path fill=\"none\" stroke=\"black\" d=\"M563.89,-72C558.14,-63 551.99,-53.38 546.53,-44.84\"/>\r\n",
       "<polygon fill=\"black\" stroke=\"black\" points=\"549.47,-42.94 541.13,-36.4 543.57,-46.71 549.47,-42.94\"/>\r\n",
       "</g>\r\n",
       "<!-- 275 -->\r\n",
       "<g id=\"node16\" class=\"node\">\r\n",
       "<title>275</title>\r\n",
       "<path fill=\"#c0c0c0\" stroke=\"black\" d=\"M617,-36C617,-36 587,-36 587,-36 581,-36 575,-30 575,-24 575,-24 575,-12 575,-12 575,-6 581,0 587,0 587,0 617,0 617,0 623,0 629,-6 629,-12 629,-12 629,-24 629,-24 629,-30 623,-36 617,-36\"/>\r\n",
       "<text text-anchor=\"middle\" x=\"602\" y=\"-14.3\" font-family=\"Helvetica,sans-Serif\" font-size=\"14.00\">(...)</text>\r\n",
       "</g>\r\n",
       "<!-- 273&#45;&gt;275 -->\r\n",
       "<g id=\"edge15\" class=\"edge\">\r\n",
       "<title>273&#45;&gt;275</title>\r\n",
       "<path fill=\"none\" stroke=\"black\" d=\"M591.52,-72C593.19,-63.56 594.96,-54.59 596.57,-46.47\"/>\r\n",
       "<polygon fill=\"black\" stroke=\"black\" points=\"600.05,-46.89 598.56,-36.4 593.19,-45.53 600.05,-46.89\"/>\r\n",
       "</g>\r\n",
       "<!-- 281 -->\r\n",
       "<g id=\"node18\" class=\"node\">\r\n",
       "<title>281</title>\r\n",
       "<path fill=\"#e78c4b\" stroke=\"black\" d=\"M913,-244C913,-244 767,-244 767,-244 761,-244 755,-238 755,-232 755,-232 755,-188 755,-188 755,-182 761,-176 767,-176 767,-176 913,-176 913,-176 919,-176 925,-182 925,-188 925,-188 925,-232 925,-232 925,-238 919,-244 913,-244\"/>\r\n",
       "<text text-anchor=\"middle\" x=\"840\" y=\"-228.8\" font-family=\"Helvetica,sans-Serif\" font-size=\"14.00\">relationship &lt;= 4.5</text>\r\n",
       "<text text-anchor=\"middle\" x=\"840\" y=\"-213.8\" font-family=\"Helvetica,sans-Serif\" font-size=\"14.00\">gini = 0.15</text>\r\n",
       "<text text-anchor=\"middle\" x=\"840\" y=\"-198.8\" font-family=\"Helvetica,sans-Serif\" font-size=\"14.00\">samples = 8358</text>\r\n",
       "<text text-anchor=\"middle\" x=\"840\" y=\"-183.8\" font-family=\"Helvetica,sans-Serif\" font-size=\"14.00\">value = [12318, 1095, 0]</text>\r\n",
       "</g>\r\n",
       "<!-- 280&#45;&gt;281 -->\r\n",
       "<g id=\"edge17\" class=\"edge\">\r\n",
       "<title>280&#45;&gt;281</title>\r\n",
       "<path fill=\"none\" stroke=\"black\" d=\"M840,-279.88C840,-271.78 840,-262.98 840,-254.47\"/>\r\n",
       "<polygon fill=\"black\" stroke=\"black\" points=\"843.5,-254.3 840,-244.3 836.5,-254.3 843.5,-254.3\"/>\r\n",
       "</g>\r\n",
       "<!-- 544 -->\r\n",
       "<g id=\"node25\" class=\"node\">\r\n",
       "<title>544</title>\r\n",
       "<path fill=\"#42e687\" stroke=\"black\" d=\"M1151,-244C1151,-244 1031,-244 1031,-244 1025,-244 1019,-238 1019,-232 1019,-232 1019,-188 1019,-188 1019,-182 1025,-176 1031,-176 1031,-176 1151,-176 1151,-176 1157,-176 1163,-182 1163,-188 1163,-188 1163,-232 1163,-232 1163,-238 1157,-244 1151,-244\"/>\r\n",
       "<text text-anchor=\"middle\" x=\"1091\" y=\"-228.8\" font-family=\"Helvetica,sans-Serif\" font-size=\"14.00\">marital&#45;status &lt;= 1.0</text>\r\n",
       "<text text-anchor=\"middle\" x=\"1091\" y=\"-213.8\" font-family=\"Helvetica,sans-Serif\" font-size=\"14.00\">gini = 0.084</text>\r\n",
       "<text text-anchor=\"middle\" x=\"1091\" y=\"-198.8\" font-family=\"Helvetica,sans-Serif\" font-size=\"14.00\">samples = 181</text>\r\n",
       "<text text-anchor=\"middle\" x=\"1091\" y=\"-183.8\" font-family=\"Helvetica,sans-Serif\" font-size=\"14.00\">value = [10, 264, 2]</text>\r\n",
       "</g>\r\n",
       "<!-- 280&#45;&gt;544 -->\r\n",
       "<g id=\"edge24\" class=\"edge\">\r\n",
       "<title>280&#45;&gt;544</title>\r\n",
       "<path fill=\"none\" stroke=\"black\" d=\"M921.49,-279.88C949.66,-268.44 981.21,-255.62 1009.38,-244.17\"/>\r\n",
       "<polygon fill=\"black\" stroke=\"black\" points=\"1010.85,-247.35 1018.8,-240.34 1008.22,-240.86 1010.85,-247.35\"/>\r\n",
       "</g>\r\n",
       "<!-- 282 -->\r\n",
       "<g id=\"node19\" class=\"node\">\r\n",
       "<title>282</title>\r\n",
       "<path fill=\"#e68844\" stroke=\"black\" d=\"M835.5,-140C835.5,-140 692.5,-140 692.5,-140 686.5,-140 680.5,-134 680.5,-128 680.5,-128 680.5,-84 680.5,-84 680.5,-78 686.5,-72 692.5,-72 692.5,-72 835.5,-72 835.5,-72 841.5,-72 847.5,-78 847.5,-84 847.5,-84 847.5,-128 847.5,-128 847.5,-134 841.5,-140 835.5,-140\"/>\r\n",
       "<text text-anchor=\"middle\" x=\"764\" y=\"-124.8\" font-family=\"Helvetica,sans-Serif\" font-size=\"14.00\">hours&#45;per&#45;week &lt;= 42.5</text>\r\n",
       "<text text-anchor=\"middle\" x=\"764\" y=\"-109.8\" font-family=\"Helvetica,sans-Serif\" font-size=\"14.00\">gini = 0.098</text>\r\n",
       "<text text-anchor=\"middle\" x=\"764\" y=\"-94.8\" font-family=\"Helvetica,sans-Serif\" font-size=\"14.00\">samples = 7725</text>\r\n",
       "<text text-anchor=\"middle\" x=\"764\" y=\"-79.8\" font-family=\"Helvetica,sans-Serif\" font-size=\"14.00\">value = [11745, 640, 0]</text>\r\n",
       "</g>\r\n",
       "<!-- 281&#45;&gt;282 -->\r\n",
       "<g id=\"edge18\" class=\"edge\">\r\n",
       "<title>281&#45;&gt;282</title>\r\n",
       "<path fill=\"none\" stroke=\"black\" d=\"M815.32,-175.88C808.82,-167.15 801.72,-157.62 794.93,-148.51\"/>\r\n",
       "<polygon fill=\"black\" stroke=\"black\" points=\"797.59,-146.23 788.81,-140.3 791.98,-150.41 797.59,-146.23\"/>\r\n",
       "</g>\r\n",
       "<!-- 487 -->\r\n",
       "<g id=\"node22\" class=\"node\">\r\n",
       "<title>487</title>\r\n",
       "<path fill=\"#fae5d6\" stroke=\"black\" d=\"M1000,-140C1000,-140 878,-140 878,-140 872,-140 866,-134 866,-128 866,-128 866,-84 866,-84 866,-78 872,-72 878,-72 878,-72 1000,-72 1000,-72 1006,-72 1012,-78 1012,-84 1012,-84 1012,-128 1012,-128 1012,-134 1006,-140 1000,-140\"/>\r\n",
       "<text text-anchor=\"middle\" x=\"939\" y=\"-124.8\" font-family=\"Helvetica,sans-Serif\" font-size=\"14.00\">capital&#45;loss &lt;= 40.5</text>\r\n",
       "<text text-anchor=\"middle\" x=\"939\" y=\"-109.8\" font-family=\"Helvetica,sans-Serif\" font-size=\"14.00\">gini = 0.493</text>\r\n",
       "<text text-anchor=\"middle\" x=\"939\" y=\"-94.8\" font-family=\"Helvetica,sans-Serif\" font-size=\"14.00\">samples = 633</text>\r\n",
       "<text text-anchor=\"middle\" x=\"939\" y=\"-79.8\" font-family=\"Helvetica,sans-Serif\" font-size=\"14.00\">value = [573, 455, 0]</text>\r\n",
       "</g>\r\n",
       "<!-- 281&#45;&gt;487 -->\r\n",
       "<g id=\"edge21\" class=\"edge\">\r\n",
       "<title>281&#45;&gt;487</title>\r\n",
       "<path fill=\"none\" stroke=\"black\" d=\"M872.14,-175.88C880.87,-166.89 890.43,-157.04 899.52,-147.68\"/>\r\n",
       "<polygon fill=\"black\" stroke=\"black\" points=\"902.23,-149.91 906.68,-140.3 897.2,-145.04 902.23,-149.91\"/>\r\n",
       "</g>\r\n",
       "<!-- 283 -->\r\n",
       "<g id=\"node20\" class=\"node\">\r\n",
       "<title>283</title>\r\n",
       "<path fill=\"#c0c0c0\" stroke=\"black\" d=\"M722,-36C722,-36 692,-36 692,-36 686,-36 680,-30 680,-24 680,-24 680,-12 680,-12 680,-6 686,0 692,0 692,0 722,0 722,0 728,0 734,-6 734,-12 734,-12 734,-24 734,-24 734,-30 728,-36 722,-36\"/>\r\n",
       "<text text-anchor=\"middle\" x=\"707\" y=\"-14.3\" font-family=\"Helvetica,sans-Serif\" font-size=\"14.00\">(...)</text>\r\n",
       "</g>\r\n",
       "<!-- 282&#45;&gt;283 -->\r\n",
       "<g id=\"edge19\" class=\"edge\">\r\n",
       "<title>282&#45;&gt;283</title>\r\n",
       "<path fill=\"none\" stroke=\"black\" d=\"M742.13,-72C736.16,-63 729.79,-53.38 724.13,-44.84\"/>\r\n",
       "<polygon fill=\"black\" stroke=\"black\" points=\"726.98,-42.81 718.53,-36.4 721.14,-46.67 726.98,-42.81\"/>\r\n",
       "</g>\r\n",
       "<!-- 376 -->\r\n",
       "<g id=\"node21\" class=\"node\">\r\n",
       "<title>376</title>\r\n",
       "<path fill=\"#c0c0c0\" stroke=\"black\" d=\"M794,-36C794,-36 764,-36 764,-36 758,-36 752,-30 752,-24 752,-24 752,-12 752,-12 752,-6 758,0 764,0 764,0 794,0 794,0 800,0 806,-6 806,-12 806,-12 806,-24 806,-24 806,-30 800,-36 794,-36\"/>\r\n",
       "<text text-anchor=\"middle\" x=\"779\" y=\"-14.3\" font-family=\"Helvetica,sans-Serif\" font-size=\"14.00\">(...)</text>\r\n",
       "</g>\r\n",
       "<!-- 282&#45;&gt;376 -->\r\n",
       "<g id=\"edge20\" class=\"edge\">\r\n",
       "<title>282&#45;&gt;376</title>\r\n",
       "<path fill=\"none\" stroke=\"black\" d=\"M769.76,-72C771.23,-63.56 772.79,-54.59 774.21,-46.47\"/>\r\n",
       "<polygon fill=\"black\" stroke=\"black\" points=\"777.69,-46.86 775.96,-36.4 770.8,-45.65 777.69,-46.86\"/>\r\n",
       "</g>\r\n",
       "<!-- 488 -->\r\n",
       "<g id=\"node23\" class=\"node\">\r\n",
       "<title>488</title>\r\n",
       "<path fill=\"#c0c0c0\" stroke=\"black\" d=\"M886,-36C886,-36 856,-36 856,-36 850,-36 844,-30 844,-24 844,-24 844,-12 844,-12 844,-6 850,0 856,0 856,0 886,0 886,0 892,0 898,-6 898,-12 898,-12 898,-24 898,-24 898,-30 892,-36 886,-36\"/>\r\n",
       "<text text-anchor=\"middle\" x=\"871\" y=\"-14.3\" font-family=\"Helvetica,sans-Serif\" font-size=\"14.00\">(...)</text>\r\n",
       "</g>\r\n",
       "<!-- 487&#45;&gt;488 -->\r\n",
       "<g id=\"edge22\" class=\"edge\">\r\n",
       "<title>487&#45;&gt;488</title>\r\n",
       "<path fill=\"none\" stroke=\"black\" d=\"M912.9,-72C905.64,-62.81 897.86,-52.97 891.01,-44.3\"/>\r\n",
       "<polygon fill=\"black\" stroke=\"black\" points=\"893.71,-42.08 884.76,-36.4 888.22,-46.42 893.71,-42.08\"/>\r\n",
       "</g>\r\n",
       "<!-- 539 -->\r\n",
       "<g id=\"node24\" class=\"node\">\r\n",
       "<title>539</title>\r\n",
       "<path fill=\"#c0c0c0\" stroke=\"black\" d=\"M958,-36C958,-36 928,-36 928,-36 922,-36 916,-30 916,-24 916,-24 916,-12 916,-12 916,-6 922,0 928,0 928,0 958,0 958,0 964,0 970,-6 970,-12 970,-12 970,-24 970,-24 970,-30 964,-36 958,-36\"/>\r\n",
       "<text text-anchor=\"middle\" x=\"943\" y=\"-14.3\" font-family=\"Helvetica,sans-Serif\" font-size=\"14.00\">(...)</text>\r\n",
       "</g>\r\n",
       "<!-- 487&#45;&gt;539 -->\r\n",
       "<g id=\"edge23\" class=\"edge\">\r\n",
       "<title>487&#45;&gt;539</title>\r\n",
       "<path fill=\"none\" stroke=\"black\" d=\"M940.54,-72C940.93,-63.56 941.34,-54.59 941.72,-46.47\"/>\r\n",
       "<polygon fill=\"black\" stroke=\"black\" points=\"945.22,-46.56 942.19,-36.4 938.23,-46.23 945.22,-46.56\"/>\r\n",
       "</g>\r\n",
       "<!-- 545 -->\r\n",
       "<g id=\"node26\" class=\"node\">\r\n",
       "<title>545</title>\r\n",
       "<path fill=\"#4ee88e\" stroke=\"black\" d=\"M1139.5,-140C1139.5,-140 1042.5,-140 1042.5,-140 1036.5,-140 1030.5,-134 1030.5,-128 1030.5,-128 1030.5,-84 1030.5,-84 1030.5,-78 1036.5,-72 1042.5,-72 1042.5,-72 1139.5,-72 1139.5,-72 1145.5,-72 1151.5,-78 1151.5,-84 1151.5,-84 1151.5,-128 1151.5,-128 1151.5,-134 1145.5,-140 1139.5,-140\"/>\r\n",
       "<text text-anchor=\"middle\" x=\"1091\" y=\"-124.8\" font-family=\"Helvetica,sans-Serif\" font-size=\"14.00\">age &lt;= 21.5</text>\r\n",
       "<text text-anchor=\"middle\" x=\"1091\" y=\"-109.8\" font-family=\"Helvetica,sans-Serif\" font-size=\"14.00\">gini = 0.171</text>\r\n",
       "<text text-anchor=\"middle\" x=\"1091\" y=\"-94.8\" font-family=\"Helvetica,sans-Serif\" font-size=\"14.00\">samples = 47</text>\r\n",
       "<text text-anchor=\"middle\" x=\"1091\" y=\"-79.8\" font-family=\"Helvetica,sans-Serif\" font-size=\"14.00\">value = [7, 67, 0]</text>\r\n",
       "</g>\r\n",
       "<!-- 544&#45;&gt;545 -->\r\n",
       "<g id=\"edge25\" class=\"edge\">\r\n",
       "<title>544&#45;&gt;545</title>\r\n",
       "<path fill=\"none\" stroke=\"black\" d=\"M1091,-175.88C1091,-167.78 1091,-158.98 1091,-150.47\"/>\r\n",
       "<polygon fill=\"black\" stroke=\"black\" points=\"1094.5,-150.3 1091,-140.3 1087.5,-150.3 1094.5,-150.3\"/>\r\n",
       "</g>\r\n",
       "<!-- 550 -->\r\n",
       "<g id=\"node29\" class=\"node\">\r\n",
       "<title>550</title>\r\n",
       "<path fill=\"#3ee684\" stroke=\"black\" d=\"M1296,-140C1296,-140 1182,-140 1182,-140 1176,-140 1170,-134 1170,-128 1170,-128 1170,-84 1170,-84 1170,-78 1176,-72 1182,-72 1182,-72 1296,-72 1296,-72 1302,-72 1308,-78 1308,-84 1308,-84 1308,-128 1308,-128 1308,-134 1302,-140 1296,-140\"/>\r\n",
       "<text text-anchor=\"middle\" x=\"1239\" y=\"-124.8\" font-family=\"Helvetica,sans-Serif\" font-size=\"14.00\">occupation &lt;= 11.5</text>\r\n",
       "<text text-anchor=\"middle\" x=\"1239\" y=\"-109.8\" font-family=\"Helvetica,sans-Serif\" font-size=\"14.00\">gini = 0.049</text>\r\n",
       "<text text-anchor=\"middle\" x=\"1239\" y=\"-94.8\" font-family=\"Helvetica,sans-Serif\" font-size=\"14.00\">samples = 134</text>\r\n",
       "<text text-anchor=\"middle\" x=\"1239\" y=\"-79.8\" font-family=\"Helvetica,sans-Serif\" font-size=\"14.00\">value = [3, 197, 2]</text>\r\n",
       "</g>\r\n",
       "<!-- 544&#45;&gt;550 -->\r\n",
       "<g id=\"edge28\" class=\"edge\">\r\n",
       "<title>544&#45;&gt;550</title>\r\n",
       "<path fill=\"none\" stroke=\"black\" d=\"M1139.05,-175.88C1152.95,-166.3 1168.25,-155.76 1182.61,-145.86\"/>\r\n",
       "<polygon fill=\"black\" stroke=\"black\" points=\"1184.69,-148.68 1190.94,-140.12 1180.72,-142.92 1184.69,-148.68\"/>\r\n",
       "</g>\r\n",
       "<!-- 546 -->\r\n",
       "<g id=\"node27\" class=\"node\">\r\n",
       "<title>546</title>\r\n",
       "<path fill=\"#c0c0c0\" stroke=\"black\" d=\"M1054,-36C1054,-36 1024,-36 1024,-36 1018,-36 1012,-30 1012,-24 1012,-24 1012,-12 1012,-12 1012,-6 1018,0 1024,0 1024,0 1054,0 1054,0 1060,0 1066,-6 1066,-12 1066,-12 1066,-24 1066,-24 1066,-30 1060,-36 1054,-36\"/>\r\n",
       "<text text-anchor=\"middle\" x=\"1039\" y=\"-14.3\" font-family=\"Helvetica,sans-Serif\" font-size=\"14.00\">(...)</text>\r\n",
       "</g>\r\n",
       "<!-- 545&#45;&gt;546 -->\r\n",
       "<g id=\"edge26\" class=\"edge\">\r\n",
       "<title>545&#45;&gt;546</title>\r\n",
       "<path fill=\"none\" stroke=\"black\" d=\"M1071.04,-72C1065.66,-63.09 1059.91,-53.58 1054.79,-45.11\"/>\r\n",
       "<polygon fill=\"black\" stroke=\"black\" points=\"1057.69,-43.15 1049.52,-36.4 1051.7,-46.77 1057.69,-43.15\"/>\r\n",
       "</g>\r\n",
       "<!-- 547 -->\r\n",
       "<g id=\"node28\" class=\"node\">\r\n",
       "<title>547</title>\r\n",
       "<path fill=\"#c0c0c0\" stroke=\"black\" d=\"M1126,-36C1126,-36 1096,-36 1096,-36 1090,-36 1084,-30 1084,-24 1084,-24 1084,-12 1084,-12 1084,-6 1090,0 1096,0 1096,0 1126,0 1126,0 1132,0 1138,-6 1138,-12 1138,-12 1138,-24 1138,-24 1138,-30 1132,-36 1126,-36\"/>\r\n",
       "<text text-anchor=\"middle\" x=\"1111\" y=\"-14.3\" font-family=\"Helvetica,sans-Serif\" font-size=\"14.00\">(...)</text>\r\n",
       "</g>\r\n",
       "<!-- 545&#45;&gt;547 -->\r\n",
       "<g id=\"edge27\" class=\"edge\">\r\n",
       "<title>545&#45;&gt;547</title>\r\n",
       "<path fill=\"none\" stroke=\"black\" d=\"M1098.68,-72C1100.66,-63.47 1102.77,-54.39 1104.68,-46.2\"/>\r\n",
       "<polygon fill=\"black\" stroke=\"black\" points=\"1108.1,-46.94 1106.95,-36.4 1101.28,-45.35 1108.1,-46.94\"/>\r\n",
       "</g>\r\n",
       "<!-- 551 -->\r\n",
       "<g id=\"node30\" class=\"node\">\r\n",
       "<title>551</title>\r\n",
       "<path fill=\"#c0c0c0\" stroke=\"black\" d=\"M1218,-36C1218,-36 1188,-36 1188,-36 1182,-36 1176,-30 1176,-24 1176,-24 1176,-12 1176,-12 1176,-6 1182,0 1188,0 1188,0 1218,0 1218,0 1224,0 1230,-6 1230,-12 1230,-12 1230,-24 1230,-24 1230,-30 1224,-36 1218,-36\"/>\r\n",
       "<text text-anchor=\"middle\" x=\"1203\" y=\"-14.3\" font-family=\"Helvetica,sans-Serif\" font-size=\"14.00\">(...)</text>\r\n",
       "</g>\r\n",
       "<!-- 550&#45;&gt;551 -->\r\n",
       "<g id=\"edge29\" class=\"edge\">\r\n",
       "<title>550&#45;&gt;551</title>\r\n",
       "<path fill=\"none\" stroke=\"black\" d=\"M1225.18,-72C1221.54,-63.28 1217.64,-53.98 1214.16,-45.65\"/>\r\n",
       "<polygon fill=\"black\" stroke=\"black\" points=\"1217.38,-44.28 1210.29,-36.4 1210.92,-46.98 1217.38,-44.28\"/>\r\n",
       "</g>\r\n",
       "<!-- 556 -->\r\n",
       "<g id=\"node31\" class=\"node\">\r\n",
       "<title>556</title>\r\n",
       "<path fill=\"#c0c0c0\" stroke=\"black\" d=\"M1290,-36C1290,-36 1260,-36 1260,-36 1254,-36 1248,-30 1248,-24 1248,-24 1248,-12 1248,-12 1248,-6 1254,0 1260,0 1260,0 1290,0 1290,0 1296,0 1302,-6 1302,-12 1302,-12 1302,-24 1302,-24 1302,-30 1296,-36 1290,-36\"/>\r\n",
       "<text text-anchor=\"middle\" x=\"1275\" y=\"-14.3\" font-family=\"Helvetica,sans-Serif\" font-size=\"14.00\">(...)</text>\r\n",
       "</g>\r\n",
       "<!-- 550&#45;&gt;556 -->\r\n",
       "<g id=\"edge30\" class=\"edge\">\r\n",
       "<title>550&#45;&gt;556</title>\r\n",
       "<path fill=\"none\" stroke=\"black\" d=\"M1252.82,-72C1256.46,-63.28 1260.36,-53.98 1263.84,-45.65\"/>\r\n",
       "<polygon fill=\"black\" stroke=\"black\" points=\"1267.08,-46.98 1267.71,-36.4 1260.62,-44.28 1267.08,-46.98\"/>\r\n",
       "</g>\r\n",
       "</g>\r\n",
       "</svg>\r\n"
      ],
      "text/plain": [
       "<graphviz.files.Source at 0x1c7d898a700>"
      ]
     },
     "execution_count": 37,
     "metadata": {},
     "output_type": "execute_result"
    }
   ],
   "source": [
    "# 위에서 생성된 tree.dot 파일을 Graphviz 읽어서 Jupyter Notebook상에서 시각화 \n",
    "with open(\"tree2.dot\") as f:\n",
    "    dot_graph = f.read()\n",
    "graphviz.Source(dot_graph)"
   ]
  },
  {
   "cell_type": "markdown",
   "id": "04b8024a",
   "metadata": {},
   "source": [
    "### <li>각 파라미터의 정밀도 재현율 그래프"
   ]
  },
  {
   "cell_type": "code",
   "execution_count": 38,
   "id": "8894ee3a",
   "metadata": {
    "scrolled": false
   },
   "outputs": [
    {
     "data": {
      "image/png": "[encoded data removed]",
      "text/plain": [
       "<Figure size 576x432 with 1 Axes>"
      ]
     },
     "metadata": {
      "needs_background": "light"
     },
     "output_type": "display_data"
    }
   ],
   "source": [
    "pred_proba_c1 = grid_cv.predict_proba(X_test)[:, 1]\n",
    "precision_recall_curve_plot(y_test, pred_proba_c1)"
   ]
  },
  {
   "cell_type": "markdown",
   "id": "c7ba283e",
   "metadata": {},
   "source": [
    "### <li>최적 파라미터 예측 점수"
   ]
  },
  {
   "cell_type": "code",
   "execution_count": 39,
   "id": "a357799d",
   "metadata": {},
   "outputs": [
    {
     "name": "stdout",
     "output_type": "stream",
     "text": [
      "예측 정확도: 0.8575\n",
      "예측 정밀도: 0.80085\n",
      "예측 재현율: 0.55350\n",
      "예측 f1스코어: 0.65459\n",
      "예측 roc_auc_스코어: 0.75455\n"
     ]
    }
   ],
   "source": [
    "### <li>최적 파라미터 예측 점수# GridSearchCV의 best_estimator_는 이미 최적 하이퍼 파라미터로 학습이 됨\n",
    "pred = estimator.predict(X_test)\n",
    "print('예측 정확도: {0:.4f}'.format(accuracy_score(y_test , pred)))\n",
    "print('예측 정밀도: {0:.5f}'.format(precision_score(y_test,pred)))\n",
    "print('예측 재현율: {0:.5f}'.format(recall_score(y_test,pred)))\n",
    "print('예측 f1스코어: {0:.5f}'.format(f1_score(y_test,pred)))\n",
    "print('예측 roc_auc_스코어: {0:.5f}'.format(roc_auc_score(y_test,pred)))"
   ]
  },
  {
   "cell_type": "markdown",
   "id": "4c323fe0",
   "metadata": {},
   "source": [
    "### <li>최적 파라미터 특징 중요도"
   ]
  },
  {
   "cell_type": "code",
   "execution_count": 40,
   "id": "98163ebd",
   "metadata": {},
   "outputs": [
    {
     "data": {
      "image/png": "[encoded data removed]",
      "text/plain": [
       "<Figure size 720x432 with 1 Axes>"
      ]
     },
     "metadata": {
      "needs_background": "light"
     },
     "output_type": "display_data"
    }
   ],
   "source": [
    "ftr_importances_values = estimator.feature_importances_\n",
    "ftr_importances = pd.Series(ftr_importances_values,index=X_train.columns)\n",
    "ftr_top = ftr_importances.sort_values(ascending=False)\n",
    "\n",
    "plt.figure(figsize=(10,6))\n",
    "plt.title('Random Forest Feature importances')\n",
    "sns.barplot(x=ftr_top , y = ftr_top.index)\n",
    "plt.show()"
   ]
  },
  {
   "cell_type": "markdown",
   "id": "b3ceaddd",
   "metadata": {},
   "source": [
    "## Gradient Boost"
   ]
  },
  {
   "cell_type": "markdown",
   "id": "e171ca6a",
   "metadata": {},
   "source": [
    "### <li>최적 파라미터 탐색"
   ]
  },
  {
   "cell_type": "code",
   "execution_count": 41,
   "id": "6b42d149",
   "metadata": {},
   "outputs": [
    {
     "name": "stdout",
     "output_type": "stream",
     "text": [
      "예측 정확도: 0.8658\n",
      "수행시간: 3.7819s\n"
     ]
    }
   ],
   "source": [
    "warnings.filterwarnings('ignore')\n",
    "start_time = time.time()\n",
    "gb_clf = GradientBoostingClassifier(random_state = 0)\n",
    "gb_clf.fit(X_train, y_train)\n",
    "gb_pred = gb_clf.predict(X_test)\n",
    "gb_accuracy = accuracy_score(y_test,gb_pred)\n",
    "\n",
    "print('예측 정확도: {0:.4f}'.format(gb_accuracy))\n",
    "print('수행시간: {0:.4f}s'.format(time.time() - start_time))"
   ]
  },
  {
   "cell_type": "markdown",
   "id": "02568918",
   "metadata": {},
   "source": [
    "### <li>최적 파라미터 예측 점수"
   ]
  },
  {
   "cell_type": "code",
   "execution_count": 42,
   "id": "c3b92e02",
   "metadata": {},
   "outputs": [
    {
     "name": "stdout",
     "output_type": "stream",
     "text": [
      "Fitting 2 folds for each of 12 candidates, totalling 24 fits\n",
      "최적 하이퍼 파라미터:\n",
      " {'learning_rate': 0.1, 'n_estimators': 200}\n",
      "최고 예측 정확도: 0.8672\n",
      "수행시간: 91.0419s\n"
     ]
    }
   ],
   "source": [
    "params = {\n",
    "    'n_estimators':[100,200,300,500],\n",
    "    'learning_rate':[0.05,0.1,0.2]\n",
    "}\n",
    "start_time = time.time()\n",
    "grid_cv = GridSearchCV(gb_clf , param_grid=params , cv=2, verbose=1 )\n",
    "grid_cv.fit(X_train , y_train)\n",
    "\n",
    "print('최적 하이퍼 파라미터:\\n', grid_cv.best_params_)\n",
    "print('최고 예측 정확도: {0:.4f}'.format(grid_cv.best_score_))\n",
    "print('수행시간: {0:.4f}s'.format(time.time() - start_time))"
   ]
  },
  {
   "cell_type": "markdown",
   "id": "803855a3",
   "metadata": {},
   "source": [
    "### <li>각 파라미터의 정밀도 재현율 그래프"
   ]
  },
  {
   "cell_type": "code",
   "execution_count": 43,
   "id": "29b030f6",
   "metadata": {},
   "outputs": [
    {
     "data": {
      "image/png": "[encoded data removed]",
      "text/plain": [
       "<Figure size 576x432 with 1 Axes>"
      ]
     },
     "metadata": {
      "needs_background": "light"
     },
     "output_type": "display_data"
    }
   ],
   "source": [
    "pred_proba_c1 = grid_cv.predict_proba(X_test)[:, 1]\n",
    "precision_recall_curve_plot(y_test, pred_proba_c1)"
   ]
  },
  {
   "cell_type": "code",
   "execution_count": 44,
   "id": "7df2d3ab",
   "metadata": {},
   "outputs": [
    {
     "name": "stdout",
     "output_type": "stream",
     "text": [
      "예측 정확도: 0.8703\n",
      "예측 정밀도: 0.79123\n",
      "예측 재현율: 0.63617\n",
      "예측 f1스코어: 0.70528\n",
      "예측 roc_auc_스코어: 0.79101\n"
     ]
    }
   ],
   "source": [
    "estimator = grid_cv.best_estimator_\n",
    "\n",
    "# GridSearchCV의 best_estimator_는 이미 최적 하이퍼 파라미터로 학습이 됨\n",
    "pred = estimator.predict(X_test)\n",
    "print('예측 정확도: {0:.4f}'.format(accuracy_score(y_test , pred)))\n",
    "print('예측 정밀도: {0:.5f}'.format(precision_score(y_test,pred)))\n",
    "print('예측 재현율: {0:.5f}'.format(recall_score(y_test,pred)))\n",
    "print('예측 f1스코어: {0:.5f}'.format(f1_score(y_test,pred)))\n",
    "print('예측 roc_auc_스코어: {0:.5f}'.format(roc_auc_score(y_test,pred)))"
   ]
  },
  {
   "cell_type": "markdown",
   "id": "c1ac2202",
   "metadata": {},
   "source": [
    "### <li>최적 파라미터 특징 중요도"
   ]
  },
  {
   "cell_type": "code",
   "execution_count": 45,
   "id": "b75ce62e",
   "metadata": {},
   "outputs": [
    {
     "data": {
      "image/png": "[encoded data removed]",
      "text/plain": [
       "<Figure size 720x432 with 1 Axes>"
      ]
     },
     "metadata": {
      "needs_background": "light"
     },
     "output_type": "display_data"
    }
   ],
   "source": [
    "ftr_importances_values = estimator.feature_importances_\n",
    "ftr_importances = pd.Series(ftr_importances_values,index=X_train.columns)\n",
    "ftr_top = ftr_importances.sort_values(ascending=False)\n",
    "\n",
    "plt.figure(figsize=(10,6))\n",
    "plt.title('Gradient Boost Feature importances')\n",
    "sns.barplot(x=ftr_top , y = ftr_top.index)\n",
    "plt.show()"
   ]
  },
  {
   "cell_type": "markdown",
   "id": "4371531d",
   "metadata": {},
   "source": [
    "## Logistic Regression"
   ]
  },
  {
   "cell_type": "code",
   "execution_count": 46,
   "id": "6adf43da",
   "metadata": {},
   "outputs": [
    {
     "name": "stdout",
     "output_type": "stream",
     "text": [
      "accuracy: 0.820\n",
      "roc_auc: 0.691\n"
     ]
    }
   ],
   "source": [
    "lr_clf = LogisticRegression()\n",
    "lr_clf.fit(X_train, y_train)\n",
    "lr_preds = lr_clf.predict(X_test)\n",
    "\n",
    "# accuracy와 roc_auc 측정\n",
    "print('accuracy: {:0.3f}'.format(accuracy_score(y_test, lr_preds)))\n",
    "print('roc_auc: {:0.3f}'.format(roc_auc_score(y_test , lr_preds)))"
   ]
  },
  {
   "cell_type": "markdown",
   "id": "acf4c645",
   "metadata": {},
   "source": [
    "### <li>최적 파라미터 탐색"
   ]
  },
  {
   "cell_type": "code",
   "execution_count": 47,
   "id": "32a95dae",
   "metadata": {},
   "outputs": [
    {
     "name": "stdout",
     "output_type": "stream",
     "text": [
      "최적 하이퍼 파라미터:{'C': 5, 'penalty': 'l2'}, 최적 평균 정확도:0.822\n"
     ]
    }
   ],
   "source": [
    "params={'penalty':['l2', 'l1'],\n",
    "        'C':[0.01, 0.1, 1, 1, 5, 10]}\n",
    "\n",
    "grid_clf = GridSearchCV(lr_clf, param_grid=params, scoring='accuracy', cv=3 )\n",
    "grid_clf.fit(X_train , y_train)\n",
    "print('최적 하이퍼 파라미터:{0}, 최적 평균 정확도:{1:.3f}'.format(grid_clf.best_params_, \n",
    "                                                  grid_clf.best_score_))\n",
    "estimator = grid_clf.best_estimator_"
   ]
  },
  {
   "cell_type": "markdown",
   "id": "3d1f146f",
   "metadata": {},
   "source": [
    "### <li>각 파라미터의 정밀도 재현율 그래프"
   ]
  },
  {
   "cell_type": "code",
   "execution_count": 48,
   "id": "3e0ad86c",
   "metadata": {},
   "outputs": [
    {
     "data": {
      "image/png": "[encoded data removed]",
      "text/plain": [
       "<Figure size 576x432 with 1 Axes>"
      ]
     },
     "metadata": {
      "needs_background": "light"
     },
     "output_type": "display_data"
    }
   ],
   "source": [
    "pred_proba_c1 = grid_clf.predict_proba(X_test)[:, 1]\n",
    "precision_recall_curve_plot(y_test, pred_proba_c1)"
   ]
  },
  {
   "cell_type": "markdown",
   "id": "dd58aa22",
   "metadata": {},
   "source": [
    "### <li>최적 파라미터 예측 점수"
   ]
  },
  {
   "cell_type": "code",
   "execution_count": 49,
   "id": "57bc1cff",
   "metadata": {},
   "outputs": [
    {
     "name": "stdout",
     "output_type": "stream",
     "text": [
      "예측 정확도: 0.8193\n",
      "예측 정밀도: 0.70491\n",
      "예측 재현율: 0.44608\n",
      "예측 f1스코어: 0.54639\n",
      "예측 roc_auc_스코어: 0.69291\n"
     ]
    }
   ],
   "source": [
    "# GridSearchCV의 best_estimator_는 이미 최적 하이퍼 파라미터로 학습이 됨\n",
    "pred = estimator.predict(X_test)\n",
    "print('예측 정확도: {0:.4f}'.format(accuracy_score(y_test , pred)))\n",
    "print('예측 정밀도: {0:.5f}'.format(precision_score(y_test,pred)))\n",
    "print('예측 재현율: {0:.5f}'.format(recall_score(y_test,pred)))\n",
    "print('예측 f1스코어: {0:.5f}'.format(f1_score(y_test,pred)))\n",
    "print('예측 roc_auc_스코어: {0:.5f}'.format(roc_auc_score(y_test,pred)))"
   ]
  },
  {
   "cell_type": "code",
   "execution_count": null,
   "id": "c3276ba1",
   "metadata": {},
   "outputs": [],
   "source": []
  }
 ],
 "metadata": {
  "kernelspec": {
   "display_name": "Python 3",
   "language": "python",
   "name": "python3"
  },
  "language_info": {
   "codemirror_mode": {
    "name": "ipython",
    "version": 3
   },
   "file_extension": ".py",
   "mimetype": "text/x-python",
   "name": "python",
   "nbconvert_exporter": "python",
   "pygments_lexer": "ipython3",
   "version": "3.8.9"
  }
 },
 "nbformat": 4,
 "nbformat_minor": 5
}
