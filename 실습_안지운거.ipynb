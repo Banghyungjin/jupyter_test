{
 "cells": [
  {
   "cell_type": "markdown",
   "id": "a54f2830",
   "metadata": {},
   "source": [
    "## import 해올것들"
   ]
  },
  {
   "cell_type": "code",
   "execution_count": 1,
   "id": "9053a180",
   "metadata": {},
   "outputs": [],
   "source": [
    "import sklearn\n",
    "import numpy as np\n",
    "import pandas as pd\n",
    "import matplotlib.pyplot as plt\n",
    "import seaborn as sns\n",
    "import graphviz\n",
    "from sklearn import preprocessing\n",
    "from sklearn.model_selection import train_test_split\n",
    "from sklearn.tree import DecisionTreeClassifier\n",
    "from sklearn.ensemble import RandomForestClassifier\n",
    "from sklearn.linear_model import LogisticRegression\n",
    "from sklearn.metrics import accuracy_score, precision_score, recall_score, f1_score, roc_curve, roc_auc_score,confusion_matrix, precision_recall_curve\n",
    "from sklearn.model_selection import train_test_split\n",
    "from sklearn.model_selection import cross_val_score\n",
    "from sklearn.model_selection import GridSearchCV\n",
    "from sklearn.tree import export_graphviz\n",
    "from sklearn.ensemble import GradientBoostingClassifier\n",
    "import warnings\n",
    "import time\n",
    "\n",
    "warnings.filterwarnings('ignore')\n",
    "%matplotlib inline"
   ]
  },
  {
   "cell_type": "markdown",
   "id": "7a372f74",
   "metadata": {},
   "source": [
    "## 정밀도, 재현율 그림 함수"
   ]
  },
  {
   "cell_type": "code",
   "execution_count": 2,
   "id": "1ddff58c",
   "metadata": {},
   "outputs": [],
   "source": [
    "def precision_recall_curve_plot(y_test=None, pred_proba_c1=None):\n",
    "    # threshold ndarray와 이 threshold에 따른 정밀도, 재현율 ndarray 추출. \n",
    "    precisions, recalls, thresholds = precision_recall_curve( y_test, pred_proba_c1)\n",
    "    \n",
    "    # X축을 threshold값으로, Y축은 정밀도, 재현율 값으로 각각 Plot 수행. 정밀도는 점선으로 표시\n",
    "    plt.figure(figsize=(8,6))\n",
    "    threshold_boundary = thresholds.shape[0]\n",
    "    plt.plot(thresholds, precisions[0:threshold_boundary], linestyle='--', label='precision')\n",
    "    plt.plot(thresholds, recalls[0:threshold_boundary],label='recall')\n",
    "    \n",
    "    # threshold 값 X 축의 Scale을 0.1 단위로 변경\n",
    "    start, end = plt.xlim()\n",
    "    plt.xticks(np.round(np.arange(start, end, 0.1),2))\n",
    "    \n",
    "    # x축, y축 label과 legend, 그리고 grid 설정\n",
    "    plt.xlabel('Threshold value'); plt.ylabel('Precision and Recall value')\n",
    "    plt.legend(); plt.grid()\n",
    "    plt.show()"
   ]
  },
  {
   "cell_type": "markdown",
   "id": "73ebd7aa",
   "metadata": {},
   "source": [
    "## string 값 인코딩 함수"
   ]
  },
  {
   "cell_type": "code",
   "execution_count": 3,
   "id": "5b7cb389",
   "metadata": {},
   "outputs": [],
   "source": [
    "def encode_features(dataDF):\n",
    "    features = test_df_dropna.columns\n",
    "    for feature in features:\n",
    "        le = preprocessing.LabelEncoder()\n",
    "        le = le.fit(dataDF[feature])\n",
    "        dataDF[feature] = le.transform(dataDF[feature])\n",
    "        \n",
    "    return dataDF"
   ]
  },
  {
   "cell_type": "code",
   "execution_count": 4,
   "id": "70660638",
   "metadata": {},
   "outputs": [],
   "source": [
    "test_df = pd.read_csv('./adult.data_converted.csv')\n",
    "test_df.drop(32561, axis=0, inplace=True)"
   ]
  },
  {
   "cell_type": "code",
   "execution_count": 5,
   "id": "a053728e",
   "metadata": {
    "scrolled": true
   },
   "outputs": [
    {
     "data": {
      "text/html": [
       "<div>\n",
       "<style scoped>\n",
       "    .dataframe tbody tr th:only-of-type {\n",
       "        vertical-align: middle;\n",
       "    }\n",
       "\n",
       "    .dataframe tbody tr th {\n",
       "        vertical-align: top;\n",
       "    }\n",
       "\n",
       "    .dataframe thead th {\n",
       "        text-align: right;\n",
       "    }\n",
       "</style>\n",
       "<table border=\"1\" class=\"dataframe\">\n",
       "  <thead>\n",
       "    <tr style=\"text-align: right;\">\n",
       "      <th></th>\n",
       "      <th>age</th>\n",
       "      <th>work-class</th>\n",
       "      <th>fnlwgt</th>\n",
       "      <th>education</th>\n",
       "      <th>education-num</th>\n",
       "      <th>marital-status</th>\n",
       "      <th>occupation</th>\n",
       "      <th>relationship</th>\n",
       "      <th>race</th>\n",
       "      <th>sex</th>\n",
       "      <th>capital-gain</th>\n",
       "      <th>capital-loss</th>\n",
       "      <th>hours-per-week</th>\n",
       "      <th>native-country</th>\n",
       "      <th>is_more_than_50K</th>\n",
       "    </tr>\n",
       "  </thead>\n",
       "  <tbody>\n",
       "    <tr>\n",
       "      <th>0</th>\n",
       "      <td>39.0</td>\n",
       "      <td>State-gov</td>\n",
       "      <td>77516.0</td>\n",
       "      <td>Bachelors</td>\n",
       "      <td>13.0</td>\n",
       "      <td>Never-married</td>\n",
       "      <td>Adm-clerical</td>\n",
       "      <td>Not-in-family</td>\n",
       "      <td>White</td>\n",
       "      <td>Male</td>\n",
       "      <td>2174.0</td>\n",
       "      <td>0.0</td>\n",
       "      <td>40.0</td>\n",
       "      <td>United-States</td>\n",
       "      <td>0.0</td>\n",
       "    </tr>\n",
       "    <tr>\n",
       "      <th>1</th>\n",
       "      <td>50.0</td>\n",
       "      <td>Self-emp-not-inc</td>\n",
       "      <td>83311.0</td>\n",
       "      <td>Bachelors</td>\n",
       "      <td>13.0</td>\n",
       "      <td>Married-civ-spouse</td>\n",
       "      <td>Exec-managerial</td>\n",
       "      <td>Husband</td>\n",
       "      <td>White</td>\n",
       "      <td>Male</td>\n",
       "      <td>0.0</td>\n",
       "      <td>0.0</td>\n",
       "      <td>13.0</td>\n",
       "      <td>United-States</td>\n",
       "      <td>0.0</td>\n",
       "    </tr>\n",
       "    <tr>\n",
       "      <th>2</th>\n",
       "      <td>38.0</td>\n",
       "      <td>Private</td>\n",
       "      <td>215646.0</td>\n",
       "      <td>HS-grad</td>\n",
       "      <td>9.0</td>\n",
       "      <td>Divorced</td>\n",
       "      <td>Handlers-cleaners</td>\n",
       "      <td>Not-in-family</td>\n",
       "      <td>White</td>\n",
       "      <td>Male</td>\n",
       "      <td>0.0</td>\n",
       "      <td>0.0</td>\n",
       "      <td>40.0</td>\n",
       "      <td>United-States</td>\n",
       "      <td>0.0</td>\n",
       "    </tr>\n",
       "    <tr>\n",
       "      <th>3</th>\n",
       "      <td>53.0</td>\n",
       "      <td>Private</td>\n",
       "      <td>234721.0</td>\n",
       "      <td>11th</td>\n",
       "      <td>7.0</td>\n",
       "      <td>Married-civ-spouse</td>\n",
       "      <td>Handlers-cleaners</td>\n",
       "      <td>Husband</td>\n",
       "      <td>Black</td>\n",
       "      <td>Male</td>\n",
       "      <td>0.0</td>\n",
       "      <td>0.0</td>\n",
       "      <td>40.0</td>\n",
       "      <td>United-States</td>\n",
       "      <td>0.0</td>\n",
       "    </tr>\n",
       "    <tr>\n",
       "      <th>4</th>\n",
       "      <td>28.0</td>\n",
       "      <td>Private</td>\n",
       "      <td>338409.0</td>\n",
       "      <td>Bachelors</td>\n",
       "      <td>13.0</td>\n",
       "      <td>Married-civ-spouse</td>\n",
       "      <td>Prof-specialty</td>\n",
       "      <td>Wife</td>\n",
       "      <td>Black</td>\n",
       "      <td>Female</td>\n",
       "      <td>0.0</td>\n",
       "      <td>0.0</td>\n",
       "      <td>40.0</td>\n",
       "      <td>Cuba</td>\n",
       "      <td>0.0</td>\n",
       "    </tr>\n",
       "    <tr>\n",
       "      <th>5</th>\n",
       "      <td>37.0</td>\n",
       "      <td>Private</td>\n",
       "      <td>284582.0</td>\n",
       "      <td>Masters</td>\n",
       "      <td>14.0</td>\n",
       "      <td>Married-civ-spouse</td>\n",
       "      <td>Exec-managerial</td>\n",
       "      <td>Wife</td>\n",
       "      <td>White</td>\n",
       "      <td>Female</td>\n",
       "      <td>0.0</td>\n",
       "      <td>0.0</td>\n",
       "      <td>40.0</td>\n",
       "      <td>United-States</td>\n",
       "      <td>0.0</td>\n",
       "    </tr>\n",
       "    <tr>\n",
       "      <th>6</th>\n",
       "      <td>49.0</td>\n",
       "      <td>Private</td>\n",
       "      <td>160187.0</td>\n",
       "      <td>9th</td>\n",
       "      <td>5.0</td>\n",
       "      <td>Married-spouse-absent</td>\n",
       "      <td>Other-service</td>\n",
       "      <td>Not-in-family</td>\n",
       "      <td>Black</td>\n",
       "      <td>Female</td>\n",
       "      <td>0.0</td>\n",
       "      <td>0.0</td>\n",
       "      <td>16.0</td>\n",
       "      <td>Jamaica</td>\n",
       "      <td>0.0</td>\n",
       "    </tr>\n",
       "    <tr>\n",
       "      <th>7</th>\n",
       "      <td>52.0</td>\n",
       "      <td>Self-emp-not-inc</td>\n",
       "      <td>209642.0</td>\n",
       "      <td>HS-grad</td>\n",
       "      <td>9.0</td>\n",
       "      <td>Married-civ-spouse</td>\n",
       "      <td>Exec-managerial</td>\n",
       "      <td>Husband</td>\n",
       "      <td>White</td>\n",
       "      <td>Male</td>\n",
       "      <td>0.0</td>\n",
       "      <td>0.0</td>\n",
       "      <td>45.0</td>\n",
       "      <td>United-States</td>\n",
       "      <td>1.0</td>\n",
       "    </tr>\n",
       "    <tr>\n",
       "      <th>8</th>\n",
       "      <td>31.0</td>\n",
       "      <td>Private</td>\n",
       "      <td>45781.0</td>\n",
       "      <td>Masters</td>\n",
       "      <td>14.0</td>\n",
       "      <td>Never-married</td>\n",
       "      <td>Prof-specialty</td>\n",
       "      <td>Not-in-family</td>\n",
       "      <td>White</td>\n",
       "      <td>Female</td>\n",
       "      <td>14084.0</td>\n",
       "      <td>0.0</td>\n",
       "      <td>50.0</td>\n",
       "      <td>United-States</td>\n",
       "      <td>1.0</td>\n",
       "    </tr>\n",
       "    <tr>\n",
       "      <th>9</th>\n",
       "      <td>42.0</td>\n",
       "      <td>Private</td>\n",
       "      <td>159449.0</td>\n",
       "      <td>Bachelors</td>\n",
       "      <td>13.0</td>\n",
       "      <td>Married-civ-spouse</td>\n",
       "      <td>Exec-managerial</td>\n",
       "      <td>Husband</td>\n",
       "      <td>White</td>\n",
       "      <td>Male</td>\n",
       "      <td>5178.0</td>\n",
       "      <td>0.0</td>\n",
       "      <td>40.0</td>\n",
       "      <td>United-States</td>\n",
       "      <td>1.0</td>\n",
       "    </tr>\n",
       "  </tbody>\n",
       "</table>\n",
       "</div>"
      ],
      "text/plain": [
       "    age        work-class    fnlwgt  education  education-num  \\\n",
       "0  39.0         State-gov   77516.0  Bachelors           13.0   \n",
       "1  50.0  Self-emp-not-inc   83311.0  Bachelors           13.0   \n",
       "2  38.0           Private  215646.0    HS-grad            9.0   \n",
       "3  53.0           Private  234721.0       11th            7.0   \n",
       "4  28.0           Private  338409.0  Bachelors           13.0   \n",
       "5  37.0           Private  284582.0    Masters           14.0   \n",
       "6  49.0           Private  160187.0        9th            5.0   \n",
       "7  52.0  Self-emp-not-inc  209642.0    HS-grad            9.0   \n",
       "8  31.0           Private   45781.0    Masters           14.0   \n",
       "9  42.0           Private  159449.0  Bachelors           13.0   \n",
       "\n",
       "          marital-status         occupation   relationship   race     sex  \\\n",
       "0          Never-married       Adm-clerical  Not-in-family  White    Male   \n",
       "1     Married-civ-spouse    Exec-managerial        Husband  White    Male   \n",
       "2               Divorced  Handlers-cleaners  Not-in-family  White    Male   \n",
       "3     Married-civ-spouse  Handlers-cleaners        Husband  Black    Male   \n",
       "4     Married-civ-spouse     Prof-specialty           Wife  Black  Female   \n",
       "5     Married-civ-spouse    Exec-managerial           Wife  White  Female   \n",
       "6  Married-spouse-absent      Other-service  Not-in-family  Black  Female   \n",
       "7     Married-civ-spouse    Exec-managerial        Husband  White    Male   \n",
       "8          Never-married     Prof-specialty  Not-in-family  White  Female   \n",
       "9     Married-civ-spouse    Exec-managerial        Husband  White    Male   \n",
       "\n",
       "   capital-gain  capital-loss  hours-per-week native-country  is_more_than_50K  \n",
       "0        2174.0           0.0            40.0  United-States               0.0  \n",
       "1           0.0           0.0            13.0  United-States               0.0  \n",
       "2           0.0           0.0            40.0  United-States               0.0  \n",
       "3           0.0           0.0            40.0  United-States               0.0  \n",
       "4           0.0           0.0            40.0           Cuba               0.0  \n",
       "5           0.0           0.0            40.0  United-States               0.0  \n",
       "6           0.0           0.0            16.0        Jamaica               0.0  \n",
       "7           0.0           0.0            45.0  United-States               1.0  \n",
       "8       14084.0           0.0            50.0  United-States               1.0  \n",
       "9        5178.0           0.0            40.0  United-States               1.0  "
      ]
     },
     "execution_count": 5,
     "metadata": {},
     "output_type": "execute_result"
    }
   ],
   "source": [
    "test_df.head(10)"
   ]
  },
  {
   "cell_type": "code",
   "execution_count": 6,
   "id": "27dcedc6",
   "metadata": {
    "scrolled": true
   },
   "outputs": [
    {
     "name": "stdout",
     "output_type": "stream",
     "text": [
      "<class 'pandas.core.frame.DataFrame'>\n",
      "Int64Index: 32561 entries, 0 to 32560\n",
      "Data columns (total 15 columns):\n",
      " #   Column            Non-Null Count  Dtype  \n",
      "---  ------            --------------  -----  \n",
      " 0   age               32561 non-null  float64\n",
      " 1   work-class        32561 non-null  object \n",
      " 2   fnlwgt            32561 non-null  float64\n",
      " 3   education         32561 non-null  object \n",
      " 4   education-num     32561 non-null  float64\n",
      " 5   marital-status    32561 non-null  object \n",
      " 6   occupation        32561 non-null  object \n",
      " 7   relationship      32561 non-null  object \n",
      " 8   race              32561 non-null  object \n",
      " 9   sex               32561 non-null  object \n",
      " 10  capital-gain      32561 non-null  float64\n",
      " 11  capital-loss      32561 non-null  float64\n",
      " 12  hours-per-week    32561 non-null  float64\n",
      " 13  native-country    32561 non-null  object \n",
      " 14  is_more_than_50K  32561 non-null  float64\n",
      "dtypes: float64(7), object(8)\n",
      "memory usage: 4.0+ MB\n"
     ]
    }
   ],
   "source": [
    "test_df.info()"
   ]
  },
  {
   "cell_type": "code",
   "execution_count": 7,
   "id": "cbf55279",
   "metadata": {
    "scrolled": true
   },
   "outputs": [
    {
     "name": "stdout",
     "output_type": "stream",
     "text": [
      "데이터 세트 Null 값 갯수 \n",
      " age                 0\n",
      "work-class          0\n",
      "fnlwgt              0\n",
      "education           0\n",
      "education-num       0\n",
      "marital-status      0\n",
      "occupation          0\n",
      "relationship        0\n",
      "race                0\n",
      "sex                 0\n",
      "capital-gain        0\n",
      "capital-loss        0\n",
      "hours-per-week      0\n",
      "native-country      0\n",
      "is_more_than_50K    0\n",
      "dtype: int64\n"
     ]
    }
   ],
   "source": [
    "print('데이터 세트 Null 값 갯수 \\n',test_df.isnull().sum()) #이 csv파일에는 ?를 널로 안바꿔서 널값이 없습니다."
   ]
  },
  {
   "cell_type": "code",
   "execution_count": 8,
   "id": "24a3fd7f",
   "metadata": {},
   "outputs": [],
   "source": [
    "test_df_dropna = test_df#.dropna(axis = 0)"
   ]
  },
  {
   "cell_type": "markdown",
   "id": "239bfd26",
   "metadata": {},
   "source": [
    "## 각 칼럼별 50K이상인 사람 히스토그램"
   ]
  },
  {
   "cell_type": "markdown",
   "id": "fc94ef86",
   "metadata": {},
   "source": [
    "### <li>나이"
   ]
  },
  {
   "cell_type": "code",
   "execution_count": 9,
   "id": "fa5b67c8",
   "metadata": {},
   "outputs": [
    {
     "data": {
      "text/plain": [
       "<AxesSubplot:xlabel='age', ylabel='is_more_than_50K'>"
      ]
     },
     "execution_count": 9,
     "metadata": {},
     "output_type": "execute_result"
    },
    {
     "data": {
      "image/png": "[encoded data removed]",
      "text/plain": [
       "<Figure size 1440x720 with 1 Axes>"
      ]
     },
     "metadata": {
      "needs_background": "light"
     },
     "output_type": "display_data"
    }
   ],
   "source": [
    "plt.figure(figsize=(20, 10))\n",
    "plt.xticks(rotation = - 45 )\n",
    "sns.barplot(x='age', y = 'is_more_than_50K', data=test_df_dropna)"
   ]
  },
  {
   "cell_type": "markdown",
   "id": "8af50b0a",
   "metadata": {},
   "source": [
    "### <li>직종"
   ]
  },
  {
   "cell_type": "code",
   "execution_count": 10,
   "id": "c62af020",
   "metadata": {},
   "outputs": [
    {
     "data": {
      "text/plain": [
       "<AxesSubplot:xlabel='work-class', ylabel='is_more_than_50K'>"
      ]
     },
     "execution_count": 10,
     "metadata": {},
     "output_type": "execute_result"
    },
    {
     "data": {
      "image/png": "[encoded data removed]",
      "text/plain": [
       "<Figure size 720x432 with 1 Axes>"
      ]
     },
     "metadata": {
      "needs_background": "light"
     },
     "output_type": "display_data"
    }
   ],
   "source": [
    "plt.figure(figsize=(10, 6))\n",
    "plt.xticks(rotation = - 45 )\n",
    "sns.barplot(x='work-class', y = 'is_more_than_50K', data=test_df_dropna)"
   ]
  },
  {
   "cell_type": "markdown",
   "id": "e9e61246",
   "metadata": {},
   "source": [
    "### <li>교육"
   ]
  },
  {
   "cell_type": "code",
   "execution_count": 11,
   "id": "798bc5bd",
   "metadata": {},
   "outputs": [
    {
     "data": {
      "text/plain": [
       "<AxesSubplot:xlabel='education-num', ylabel='is_more_than_50K'>"
      ]
     },
     "execution_count": 11,
     "metadata": {},
     "output_type": "execute_result"
    },
    {
     "data": {
      "image/png": "[encoded data removed]",
      "text/plain": [
       "<Figure size 720x432 with 1 Axes>"
      ]
     },
     "metadata": {
      "needs_background": "light"
     },
     "output_type": "display_data"
    }
   ],
   "source": [
    "plt.figure(figsize=(10, 6))\n",
    "plt.xticks(rotation = - 45)\n",
    "sns.barplot(x='education-num', y = 'is_more_than_50K', data=test_df_dropna)"
   ]
  },
  {
   "cell_type": "markdown",
   "id": "73cc3304",
   "metadata": {},
   "source": [
    "### <li>결혼여부"
   ]
  },
  {
   "cell_type": "code",
   "execution_count": 12,
   "id": "c69d4538",
   "metadata": {},
   "outputs": [
    {
     "data": {
      "text/plain": [
       "<AxesSubplot:xlabel='marital-status', ylabel='is_more_than_50K'>"
      ]
     },
     "execution_count": 12,
     "metadata": {},
     "output_type": "execute_result"
    },
    {
     "data": {
      "image/png": "[encoded data removed]",
      "text/plain": [
       "<Figure size 720x432 with 1 Axes>"
      ]
     },
     "metadata": {
      "needs_background": "light"
     },
     "output_type": "display_data"
    }
   ],
   "source": [
    "plt.figure(figsize=(10, 6))\n",
    "plt.xticks(rotation = - 45 )\n",
    "sns.barplot(x='marital-status', y = 'is_more_than_50K', data=test_df_dropna)"
   ]
  },
  {
   "cell_type": "markdown",
   "id": "0c0ee8b2",
   "metadata": {},
   "source": [
    "### <li>직업"
   ]
  },
  {
   "cell_type": "code",
   "execution_count": 13,
   "id": "9a26a0e8",
   "metadata": {},
   "outputs": [
    {
     "data": {
      "text/plain": [
       "<AxesSubplot:xlabel='occupation', ylabel='is_more_than_50K'>"
      ]
     },
     "execution_count": 13,
     "metadata": {},
     "output_type": "execute_result"
    },
    {
     "data": {
      "text/plain": [
       "<Figure size 720x432 with 0 Axes>"
      ]
     },
     "metadata": {},
     "output_type": "display_data"
    },
    {
     "data": {
      "image/png": "[encoded data removed]",
      "text/plain": [
       "<Figure size 720x432 with 1 Axes>"
      ]
     },
     "metadata": {
      "needs_background": "light"
     },
     "output_type": "display_data"
    }
   ],
   "source": [
    "plt.figure(figsize=(10, 6))\n",
    "plt.figure(figsize=(10, 6))\n",
    "plt.xticks(rotation = - 45)\n",
    "sns.barplot(x='occupation', y = 'is_more_than_50K', data=test_df_dropna)"
   ]
  },
  {
   "cell_type": "markdown",
   "id": "97533019",
   "metadata": {},
   "source": [
    "### <li>가족관계"
   ]
  },
  {
   "cell_type": "code",
   "execution_count": 14,
   "id": "5171b21b",
   "metadata": {},
   "outputs": [
    {
     "data": {
      "text/plain": [
       "<AxesSubplot:xlabel='relationship', ylabel='is_more_than_50K'>"
      ]
     },
     "execution_count": 14,
     "metadata": {},
     "output_type": "execute_result"
    },
    {
     "data": {
      "image/png": "[encoded data removed]",
      "text/plain": [
       "<Figure size 720x432 with 1 Axes>"
      ]
     },
     "metadata": {
      "needs_background": "light"
     },
     "output_type": "display_data"
    }
   ],
   "source": [
    "plt.figure(figsize=(10, 6))\n",
    "plt.xticks(rotation = - 45 )\n",
    "sns.barplot(x='relationship', y = 'is_more_than_50K', data=test_df_dropna)"
   ]
  },
  {
   "cell_type": "markdown",
   "id": "413dcdfa",
   "metadata": {},
   "source": [
    "### <li>인종"
   ]
  },
  {
   "cell_type": "code",
   "execution_count": 15,
   "id": "7d38b7e0",
   "metadata": {},
   "outputs": [
    {
     "data": {
      "text/plain": [
       "<AxesSubplot:xlabel='race', ylabel='is_more_than_50K'>"
      ]
     },
     "execution_count": 15,
     "metadata": {},
     "output_type": "execute_result"
    },
    {
     "data": {
      "image/png": "[encoded data removed]",
      "text/plain": [
       "<Figure size 720x432 with 1 Axes>"
      ]
     },
     "metadata": {
      "needs_background": "light"
     },
     "output_type": "display_data"
    }
   ],
   "source": [
    "plt.figure(figsize=(10, 6))\n",
    "plt.xticks(rotation = - 45 )\n",
    "sns.barplot(x='race', y = 'is_more_than_50K', data=test_df_dropna)"
   ]
  },
  {
   "cell_type": "markdown",
   "id": "cdc0e525",
   "metadata": {},
   "source": [
    "### <li>성별"
   ]
  },
  {
   "cell_type": "code",
   "execution_count": 16,
   "id": "30244de3",
   "metadata": {},
   "outputs": [
    {
     "data": {
      "text/plain": [
       "<AxesSubplot:xlabel='sex', ylabel='is_more_than_50K'>"
      ]
     },
     "execution_count": 16,
     "metadata": {},
     "output_type": "execute_result"
    },
    {
     "data": {
      "image/png": "[encoded data removed]",
      "text/plain": [
       "<Figure size 720x432 with 1 Axes>"
      ]
     },
     "metadata": {
      "needs_background": "light"
     },
     "output_type": "display_data"
    }
   ],
   "source": [
    "plt.figure(figsize=(10, 6))\n",
    "sns.barplot(x='sex', y = 'is_more_than_50K', data=test_df_dropna)"
   ]
  },
  {
   "cell_type": "markdown",
   "id": "12dd02eb",
   "metadata": {},
   "source": [
    "### <li>주간 업무량"
   ]
  },
  {
   "cell_type": "code",
   "execution_count": 17,
   "id": "23d5dff7",
   "metadata": {},
   "outputs": [
    {
     "data": {
      "text/plain": [
       "<AxesSubplot:xlabel='hours-per-week', ylabel='is_more_than_50K'>"
      ]
     },
     "execution_count": 17,
     "metadata": {},
     "output_type": "execute_result"
    },
    {
     "data": {
      "image/png": "[encoded data removed]",
      "text/plain": [
       "<Figure size 1440x720 with 1 Axes>"
      ]
     },
     "metadata": {
      "needs_background": "light"
     },
     "output_type": "display_data"
    }
   ],
   "source": [
    "plt.figure(figsize=(20, 10))\n",
    "plt.xticks(rotation = - 45 )\n",
    "sns.barplot(x='hours-per-week', y = 'is_more_than_50K', data=test_df_dropna)"
   ]
  },
  {
   "cell_type": "markdown",
   "id": "789a8013",
   "metadata": {},
   "source": [
    "### <li>국적"
   ]
  },
  {
   "cell_type": "code",
   "execution_count": 18,
   "id": "4559e059",
   "metadata": {},
   "outputs": [
    {
     "data": {
      "text/plain": [
       "<AxesSubplot:xlabel='native-country', ylabel='is_more_than_50K'>"
      ]
     },
     "execution_count": 18,
     "metadata": {},
     "output_type": "execute_result"
    },
    {
     "data": {
      "image/png": "[encoded data removed]",
      "text/plain": [
       "<Figure size 1440x432 with 1 Axes>"
      ]
     },
     "metadata": {
      "needs_background": "light"
     },
     "output_type": "display_data"
    }
   ],
   "source": [
    "plt.figure(figsize=(20, 6))\n",
    "plt.xticks(rotation = - 45)\n",
    "sns.barplot(x='native-country', y = 'is_more_than_50K', data=test_df_dropna)"
   ]
  },
  {
   "cell_type": "code",
   "execution_count": 19,
   "id": "be98a361",
   "metadata": {},
   "outputs": [],
   "source": [
    "test_df.drop(['education','native-country','fnlwgt','sex','work-class','race'], axis=1, inplace=True) #3개의 칼럼 제거"
   ]
  },
  {
   "cell_type": "code",
   "execution_count": 20,
   "id": "b6a1b9cf",
   "metadata": {},
   "outputs": [
    {
     "name": "stdout",
     "output_type": "stream",
     "text": [
      "데이터 세트 Null 값 갯수 \n",
      " age                 0\n",
      "education-num       0\n",
      "marital-status      0\n",
      "occupation          0\n",
      "relationship        0\n",
      "capital-gain        0\n",
      "capital-loss        0\n",
      "hours-per-week      0\n",
      "is_more_than_50K    0\n",
      "dtype: int64\n"
     ]
    }
   ],
   "source": [
    "print('데이터 세트 Null 값 갯수 \\n',test_df_dropna.isnull().sum())"
   ]
  },
  {
   "cell_type": "code",
   "execution_count": 21,
   "id": "f670b539",
   "metadata": {},
   "outputs": [
    {
     "data": {
      "text/html": [
       "<div>\n",
       "<style scoped>\n",
       "    .dataframe tbody tr th:only-of-type {\n",
       "        vertical-align: middle;\n",
       "    }\n",
       "\n",
       "    .dataframe tbody tr th {\n",
       "        vertical-align: top;\n",
       "    }\n",
       "\n",
       "    .dataframe thead th {\n",
       "        text-align: right;\n",
       "    }\n",
       "</style>\n",
       "<table border=\"1\" class=\"dataframe\">\n",
       "  <thead>\n",
       "    <tr style=\"text-align: right;\">\n",
       "      <th></th>\n",
       "      <th>age</th>\n",
       "      <th>education-num</th>\n",
       "      <th>marital-status</th>\n",
       "      <th>occupation</th>\n",
       "      <th>relationship</th>\n",
       "      <th>capital-gain</th>\n",
       "      <th>capital-loss</th>\n",
       "      <th>hours-per-week</th>\n",
       "      <th>is_more_than_50K</th>\n",
       "    </tr>\n",
       "  </thead>\n",
       "  <tbody>\n",
       "    <tr>\n",
       "      <th>0</th>\n",
       "      <td>39.0</td>\n",
       "      <td>13.0</td>\n",
       "      <td>Never-married</td>\n",
       "      <td>Adm-clerical</td>\n",
       "      <td>Not-in-family</td>\n",
       "      <td>2174.0</td>\n",
       "      <td>0.0</td>\n",
       "      <td>40.0</td>\n",
       "      <td>0.0</td>\n",
       "    </tr>\n",
       "    <tr>\n",
       "      <th>1</th>\n",
       "      <td>50.0</td>\n",
       "      <td>13.0</td>\n",
       "      <td>Married-civ-spouse</td>\n",
       "      <td>Exec-managerial</td>\n",
       "      <td>Husband</td>\n",
       "      <td>0.0</td>\n",
       "      <td>0.0</td>\n",
       "      <td>13.0</td>\n",
       "      <td>0.0</td>\n",
       "    </tr>\n",
       "    <tr>\n",
       "      <th>2</th>\n",
       "      <td>38.0</td>\n",
       "      <td>9.0</td>\n",
       "      <td>Divorced</td>\n",
       "      <td>Handlers-cleaners</td>\n",
       "      <td>Not-in-family</td>\n",
       "      <td>0.0</td>\n",
       "      <td>0.0</td>\n",
       "      <td>40.0</td>\n",
       "      <td>0.0</td>\n",
       "    </tr>\n",
       "    <tr>\n",
       "      <th>3</th>\n",
       "      <td>53.0</td>\n",
       "      <td>7.0</td>\n",
       "      <td>Married-civ-spouse</td>\n",
       "      <td>Handlers-cleaners</td>\n",
       "      <td>Husband</td>\n",
       "      <td>0.0</td>\n",
       "      <td>0.0</td>\n",
       "      <td>40.0</td>\n",
       "      <td>0.0</td>\n",
       "    </tr>\n",
       "    <tr>\n",
       "      <th>4</th>\n",
       "      <td>28.0</td>\n",
       "      <td>13.0</td>\n",
       "      <td>Married-civ-spouse</td>\n",
       "      <td>Prof-specialty</td>\n",
       "      <td>Wife</td>\n",
       "      <td>0.0</td>\n",
       "      <td>0.0</td>\n",
       "      <td>40.0</td>\n",
       "      <td>0.0</td>\n",
       "    </tr>\n",
       "    <tr>\n",
       "      <th>5</th>\n",
       "      <td>37.0</td>\n",
       "      <td>14.0</td>\n",
       "      <td>Married-civ-spouse</td>\n",
       "      <td>Exec-managerial</td>\n",
       "      <td>Wife</td>\n",
       "      <td>0.0</td>\n",
       "      <td>0.0</td>\n",
       "      <td>40.0</td>\n",
       "      <td>0.0</td>\n",
       "    </tr>\n",
       "    <tr>\n",
       "      <th>6</th>\n",
       "      <td>49.0</td>\n",
       "      <td>5.0</td>\n",
       "      <td>Married-spouse-absent</td>\n",
       "      <td>Other-service</td>\n",
       "      <td>Not-in-family</td>\n",
       "      <td>0.0</td>\n",
       "      <td>0.0</td>\n",
       "      <td>16.0</td>\n",
       "      <td>0.0</td>\n",
       "    </tr>\n",
       "    <tr>\n",
       "      <th>7</th>\n",
       "      <td>52.0</td>\n",
       "      <td>9.0</td>\n",
       "      <td>Married-civ-spouse</td>\n",
       "      <td>Exec-managerial</td>\n",
       "      <td>Husband</td>\n",
       "      <td>0.0</td>\n",
       "      <td>0.0</td>\n",
       "      <td>45.0</td>\n",
       "      <td>1.0</td>\n",
       "    </tr>\n",
       "    <tr>\n",
       "      <th>8</th>\n",
       "      <td>31.0</td>\n",
       "      <td>14.0</td>\n",
       "      <td>Never-married</td>\n",
       "      <td>Prof-specialty</td>\n",
       "      <td>Not-in-family</td>\n",
       "      <td>14084.0</td>\n",
       "      <td>0.0</td>\n",
       "      <td>50.0</td>\n",
       "      <td>1.0</td>\n",
       "    </tr>\n",
       "    <tr>\n",
       "      <th>9</th>\n",
       "      <td>42.0</td>\n",
       "      <td>13.0</td>\n",
       "      <td>Married-civ-spouse</td>\n",
       "      <td>Exec-managerial</td>\n",
       "      <td>Husband</td>\n",
       "      <td>5178.0</td>\n",
       "      <td>0.0</td>\n",
       "      <td>40.0</td>\n",
       "      <td>1.0</td>\n",
       "    </tr>\n",
       "  </tbody>\n",
       "</table>\n",
       "</div>"
      ],
      "text/plain": [
       "    age  education-num         marital-status         occupation  \\\n",
       "0  39.0           13.0          Never-married       Adm-clerical   \n",
       "1  50.0           13.0     Married-civ-spouse    Exec-managerial   \n",
       "2  38.0            9.0               Divorced  Handlers-cleaners   \n",
       "3  53.0            7.0     Married-civ-spouse  Handlers-cleaners   \n",
       "4  28.0           13.0     Married-civ-spouse     Prof-specialty   \n",
       "5  37.0           14.0     Married-civ-spouse    Exec-managerial   \n",
       "6  49.0            5.0  Married-spouse-absent      Other-service   \n",
       "7  52.0            9.0     Married-civ-spouse    Exec-managerial   \n",
       "8  31.0           14.0          Never-married     Prof-specialty   \n",
       "9  42.0           13.0     Married-civ-spouse    Exec-managerial   \n",
       "\n",
       "    relationship  capital-gain  capital-loss  hours-per-week  is_more_than_50K  \n",
       "0  Not-in-family        2174.0           0.0            40.0               0.0  \n",
       "1        Husband           0.0           0.0            13.0               0.0  \n",
       "2  Not-in-family           0.0           0.0            40.0               0.0  \n",
       "3        Husband           0.0           0.0            40.0               0.0  \n",
       "4           Wife           0.0           0.0            40.0               0.0  \n",
       "5           Wife           0.0           0.0            40.0               0.0  \n",
       "6  Not-in-family           0.0           0.0            16.0               0.0  \n",
       "7        Husband           0.0           0.0            45.0               1.0  \n",
       "8  Not-in-family       14084.0           0.0            50.0               1.0  \n",
       "9        Husband        5178.0           0.0            40.0               1.0  "
      ]
     },
     "execution_count": 21,
     "metadata": {},
     "output_type": "execute_result"
    }
   ],
   "source": [
    "test_df_dropna.head(10)"
   ]
  },
  {
   "cell_type": "code",
   "execution_count": 22,
   "id": "014f29a0",
   "metadata": {
    "scrolled": false
   },
   "outputs": [
    {
     "data": {
      "text/html": [
       "<div>\n",
       "<style scoped>\n",
       "    .dataframe tbody tr th:only-of-type {\n",
       "        vertical-align: middle;\n",
       "    }\n",
       "\n",
       "    .dataframe tbody tr th {\n",
       "        vertical-align: top;\n",
       "    }\n",
       "\n",
       "    .dataframe thead th {\n",
       "        text-align: right;\n",
       "    }\n",
       "</style>\n",
       "<table border=\"1\" class=\"dataframe\">\n",
       "  <thead>\n",
       "    <tr style=\"text-align: right;\">\n",
       "      <th></th>\n",
       "      <th>age</th>\n",
       "      <th>education-num</th>\n",
       "      <th>marital-status</th>\n",
       "      <th>occupation</th>\n",
       "      <th>relationship</th>\n",
       "      <th>capital-gain</th>\n",
       "      <th>capital-loss</th>\n",
       "      <th>hours-per-week</th>\n",
       "      <th>is_more_than_50K</th>\n",
       "    </tr>\n",
       "  </thead>\n",
       "  <tbody>\n",
       "    <tr>\n",
       "      <th>0</th>\n",
       "      <td>22</td>\n",
       "      <td>12</td>\n",
       "      <td>4</td>\n",
       "      <td>0</td>\n",
       "      <td>1</td>\n",
       "      <td>25</td>\n",
       "      <td>0</td>\n",
       "      <td>39</td>\n",
       "      <td>0</td>\n",
       "    </tr>\n",
       "    <tr>\n",
       "      <th>1</th>\n",
       "      <td>33</td>\n",
       "      <td>12</td>\n",
       "      <td>2</td>\n",
       "      <td>3</td>\n",
       "      <td>0</td>\n",
       "      <td>0</td>\n",
       "      <td>0</td>\n",
       "      <td>12</td>\n",
       "      <td>0</td>\n",
       "    </tr>\n",
       "    <tr>\n",
       "      <th>2</th>\n",
       "      <td>21</td>\n",
       "      <td>8</td>\n",
       "      <td>0</td>\n",
       "      <td>5</td>\n",
       "      <td>1</td>\n",
       "      <td>0</td>\n",
       "      <td>0</td>\n",
       "      <td>39</td>\n",
       "      <td>0</td>\n",
       "    </tr>\n",
       "    <tr>\n",
       "      <th>3</th>\n",
       "      <td>36</td>\n",
       "      <td>6</td>\n",
       "      <td>2</td>\n",
       "      <td>5</td>\n",
       "      <td>0</td>\n",
       "      <td>0</td>\n",
       "      <td>0</td>\n",
       "      <td>39</td>\n",
       "      <td>0</td>\n",
       "    </tr>\n",
       "    <tr>\n",
       "      <th>4</th>\n",
       "      <td>11</td>\n",
       "      <td>12</td>\n",
       "      <td>2</td>\n",
       "      <td>9</td>\n",
       "      <td>5</td>\n",
       "      <td>0</td>\n",
       "      <td>0</td>\n",
       "      <td>39</td>\n",
       "      <td>0</td>\n",
       "    </tr>\n",
       "    <tr>\n",
       "      <th>5</th>\n",
       "      <td>20</td>\n",
       "      <td>13</td>\n",
       "      <td>2</td>\n",
       "      <td>3</td>\n",
       "      <td>5</td>\n",
       "      <td>0</td>\n",
       "      <td>0</td>\n",
       "      <td>39</td>\n",
       "      <td>0</td>\n",
       "    </tr>\n",
       "    <tr>\n",
       "      <th>6</th>\n",
       "      <td>32</td>\n",
       "      <td>4</td>\n",
       "      <td>3</td>\n",
       "      <td>7</td>\n",
       "      <td>1</td>\n",
       "      <td>0</td>\n",
       "      <td>0</td>\n",
       "      <td>15</td>\n",
       "      <td>0</td>\n",
       "    </tr>\n",
       "    <tr>\n",
       "      <th>7</th>\n",
       "      <td>35</td>\n",
       "      <td>8</td>\n",
       "      <td>2</td>\n",
       "      <td>3</td>\n",
       "      <td>0</td>\n",
       "      <td>0</td>\n",
       "      <td>0</td>\n",
       "      <td>44</td>\n",
       "      <td>1</td>\n",
       "    </tr>\n",
       "    <tr>\n",
       "      <th>8</th>\n",
       "      <td>14</td>\n",
       "      <td>13</td>\n",
       "      <td>4</td>\n",
       "      <td>9</td>\n",
       "      <td>1</td>\n",
       "      <td>105</td>\n",
       "      <td>0</td>\n",
       "      <td>49</td>\n",
       "      <td>1</td>\n",
       "    </tr>\n",
       "    <tr>\n",
       "      <th>9</th>\n",
       "      <td>25</td>\n",
       "      <td>12</td>\n",
       "      <td>2</td>\n",
       "      <td>3</td>\n",
       "      <td>0</td>\n",
       "      <td>79</td>\n",
       "      <td>0</td>\n",
       "      <td>39</td>\n",
       "      <td>1</td>\n",
       "    </tr>\n",
       "  </tbody>\n",
       "</table>\n",
       "</div>"
      ],
      "text/plain": [
       "   age  education-num  marital-status  occupation  relationship  capital-gain  \\\n",
       "0   22             12               4           0             1            25   \n",
       "1   33             12               2           3             0             0   \n",
       "2   21              8               0           5             1             0   \n",
       "3   36              6               2           5             0             0   \n",
       "4   11             12               2           9             5             0   \n",
       "5   20             13               2           3             5             0   \n",
       "6   32              4               3           7             1             0   \n",
       "7   35              8               2           3             0             0   \n",
       "8   14             13               4           9             1           105   \n",
       "9   25             12               2           3             0            79   \n",
       "\n",
       "   capital-loss  hours-per-week  is_more_than_50K  \n",
       "0             0              39                 0  \n",
       "1             0              12                 0  \n",
       "2             0              39                 0  \n",
       "3             0              39                 0  \n",
       "4             0              39                 0  \n",
       "5             0              39                 0  \n",
       "6             0              15                 0  \n",
       "7             0              44                 1  \n",
       "8             0              49                 1  \n",
       "9             0              39                 1  "
      ]
     },
     "execution_count": 22,
     "metadata": {},
     "output_type": "execute_result"
    }
   ],
   "source": [
    "test_df_dropna = encode_features(test_df_dropna)\n",
    "test_df_dropna.head(10)"
   ]
  },
  {
   "cell_type": "code",
   "execution_count": 23,
   "id": "6f314e76",
   "metadata": {},
   "outputs": [
    {
     "data": {
      "text/html": [
       "<div>\n",
       "<style scoped>\n",
       "    .dataframe tbody tr th:only-of-type {\n",
       "        vertical-align: middle;\n",
       "    }\n",
       "\n",
       "    .dataframe tbody tr th {\n",
       "        vertical-align: top;\n",
       "    }\n",
       "\n",
       "    .dataframe thead th {\n",
       "        text-align: right;\n",
       "    }\n",
       "</style>\n",
       "<table border=\"1\" class=\"dataframe\">\n",
       "  <thead>\n",
       "    <tr style=\"text-align: right;\">\n",
       "      <th></th>\n",
       "      <th>age</th>\n",
       "      <th>education-num</th>\n",
       "      <th>marital-status</th>\n",
       "      <th>occupation</th>\n",
       "      <th>relationship</th>\n",
       "      <th>capital-gain</th>\n",
       "      <th>capital-loss</th>\n",
       "      <th>hours-per-week</th>\n",
       "      <th>is_more_than_50K</th>\n",
       "    </tr>\n",
       "  </thead>\n",
       "  <tbody>\n",
       "    <tr>\n",
       "      <th>0</th>\n",
       "      <td>22</td>\n",
       "      <td>12</td>\n",
       "      <td>4</td>\n",
       "      <td>0</td>\n",
       "      <td>1</td>\n",
       "      <td>25</td>\n",
       "      <td>0</td>\n",
       "      <td>39</td>\n",
       "      <td>0</td>\n",
       "    </tr>\n",
       "    <tr>\n",
       "      <th>1</th>\n",
       "      <td>33</td>\n",
       "      <td>12</td>\n",
       "      <td>2</td>\n",
       "      <td>3</td>\n",
       "      <td>0</td>\n",
       "      <td>0</td>\n",
       "      <td>0</td>\n",
       "      <td>12</td>\n",
       "      <td>0</td>\n",
       "    </tr>\n",
       "    <tr>\n",
       "      <th>2</th>\n",
       "      <td>21</td>\n",
       "      <td>8</td>\n",
       "      <td>0</td>\n",
       "      <td>5</td>\n",
       "      <td>1</td>\n",
       "      <td>0</td>\n",
       "      <td>0</td>\n",
       "      <td>39</td>\n",
       "      <td>0</td>\n",
       "    </tr>\n",
       "    <tr>\n",
       "      <th>3</th>\n",
       "      <td>36</td>\n",
       "      <td>6</td>\n",
       "      <td>2</td>\n",
       "      <td>5</td>\n",
       "      <td>0</td>\n",
       "      <td>0</td>\n",
       "      <td>0</td>\n",
       "      <td>39</td>\n",
       "      <td>0</td>\n",
       "    </tr>\n",
       "    <tr>\n",
       "      <th>4</th>\n",
       "      <td>11</td>\n",
       "      <td>12</td>\n",
       "      <td>2</td>\n",
       "      <td>9</td>\n",
       "      <td>5</td>\n",
       "      <td>0</td>\n",
       "      <td>0</td>\n",
       "      <td>39</td>\n",
       "      <td>0</td>\n",
       "    </tr>\n",
       "    <tr>\n",
       "      <th>5</th>\n",
       "      <td>20</td>\n",
       "      <td>13</td>\n",
       "      <td>2</td>\n",
       "      <td>3</td>\n",
       "      <td>5</td>\n",
       "      <td>0</td>\n",
       "      <td>0</td>\n",
       "      <td>39</td>\n",
       "      <td>0</td>\n",
       "    </tr>\n",
       "    <tr>\n",
       "      <th>6</th>\n",
       "      <td>32</td>\n",
       "      <td>4</td>\n",
       "      <td>3</td>\n",
       "      <td>7</td>\n",
       "      <td>1</td>\n",
       "      <td>0</td>\n",
       "      <td>0</td>\n",
       "      <td>15</td>\n",
       "      <td>0</td>\n",
       "    </tr>\n",
       "    <tr>\n",
       "      <th>7</th>\n",
       "      <td>35</td>\n",
       "      <td>8</td>\n",
       "      <td>2</td>\n",
       "      <td>3</td>\n",
       "      <td>0</td>\n",
       "      <td>0</td>\n",
       "      <td>0</td>\n",
       "      <td>44</td>\n",
       "      <td>1</td>\n",
       "    </tr>\n",
       "    <tr>\n",
       "      <th>8</th>\n",
       "      <td>14</td>\n",
       "      <td>13</td>\n",
       "      <td>4</td>\n",
       "      <td>9</td>\n",
       "      <td>1</td>\n",
       "      <td>105</td>\n",
       "      <td>0</td>\n",
       "      <td>49</td>\n",
       "      <td>1</td>\n",
       "    </tr>\n",
       "    <tr>\n",
       "      <th>9</th>\n",
       "      <td>25</td>\n",
       "      <td>12</td>\n",
       "      <td>2</td>\n",
       "      <td>3</td>\n",
       "      <td>0</td>\n",
       "      <td>79</td>\n",
       "      <td>0</td>\n",
       "      <td>39</td>\n",
       "      <td>1</td>\n",
       "    </tr>\n",
       "  </tbody>\n",
       "</table>\n",
       "</div>"
      ],
      "text/plain": [
       "   age  education-num  marital-status  occupation  relationship  capital-gain  \\\n",
       "0   22             12               4           0             1            25   \n",
       "1   33             12               2           3             0             0   \n",
       "2   21              8               0           5             1             0   \n",
       "3   36              6               2           5             0             0   \n",
       "4   11             12               2           9             5             0   \n",
       "5   20             13               2           3             5             0   \n",
       "6   32              4               3           7             1             0   \n",
       "7   35              8               2           3             0             0   \n",
       "8   14             13               4           9             1           105   \n",
       "9   25             12               2           3             0            79   \n",
       "\n",
       "   capital-loss  hours-per-week  is_more_than_50K  \n",
       "0             0              39                 0  \n",
       "1             0              12                 0  \n",
       "2             0              39                 0  \n",
       "3             0              39                 0  \n",
       "4             0              39                 0  \n",
       "5             0              39                 0  \n",
       "6             0              15                 0  \n",
       "7             0              44                 1  \n",
       "8             0              49                 1  \n",
       "9             0              39                 1  "
      ]
     },
     "execution_count": 23,
     "metadata": {},
     "output_type": "execute_result"
    }
   ],
   "source": [
    "test_df_dropna.head(10)"
   ]
  },
  {
   "cell_type": "code",
   "execution_count": 24,
   "id": "b2416597",
   "metadata": {},
   "outputs": [],
   "source": [
    "y_test_df = test_df_dropna['is_more_than_50K']\n",
    "X_test_df= test_df_dropna.drop('is_more_than_50K',axis=1)"
   ]
  },
  {
   "cell_type": "code",
   "execution_count": 25,
   "id": "b9b1ef42",
   "metadata": {},
   "outputs": [
    {
     "data": {
      "text/plain": [
       "0    0\n",
       "1    0\n",
       "2    0\n",
       "3    0\n",
       "4    0\n",
       "Name: is_more_than_50K, dtype: int64"
      ]
     },
     "execution_count": 25,
     "metadata": {},
     "output_type": "execute_result"
    }
   ],
   "source": [
    "y_test_df.head()"
   ]
  },
  {
   "cell_type": "code",
   "execution_count": 26,
   "id": "956f6cbe",
   "metadata": {},
   "outputs": [
    {
     "data": {
      "text/html": [
       "<div>\n",
       "<style scoped>\n",
       "    .dataframe tbody tr th:only-of-type {\n",
       "        vertical-align: middle;\n",
       "    }\n",
       "\n",
       "    .dataframe tbody tr th {\n",
       "        vertical-align: top;\n",
       "    }\n",
       "\n",
       "    .dataframe thead th {\n",
       "        text-align: right;\n",
       "    }\n",
       "</style>\n",
       "<table border=\"1\" class=\"dataframe\">\n",
       "  <thead>\n",
       "    <tr style=\"text-align: right;\">\n",
       "      <th></th>\n",
       "      <th>age</th>\n",
       "      <th>education-num</th>\n",
       "      <th>marital-status</th>\n",
       "      <th>occupation</th>\n",
       "      <th>relationship</th>\n",
       "      <th>capital-gain</th>\n",
       "      <th>capital-loss</th>\n",
       "      <th>hours-per-week</th>\n",
       "    </tr>\n",
       "  </thead>\n",
       "  <tbody>\n",
       "    <tr>\n",
       "      <th>0</th>\n",
       "      <td>22</td>\n",
       "      <td>12</td>\n",
       "      <td>4</td>\n",
       "      <td>0</td>\n",
       "      <td>1</td>\n",
       "      <td>25</td>\n",
       "      <td>0</td>\n",
       "      <td>39</td>\n",
       "    </tr>\n",
       "    <tr>\n",
       "      <th>1</th>\n",
       "      <td>33</td>\n",
       "      <td>12</td>\n",
       "      <td>2</td>\n",
       "      <td>3</td>\n",
       "      <td>0</td>\n",
       "      <td>0</td>\n",
       "      <td>0</td>\n",
       "      <td>12</td>\n",
       "    </tr>\n",
       "    <tr>\n",
       "      <th>2</th>\n",
       "      <td>21</td>\n",
       "      <td>8</td>\n",
       "      <td>0</td>\n",
       "      <td>5</td>\n",
       "      <td>1</td>\n",
       "      <td>0</td>\n",
       "      <td>0</td>\n",
       "      <td>39</td>\n",
       "    </tr>\n",
       "    <tr>\n",
       "      <th>3</th>\n",
       "      <td>36</td>\n",
       "      <td>6</td>\n",
       "      <td>2</td>\n",
       "      <td>5</td>\n",
       "      <td>0</td>\n",
       "      <td>0</td>\n",
       "      <td>0</td>\n",
       "      <td>39</td>\n",
       "    </tr>\n",
       "    <tr>\n",
       "      <th>4</th>\n",
       "      <td>11</td>\n",
       "      <td>12</td>\n",
       "      <td>2</td>\n",
       "      <td>9</td>\n",
       "      <td>5</td>\n",
       "      <td>0</td>\n",
       "      <td>0</td>\n",
       "      <td>39</td>\n",
       "    </tr>\n",
       "  </tbody>\n",
       "</table>\n",
       "</div>"
      ],
      "text/plain": [
       "   age  education-num  marital-status  occupation  relationship  capital-gain  \\\n",
       "0   22             12               4           0             1            25   \n",
       "1   33             12               2           3             0             0   \n",
       "2   21              8               0           5             1             0   \n",
       "3   36              6               2           5             0             0   \n",
       "4   11             12               2           9             5             0   \n",
       "\n",
       "   capital-loss  hours-per-week  \n",
       "0             0              39  \n",
       "1             0              12  \n",
       "2             0              39  \n",
       "3             0              39  \n",
       "4             0              39  "
      ]
     },
     "execution_count": 26,
     "metadata": {},
     "output_type": "execute_result"
    }
   ],
   "source": [
    "X_test_df.head()"
   ]
  },
  {
   "cell_type": "code",
   "execution_count": 27,
   "id": "bc3ca6f5",
   "metadata": {},
   "outputs": [],
   "source": [
    "X_train, X_test, y_train, y_test=train_test_split(X_test_df, y_test_df, test_size=0.3, random_state=12)"
   ]
  },
  {
   "cell_type": "markdown",
   "id": "17ea83e7",
   "metadata": {},
   "source": [
    "## 예측"
   ]
  },
  {
   "cell_type": "markdown",
   "id": "16e2c690",
   "metadata": {},
   "source": [
    "### 별 다른 파라미터 설정 없이 그냥 학습, 예측"
   ]
  },
  {
   "cell_type": "code",
   "execution_count": 28,
   "id": "429619c7",
   "metadata": {},
   "outputs": [
    {
     "name": "stdout",
     "output_type": "stream",
     "text": [
      "DecisionTreeClassifier 정확도: 0.8218\n",
      "DecisionTreeClassifier 정밀도: 0.6414\n",
      "DecisionTreeClassifier 재현도: 0.6049\n",
      "DecisionTreeClassifier f1스코어: 0.6226\n",
      "\n",
      "RandomForestClassifier 정확도:0.8438\n",
      "RandomForestClassifier 정밀도: 0.7060\n",
      "RandomForestClassifier 재현도: 0.6120\n",
      "RandomForestClassifier f1스코어: 0.6557\n",
      "\n",
      "LogisticRegression 정확도: 0.8220\n",
      "LogisticRegression 정밀도: 0.7115\n",
      "LogisticRegression 재현도: 0.4499\n",
      "LogisticRegression f1스코어: 0.5512\n"
     ]
    }
   ],
   "source": [
    "# 결정트리, Random Forest, 로지스틱 회귀를 위한 사이킷런 Classifier 클래스 생성\n",
    "dt_clf = DecisionTreeClassifier(random_state=11)\n",
    "rf_clf = RandomForestClassifier(random_state=11)\n",
    "lr_clf = LogisticRegression()\n",
    "\n",
    "# DecisionTreeClassifier 학습/예측/평가\n",
    "dt_clf.fit(X_train , y_train)\n",
    "dt_pred = dt_clf.predict(X_test)\n",
    "print('DecisionTreeClassifier 정확도: {0:.4f}'.format(accuracy_score(y_test, dt_pred)))\n",
    "print('DecisionTreeClassifier 정밀도: {0:.4f}'.format(precision_score(y_test, dt_pred)))\n",
    "print('DecisionTreeClassifier 재현도: {0:.4f}'.format(recall_score(y_test, dt_pred)))\n",
    "print('DecisionTreeClassifier f1스코어: {0:.4f}'.format(f1_score(y_test, dt_pred)))\n",
    "print()\n",
    "\n",
    "# RandomForestClassifier 학습/예측/평가\n",
    "rf_clf.fit(X_train , y_train)\n",
    "rf_pred = rf_clf.predict(X_test)\n",
    "print('RandomForestClassifier 정확도:{0:.4f}'.format(accuracy_score(y_test, rf_pred)))\n",
    "print('RandomForestClassifier 정밀도: {0:.4f}'.format(precision_score(y_test, rf_pred)))\n",
    "print('RandomForestClassifier 재현도: {0:.4f}'.format(recall_score(y_test, rf_pred)))\n",
    "print('RandomForestClassifier f1스코어: {0:.4f}'.format(f1_score(y_test, rf_pred)))\n",
    "print()\n",
    "\n",
    "# LogisticRegression 학습/예측/평가\n",
    "lr_clf.fit(X_train , y_train)\n",
    "lr_pred = lr_clf.predict(X_test)\n",
    "print('LogisticRegression 정확도: {0:.4f}'.format(accuracy_score(y_test, lr_pred)))\n",
    "print('LogisticRegression 정밀도: {0:.4f}'.format(precision_score(y_test, lr_pred)))\n",
    "print('LogisticRegression 재현도: {0:.4f}'.format(recall_score(y_test, lr_pred)))\n",
    "print('LogisticRegression f1스코어: {0:.4f}'.format(f1_score(y_test, lr_pred)))\n"
   ]
  },
  {
   "cell_type": "markdown",
   "id": "facdffb0",
   "metadata": {},
   "source": [
    "## Decision Tree"
   ]
  },
  {
   "cell_type": "markdown",
   "id": "504440b0",
   "metadata": {},
   "source": [
    "### <li>최적 파라미터 탐색"
   ]
  },
  {
   "cell_type": "code",
   "execution_count": 29,
   "id": "6dc39fb0",
   "metadata": {},
   "outputs": [
    {
     "name": "stdout",
     "output_type": "stream",
     "text": [
      "GridSearchCV 최적 하이퍼 파라미터 : {'max_depth': 10, 'min_samples_leaf': 1, 'min_samples_split': 5}\n",
      "GridSearchCV 최고 정확도: 0.8539\n",
      "테스트 세트에서의 DecisionTreeClassifier 정확도 : 0.8527\n"
     ]
    }
   ],
   "source": [
    "parameters = {'max_depth':[2,3,5,10],\n",
    "             'min_samples_split':[2,3,5], 'min_samples_leaf':[1,2,5,8]}\n",
    "\n",
    "grid_dclf = GridSearchCV(dt_clf , param_grid=parameters , scoring='accuracy' , cv=5)\n",
    "grid_dclf.fit(X_train , y_train)\n",
    "\n",
    "print('GridSearchCV 최적 하이퍼 파라미터 :',grid_dclf.best_params_)\n",
    "print('GridSearchCV 최고 정확도: {0:.4f}'.format(grid_dclf.best_score_))\n",
    "best_dclf = grid_dclf.best_estimator_\n",
    "\n",
    "# GridSearchCV의 최적 하이퍼 파라미터로 학습된 Estimator로 예측 및 평가 수행. \n",
    "dpredictions = best_dclf.predict(X_test)\n",
    "accuracy = accuracy_score(y_test , dpredictions)\n",
    "print('테스트 세트에서의 DecisionTreeClassifier 정확도 : {0:.4f}'.format(accuracy))"
   ]
  },
  {
   "cell_type": "markdown",
   "id": "cee2db1d",
   "metadata": {},
   "source": [
    "### <li>수형도 그리기"
   ]
  },
  {
   "cell_type": "code",
   "execution_count": 30,
   "id": "ce5ccdb1",
   "metadata": {},
   "outputs": [],
   "source": [
    "# export_graphviz()의 호출 결과로 out_file로 지정된 tree.dot 파일을 생성함. \n",
    "export_graphviz(best_dclf,out_file=\"tree.dot\", max_depth=4, impurity=True, filled=True, \n",
    "                feature_names = X_test_df.columns, rounded=True) # 박스의 모양을 둥글게"
   ]
  },
  {
   "cell_type": "code",
   "execution_count": 31,
   "id": "819ea5cb",
   "metadata": {
    "scrolled": false
   },
   "outputs": [
    {
     "data": {
      "image/svg+xml": [
       "<?xml version=\"1.0\" encoding=\"UTF-8\" standalone=\"no\"?>\r\n",
       "<!DOCTYPE svg PUBLIC \"-//W3C//DTD SVG 1.1//EN\"\r\n",
       " \"http://www.w3.org/Graphics/SVG/1.1/DTD/svg11.dtd\">\r\n",
       "<!-- Generated by graphviz version 2.47.1 (20210417.1919)\r\n",
       " -->\r\n",
       "<!-- Title: Tree Pages: 1 -->\r\n",
       "<svg width=\"2062pt\" height=\"564pt\"\r\n",
       " viewBox=\"0.00 0.00 2062.00 564.00\" xmlns=\"http://www.w3.org/2000/svg\" xmlns:xlink=\"http://www.w3.org/1999/xlink\">\r\n",
       "<g id=\"graph0\" class=\"graph\" transform=\"scale(1 1) rotate(0) translate(4 560)\">\r\n",
       "<title>Tree</title>\r\n",
       "<polygon fill=\"white\" stroke=\"transparent\" points=\"-4,4 -4,-560 2058,-560 2058,4 -4,4\"/>\r\n",
       "<!-- 0 -->\r\n",
       "<g id=\"node1\" class=\"node\">\r\n",
       "<title>0</title>\r\n",
       "<path fill=\"#eda977\" stroke=\"black\" d=\"M1241.5,-556C1241.5,-556 1110.5,-556 1110.5,-556 1104.5,-556 1098.5,-550 1098.5,-544 1098.5,-544 1098.5,-500 1098.5,-500 1098.5,-494 1104.5,-488 1110.5,-488 1110.5,-488 1241.5,-488 1241.5,-488 1247.5,-488 1253.5,-494 1253.5,-500 1253.5,-500 1253.5,-544 1253.5,-544 1253.5,-550 1247.5,-556 1241.5,-556\"/>\r\n",
       "<text text-anchor=\"middle\" x=\"1176\" y=\"-540.8\" font-family=\"Helvetica,sans-Serif\" font-size=\"14.00\">relationship &lt;= 0.5</text>\r\n",
       "<text text-anchor=\"middle\" x=\"1176\" y=\"-525.8\" font-family=\"Helvetica,sans-Serif\" font-size=\"14.00\">gini = 0.365</text>\r\n",
       "<text text-anchor=\"middle\" x=\"1176\" y=\"-510.8\" font-family=\"Helvetica,sans-Serif\" font-size=\"14.00\">samples = 22792</text>\r\n",
       "<text text-anchor=\"middle\" x=\"1176\" y=\"-495.8\" font-family=\"Helvetica,sans-Serif\" font-size=\"14.00\">value = [17325, 5467]</text>\r\n",
       "</g>\r\n",
       "<!-- 1 -->\r\n",
       "<g id=\"node2\" class=\"node\">\r\n",
       "<title>1</title>\r\n",
       "<path fill=\"#fae7d9\" stroke=\"black\" d=\"M952,-452C952,-452 814,-452 814,-452 808,-452 802,-446 802,-440 802,-440 802,-396 802,-396 802,-390 808,-384 814,-384 814,-384 952,-384 952,-384 958,-384 964,-390 964,-396 964,-396 964,-440 964,-440 964,-446 958,-452 952,-452\"/>\r\n",
       "<text text-anchor=\"middle\" x=\"883\" y=\"-436.8\" font-family=\"Helvetica,sans-Serif\" font-size=\"14.00\">education&#45;num &lt;= 11.5</text>\r\n",
       "<text text-anchor=\"middle\" x=\"883\" y=\"-421.8\" font-family=\"Helvetica,sans-Serif\" font-size=\"14.00\">gini = 0.494</text>\r\n",
       "<text text-anchor=\"middle\" x=\"883\" y=\"-406.8\" font-family=\"Helvetica,sans-Serif\" font-size=\"14.00\">samples = 9208</text>\r\n",
       "<text text-anchor=\"middle\" x=\"883\" y=\"-391.8\" font-family=\"Helvetica,sans-Serif\" font-size=\"14.00\">value = [5091, 4117]</text>\r\n",
       "</g>\r\n",
       "<!-- 0&#45;&gt;1 -->\r\n",
       "<g id=\"edge1\" class=\"edge\">\r\n",
       "<title>0&#45;&gt;1</title>\r\n",
       "<path fill=\"none\" stroke=\"black\" d=\"M1098.25,-493.93C1059.95,-480.6 1013.55,-464.45 973.65,-450.56\"/>\r\n",
       "<polygon fill=\"black\" stroke=\"black\" points=\"974.78,-447.24 964.19,-447.26 972.48,-453.86 974.78,-447.24\"/>\r\n",
       "<text text-anchor=\"middle\" x=\"975.07\" y=\"-466.07\" font-family=\"Helvetica,sans-Serif\" font-size=\"14.00\">True</text>\r\n",
       "</g>\r\n",
       "<!-- 248 -->\r\n",
       "<g id=\"node29\" class=\"node\">\r\n",
       "<title>248</title>\r\n",
       "<path fill=\"#e88f4f\" stroke=\"black\" d=\"M1536.5,-452C1536.5,-452 1405.5,-452 1405.5,-452 1399.5,-452 1393.5,-446 1393.5,-440 1393.5,-440 1393.5,-396 1393.5,-396 1393.5,-390 1399.5,-384 1405.5,-384 1405.5,-384 1536.5,-384 1536.5,-384 1542.5,-384 1548.5,-390 1548.5,-396 1548.5,-396 1548.5,-440 1548.5,-440 1548.5,-446 1542.5,-452 1536.5,-452\"/>\r\n",
       "<text text-anchor=\"middle\" x=\"1471\" y=\"-436.8\" font-family=\"Helvetica,sans-Serif\" font-size=\"14.00\">capital&#45;gain &lt;= 90.5</text>\r\n",
       "<text text-anchor=\"middle\" x=\"1471\" y=\"-421.8\" font-family=\"Helvetica,sans-Serif\" font-size=\"14.00\">gini = 0.179</text>\r\n",
       "<text text-anchor=\"middle\" x=\"1471\" y=\"-406.8\" font-family=\"Helvetica,sans-Serif\" font-size=\"14.00\">samples = 13584</text>\r\n",
       "<text text-anchor=\"middle\" x=\"1471\" y=\"-391.8\" font-family=\"Helvetica,sans-Serif\" font-size=\"14.00\">value = [12234, 1350]</text>\r\n",
       "</g>\r\n",
       "<!-- 0&#45;&gt;248 -->\r\n",
       "<g id=\"edge28\" class=\"edge\">\r\n",
       "<title>0&#45;&gt;248</title>\r\n",
       "<path fill=\"none\" stroke=\"black\" d=\"M1253.51,-494.2C1293.58,-480.35 1342.62,-463.39 1383.98,-449.09\"/>\r\n",
       "<polygon fill=\"black\" stroke=\"black\" points=\"1385.19,-452.37 1393.5,-445.8 1382.9,-445.76 1385.19,-452.37\"/>\r\n",
       "<text text-anchor=\"middle\" x=\"1382.57\" y=\"-464.58\" font-family=\"Helvetica,sans-Serif\" font-size=\"14.00\">False</text>\r\n",
       "</g>\r\n",
       "<!-- 2 -->\r\n",
       "<g id=\"node3\" class=\"node\">\r\n",
       "<title>2</title>\r\n",
       "<path fill=\"#f2bf9a\" stroke=\"black\" d=\"M511,-348C511,-348 389,-348 389,-348 383,-348 377,-342 377,-336 377,-336 377,-292 377,-292 377,-286 383,-280 389,-280 389,-280 511,-280 511,-280 517,-280 523,-286 523,-292 523,-292 523,-336 523,-336 523,-342 517,-348 511,-348\"/>\r\n",
       "<text text-anchor=\"middle\" x=\"450\" y=\"-332.8\" font-family=\"Helvetica,sans-Serif\" font-size=\"14.00\">capital&#45;gain &lt;= 78.0</text>\r\n",
       "<text text-anchor=\"middle\" x=\"450\" y=\"-317.8\" font-family=\"Helvetica,sans-Serif\" font-size=\"14.00\">gini = 0.441</text>\r\n",
       "<text text-anchor=\"middle\" x=\"450\" y=\"-302.8\" font-family=\"Helvetica,sans-Serif\" font-size=\"14.00\">samples = 6424</text>\r\n",
       "<text text-anchor=\"middle\" x=\"450\" y=\"-287.8\" font-family=\"Helvetica,sans-Serif\" font-size=\"14.00\">value = [4312, 2112]</text>\r\n",
       "</g>\r\n",
       "<!-- 1&#45;&gt;2 -->\r\n",
       "<g id=\"edge2\" class=\"edge\">\r\n",
       "<title>1&#45;&gt;2</title>\r\n",
       "<path fill=\"none\" stroke=\"black\" d=\"M801.81,-397.87C725.18,-379.82 610.79,-352.88 533.43,-334.65\"/>\r\n",
       "<polygon fill=\"black\" stroke=\"black\" points=\"533.77,-331.14 523.24,-332.25 532.17,-337.95 533.77,-331.14\"/>\r\n",
       "</g>\r\n",
       "<!-- 145 -->\r\n",
       "<g id=\"node16\" class=\"node\">\r\n",
       "<title>145</title>\r\n",
       "<path fill=\"#86c3ef\" stroke=\"black\" d=\"M941,-348C941,-348 825,-348 825,-348 819,-348 813,-342 813,-336 813,-336 813,-292 813,-292 813,-286 819,-280 825,-280 825,-280 941,-280 941,-280 947,-280 953,-286 953,-292 953,-292 953,-336 953,-336 953,-342 947,-348 941,-348\"/>\r\n",
       "<text text-anchor=\"middle\" x=\"883\" y=\"-332.8\" font-family=\"Helvetica,sans-Serif\" font-size=\"14.00\">capital&#45;gain &lt;= 78.0</text>\r\n",
       "<text text-anchor=\"middle\" x=\"883\" y=\"-317.8\" font-family=\"Helvetica,sans-Serif\" font-size=\"14.00\">gini = 0.403</text>\r\n",
       "<text text-anchor=\"middle\" x=\"883\" y=\"-302.8\" font-family=\"Helvetica,sans-Serif\" font-size=\"14.00\">samples = 2784</text>\r\n",
       "<text text-anchor=\"middle\" x=\"883\" y=\"-287.8\" font-family=\"Helvetica,sans-Serif\" font-size=\"14.00\">value = [779, 2005]</text>\r\n",
       "</g>\r\n",
       "<!-- 1&#45;&gt;145 -->\r\n",
       "<g id=\"edge15\" class=\"edge\">\r\n",
       "<title>1&#45;&gt;145</title>\r\n",
       "<path fill=\"none\" stroke=\"black\" d=\"M883,-383.88C883,-375.78 883,-366.98 883,-358.47\"/>\r\n",
       "<polygon fill=\"black\" stroke=\"black\" points=\"886.5,-358.3 883,-348.3 879.5,-358.3 886.5,-358.3\"/>\r\n",
       "</g>\r\n",
       "<!-- 3 -->\r\n",
       "<g id=\"node4\" class=\"node\">\r\n",
       "<title>3</title>\r\n",
       "<path fill=\"#f0b68c\" stroke=\"black\" d=\"M296,-244C296,-244 166,-244 166,-244 160,-244 154,-238 154,-232 154,-232 154,-188 154,-188 154,-182 160,-176 166,-176 166,-176 296,-176 296,-176 302,-176 308,-182 308,-188 308,-188 308,-232 308,-232 308,-238 302,-244 296,-244\"/>\r\n",
       "<text text-anchor=\"middle\" x=\"231\" y=\"-228.8\" font-family=\"Helvetica,sans-Serif\" font-size=\"14.00\">education&#45;num &lt;= 7.5</text>\r\n",
       "<text text-anchor=\"middle\" x=\"231\" y=\"-213.8\" font-family=\"Helvetica,sans-Serif\" font-size=\"14.00\">gini = 0.416</text>\r\n",
       "<text text-anchor=\"middle\" x=\"231\" y=\"-198.8\" font-family=\"Helvetica,sans-Serif\" font-size=\"14.00\">samples = 6106</text>\r\n",
       "<text text-anchor=\"middle\" x=\"231\" y=\"-183.8\" font-family=\"Helvetica,sans-Serif\" font-size=\"14.00\">value = [4307, 1799]</text>\r\n",
       "</g>\r\n",
       "<!-- 2&#45;&gt;3 -->\r\n",
       "<g id=\"edge3\" class=\"edge\">\r\n",
       "<title>2&#45;&gt;3</title>\r\n",
       "<path fill=\"none\" stroke=\"black\" d=\"M378.9,-279.88C357.37,-269.86 333.57,-258.77 311.48,-248.48\"/>\r\n",
       "<polygon fill=\"black\" stroke=\"black\" points=\"312.66,-245.17 302.12,-244.12 309.71,-251.52 312.66,-245.17\"/>\r\n",
       "</g>\r\n",
       "<!-- 130 -->\r\n",
       "<g id=\"node11\" class=\"node\">\r\n",
       "<title>130</title>\r\n",
       "<path fill=\"#3c9fe5\" stroke=\"black\" d=\"M517.5,-244C517.5,-244 382.5,-244 382.5,-244 376.5,-244 370.5,-238 370.5,-232 370.5,-232 370.5,-188 370.5,-188 370.5,-182 376.5,-176 382.5,-176 382.5,-176 517.5,-176 517.5,-176 523.5,-176 529.5,-182 529.5,-188 529.5,-188 529.5,-232 529.5,-232 529.5,-238 523.5,-244 517.5,-244\"/>\r\n",
       "<text text-anchor=\"middle\" x=\"450\" y=\"-228.8\" font-family=\"Helvetica,sans-Serif\" font-size=\"14.00\">hours&#45;per&#45;week &lt;= 7.0</text>\r\n",
       "<text text-anchor=\"middle\" x=\"450\" y=\"-213.8\" font-family=\"Helvetica,sans-Serif\" font-size=\"14.00\">gini = 0.031</text>\r\n",
       "<text text-anchor=\"middle\" x=\"450\" y=\"-198.8\" font-family=\"Helvetica,sans-Serif\" font-size=\"14.00\">samples = 318</text>\r\n",
       "<text text-anchor=\"middle\" x=\"450\" y=\"-183.8\" font-family=\"Helvetica,sans-Serif\" font-size=\"14.00\">value = [5, 313]</text>\r\n",
       "</g>\r\n",
       "<!-- 2&#45;&gt;130 -->\r\n",
       "<g id=\"edge10\" class=\"edge\">\r\n",
       "<title>2&#45;&gt;130</title>\r\n",
       "<path fill=\"none\" stroke=\"black\" d=\"M450,-279.88C450,-271.78 450,-262.98 450,-254.47\"/>\r\n",
       "<polygon fill=\"black\" stroke=\"black\" points=\"453.5,-254.3 450,-244.3 446.5,-254.3 453.5,-254.3\"/>\r\n",
       "</g>\r\n",
       "<!-- 4 -->\r\n",
       "<g id=\"node5\" class=\"node\">\r\n",
       "<title>4</title>\r\n",
       "<path fill=\"#e88e4e\" stroke=\"black\" d=\"M128,-140C128,-140 12,-140 12,-140 6,-140 0,-134 0,-128 0,-128 0,-84 0,-84 0,-78 6,-72 12,-72 12,-72 128,-72 128,-72 134,-72 140,-78 140,-84 140,-84 140,-128 140,-128 140,-134 134,-140 128,-140\"/>\r\n",
       "<text text-anchor=\"middle\" x=\"70\" y=\"-124.8\" font-family=\"Helvetica,sans-Serif\" font-size=\"14.00\">capital&#45;loss &lt;= 40.0</text>\r\n",
       "<text text-anchor=\"middle\" x=\"70\" y=\"-109.8\" font-family=\"Helvetica,sans-Serif\" font-size=\"14.00\">gini = 0.174</text>\r\n",
       "<text text-anchor=\"middle\" x=\"70\" y=\"-94.8\" font-family=\"Helvetica,sans-Serif\" font-size=\"14.00\">samples = 1037</text>\r\n",
       "<text text-anchor=\"middle\" x=\"70\" y=\"-79.8\" font-family=\"Helvetica,sans-Serif\" font-size=\"14.00\">value = [937, 100]</text>\r\n",
       "</g>\r\n",
       "<!-- 3&#45;&gt;4 -->\r\n",
       "<g id=\"edge4\" class=\"edge\">\r\n",
       "<title>3&#45;&gt;4</title>\r\n",
       "<path fill=\"none\" stroke=\"black\" d=\"M178.73,-175.88C163.47,-166.21 146.65,-155.56 130.91,-145.59\"/>\r\n",
       "<polygon fill=\"black\" stroke=\"black\" points=\"132.61,-142.52 122.29,-140.12 128.86,-148.43 132.61,-142.52\"/>\r\n",
       "</g>\r\n",
       "<!-- 51 -->\r\n",
       "<g id=\"node8\" class=\"node\">\r\n",
       "<title>51</title>\r\n",
       "<path fill=\"#f2c19d\" stroke=\"black\" d=\"M292,-140C292,-140 170,-140 170,-140 164,-140 158,-134 158,-128 158,-128 158,-84 158,-84 158,-78 164,-72 170,-72 170,-72 292,-72 292,-72 298,-72 304,-78 304,-84 304,-84 304,-128 304,-128 304,-134 298,-140 292,-140\"/>\r\n",
       "<text text-anchor=\"middle\" x=\"231\" y=\"-124.8\" font-family=\"Helvetica,sans-Serif\" font-size=\"14.00\">capital&#45;loss &lt;= 39.5</text>\r\n",
       "<text text-anchor=\"middle\" x=\"231\" y=\"-109.8\" font-family=\"Helvetica,sans-Serif\" font-size=\"14.00\">gini = 0.446</text>\r\n",
       "<text text-anchor=\"middle\" x=\"231\" y=\"-94.8\" font-family=\"Helvetica,sans-Serif\" font-size=\"14.00\">samples = 5069</text>\r\n",
       "<text text-anchor=\"middle\" x=\"231\" y=\"-79.8\" font-family=\"Helvetica,sans-Serif\" font-size=\"14.00\">value = [3370, 1699]</text>\r\n",
       "</g>\r\n",
       "<!-- 3&#45;&gt;51 -->\r\n",
       "<g id=\"edge7\" class=\"edge\">\r\n",
       "<title>3&#45;&gt;51</title>\r\n",
       "<path fill=\"none\" stroke=\"black\" d=\"M231,-175.88C231,-167.78 231,-158.98 231,-150.47\"/>\r\n",
       "<polygon fill=\"black\" stroke=\"black\" points=\"234.5,-150.3 231,-140.3 227.5,-150.3 234.5,-150.3\"/>\r\n",
       "</g>\r\n",
       "<!-- 5 -->\r\n",
       "<g id=\"node6\" class=\"node\">\r\n",
       "<title>5</title>\r\n",
       "<path fill=\"#c0c0c0\" stroke=\"black\" d=\"M49,-36C49,-36 19,-36 19,-36 13,-36 7,-30 7,-24 7,-24 7,-12 7,-12 7,-6 13,0 19,0 19,0 49,0 49,0 55,0 61,-6 61,-12 61,-12 61,-24 61,-24 61,-30 55,-36 49,-36\"/>\r\n",
       "<text text-anchor=\"middle\" x=\"34\" y=\"-14.3\" font-family=\"Helvetica,sans-Serif\" font-size=\"14.00\">(...)</text>\r\n",
       "</g>\r\n",
       "<!-- 4&#45;&gt;5 -->\r\n",
       "<g id=\"edge5\" class=\"edge\">\r\n",
       "<title>4&#45;&gt;5</title>\r\n",
       "<path fill=\"none\" stroke=\"black\" d=\"M56.18,-72C52.54,-63.28 48.64,-53.98 45.16,-45.65\"/>\r\n",
       "<polygon fill=\"black\" stroke=\"black\" points=\"48.38,-44.28 41.29,-36.4 41.92,-46.98 48.38,-44.28\"/>\r\n",
       "</g>\r\n",
       "<!-- 46 -->\r\n",
       "<g id=\"node7\" class=\"node\">\r\n",
       "<title>46</title>\r\n",
       "<path fill=\"#c0c0c0\" stroke=\"black\" d=\"M121,-36C121,-36 91,-36 91,-36 85,-36 79,-30 79,-24 79,-24 79,-12 79,-12 79,-6 85,0 91,0 91,0 121,0 121,0 127,0 133,-6 133,-12 133,-12 133,-24 133,-24 133,-30 127,-36 121,-36\"/>\r\n",
       "<text text-anchor=\"middle\" x=\"106\" y=\"-14.3\" font-family=\"Helvetica,sans-Serif\" font-size=\"14.00\">(...)</text>\r\n",
       "</g>\r\n",
       "<!-- 4&#45;&gt;46 -->\r\n",
       "<g id=\"edge6\" class=\"edge\">\r\n",
       "<title>4&#45;&gt;46</title>\r\n",
       "<path fill=\"none\" stroke=\"black\" d=\"M83.82,-72C87.46,-63.28 91.36,-53.98 94.84,-45.65\"/>\r\n",
       "<polygon fill=\"black\" stroke=\"black\" points=\"98.08,-46.98 98.71,-36.4 91.62,-44.28 98.08,-46.98\"/>\r\n",
       "</g>\r\n",
       "<!-- 52 -->\r\n",
       "<g id=\"node9\" class=\"node\">\r\n",
       "<title>52</title>\r\n",
       "<path fill=\"#c0c0c0\" stroke=\"black\" d=\"M220,-36C220,-36 190,-36 190,-36 184,-36 178,-30 178,-24 178,-24 178,-12 178,-12 178,-6 184,0 190,0 190,0 220,0 220,0 226,0 232,-6 232,-12 232,-12 232,-24 232,-24 232,-30 226,-36 220,-36\"/>\r\n",
       "<text text-anchor=\"middle\" x=\"205\" y=\"-14.3\" font-family=\"Helvetica,sans-Serif\" font-size=\"14.00\">(...)</text>\r\n",
       "</g>\r\n",
       "<!-- 51&#45;&gt;52 -->\r\n",
       "<g id=\"edge8\" class=\"edge\">\r\n",
       "<title>51&#45;&gt;52</title>\r\n",
       "<path fill=\"none\" stroke=\"black\" d=\"M221.02,-72C218.44,-63.47 215.7,-54.39 213.22,-46.2\"/>\r\n",
       "<polygon fill=\"black\" stroke=\"black\" points=\"216.51,-44.96 210.26,-36.4 209.81,-46.99 216.51,-44.96\"/>\r\n",
       "</g>\r\n",
       "<!-- 109 -->\r\n",
       "<g id=\"node10\" class=\"node\">\r\n",
       "<title>109</title>\r\n",
       "<path fill=\"#c0c0c0\" stroke=\"black\" d=\"M292,-36C292,-36 262,-36 262,-36 256,-36 250,-30 250,-24 250,-24 250,-12 250,-12 250,-6 256,0 262,0 262,0 292,0 292,0 298,0 304,-6 304,-12 304,-12 304,-24 304,-24 304,-30 298,-36 292,-36\"/>\r\n",
       "<text text-anchor=\"middle\" x=\"277\" y=\"-14.3\" font-family=\"Helvetica,sans-Serif\" font-size=\"14.00\">(...)</text>\r\n",
       "</g>\r\n",
       "<!-- 51&#45;&gt;109 -->\r\n",
       "<g id=\"edge9\" class=\"edge\">\r\n",
       "<title>51&#45;&gt;109</title>\r\n",
       "<path fill=\"none\" stroke=\"black\" d=\"M248.65,-72C253.37,-63.19 258.4,-53.78 262.89,-45.38\"/>\r\n",
       "<polygon fill=\"black\" stroke=\"black\" points=\"266.06,-46.87 267.69,-36.4 259.89,-43.57 266.06,-46.87\"/>\r\n",
       "</g>\r\n",
       "<!-- 131 -->\r\n",
       "<g id=\"node12\" class=\"node\">\r\n",
       "<title>131</title>\r\n",
       "<path fill=\"#e58139\" stroke=\"black\" d=\"M407.5,-132.5C407.5,-132.5 334.5,-132.5 334.5,-132.5 328.5,-132.5 322.5,-126.5 322.5,-120.5 322.5,-120.5 322.5,-91.5 322.5,-91.5 322.5,-85.5 328.5,-79.5 334.5,-79.5 334.5,-79.5 407.5,-79.5 407.5,-79.5 413.5,-79.5 419.5,-85.5 419.5,-91.5 419.5,-91.5 419.5,-120.5 419.5,-120.5 419.5,-126.5 413.5,-132.5 407.5,-132.5\"/>\r\n",
       "<text text-anchor=\"middle\" x=\"371\" y=\"-117.3\" font-family=\"Helvetica,sans-Serif\" font-size=\"14.00\">gini = 0.0</text>\r\n",
       "<text text-anchor=\"middle\" x=\"371\" y=\"-102.3\" font-family=\"Helvetica,sans-Serif\" font-size=\"14.00\">samples = 1</text>\r\n",
       "<text text-anchor=\"middle\" x=\"371\" y=\"-87.3\" font-family=\"Helvetica,sans-Serif\" font-size=\"14.00\">value = [1, 0]</text>\r\n",
       "</g>\r\n",
       "<!-- 130&#45;&gt;131 -->\r\n",
       "<g id=\"edge11\" class=\"edge\">\r\n",
       "<title>130&#45;&gt;131</title>\r\n",
       "<path fill=\"none\" stroke=\"black\" d=\"M424.35,-175.88C415.58,-164.56 405.76,-151.88 396.96,-140.52\"/>\r\n",
       "<polygon fill=\"black\" stroke=\"black\" points=\"399.66,-138.28 390.77,-132.52 394.12,-142.57 399.66,-138.28\"/>\r\n",
       "</g>\r\n",
       "<!-- 132 -->\r\n",
       "<g id=\"node13\" class=\"node\">\r\n",
       "<title>132</title>\r\n",
       "<path fill=\"#3c9ee5\" stroke=\"black\" d=\"M538.5,-140C538.5,-140 449.5,-140 449.5,-140 443.5,-140 437.5,-134 437.5,-128 437.5,-128 437.5,-84 437.5,-84 437.5,-78 443.5,-72 449.5,-72 449.5,-72 538.5,-72 538.5,-72 544.5,-72 550.5,-78 550.5,-84 550.5,-84 550.5,-128 550.5,-128 550.5,-134 544.5,-140 538.5,-140\"/>\r\n",
       "<text text-anchor=\"middle\" x=\"494\" y=\"-124.8\" font-family=\"Helvetica,sans-Serif\" font-size=\"14.00\">age &lt;= 69.0</text>\r\n",
       "<text text-anchor=\"middle\" x=\"494\" y=\"-109.8\" font-family=\"Helvetica,sans-Serif\" font-size=\"14.00\">gini = 0.025</text>\r\n",
       "<text text-anchor=\"middle\" x=\"494\" y=\"-94.8\" font-family=\"Helvetica,sans-Serif\" font-size=\"14.00\">samples = 317</text>\r\n",
       "<text text-anchor=\"middle\" x=\"494\" y=\"-79.8\" font-family=\"Helvetica,sans-Serif\" font-size=\"14.00\">value = [4, 313]</text>\r\n",
       "</g>\r\n",
       "<!-- 130&#45;&gt;132 -->\r\n",
       "<g id=\"edge12\" class=\"edge\">\r\n",
       "<title>130&#45;&gt;132</title>\r\n",
       "<path fill=\"none\" stroke=\"black\" d=\"M464.29,-175.88C467.9,-167.51 471.83,-158.4 475.61,-149.63\"/>\r\n",
       "<polygon fill=\"black\" stroke=\"black\" points=\"478.89,-150.87 479.64,-140.3 472.46,-148.1 478.89,-150.87\"/>\r\n",
       "</g>\r\n",
       "<!-- 133 -->\r\n",
       "<g id=\"node14\" class=\"node\">\r\n",
       "<title>133</title>\r\n",
       "<path fill=\"#c0c0c0\" stroke=\"black\" d=\"M466,-36C466,-36 436,-36 436,-36 430,-36 424,-30 424,-24 424,-24 424,-12 424,-12 424,-6 430,0 436,0 436,0 466,0 466,0 472,0 478,-6 478,-12 478,-12 478,-24 478,-24 478,-30 472,-36 466,-36\"/>\r\n",
       "<text text-anchor=\"middle\" x=\"451\" y=\"-14.3\" font-family=\"Helvetica,sans-Serif\" font-size=\"14.00\">(...)</text>\r\n",
       "</g>\r\n",
       "<!-- 132&#45;&gt;133 -->\r\n",
       "<g id=\"edge13\" class=\"edge\">\r\n",
       "<title>132&#45;&gt;133</title>\r\n",
       "<path fill=\"none\" stroke=\"black\" d=\"M477.5,-72C473.09,-63.19 468.39,-53.78 464.19,-45.38\"/>\r\n",
       "<polygon fill=\"black\" stroke=\"black\" points=\"467.3,-43.78 459.7,-36.4 461.04,-46.91 467.3,-43.78\"/>\r\n",
       "</g>\r\n",
       "<!-- 144 -->\r\n",
       "<g id=\"node15\" class=\"node\">\r\n",
       "<title>144</title>\r\n",
       "<path fill=\"#c0c0c0\" stroke=\"black\" d=\"M538,-36C538,-36 508,-36 508,-36 502,-36 496,-30 496,-24 496,-24 496,-12 496,-12 496,-6 502,0 508,0 508,0 538,0 538,0 544,0 550,-6 550,-12 550,-12 550,-24 550,-24 550,-30 544,-36 538,-36\"/>\r\n",
       "<text text-anchor=\"middle\" x=\"523\" y=\"-14.3\" font-family=\"Helvetica,sans-Serif\" font-size=\"14.00\">(...)</text>\r\n",
       "</g>\r\n",
       "<!-- 132&#45;&gt;144 -->\r\n",
       "<g id=\"edge14\" class=\"edge\">\r\n",
       "<title>132&#45;&gt;144</title>\r\n",
       "<path fill=\"none\" stroke=\"black\" d=\"M505.13,-72C508.04,-63.38 511.13,-54.19 513.92,-45.92\"/>\r\n",
       "<polygon fill=\"black\" stroke=\"black\" points=\"517.25,-47 517.13,-36.4 510.62,-44.76 517.25,-47\"/>\r\n",
       "</g>\r\n",
       "<!-- 146 -->\r\n",
       "<g id=\"node17\" class=\"node\">\r\n",
       "<title>146</title>\r\n",
       "<path fill=\"#9acdf2\" stroke=\"black\" d=\"M868.5,-244C868.5,-244 725.5,-244 725.5,-244 719.5,-244 713.5,-238 713.5,-232 713.5,-232 713.5,-188 713.5,-188 713.5,-182 719.5,-176 725.5,-176 725.5,-176 868.5,-176 868.5,-176 874.5,-176 880.5,-182 880.5,-188 880.5,-188 880.5,-232 880.5,-232 880.5,-238 874.5,-244 868.5,-244\"/>\r\n",
       "<text text-anchor=\"middle\" x=\"797\" y=\"-228.8\" font-family=\"Helvetica,sans-Serif\" font-size=\"14.00\">hours&#45;per&#45;week &lt;= 30.0</text>\r\n",
       "<text text-anchor=\"middle\" x=\"797\" y=\"-213.8\" font-family=\"Helvetica,sans-Serif\" font-size=\"14.00\">gini = 0.441</text>\r\n",
       "<text text-anchor=\"middle\" x=\"797\" y=\"-198.8\" font-family=\"Helvetica,sans-Serif\" font-size=\"14.00\">samples = 2367</text>\r\n",
       "<text text-anchor=\"middle\" x=\"797\" y=\"-183.8\" font-family=\"Helvetica,sans-Serif\" font-size=\"14.00\">value = [776, 1591]</text>\r\n",
       "</g>\r\n",
       "<!-- 145&#45;&gt;146 -->\r\n",
       "<g id=\"edge16\" class=\"edge\">\r\n",
       "<title>145&#45;&gt;146</title>\r\n",
       "<path fill=\"none\" stroke=\"black\" d=\"M855.08,-279.88C847.57,-270.98 839.36,-261.24 831.53,-251.96\"/>\r\n",
       "<polygon fill=\"black\" stroke=\"black\" points=\"834.2,-249.69 825.08,-244.3 828.85,-254.2 834.2,-249.69\"/>\r\n",
       "</g>\r\n",
       "<!-- 235 -->\r\n",
       "<g id=\"node24\" class=\"node\">\r\n",
       "<title>235</title>\r\n",
       "<path fill=\"#3a9ee5\" stroke=\"black\" d=\"M1013.5,-244C1013.5,-244 924.5,-244 924.5,-244 918.5,-244 912.5,-238 912.5,-232 912.5,-232 912.5,-188 912.5,-188 912.5,-182 918.5,-176 924.5,-176 924.5,-176 1013.5,-176 1013.5,-176 1019.5,-176 1025.5,-182 1025.5,-188 1025.5,-188 1025.5,-232 1025.5,-232 1025.5,-238 1019.5,-244 1013.5,-244\"/>\r\n",
       "<text text-anchor=\"middle\" x=\"969\" y=\"-228.8\" font-family=\"Helvetica,sans-Serif\" font-size=\"14.00\">age &lt;= 67.5</text>\r\n",
       "<text text-anchor=\"middle\" x=\"969\" y=\"-213.8\" font-family=\"Helvetica,sans-Serif\" font-size=\"14.00\">gini = 0.014</text>\r\n",
       "<text text-anchor=\"middle\" x=\"969\" y=\"-198.8\" font-family=\"Helvetica,sans-Serif\" font-size=\"14.00\">samples = 417</text>\r\n",
       "<text text-anchor=\"middle\" x=\"969\" y=\"-183.8\" font-family=\"Helvetica,sans-Serif\" font-size=\"14.00\">value = [3, 414]</text>\r\n",
       "</g>\r\n",
       "<!-- 145&#45;&gt;235 -->\r\n",
       "<g id=\"edge23\" class=\"edge\">\r\n",
       "<title>145&#45;&gt;235</title>\r\n",
       "<path fill=\"none\" stroke=\"black\" d=\"M910.92,-279.88C918.43,-270.98 926.64,-261.24 934.47,-251.96\"/>\r\n",
       "<polygon fill=\"black\" stroke=\"black\" points=\"937.15,-254.2 940.92,-244.3 931.8,-249.69 937.15,-254.2\"/>\r\n",
       "</g>\r\n",
       "<!-- 147 -->\r\n",
       "<g id=\"node18\" class=\"node\">\r\n",
       "<title>147</title>\r\n",
       "<path fill=\"#f0b48a\" stroke=\"black\" d=\"M697,-140C697,-140 581,-140 581,-140 575,-140 569,-134 569,-128 569,-128 569,-84 569,-84 569,-78 575,-72 581,-72 581,-72 697,-72 697,-72 703,-72 709,-78 709,-84 709,-84 709,-128 709,-128 709,-134 703,-140 697,-140\"/>\r\n",
       "<text text-anchor=\"middle\" x=\"639\" y=\"-124.8\" font-family=\"Helvetica,sans-Serif\" font-size=\"14.00\">capital&#45;loss &lt;= 64.0</text>\r\n",
       "<text text-anchor=\"middle\" x=\"639\" y=\"-109.8\" font-family=\"Helvetica,sans-Serif\" font-size=\"14.00\">gini = 0.412</text>\r\n",
       "<text text-anchor=\"middle\" x=\"639\" y=\"-94.8\" font-family=\"Helvetica,sans-Serif\" font-size=\"14.00\">samples = 169</text>\r\n",
       "<text text-anchor=\"middle\" x=\"639\" y=\"-79.8\" font-family=\"Helvetica,sans-Serif\" font-size=\"14.00\">value = [120, 49]</text>\r\n",
       "</g>\r\n",
       "<!-- 146&#45;&gt;147 -->\r\n",
       "<g id=\"edge17\" class=\"edge\">\r\n",
       "<title>146&#45;&gt;147</title>\r\n",
       "<path fill=\"none\" stroke=\"black\" d=\"M745.7,-175.88C730.72,-166.21 714.23,-155.56 698.77,-145.59\"/>\r\n",
       "<polygon fill=\"black\" stroke=\"black\" points=\"700.61,-142.61 690.31,-140.12 696.81,-148.49 700.61,-142.61\"/>\r\n",
       "</g>\r\n",
       "<!-- 184 -->\r\n",
       "<g id=\"node21\" class=\"node\">\r\n",
       "<title>184</title>\r\n",
       "<path fill=\"#8dc7f0\" stroke=\"black\" d=\"M855,-140C855,-140 739,-140 739,-140 733,-140 727,-134 727,-128 727,-128 727,-84 727,-84 727,-78 733,-72 739,-72 739,-72 855,-72 855,-72 861,-72 867,-78 867,-84 867,-84 867,-128 867,-128 867,-134 861,-140 855,-140\"/>\r\n",
       "<text text-anchor=\"middle\" x=\"797\" y=\"-124.8\" font-family=\"Helvetica,sans-Serif\" font-size=\"14.00\">capital&#45;loss &lt;= 40.5</text>\r\n",
       "<text text-anchor=\"middle\" x=\"797\" y=\"-109.8\" font-family=\"Helvetica,sans-Serif\" font-size=\"14.00\">gini = 0.419</text>\r\n",
       "<text text-anchor=\"middle\" x=\"797\" y=\"-94.8\" font-family=\"Helvetica,sans-Serif\" font-size=\"14.00\">samples = 2198</text>\r\n",
       "<text text-anchor=\"middle\" x=\"797\" y=\"-79.8\" font-family=\"Helvetica,sans-Serif\" font-size=\"14.00\">value = [656, 1542]</text>\r\n",
       "</g>\r\n",
       "<!-- 146&#45;&gt;184 -->\r\n",
       "<g id=\"edge20\" class=\"edge\">\r\n",
       "<title>146&#45;&gt;184</title>\r\n",
       "<path fill=\"none\" stroke=\"black\" d=\"M797,-175.88C797,-167.78 797,-158.98 797,-150.47\"/>\r\n",
       "<polygon fill=\"black\" stroke=\"black\" points=\"800.5,-150.3 797,-140.3 793.5,-150.3 800.5,-150.3\"/>\r\n",
       "</g>\r\n",
       "<!-- 148 -->\r\n",
       "<g id=\"node19\" class=\"node\">\r\n",
       "<title>148</title>\r\n",
       "<path fill=\"#c0c0c0\" stroke=\"black\" d=\"M631,-36C631,-36 601,-36 601,-36 595,-36 589,-30 589,-24 589,-24 589,-12 589,-12 589,-6 595,0 601,0 601,0 631,0 631,0 637,0 643,-6 643,-12 643,-12 643,-24 643,-24 643,-30 637,-36 631,-36\"/>\r\n",
       "<text text-anchor=\"middle\" x=\"616\" y=\"-14.3\" font-family=\"Helvetica,sans-Serif\" font-size=\"14.00\">(...)</text>\r\n",
       "</g>\r\n",
       "<!-- 147&#45;&gt;148 -->\r\n",
       "<g id=\"edge18\" class=\"edge\">\r\n",
       "<title>147&#45;&gt;148</title>\r\n",
       "<path fill=\"none\" stroke=\"black\" d=\"M630.17,-72C627.89,-63.47 625.46,-54.39 623.27,-46.2\"/>\r\n",
       "<polygon fill=\"black\" stroke=\"black\" points=\"626.62,-45.16 620.65,-36.4 619.86,-46.97 626.62,-45.16\"/>\r\n",
       "</g>\r\n",
       "<!-- 183 -->\r\n",
       "<g id=\"node20\" class=\"node\">\r\n",
       "<title>183</title>\r\n",
       "<path fill=\"#c0c0c0\" stroke=\"black\" d=\"M703,-36C703,-36 673,-36 673,-36 667,-36 661,-30 661,-24 661,-24 661,-12 661,-12 661,-6 667,0 673,0 673,0 703,0 703,0 709,0 715,-6 715,-12 715,-12 715,-24 715,-24 715,-30 709,-36 703,-36\"/>\r\n",
       "<text text-anchor=\"middle\" x=\"688\" y=\"-14.3\" font-family=\"Helvetica,sans-Serif\" font-size=\"14.00\">(...)</text>\r\n",
       "</g>\r\n",
       "<!-- 147&#45;&gt;183 -->\r\n",
       "<g id=\"edge19\" class=\"edge\">\r\n",
       "<title>147&#45;&gt;183</title>\r\n",
       "<path fill=\"none\" stroke=\"black\" d=\"M657.8,-72C662.88,-63.09 668.3,-53.58 673.12,-45.11\"/>\r\n",
       "<polygon fill=\"black\" stroke=\"black\" points=\"676.17,-46.82 678.08,-36.4 670.09,-43.36 676.17,-46.82\"/>\r\n",
       "</g>\r\n",
       "<!-- 185 -->\r\n",
       "<g id=\"node22\" class=\"node\">\r\n",
       "<title>185</title>\r\n",
       "<path fill=\"#c0c0c0\" stroke=\"black\" d=\"M786,-36C786,-36 756,-36 756,-36 750,-36 744,-30 744,-24 744,-24 744,-12 744,-12 744,-6 750,0 756,0 756,0 786,0 786,0 792,0 798,-6 798,-12 798,-12 798,-24 798,-24 798,-30 792,-36 786,-36\"/>\r\n",
       "<text text-anchor=\"middle\" x=\"771\" y=\"-14.3\" font-family=\"Helvetica,sans-Serif\" font-size=\"14.00\">(...)</text>\r\n",
       "</g>\r\n",
       "<!-- 184&#45;&gt;185 -->\r\n",
       "<g id=\"edge21\" class=\"edge\">\r\n",
       "<title>184&#45;&gt;185</title>\r\n",
       "<path fill=\"none\" stroke=\"black\" d=\"M787.02,-72C784.44,-63.47 781.7,-54.39 779.22,-46.2\"/>\r\n",
       "<polygon fill=\"black\" stroke=\"black\" points=\"782.51,-44.96 776.26,-36.4 775.81,-46.99 782.51,-44.96\"/>\r\n",
       "</g>\r\n",
       "<!-- 222 -->\r\n",
       "<g id=\"node23\" class=\"node\">\r\n",
       "<title>222</title>\r\n",
       "<path fill=\"#c0c0c0\" stroke=\"black\" d=\"M858,-36C858,-36 828,-36 828,-36 822,-36 816,-30 816,-24 816,-24 816,-12 816,-12 816,-6 822,0 828,0 828,0 858,0 858,0 864,0 870,-6 870,-12 870,-12 870,-24 870,-24 870,-30 864,-36 858,-36\"/>\r\n",
       "<text text-anchor=\"middle\" x=\"843\" y=\"-14.3\" font-family=\"Helvetica,sans-Serif\" font-size=\"14.00\">(...)</text>\r\n",
       "</g>\r\n",
       "<!-- 184&#45;&gt;222 -->\r\n",
       "<g id=\"edge22\" class=\"edge\">\r\n",
       "<title>184&#45;&gt;222</title>\r\n",
       "<path fill=\"none\" stroke=\"black\" d=\"M814.65,-72C819.37,-63.19 824.4,-53.78 828.89,-45.38\"/>\r\n",
       "<polygon fill=\"black\" stroke=\"black\" points=\"832.06,-46.87 833.69,-36.4 825.89,-43.57 832.06,-46.87\"/>\r\n",
       "</g>\r\n",
       "<!-- 236 -->\r\n",
       "<g id=\"node25\" class=\"node\">\r\n",
       "<title>236</title>\r\n",
       "<path fill=\"#3a9de5\" stroke=\"black\" d=\"M1040.5,-140C1040.5,-140 897.5,-140 897.5,-140 891.5,-140 885.5,-134 885.5,-128 885.5,-128 885.5,-84 885.5,-84 885.5,-78 891.5,-72 897.5,-72 897.5,-72 1040.5,-72 1040.5,-72 1046.5,-72 1052.5,-78 1052.5,-84 1052.5,-84 1052.5,-128 1052.5,-128 1052.5,-134 1046.5,-140 1040.5,-140\"/>\r\n",
       "<text text-anchor=\"middle\" x=\"969\" y=\"-124.8\" font-family=\"Helvetica,sans-Serif\" font-size=\"14.00\">hours&#45;per&#45;week &lt;= 21.5</text>\r\n",
       "<text text-anchor=\"middle\" x=\"969\" y=\"-109.8\" font-family=\"Helvetica,sans-Serif\" font-size=\"14.00\">gini = 0.01</text>\r\n",
       "<text text-anchor=\"middle\" x=\"969\" y=\"-94.8\" font-family=\"Helvetica,sans-Serif\" font-size=\"14.00\">samples = 414</text>\r\n",
       "<text text-anchor=\"middle\" x=\"969\" y=\"-79.8\" font-family=\"Helvetica,sans-Serif\" font-size=\"14.00\">value = [2, 412]</text>\r\n",
       "</g>\r\n",
       "<!-- 235&#45;&gt;236 -->\r\n",
       "<g id=\"edge24\" class=\"edge\">\r\n",
       "<title>235&#45;&gt;236</title>\r\n",
       "<path fill=\"none\" stroke=\"black\" d=\"M969,-175.88C969,-167.78 969,-158.98 969,-150.47\"/>\r\n",
       "<polygon fill=\"black\" stroke=\"black\" points=\"972.5,-150.3 969,-140.3 965.5,-150.3 972.5,-150.3\"/>\r\n",
       "</g>\r\n",
       "<!-- 247 -->\r\n",
       "<g id=\"node28\" class=\"node\">\r\n",
       "<title>247</title>\r\n",
       "<path fill=\"#9ccef2\" stroke=\"black\" d=\"M1155.5,-132.5C1155.5,-132.5 1082.5,-132.5 1082.5,-132.5 1076.5,-132.5 1070.5,-126.5 1070.5,-120.5 1070.5,-120.5 1070.5,-91.5 1070.5,-91.5 1070.5,-85.5 1076.5,-79.5 1082.5,-79.5 1082.5,-79.5 1155.5,-79.5 1155.5,-79.5 1161.5,-79.5 1167.5,-85.5 1167.5,-91.5 1167.5,-91.5 1167.5,-120.5 1167.5,-120.5 1167.5,-126.5 1161.5,-132.5 1155.5,-132.5\"/>\r\n",
       "<text text-anchor=\"middle\" x=\"1119\" y=\"-117.3\" font-family=\"Helvetica,sans-Serif\" font-size=\"14.00\">gini = 0.444</text>\r\n",
       "<text text-anchor=\"middle\" x=\"1119\" y=\"-102.3\" font-family=\"Helvetica,sans-Serif\" font-size=\"14.00\">samples = 3</text>\r\n",
       "<text text-anchor=\"middle\" x=\"1119\" y=\"-87.3\" font-family=\"Helvetica,sans-Serif\" font-size=\"14.00\">value = [1, 2]</text>\r\n",
       "</g>\r\n",
       "<!-- 235&#45;&gt;247 -->\r\n",
       "<g id=\"edge27\" class=\"edge\">\r\n",
       "<title>235&#45;&gt;247</title>\r\n",
       "<path fill=\"none\" stroke=\"black\" d=\"M1017.7,-175.88C1035.49,-163.79 1055.54,-150.15 1073.08,-138.22\"/>\r\n",
       "<polygon fill=\"black\" stroke=\"black\" points=\"1075.17,-141.04 1081.47,-132.52 1071.23,-135.25 1075.17,-141.04\"/>\r\n",
       "</g>\r\n",
       "<!-- 237 -->\r\n",
       "<g id=\"node26\" class=\"node\">\r\n",
       "<title>237</title>\r\n",
       "<path fill=\"#c0c0c0\" stroke=\"black\" d=\"M935,-36C935,-36 905,-36 905,-36 899,-36 893,-30 893,-24 893,-24 893,-12 893,-12 893,-6 899,0 905,0 905,0 935,0 935,0 941,0 947,-6 947,-12 947,-12 947,-24 947,-24 947,-30 941,-36 935,-36\"/>\r\n",
       "<text text-anchor=\"middle\" x=\"920\" y=\"-14.3\" font-family=\"Helvetica,sans-Serif\" font-size=\"14.00\">(...)</text>\r\n",
       "</g>\r\n",
       "<!-- 236&#45;&gt;237 -->\r\n",
       "<g id=\"edge25\" class=\"edge\">\r\n",
       "<title>236&#45;&gt;237</title>\r\n",
       "<path fill=\"none\" stroke=\"black\" d=\"M950.2,-72C945.12,-63.09 939.7,-53.58 934.88,-45.11\"/>\r\n",
       "<polygon fill=\"black\" stroke=\"black\" points=\"937.91,-43.36 929.92,-36.4 931.83,-46.82 937.91,-43.36\"/>\r\n",
       "</g>\r\n",
       "<!-- 240 -->\r\n",
       "<g id=\"node27\" class=\"node\">\r\n",
       "<title>240</title>\r\n",
       "<path fill=\"#c0c0c0\" stroke=\"black\" d=\"M1007,-36C1007,-36 977,-36 977,-36 971,-36 965,-30 965,-24 965,-24 965,-12 965,-12 965,-6 971,0 977,0 977,0 1007,0 1007,0 1013,0 1019,-6 1019,-12 1019,-12 1019,-24 1019,-24 1019,-30 1013,-36 1007,-36\"/>\r\n",
       "<text text-anchor=\"middle\" x=\"992\" y=\"-14.3\" font-family=\"Helvetica,sans-Serif\" font-size=\"14.00\">(...)</text>\r\n",
       "</g>\r\n",
       "<!-- 236&#45;&gt;240 -->\r\n",
       "<g id=\"edge26\" class=\"edge\">\r\n",
       "<title>236&#45;&gt;240</title>\r\n",
       "<path fill=\"none\" stroke=\"black\" d=\"M977.83,-72C980.11,-63.47 982.54,-54.39 984.73,-46.2\"/>\r\n",
       "<polygon fill=\"black\" stroke=\"black\" points=\"988.14,-46.97 987.35,-36.4 981.38,-45.16 988.14,-46.97\"/>\r\n",
       "</g>\r\n",
       "<!-- 249 -->\r\n",
       "<g id=\"node30\" class=\"node\">\r\n",
       "<title>249</title>\r\n",
       "<path fill=\"#e78c4a\" stroke=\"black\" d=\"M1536.5,-348C1536.5,-348 1405.5,-348 1405.5,-348 1399.5,-348 1393.5,-342 1393.5,-336 1393.5,-336 1393.5,-292 1393.5,-292 1393.5,-286 1399.5,-280 1405.5,-280 1405.5,-280 1536.5,-280 1536.5,-280 1542.5,-280 1548.5,-286 1548.5,-292 1548.5,-292 1548.5,-336 1548.5,-336 1548.5,-342 1542.5,-348 1536.5,-348\"/>\r\n",
       "<text text-anchor=\"middle\" x=\"1471\" y=\"-332.8\" font-family=\"Helvetica,sans-Serif\" font-size=\"14.00\">relationship &lt;= 4.5</text>\r\n",
       "<text text-anchor=\"middle\" x=\"1471\" y=\"-317.8\" font-family=\"Helvetica,sans-Serif\" font-size=\"14.00\">gini = 0.148</text>\r\n",
       "<text text-anchor=\"middle\" x=\"1471\" y=\"-302.8\" font-family=\"Helvetica,sans-Serif\" font-size=\"14.00\">samples = 13296</text>\r\n",
       "<text text-anchor=\"middle\" x=\"1471\" y=\"-287.8\" font-family=\"Helvetica,sans-Serif\" font-size=\"14.00\">value = [12224, 1072]</text>\r\n",
       "</g>\r\n",
       "<!-- 248&#45;&gt;249 -->\r\n",
       "<g id=\"edge29\" class=\"edge\">\r\n",
       "<title>248&#45;&gt;249</title>\r\n",
       "<path fill=\"none\" stroke=\"black\" d=\"M1471,-383.88C1471,-375.78 1471,-366.98 1471,-358.47\"/>\r\n",
       "<polygon fill=\"black\" stroke=\"black\" points=\"1474.5,-358.3 1471,-348.3 1467.5,-358.3 1474.5,-358.3\"/>\r\n",
       "</g>\r\n",
       "<!-- 504 -->\r\n",
       "<g id=\"node45\" class=\"node\">\r\n",
       "<title>504</title>\r\n",
       "<path fill=\"#40a1e6\" stroke=\"black\" d=\"M1762,-348C1762,-348 1664,-348 1664,-348 1658,-348 1652,-342 1652,-336 1652,-336 1652,-292 1652,-292 1652,-286 1658,-280 1664,-280 1664,-280 1762,-280 1762,-280 1768,-280 1774,-286 1774,-292 1774,-292 1774,-336 1774,-336 1774,-342 1768,-348 1762,-348\"/>\r\n",
       "<text text-anchor=\"middle\" x=\"1713\" y=\"-332.8\" font-family=\"Helvetica,sans-Serif\" font-size=\"14.00\">age &lt;= 3.0</text>\r\n",
       "<text text-anchor=\"middle\" x=\"1713\" y=\"-317.8\" font-family=\"Helvetica,sans-Serif\" font-size=\"14.00\">gini = 0.067</text>\r\n",
       "<text text-anchor=\"middle\" x=\"1713\" y=\"-302.8\" font-family=\"Helvetica,sans-Serif\" font-size=\"14.00\">samples = 288</text>\r\n",
       "<text text-anchor=\"middle\" x=\"1713\" y=\"-287.8\" font-family=\"Helvetica,sans-Serif\" font-size=\"14.00\">value = [10, 278]</text>\r\n",
       "</g>\r\n",
       "<!-- 248&#45;&gt;504 -->\r\n",
       "<g id=\"edge44\" class=\"edge\">\r\n",
       "<title>248&#45;&gt;504</title>\r\n",
       "<path fill=\"none\" stroke=\"black\" d=\"M1548.57,-384.31C1578.76,-371.58 1613.11,-357.1 1642.57,-344.68\"/>\r\n",
       "<polygon fill=\"black\" stroke=\"black\" points=\"1644.1,-347.84 1651.96,-340.73 1641.38,-341.39 1644.1,-347.84\"/>\r\n",
       "</g>\r\n",
       "<!-- 250 -->\r\n",
       "<g id=\"node31\" class=\"node\">\r\n",
       "<title>250</title>\r\n",
       "<path fill=\"#e68844\" stroke=\"black\" d=\"M1454,-244C1454,-244 1316,-244 1316,-244 1310,-244 1304,-238 1304,-232 1304,-232 1304,-188 1304,-188 1304,-182 1310,-176 1316,-176 1316,-176 1454,-176 1454,-176 1460,-176 1466,-182 1466,-188 1466,-188 1466,-232 1466,-232 1466,-238 1460,-244 1454,-244\"/>\r\n",
       "<text text-anchor=\"middle\" x=\"1385\" y=\"-228.8\" font-family=\"Helvetica,sans-Serif\" font-size=\"14.00\">education&#45;num &lt;= 11.5</text>\r\n",
       "<text text-anchor=\"middle\" x=\"1385\" y=\"-213.8\" font-family=\"Helvetica,sans-Serif\" font-size=\"14.00\">gini = 0.097</text>\r\n",
       "<text text-anchor=\"middle\" x=\"1385\" y=\"-198.8\" font-family=\"Helvetica,sans-Serif\" font-size=\"14.00\">samples = 12285</text>\r\n",
       "<text text-anchor=\"middle\" x=\"1385\" y=\"-183.8\" font-family=\"Helvetica,sans-Serif\" font-size=\"14.00\">value = [11656, 629]</text>\r\n",
       "</g>\r\n",
       "<!-- 249&#45;&gt;250 -->\r\n",
       "<g id=\"edge30\" class=\"edge\">\r\n",
       "<title>249&#45;&gt;250</title>\r\n",
       "<path fill=\"none\" stroke=\"black\" d=\"M1443.08,-279.88C1435.57,-270.98 1427.36,-261.24 1419.53,-251.96\"/>\r\n",
       "<polygon fill=\"black\" stroke=\"black\" points=\"1422.2,-249.69 1413.08,-244.3 1416.85,-254.2 1422.2,-249.69\"/>\r\n",
       "</g>\r\n",
       "<!-- 411 -->\r\n",
       "<g id=\"node38\" class=\"node\">\r\n",
       "<title>411</title>\r\n",
       "<path fill=\"#f9e3d3\" stroke=\"black\" d=\"M1634,-244C1634,-244 1496,-244 1496,-244 1490,-244 1484,-238 1484,-232 1484,-232 1484,-188 1484,-188 1484,-182 1490,-176 1496,-176 1496,-176 1634,-176 1634,-176 1640,-176 1646,-182 1646,-188 1646,-188 1646,-232 1646,-232 1646,-238 1640,-244 1634,-244\"/>\r\n",
       "<text text-anchor=\"middle\" x=\"1565\" y=\"-228.8\" font-family=\"Helvetica,sans-Serif\" font-size=\"14.00\">education&#45;num &lt;= 11.5</text>\r\n",
       "<text text-anchor=\"middle\" x=\"1565\" y=\"-213.8\" font-family=\"Helvetica,sans-Serif\" font-size=\"14.00\">gini = 0.492</text>\r\n",
       "<text text-anchor=\"middle\" x=\"1565\" y=\"-198.8\" font-family=\"Helvetica,sans-Serif\" font-size=\"14.00\">samples = 1011</text>\r\n",
       "<text text-anchor=\"middle\" x=\"1565\" y=\"-183.8\" font-family=\"Helvetica,sans-Serif\" font-size=\"14.00\">value = [568, 443]</text>\r\n",
       "</g>\r\n",
       "<!-- 249&#45;&gt;411 -->\r\n",
       "<g id=\"edge37\" class=\"edge\">\r\n",
       "<title>249&#45;&gt;411</title>\r\n",
       "<path fill=\"none\" stroke=\"black\" d=\"M1501.52,-279.88C1509.81,-270.89 1518.88,-261.04 1527.51,-251.68\"/>\r\n",
       "<polygon fill=\"black\" stroke=\"black\" points=\"1530.11,-254.02 1534.31,-244.3 1524.96,-249.28 1530.11,-254.02\"/>\r\n",
       "</g>\r\n",
       "<!-- 251 -->\r\n",
       "<g id=\"node32\" class=\"node\">\r\n",
       "<title>251</title>\r\n",
       "<path fill=\"#e6843e\" stroke=\"black\" d=\"M1314,-140C1314,-140 1198,-140 1198,-140 1192,-140 1186,-134 1186,-128 1186,-128 1186,-84 1186,-84 1186,-78 1192,-72 1198,-72 1198,-72 1314,-72 1314,-72 1320,-72 1326,-78 1326,-84 1326,-84 1326,-128 1326,-128 1326,-134 1320,-140 1314,-140\"/>\r\n",
       "<text text-anchor=\"middle\" x=\"1256\" y=\"-124.8\" font-family=\"Helvetica,sans-Serif\" font-size=\"14.00\">capital&#45;loss &lt;= 65.5</text>\r\n",
       "<text text-anchor=\"middle\" x=\"1256\" y=\"-109.8\" font-family=\"Helvetica,sans-Serif\" font-size=\"14.00\">gini = 0.051</text>\r\n",
       "<text text-anchor=\"middle\" x=\"1256\" y=\"-94.8\" font-family=\"Helvetica,sans-Serif\" font-size=\"14.00\">samples = 9851</text>\r\n",
       "<text text-anchor=\"middle\" x=\"1256\" y=\"-79.8\" font-family=\"Helvetica,sans-Serif\" font-size=\"14.00\">value = [9595, 256]</text>\r\n",
       "</g>\r\n",
       "<!-- 250&#45;&gt;251 -->\r\n",
       "<g id=\"edge31\" class=\"edge\">\r\n",
       "<title>250&#45;&gt;251</title>\r\n",
       "<path fill=\"none\" stroke=\"black\" d=\"M1343.12,-175.88C1331.29,-166.53 1318.3,-156.26 1306.04,-146.57\"/>\r\n",
       "<polygon fill=\"black\" stroke=\"black\" points=\"1308.13,-143.76 1298.11,-140.3 1303.79,-149.25 1308.13,-143.76\"/>\r\n",
       "</g>\r\n",
       "<!-- 332 -->\r\n",
       "<g id=\"node35\" class=\"node\">\r\n",
       "<title>332</title>\r\n",
       "<path fill=\"#ea985d\" stroke=\"black\" d=\"M1470,-140C1470,-140 1356,-140 1356,-140 1350,-140 1344,-134 1344,-128 1344,-128 1344,-84 1344,-84 1344,-78 1350,-72 1356,-72 1356,-72 1470,-72 1470,-72 1476,-72 1482,-78 1482,-84 1482,-84 1482,-128 1482,-128 1482,-134 1476,-140 1470,-140\"/>\r\n",
       "<text text-anchor=\"middle\" x=\"1413\" y=\"-124.8\" font-family=\"Helvetica,sans-Serif\" font-size=\"14.00\">age &lt;= 14.5</text>\r\n",
       "<text text-anchor=\"middle\" x=\"1413\" y=\"-109.8\" font-family=\"Helvetica,sans-Serif\" font-size=\"14.00\">gini = 0.26</text>\r\n",
       "<text text-anchor=\"middle\" x=\"1413\" y=\"-94.8\" font-family=\"Helvetica,sans-Serif\" font-size=\"14.00\">samples = 2434</text>\r\n",
       "<text text-anchor=\"middle\" x=\"1413\" y=\"-79.8\" font-family=\"Helvetica,sans-Serif\" font-size=\"14.00\">value = [2061, 373]</text>\r\n",
       "</g>\r\n",
       "<!-- 250&#45;&gt;332 -->\r\n",
       "<g id=\"edge34\" class=\"edge\">\r\n",
       "<title>250&#45;&gt;332</title>\r\n",
       "<path fill=\"none\" stroke=\"black\" d=\"M1394.09,-175.88C1396.34,-167.69 1398.78,-158.79 1401.14,-150.19\"/>\r\n",
       "<polygon fill=\"black\" stroke=\"black\" points=\"1404.59,-150.87 1403.86,-140.3 1397.84,-149.02 1404.59,-150.87\"/>\r\n",
       "</g>\r\n",
       "<!-- 252 -->\r\n",
       "<g id=\"node33\" class=\"node\">\r\n",
       "<title>252</title>\r\n",
       "<path fill=\"#c0c0c0\" stroke=\"black\" d=\"M1205,-36C1205,-36 1175,-36 1175,-36 1169,-36 1163,-30 1163,-24 1163,-24 1163,-12 1163,-12 1163,-6 1169,0 1175,0 1175,0 1205,0 1205,0 1211,0 1217,-6 1217,-12 1217,-12 1217,-24 1217,-24 1217,-30 1211,-36 1205,-36\"/>\r\n",
       "<text text-anchor=\"middle\" x=\"1190\" y=\"-14.3\" font-family=\"Helvetica,sans-Serif\" font-size=\"14.00\">(...)</text>\r\n",
       "</g>\r\n",
       "<!-- 251&#45;&gt;252 -->\r\n",
       "<g id=\"edge32\" class=\"edge\">\r\n",
       "<title>251&#45;&gt;252</title>\r\n",
       "<path fill=\"none\" stroke=\"black\" d=\"M1230.67,-72C1223.69,-62.9 1216.23,-53.18 1209.62,-44.57\"/>\r\n",
       "<polygon fill=\"black\" stroke=\"black\" points=\"1212.22,-42.21 1203.36,-36.4 1206.67,-46.47 1212.22,-42.21\"/>\r\n",
       "</g>\r\n",
       "<!-- 315 -->\r\n",
       "<g id=\"node34\" class=\"node\">\r\n",
       "<title>315</title>\r\n",
       "<path fill=\"#c0c0c0\" stroke=\"black\" d=\"M1277,-36C1277,-36 1247,-36 1247,-36 1241,-36 1235,-30 1235,-24 1235,-24 1235,-12 1235,-12 1235,-6 1241,0 1247,0 1247,0 1277,0 1277,0 1283,0 1289,-6 1289,-12 1289,-12 1289,-24 1289,-24 1289,-30 1283,-36 1277,-36\"/>\r\n",
       "<text text-anchor=\"middle\" x=\"1262\" y=\"-14.3\" font-family=\"Helvetica,sans-Serif\" font-size=\"14.00\">(...)</text>\r\n",
       "</g>\r\n",
       "<!-- 251&#45;&gt;315 -->\r\n",
       "<g id=\"edge33\" class=\"edge\">\r\n",
       "<title>251&#45;&gt;315</title>\r\n",
       "<path fill=\"none\" stroke=\"black\" d=\"M1258.3,-72C1258.89,-63.56 1259.52,-54.59 1260.08,-46.47\"/>\r\n",
       "<polygon fill=\"black\" stroke=\"black\" points=\"1263.58,-46.62 1260.79,-36.4 1256.6,-46.14 1263.58,-46.62\"/>\r\n",
       "</g>\r\n",
       "<!-- 333 -->\r\n",
       "<g id=\"node36\" class=\"node\">\r\n",
       "<title>333</title>\r\n",
       "<path fill=\"#c0c0c0\" stroke=\"black\" d=\"M1360,-36C1360,-36 1330,-36 1330,-36 1324,-36 1318,-30 1318,-24 1318,-24 1318,-12 1318,-12 1318,-6 1324,0 1330,0 1330,0 1360,0 1360,0 1366,0 1372,-6 1372,-12 1372,-12 1372,-24 1372,-24 1372,-30 1366,-36 1360,-36\"/>\r\n",
       "<text text-anchor=\"middle\" x=\"1345\" y=\"-14.3\" font-family=\"Helvetica,sans-Serif\" font-size=\"14.00\">(...)</text>\r\n",
       "</g>\r\n",
       "<!-- 332&#45;&gt;333 -->\r\n",
       "<g id=\"edge35\" class=\"edge\">\r\n",
       "<title>332&#45;&gt;333</title>\r\n",
       "<path fill=\"none\" stroke=\"black\" d=\"M1386.9,-72C1379.64,-62.81 1371.86,-52.97 1365.01,-44.3\"/>\r\n",
       "<polygon fill=\"black\" stroke=\"black\" points=\"1367.71,-42.08 1358.76,-36.4 1362.22,-46.42 1367.71,-42.08\"/>\r\n",
       "</g>\r\n",
       "<!-- 370 -->\r\n",
       "<g id=\"node37\" class=\"node\">\r\n",
       "<title>370</title>\r\n",
       "<path fill=\"#c0c0c0\" stroke=\"black\" d=\"M1432,-36C1432,-36 1402,-36 1402,-36 1396,-36 1390,-30 1390,-24 1390,-24 1390,-12 1390,-12 1390,-6 1396,0 1402,0 1402,0 1432,0 1432,0 1438,0 1444,-6 1444,-12 1444,-12 1444,-24 1444,-24 1444,-30 1438,-36 1432,-36\"/>\r\n",
       "<text text-anchor=\"middle\" x=\"1417\" y=\"-14.3\" font-family=\"Helvetica,sans-Serif\" font-size=\"14.00\">(...)</text>\r\n",
       "</g>\r\n",
       "<!-- 332&#45;&gt;370 -->\r\n",
       "<g id=\"edge36\" class=\"edge\">\r\n",
       "<title>332&#45;&gt;370</title>\r\n",
       "<path fill=\"none\" stroke=\"black\" d=\"M1414.54,-72C1414.93,-63.56 1415.34,-54.59 1415.72,-46.47\"/>\r\n",
       "<polygon fill=\"black\" stroke=\"black\" points=\"1419.22,-46.56 1416.19,-36.4 1412.23,-46.23 1419.22,-46.56\"/>\r\n",
       "</g>\r\n",
       "<!-- 412 -->\r\n",
       "<g id=\"node39\" class=\"node\">\r\n",
       "<title>412</title>\r\n",
       "<path fill=\"#f3c4a2\" stroke=\"black\" d=\"M1618,-140C1618,-140 1512,-140 1512,-140 1506,-140 1500,-134 1500,-128 1500,-128 1500,-84 1500,-84 1500,-78 1506,-72 1512,-72 1512,-72 1618,-72 1618,-72 1624,-72 1630,-78 1630,-84 1630,-84 1630,-128 1630,-128 1630,-134 1624,-140 1618,-140\"/>\r\n",
       "<text text-anchor=\"middle\" x=\"1565\" y=\"-124.8\" font-family=\"Helvetica,sans-Serif\" font-size=\"14.00\">occupation &lt;= 3.5</text>\r\n",
       "<text text-anchor=\"middle\" x=\"1565\" y=\"-109.8\" font-family=\"Helvetica,sans-Serif\" font-size=\"14.00\">gini = 0.452</text>\r\n",
       "<text text-anchor=\"middle\" x=\"1565\" y=\"-94.8\" font-family=\"Helvetica,sans-Serif\" font-size=\"14.00\">samples = 741</text>\r\n",
       "<text text-anchor=\"middle\" x=\"1565\" y=\"-79.8\" font-family=\"Helvetica,sans-Serif\" font-size=\"14.00\">value = [485, 256]</text>\r\n",
       "</g>\r\n",
       "<!-- 411&#45;&gt;412 -->\r\n",
       "<g id=\"edge38\" class=\"edge\">\r\n",
       "<title>411&#45;&gt;412</title>\r\n",
       "<path fill=\"none\" stroke=\"black\" d=\"M1565,-175.88C1565,-167.78 1565,-158.98 1565,-150.47\"/>\r\n",
       "<polygon fill=\"black\" stroke=\"black\" points=\"1568.5,-150.3 1565,-140.3 1561.5,-150.3 1568.5,-150.3\"/>\r\n",
       "</g>\r\n",
       "<!-- 473 -->\r\n",
       "<g id=\"node42\" class=\"node\">\r\n",
       "<title>473</title>\r\n",
       "<path fill=\"#91c8f1\" stroke=\"black\" d=\"M1758,-140C1758,-140 1660,-140 1660,-140 1654,-140 1648,-134 1648,-128 1648,-128 1648,-84 1648,-84 1648,-78 1654,-72 1660,-72 1660,-72 1758,-72 1758,-72 1764,-72 1770,-78 1770,-84 1770,-84 1770,-128 1770,-128 1770,-134 1764,-140 1758,-140\"/>\r\n",
       "<text text-anchor=\"middle\" x=\"1709\" y=\"-124.8\" font-family=\"Helvetica,sans-Serif\" font-size=\"14.00\">age &lt;= 8.5</text>\r\n",
       "<text text-anchor=\"middle\" x=\"1709\" y=\"-109.8\" font-family=\"Helvetica,sans-Serif\" font-size=\"14.00\">gini = 0.426</text>\r\n",
       "<text text-anchor=\"middle\" x=\"1709\" y=\"-94.8\" font-family=\"Helvetica,sans-Serif\" font-size=\"14.00\">samples = 270</text>\r\n",
       "<text text-anchor=\"middle\" x=\"1709\" y=\"-79.8\" font-family=\"Helvetica,sans-Serif\" font-size=\"14.00\">value = [83, 187]</text>\r\n",
       "</g>\r\n",
       "<!-- 411&#45;&gt;473 -->\r\n",
       "<g id=\"edge41\" class=\"edge\">\r\n",
       "<title>411&#45;&gt;473</title>\r\n",
       "<path fill=\"none\" stroke=\"black\" d=\"M1611.75,-175.88C1625.08,-166.44 1639.73,-156.06 1653.53,-146.29\"/>\r\n",
       "<polygon fill=\"black\" stroke=\"black\" points=\"1655.85,-148.94 1661.99,-140.3 1651.81,-143.22 1655.85,-148.94\"/>\r\n",
       "</g>\r\n",
       "<!-- 413 -->\r\n",
       "<g id=\"node40\" class=\"node\">\r\n",
       "<title>413</title>\r\n",
       "<path fill=\"#c0c0c0\" stroke=\"black\" d=\"M1508,-36C1508,-36 1478,-36 1478,-36 1472,-36 1466,-30 1466,-24 1466,-24 1466,-12 1466,-12 1466,-6 1472,0 1478,0 1478,0 1508,0 1508,0 1514,0 1520,-6 1520,-12 1520,-12 1520,-24 1520,-24 1520,-30 1514,-36 1508,-36\"/>\r\n",
       "<text text-anchor=\"middle\" x=\"1493\" y=\"-14.3\" font-family=\"Helvetica,sans-Serif\" font-size=\"14.00\">(...)</text>\r\n",
       "</g>\r\n",
       "<!-- 412&#45;&gt;413 -->\r\n",
       "<g id=\"edge39\" class=\"edge\">\r\n",
       "<title>412&#45;&gt;413</title>\r\n",
       "<path fill=\"none\" stroke=\"black\" d=\"M1537.37,-72C1529.68,-62.81 1521.44,-52.97 1514.18,-44.3\"/>\r\n",
       "<polygon fill=\"black\" stroke=\"black\" points=\"1516.67,-41.82 1507.57,-36.4 1511.31,-46.32 1516.67,-41.82\"/>\r\n",
       "</g>\r\n",
       "<!-- 448 -->\r\n",
       "<g id=\"node41\" class=\"node\">\r\n",
       "<title>448</title>\r\n",
       "<path fill=\"#c0c0c0\" stroke=\"black\" d=\"M1580,-36C1580,-36 1550,-36 1550,-36 1544,-36 1538,-30 1538,-24 1538,-24 1538,-12 1538,-12 1538,-6 1544,0 1550,0 1550,0 1580,0 1580,0 1586,0 1592,-6 1592,-12 1592,-12 1592,-24 1592,-24 1592,-30 1586,-36 1580,-36\"/>\r\n",
       "<text text-anchor=\"middle\" x=\"1565\" y=\"-14.3\" font-family=\"Helvetica,sans-Serif\" font-size=\"14.00\">(...)</text>\r\n",
       "</g>\r\n",
       "<!-- 412&#45;&gt;448 -->\r\n",
       "<g id=\"edge40\" class=\"edge\">\r\n",
       "<title>412&#45;&gt;448</title>\r\n",
       "<path fill=\"none\" stroke=\"black\" d=\"M1565,-72C1565,-63.56 1565,-54.59 1565,-46.47\"/>\r\n",
       "<polygon fill=\"black\" stroke=\"black\" points=\"1568.5,-46.4 1565,-36.4 1561.5,-46.4 1568.5,-46.4\"/>\r\n",
       "</g>\r\n",
       "<!-- 474 -->\r\n",
       "<g id=\"node43\" class=\"node\">\r\n",
       "<title>474</title>\r\n",
       "<path fill=\"#c0c0c0\" stroke=\"black\" d=\"M1688,-36C1688,-36 1658,-36 1658,-36 1652,-36 1646,-30 1646,-24 1646,-24 1646,-12 1646,-12 1646,-6 1652,0 1658,0 1658,0 1688,0 1688,0 1694,0 1700,-6 1700,-12 1700,-12 1700,-24 1700,-24 1700,-30 1694,-36 1688,-36\"/>\r\n",
       "<text text-anchor=\"middle\" x=\"1673\" y=\"-14.3\" font-family=\"Helvetica,sans-Serif\" font-size=\"14.00\">(...)</text>\r\n",
       "</g>\r\n",
       "<!-- 473&#45;&gt;474 -->\r\n",
       "<g id=\"edge42\" class=\"edge\">\r\n",
       "<title>473&#45;&gt;474</title>\r\n",
       "<path fill=\"none\" stroke=\"black\" d=\"M1695.18,-72C1691.54,-63.28 1687.64,-53.98 1684.16,-45.65\"/>\r\n",
       "<polygon fill=\"black\" stroke=\"black\" points=\"1687.38,-44.28 1680.29,-36.4 1680.92,-46.98 1687.38,-44.28\"/>\r\n",
       "</g>\r\n",
       "<!-- 479 -->\r\n",
       "<g id=\"node44\" class=\"node\">\r\n",
       "<title>479</title>\r\n",
       "<path fill=\"#c0c0c0\" stroke=\"black\" d=\"M1760,-36C1760,-36 1730,-36 1730,-36 1724,-36 1718,-30 1718,-24 1718,-24 1718,-12 1718,-12 1718,-6 1724,0 1730,0 1730,0 1760,0 1760,0 1766,0 1772,-6 1772,-12 1772,-12 1772,-24 1772,-24 1772,-30 1766,-36 1760,-36\"/>\r\n",
       "<text text-anchor=\"middle\" x=\"1745\" y=\"-14.3\" font-family=\"Helvetica,sans-Serif\" font-size=\"14.00\">(...)</text>\r\n",
       "</g>\r\n",
       "<!-- 473&#45;&gt;479 -->\r\n",
       "<g id=\"edge43\" class=\"edge\">\r\n",
       "<title>473&#45;&gt;479</title>\r\n",
       "<path fill=\"none\" stroke=\"black\" d=\"M1722.82,-72C1726.46,-63.28 1730.36,-53.98 1733.84,-45.65\"/>\r\n",
       "<polygon fill=\"black\" stroke=\"black\" points=\"1737.08,-46.98 1737.71,-36.4 1730.62,-44.28 1737.08,-46.98\"/>\r\n",
       "</g>\r\n",
       "<!-- 505 -->\r\n",
       "<g id=\"node46\" class=\"node\">\r\n",
       "<title>505</title>\r\n",
       "<path fill=\"#e58139\" stroke=\"black\" d=\"M1749.5,-236.5C1749.5,-236.5 1676.5,-236.5 1676.5,-236.5 1670.5,-236.5 1664.5,-230.5 1664.5,-224.5 1664.5,-224.5 1664.5,-195.5 1664.5,-195.5 1664.5,-189.5 1670.5,-183.5 1676.5,-183.5 1676.5,-183.5 1749.5,-183.5 1749.5,-183.5 1755.5,-183.5 1761.5,-189.5 1761.5,-195.5 1761.5,-195.5 1761.5,-224.5 1761.5,-224.5 1761.5,-230.5 1755.5,-236.5 1749.5,-236.5\"/>\r\n",
       "<text text-anchor=\"middle\" x=\"1713\" y=\"-221.3\" font-family=\"Helvetica,sans-Serif\" font-size=\"14.00\">gini = 0.0</text>\r\n",
       "<text text-anchor=\"middle\" x=\"1713\" y=\"-206.3\" font-family=\"Helvetica,sans-Serif\" font-size=\"14.00\">samples = 2</text>\r\n",
       "<text text-anchor=\"middle\" x=\"1713\" y=\"-191.3\" font-family=\"Helvetica,sans-Serif\" font-size=\"14.00\">value = [2, 0]</text>\r\n",
       "</g>\r\n",
       "<!-- 504&#45;&gt;505 -->\r\n",
       "<g id=\"edge45\" class=\"edge\">\r\n",
       "<title>504&#45;&gt;505</title>\r\n",
       "<path fill=\"none\" stroke=\"black\" d=\"M1713,-279.88C1713,-269.33 1713,-257.6 1713,-246.85\"/>\r\n",
       "<polygon fill=\"black\" stroke=\"black\" points=\"1716.5,-246.52 1713,-236.52 1709.5,-246.52 1716.5,-246.52\"/>\r\n",
       "</g>\r\n",
       "<!-- 506 -->\r\n",
       "<g id=\"node47\" class=\"node\">\r\n",
       "<title>506</title>\r\n",
       "<path fill=\"#3fa0e6\" stroke=\"black\" d=\"M1922,-244C1922,-244 1792,-244 1792,-244 1786,-244 1780,-238 1780,-232 1780,-232 1780,-188 1780,-188 1780,-182 1786,-176 1792,-176 1792,-176 1922,-176 1922,-176 1928,-176 1934,-182 1934,-188 1934,-188 1934,-232 1934,-232 1934,-238 1928,-244 1922,-244\"/>\r\n",
       "<text text-anchor=\"middle\" x=\"1857\" y=\"-228.8\" font-family=\"Helvetica,sans-Serif\" font-size=\"14.00\">education&#45;num &lt;= 2.0</text>\r\n",
       "<text text-anchor=\"middle\" x=\"1857\" y=\"-213.8\" font-family=\"Helvetica,sans-Serif\" font-size=\"14.00\">gini = 0.054</text>\r\n",
       "<text text-anchor=\"middle\" x=\"1857\" y=\"-198.8\" font-family=\"Helvetica,sans-Serif\" font-size=\"14.00\">samples = 286</text>\r\n",
       "<text text-anchor=\"middle\" x=\"1857\" y=\"-183.8\" font-family=\"Helvetica,sans-Serif\" font-size=\"14.00\">value = [8, 278]</text>\r\n",
       "</g>\r\n",
       "<!-- 504&#45;&gt;506 -->\r\n",
       "<g id=\"edge46\" class=\"edge\">\r\n",
       "<title>504&#45;&gt;506</title>\r\n",
       "<path fill=\"none\" stroke=\"black\" d=\"M1759.75,-279.88C1773.08,-270.44 1787.73,-260.06 1801.53,-250.29\"/>\r\n",
       "<polygon fill=\"black\" stroke=\"black\" points=\"1803.85,-252.94 1809.99,-244.3 1799.81,-247.22 1803.85,-252.94\"/>\r\n",
       "</g>\r\n",
       "<!-- 507 -->\r\n",
       "<g id=\"node48\" class=\"node\">\r\n",
       "<title>507</title>\r\n",
       "<path fill=\"#e58139\" stroke=\"black\" d=\"M1883.5,-132.5C1883.5,-132.5 1810.5,-132.5 1810.5,-132.5 1804.5,-132.5 1798.5,-126.5 1798.5,-120.5 1798.5,-120.5 1798.5,-91.5 1798.5,-91.5 1798.5,-85.5 1804.5,-79.5 1810.5,-79.5 1810.5,-79.5 1883.5,-79.5 1883.5,-79.5 1889.5,-79.5 1895.5,-85.5 1895.5,-91.5 1895.5,-91.5 1895.5,-120.5 1895.5,-120.5 1895.5,-126.5 1889.5,-132.5 1883.5,-132.5\"/>\r\n",
       "<text text-anchor=\"middle\" x=\"1847\" y=\"-117.3\" font-family=\"Helvetica,sans-Serif\" font-size=\"14.00\">gini = 0.0</text>\r\n",
       "<text text-anchor=\"middle\" x=\"1847\" y=\"-102.3\" font-family=\"Helvetica,sans-Serif\" font-size=\"14.00\">samples = 1</text>\r\n",
       "<text text-anchor=\"middle\" x=\"1847\" y=\"-87.3\" font-family=\"Helvetica,sans-Serif\" font-size=\"14.00\">value = [1, 0]</text>\r\n",
       "</g>\r\n",
       "<!-- 506&#45;&gt;507 -->\r\n",
       "<g id=\"edge47\" class=\"edge\">\r\n",
       "<title>506&#45;&gt;507</title>\r\n",
       "<path fill=\"none\" stroke=\"black\" d=\"M1853.75,-175.88C1852.71,-165.22 1851.54,-153.35 1850.48,-142.52\"/>\r\n",
       "<polygon fill=\"black\" stroke=\"black\" points=\"1853.96,-142.13 1849.5,-132.52 1846.99,-142.81 1853.96,-142.13\"/>\r\n",
       "</g>\r\n",
       "<!-- 508 -->\r\n",
       "<g id=\"node49\" class=\"node\">\r\n",
       "<title>508</title>\r\n",
       "<path fill=\"#3e9fe6\" stroke=\"black\" d=\"M2042,-140C2042,-140 1926,-140 1926,-140 1920,-140 1914,-134 1914,-128 1914,-128 1914,-84 1914,-84 1914,-78 1920,-72 1926,-72 1926,-72 2042,-72 2042,-72 2048,-72 2054,-78 2054,-84 2054,-84 2054,-128 2054,-128 2054,-134 2048,-140 2042,-140\"/>\r\n",
       "<text text-anchor=\"middle\" x=\"1984\" y=\"-124.8\" font-family=\"Helvetica,sans-Serif\" font-size=\"14.00\">capital&#45;gain &lt;= 93.5</text>\r\n",
       "<text text-anchor=\"middle\" x=\"1984\" y=\"-109.8\" font-family=\"Helvetica,sans-Serif\" font-size=\"14.00\">gini = 0.048</text>\r\n",
       "<text text-anchor=\"middle\" x=\"1984\" y=\"-94.8\" font-family=\"Helvetica,sans-Serif\" font-size=\"14.00\">samples = 285</text>\r\n",
       "<text text-anchor=\"middle\" x=\"1984\" y=\"-79.8\" font-family=\"Helvetica,sans-Serif\" font-size=\"14.00\">value = [7, 278]</text>\r\n",
       "</g>\r\n",
       "<!-- 506&#45;&gt;508 -->\r\n",
       "<g id=\"edge48\" class=\"edge\">\r\n",
       "<title>506&#45;&gt;508</title>\r\n",
       "<path fill=\"none\" stroke=\"black\" d=\"M1898.23,-175.88C1909.88,-166.53 1922.67,-156.26 1934.73,-146.57\"/>\r\n",
       "<polygon fill=\"black\" stroke=\"black\" points=\"1936.93,-149.29 1942.54,-140.3 1932.55,-143.83 1936.93,-149.29\"/>\r\n",
       "</g>\r\n",
       "<!-- 509 -->\r\n",
       "<g id=\"node50\" class=\"node\">\r\n",
       "<title>509</title>\r\n",
       "<path fill=\"#c0c0c0\" stroke=\"black\" d=\"M1963,-36C1963,-36 1933,-36 1933,-36 1927,-36 1921,-30 1921,-24 1921,-24 1921,-12 1921,-12 1921,-6 1927,0 1933,0 1933,0 1963,0 1963,0 1969,0 1975,-6 1975,-12 1975,-12 1975,-24 1975,-24 1975,-30 1969,-36 1963,-36\"/>\r\n",
       "<text text-anchor=\"middle\" x=\"1948\" y=\"-14.3\" font-family=\"Helvetica,sans-Serif\" font-size=\"14.00\">(...)</text>\r\n",
       "</g>\r\n",
       "<!-- 508&#45;&gt;509 -->\r\n",
       "<g id=\"edge49\" class=\"edge\">\r\n",
       "<title>508&#45;&gt;509</title>\r\n",
       "<path fill=\"none\" stroke=\"black\" d=\"M1970.18,-72C1966.54,-63.28 1962.64,-53.98 1959.16,-45.65\"/>\r\n",
       "<polygon fill=\"black\" stroke=\"black\" points=\"1962.38,-44.28 1955.29,-36.4 1955.92,-46.98 1962.38,-44.28\"/>\r\n",
       "</g>\r\n",
       "<!-- 512 -->\r\n",
       "<g id=\"node51\" class=\"node\">\r\n",
       "<title>512</title>\r\n",
       "<path fill=\"#c0c0c0\" stroke=\"black\" d=\"M2035,-36C2035,-36 2005,-36 2005,-36 1999,-36 1993,-30 1993,-24 1993,-24 1993,-12 1993,-12 1993,-6 1999,0 2005,0 2005,0 2035,0 2035,0 2041,0 2047,-6 2047,-12 2047,-12 2047,-24 2047,-24 2047,-30 2041,-36 2035,-36\"/>\r\n",
       "<text text-anchor=\"middle\" x=\"2020\" y=\"-14.3\" font-family=\"Helvetica,sans-Serif\" font-size=\"14.00\">(...)</text>\r\n",
       "</g>\r\n",
       "<!-- 508&#45;&gt;512 -->\r\n",
       "<g id=\"edge50\" class=\"edge\">\r\n",
       "<title>508&#45;&gt;512</title>\r\n",
       "<path fill=\"none\" stroke=\"black\" d=\"M1997.82,-72C2001.46,-63.28 2005.36,-53.98 2008.84,-45.65\"/>\r\n",
       "<polygon fill=\"black\" stroke=\"black\" points=\"2012.08,-46.98 2012.71,-36.4 2005.62,-44.28 2012.08,-46.98\"/>\r\n",
       "</g>\r\n",
       "</g>\r\n",
       "</svg>\r\n"
      ],
      "text/plain": [
       "<graphviz.files.Source at 0x24e62a7c310>"
      ]
     },
     "execution_count": 31,
     "metadata": {},
     "output_type": "execute_result"
    }
   ],
   "source": [
    "# 위에서 생성된 tree.dot 파일을 Graphviz 읽어서 Jupyter Notebook상에서 시각화 \n",
    "with open(\"tree.dot\") as f:\n",
    "    dot_graph = f.read()\n",
    "graphviz.Source(dot_graph)"
   ]
  },
  {
   "cell_type": "markdown",
   "id": "e914d4c8",
   "metadata": {},
   "source": [
    "### <li>각 파라미터의 정밀도 재현율 그래프"
   ]
  },
  {
   "cell_type": "code",
   "execution_count": 32,
   "id": "abf6c84b",
   "metadata": {},
   "outputs": [
    {
     "data": {
      "image/png": "[encoded data removed]",
      "text/plain": [
       "<Figure size 576x432 with 1 Axes>"
      ]
     },
     "metadata": {
      "needs_background": "light"
     },
     "output_type": "display_data"
    }
   ],
   "source": [
    "pred_proba_c1 = grid_dclf.predict_proba(X_test)[:, 1]\n",
    "precision_recall_curve_plot(y_test, pred_proba_c1)"
   ]
  },
  {
   "cell_type": "markdown",
   "id": "3b4d5cd2",
   "metadata": {},
   "source": [
    "### <li>최적 파라미터 예측 점수"
   ]
  },
  {
   "cell_type": "code",
   "execution_count": 33,
   "id": "1c4e49cd",
   "metadata": {},
   "outputs": [
    {
     "name": "stdout",
     "output_type": "stream",
     "text": [
      "예측 정확도: 0.85270\n",
      "예측 정밀도: 0.76547\n",
      "예측 재현율: 0.56782\n",
      "예측 f1스코어: 0.65200\n",
      "예측 roc_auc_스코어: 0.75598\n"
     ]
    }
   ],
   "source": [
    "# GridSearchCV의 refit으로 이미 학습이 된 estimator 반환\n",
    "estimator = grid_dclf.best_estimator_\n",
    "\n",
    "# GridSearchCV의 best_estimator_는 이미 최적 하이퍼 파라미터로 학습이 됨\n",
    "pred = estimator.predict(X_test)\n",
    "print('예측 정확도: {0:.5f}'.format(accuracy_score(y_test,pred)))\n",
    "print('예측 정밀도: {0:.5f}'.format(precision_score(y_test,pred)))\n",
    "print('예측 재현율: {0:.5f}'.format(recall_score(y_test,pred)))\n",
    "print('예측 f1스코어: {0:.5f}'.format(f1_score(y_test,pred)))\n",
    "print('예측 roc_auc_스코어: {0:.5f}'.format(roc_auc_score(y_test,pred)))"
   ]
  },
  {
   "cell_type": "markdown",
   "id": "a9c9c2c0",
   "metadata": {},
   "source": [
    "### <li>최적 파라미터 특징 중요도"
   ]
  },
  {
   "cell_type": "code",
   "execution_count": 34,
   "id": "78eb9523",
   "metadata": {},
   "outputs": [
    {
     "data": {
      "image/png": "[encoded data removed]",
      "text/plain": [
       "<Figure size 720x432 with 1 Axes>"
      ]
     },
     "metadata": {
      "needs_background": "light"
     },
     "output_type": "display_data"
    }
   ],
   "source": [
    "ftr_importances_values = estimator.feature_importances_\n",
    "# Top 중요도로 정렬을 쉽게 하고, 시본(Seaborn)의 막대그래프로 쉽게 표현하기 위해 Series변환\n",
    "ftr_importances = pd.Series(ftr_importances_values, index=X_train.columns  )\n",
    "# 중요도값 순으로 Series를 정렬\n",
    "ftr_top = ftr_importances.sort_values(ascending=False)\n",
    "plt.figure(figsize=(10,6))\n",
    "plt.title('Decision Tree Feature importances')\n",
    "sns.barplot(x=ftr_top , y = ftr_top.index)\n",
    "plt.show()"
   ]
  },
  {
   "cell_type": "markdown",
   "id": "f9c46521",
   "metadata": {},
   "source": [
    "## Random Forest"
   ]
  },
  {
   "cell_type": "markdown",
   "id": "c513cbca",
   "metadata": {},
   "source": [
    "### <li>최적 파라미터 탐색"
   ]
  },
  {
   "cell_type": "code",
   "execution_count": 35,
   "id": "df172d8a",
   "metadata": {},
   "outputs": [
    {
     "name": "stdout",
     "output_type": "stream",
     "text": [
      "최적 하이퍼 파라미터:\n",
      " {'max_depth': 12, 'min_samples_leaf': 8, 'min_samples_split': 8, 'n_estimators': 100}\n",
      "최고 예측 정확도: 0.8587\n"
     ]
    }
   ],
   "source": [
    "params = {\n",
    "    'n_estimators':[100],\n",
    "    'max_depth' : [6, 8, 10, 12], \n",
    "    'min_samples_leaf' : [8, 12, 18 ],\n",
    "    'min_samples_split' : [8, 16, 20]\n",
    "}\n",
    "# RandomForestClassifier 객체 생성 후 GridSearchCV 수행\n",
    "rf_clf = RandomForestClassifier(random_state=0, n_jobs=-1)\n",
    "grid_cv = GridSearchCV(rf_clf , param_grid=params , cv=2, n_jobs=-1 )\n",
    "grid_cv.fit(X_train , y_train)\n",
    "\n",
    "print('최적 하이퍼 파라미터:\\n', grid_cv.best_params_)\n",
    "print('최고 예측 정확도: {0:.4f}'.format(grid_cv.best_score_))\n",
    "estimator = grid_cv.best_estimator_"
   ]
  },
  {
   "cell_type": "markdown",
   "id": "c1994917",
   "metadata": {},
   "source": [
    "### <li>수형도 그리기"
   ]
  },
  {
   "cell_type": "code",
   "execution_count": 36,
   "id": "ae94563f",
   "metadata": {},
   "outputs": [],
   "source": [
    "# export_graphviz()의 호출 결과로 out_file로 지정된 tree.dot 파일을 생성함. \n",
    "export_graphviz(estimator[0], out_file='tree2.dot', \n",
    "                feature_names = X_test_df.columns,\n",
    "                max_depth = 3, # 표현하고 싶은 최대 depth\n",
    "                precision = 3, # 소수점 표기 자릿수\n",
    "                filled = True, # class별 color 채우기\n",
    "                rounded=True, # 박스의 모양을 둥글게\n",
    "               )"
   ]
  },
  {
   "cell_type": "code",
   "execution_count": 37,
   "id": "41d37286",
   "metadata": {
    "scrolled": false
   },
   "outputs": [
    {
     "data": {
      "image/svg+xml": [
       "<?xml version=\"1.0\" encoding=\"UTF-8\" standalone=\"no\"?>\r\n",
       "<!DOCTYPE svg PUBLIC \"-//W3C//DTD SVG 1.1//EN\"\r\n",
       " \"http://www.w3.org/Graphics/SVG/1.1/DTD/svg11.dtd\">\r\n",
       "<!-- Generated by graphviz version 2.47.1 (20210417.1919)\r\n",
       " -->\r\n",
       "<!-- Title: Tree Pages: 1 -->\r\n",
       "<svg width=\"1315pt\" height=\"460pt\"\r\n",
       " viewBox=\"0.00 0.00 1314.50 460.00\" xmlns=\"http://www.w3.org/2000/svg\" xmlns:xlink=\"http://www.w3.org/1999/xlink\">\r\n",
       "<g id=\"graph0\" class=\"graph\" transform=\"scale(1 1) rotate(0) translate(4 456)\">\r\n",
       "<title>Tree</title>\r\n",
       "<polygon fill=\"white\" stroke=\"transparent\" points=\"-4,4 -4,-456 1310.5,-456 1310.5,4 -4,4\"/>\r\n",
       "<!-- 0 -->\r\n",
       "<g id=\"node1\" class=\"node\">\r\n",
       "<title>0</title>\r\n",
       "<path fill=\"#eda979\" stroke=\"black\" d=\"M710.5,-452C710.5,-452 579.5,-452 579.5,-452 573.5,-452 567.5,-446 567.5,-440 567.5,-440 567.5,-396 567.5,-396 567.5,-390 573.5,-384 579.5,-384 579.5,-384 710.5,-384 710.5,-384 716.5,-384 722.5,-390 722.5,-396 722.5,-396 722.5,-440 722.5,-440 722.5,-446 716.5,-452 710.5,-452\"/>\r\n",
       "<text text-anchor=\"middle\" x=\"645\" y=\"-436.8\" font-family=\"Helvetica,sans-Serif\" font-size=\"14.00\">relationship &lt;= 0.5</text>\r\n",
       "<text text-anchor=\"middle\" x=\"645\" y=\"-421.8\" font-family=\"Helvetica,sans-Serif\" font-size=\"14.00\">gini = 0.368</text>\r\n",
       "<text text-anchor=\"middle\" x=\"645\" y=\"-406.8\" font-family=\"Helvetica,sans-Serif\" font-size=\"14.00\">samples = 14385</text>\r\n",
       "<text text-anchor=\"middle\" x=\"645\" y=\"-391.8\" font-family=\"Helvetica,sans-Serif\" font-size=\"14.00\">value = [17253, 5539]</text>\r\n",
       "</g>\r\n",
       "<!-- 1 -->\r\n",
       "<g id=\"node2\" class=\"node\">\r\n",
       "<title>1</title>\r\n",
       "<path fill=\"#fae7d9\" stroke=\"black\" d=\"M624.5,-348C624.5,-348 481.5,-348 481.5,-348 475.5,-348 469.5,-342 469.5,-336 469.5,-336 469.5,-292 469.5,-292 469.5,-286 475.5,-280 481.5,-280 481.5,-280 624.5,-280 624.5,-280 630.5,-280 636.5,-286 636.5,-292 636.5,-292 636.5,-336 636.5,-336 636.5,-342 630.5,-348 624.5,-348\"/>\r\n",
       "<text text-anchor=\"middle\" x=\"553\" y=\"-332.8\" font-family=\"Helvetica,sans-Serif\" font-size=\"14.00\">hours&#45;per&#45;week &lt;= 40.5</text>\r\n",
       "<text text-anchor=\"middle\" x=\"553\" y=\"-317.8\" font-family=\"Helvetica,sans-Serif\" font-size=\"14.00\">gini = 0.494</text>\r\n",
       "<text text-anchor=\"middle\" x=\"553\" y=\"-302.8\" font-family=\"Helvetica,sans-Serif\" font-size=\"14.00\">samples = 5861</text>\r\n",
       "<text text-anchor=\"middle\" x=\"553\" y=\"-287.8\" font-family=\"Helvetica,sans-Serif\" font-size=\"14.00\">value = [5078, 4102]</text>\r\n",
       "</g>\r\n",
       "<!-- 0&#45;&gt;1 -->\r\n",
       "<g id=\"edge1\" class=\"edge\">\r\n",
       "<title>0&#45;&gt;1</title>\r\n",
       "<path fill=\"none\" stroke=\"black\" d=\"M615.13,-383.88C607.1,-374.98 598.31,-365.24 589.94,-355.96\"/>\r\n",
       "<polygon fill=\"black\" stroke=\"black\" points=\"592.33,-353.38 583.03,-348.3 587.13,-358.07 592.33,-353.38\"/>\r\n",
       "<text text-anchor=\"middle\" x=\"581.75\" y=\"-369.57\" font-family=\"Helvetica,sans-Serif\" font-size=\"14.00\">True</text>\r\n",
       "</g>\r\n",
       "<!-- 280 -->\r\n",
       "<g id=\"node17\" class=\"node\">\r\n",
       "<title>280</title>\r\n",
       "<path fill=\"#e89050\" stroke=\"black\" d=\"M880.5,-348C880.5,-348 749.5,-348 749.5,-348 743.5,-348 737.5,-342 737.5,-336 737.5,-336 737.5,-292 737.5,-292 737.5,-286 743.5,-280 749.5,-280 749.5,-280 880.5,-280 880.5,-280 886.5,-280 892.5,-286 892.5,-292 892.5,-292 892.5,-336 892.5,-336 892.5,-342 886.5,-348 880.5,-348\"/>\r\n",
       "<text text-anchor=\"middle\" x=\"815\" y=\"-332.8\" font-family=\"Helvetica,sans-Serif\" font-size=\"14.00\">relationship &lt;= 4.5</text>\r\n",
       "<text text-anchor=\"middle\" x=\"815\" y=\"-317.8\" font-family=\"Helvetica,sans-Serif\" font-size=\"14.00\">gini = 0.189</text>\r\n",
       "<text text-anchor=\"middle\" x=\"815\" y=\"-302.8\" font-family=\"Helvetica,sans-Serif\" font-size=\"14.00\">samples = 8524</text>\r\n",
       "<text text-anchor=\"middle\" x=\"815\" y=\"-287.8\" font-family=\"Helvetica,sans-Serif\" font-size=\"14.00\">value = [12175, 1437]</text>\r\n",
       "</g>\r\n",
       "<!-- 0&#45;&gt;280 -->\r\n",
       "<g id=\"edge16\" class=\"edge\">\r\n",
       "<title>0&#45;&gt;280</title>\r\n",
       "<path fill=\"none\" stroke=\"black\" d=\"M700.19,-383.88C716.46,-374.12 734.39,-363.37 751.15,-353.31\"/>\r\n",
       "<polygon fill=\"black\" stroke=\"black\" points=\"753.02,-356.27 759.79,-348.12 749.42,-350.27 753.02,-356.27\"/>\r\n",
       "<text text-anchor=\"middle\" x=\"753.73\" y=\"-368.68\" font-family=\"Helvetica,sans-Serif\" font-size=\"14.00\">False</text>\r\n",
       "</g>\r\n",
       "<!-- 2 -->\r\n",
       "<g id=\"node3\" class=\"node\">\r\n",
       "<title>2</title>\r\n",
       "<path fill=\"#f4cbae\" stroke=\"black\" d=\"M317,-244C317,-244 179,-244 179,-244 173,-244 167,-238 167,-232 167,-232 167,-188 167,-188 167,-182 173,-176 179,-176 179,-176 317,-176 317,-176 323,-176 329,-182 329,-188 329,-188 329,-232 329,-232 329,-238 323,-244 317,-244\"/>\r\n",
       "<text text-anchor=\"middle\" x=\"248\" y=\"-228.8\" font-family=\"Helvetica,sans-Serif\" font-size=\"14.00\">education&#45;num &lt;= 11.5</text>\r\n",
       "<text text-anchor=\"middle\" x=\"248\" y=\"-213.8\" font-family=\"Helvetica,sans-Serif\" font-size=\"14.00\">gini = 0.467</text>\r\n",
       "<text text-anchor=\"middle\" x=\"248\" y=\"-198.8\" font-family=\"Helvetica,sans-Serif\" font-size=\"14.00\">samples = 3468</text>\r\n",
       "<text text-anchor=\"middle\" x=\"248\" y=\"-183.8\" font-family=\"Helvetica,sans-Serif\" font-size=\"14.00\">value = [3429, 2026]</text>\r\n",
       "</g>\r\n",
       "<!-- 1&#45;&gt;2 -->\r\n",
       "<g id=\"edge2\" class=\"edge\">\r\n",
       "<title>1&#45;&gt;2</title>\r\n",
       "<path fill=\"none\" stroke=\"black\" d=\"M469.25,-284.99C428.76,-271.45 380.09,-255.17 338.72,-241.34\"/>\r\n",
       "<polygon fill=\"black\" stroke=\"black\" points=\"339.78,-238 329.19,-238.15 337.56,-244.64 339.78,-238\"/>\r\n",
       "</g>\r\n",
       "<!-- 159 -->\r\n",
       "<g id=\"node10\" class=\"node\">\r\n",
       "<title>159</title>\r\n",
       "<path fill=\"#d6ebfa\" stroke=\"black\" d=\"M624.5,-244C624.5,-244 481.5,-244 481.5,-244 475.5,-244 469.5,-238 469.5,-232 469.5,-232 469.5,-188 469.5,-188 469.5,-182 475.5,-176 481.5,-176 481.5,-176 624.5,-176 624.5,-176 630.5,-176 636.5,-182 636.5,-188 636.5,-188 636.5,-232 636.5,-232 636.5,-238 630.5,-244 624.5,-244\"/>\r\n",
       "<text text-anchor=\"middle\" x=\"553\" y=\"-228.8\" font-family=\"Helvetica,sans-Serif\" font-size=\"14.00\">hours&#45;per&#45;week &lt;= 60.5</text>\r\n",
       "<text text-anchor=\"middle\" x=\"553\" y=\"-213.8\" font-family=\"Helvetica,sans-Serif\" font-size=\"14.00\">gini = 0.493</text>\r\n",
       "<text text-anchor=\"middle\" x=\"553\" y=\"-198.8\" font-family=\"Helvetica,sans-Serif\" font-size=\"14.00\">samples = 2393</text>\r\n",
       "<text text-anchor=\"middle\" x=\"553\" y=\"-183.8\" font-family=\"Helvetica,sans-Serif\" font-size=\"14.00\">value = [1649, 2076]</text>\r\n",
       "</g>\r\n",
       "<!-- 1&#45;&gt;159 -->\r\n",
       "<g id=\"edge9\" class=\"edge\">\r\n",
       "<title>1&#45;&gt;159</title>\r\n",
       "<path fill=\"none\" stroke=\"black\" d=\"M553,-279.88C553,-271.78 553,-262.98 553,-254.47\"/>\r\n",
       "<polygon fill=\"black\" stroke=\"black\" points=\"556.5,-254.3 553,-244.3 549.5,-254.3 556.5,-254.3\"/>\r\n",
       "</g>\r\n",
       "<!-- 3 -->\r\n",
       "<g id=\"node4\" class=\"node\">\r\n",
       "<title>3</title>\r\n",
       "<path fill=\"#efb388\" stroke=\"black\" d=\"M134,-140C134,-140 12,-140 12,-140 6,-140 0,-134 0,-128 0,-128 0,-84 0,-84 0,-78 6,-72 12,-72 12,-72 134,-72 134,-72 140,-72 146,-78 146,-84 146,-84 146,-128 146,-128 146,-134 140,-140 134,-140\"/>\r\n",
       "<text text-anchor=\"middle\" x=\"73\" y=\"-124.8\" font-family=\"Helvetica,sans-Serif\" font-size=\"14.00\">capital&#45;gain &lt;= 78.0</text>\r\n",
       "<text text-anchor=\"middle\" x=\"73\" y=\"-109.8\" font-family=\"Helvetica,sans-Serif\" font-size=\"14.00\">gini = 0.408</text>\r\n",
       "<text text-anchor=\"middle\" x=\"73\" y=\"-94.8\" font-family=\"Helvetica,sans-Serif\" font-size=\"14.00\">samples = 2596</text>\r\n",
       "<text text-anchor=\"middle\" x=\"73\" y=\"-79.8\" font-family=\"Helvetica,sans-Serif\" font-size=\"14.00\">value = [2931, 1174]</text>\r\n",
       "</g>\r\n",
       "<!-- 2&#45;&gt;3 -->\r\n",
       "<g id=\"edge3\" class=\"edge\">\r\n",
       "<title>2&#45;&gt;3</title>\r\n",
       "<path fill=\"none\" stroke=\"black\" d=\"M191.18,-175.88C174.44,-166.12 155.98,-155.37 138.73,-145.31\"/>\r\n",
       "<polygon fill=\"black\" stroke=\"black\" points=\"140.23,-142.14 129.83,-140.12 136.71,-148.18 140.23,-142.14\"/>\r\n",
       "</g>\r\n",
       "<!-- 112 -->\r\n",
       "<g id=\"node7\" class=\"node\">\r\n",
       "<title>112</title>\r\n",
       "<path fill=\"#add6f4\" stroke=\"black\" d=\"M319.5,-140C319.5,-140 176.5,-140 176.5,-140 170.5,-140 164.5,-134 164.5,-128 164.5,-128 164.5,-84 164.5,-84 164.5,-78 170.5,-72 176.5,-72 176.5,-72 319.5,-72 319.5,-72 325.5,-72 331.5,-78 331.5,-84 331.5,-84 331.5,-128 331.5,-128 331.5,-134 325.5,-140 319.5,-140\"/>\r\n",
       "<text text-anchor=\"middle\" x=\"248\" y=\"-124.8\" font-family=\"Helvetica,sans-Serif\" font-size=\"14.00\">hours&#45;per&#45;week &lt;= 30.0</text>\r\n",
       "<text text-anchor=\"middle\" x=\"248\" y=\"-109.8\" font-family=\"Helvetica,sans-Serif\" font-size=\"14.00\">gini = 0.466</text>\r\n",
       "<text text-anchor=\"middle\" x=\"248\" y=\"-94.8\" font-family=\"Helvetica,sans-Serif\" font-size=\"14.00\">samples = 872</text>\r\n",
       "<text text-anchor=\"middle\" x=\"248\" y=\"-79.8\" font-family=\"Helvetica,sans-Serif\" font-size=\"14.00\">value = [498, 852]</text>\r\n",
       "</g>\r\n",
       "<!-- 2&#45;&gt;112 -->\r\n",
       "<g id=\"edge6\" class=\"edge\">\r\n",
       "<title>2&#45;&gt;112</title>\r\n",
       "<path fill=\"none\" stroke=\"black\" d=\"M248,-175.88C248,-167.78 248,-158.98 248,-150.47\"/>\r\n",
       "<polygon fill=\"black\" stroke=\"black\" points=\"251.5,-150.3 248,-140.3 244.5,-150.3 251.5,-150.3\"/>\r\n",
       "</g>\r\n",
       "<!-- 4 -->\r\n",
       "<g id=\"node5\" class=\"node\">\r\n",
       "<title>4</title>\r\n",
       "<path fill=\"#c0c0c0\" stroke=\"black\" d=\"M52,-36C52,-36 22,-36 22,-36 16,-36 10,-30 10,-24 10,-24 10,-12 10,-12 10,-6 16,0 22,0 22,0 52,0 52,0 58,0 64,-6 64,-12 64,-12 64,-24 64,-24 64,-30 58,-36 52,-36\"/>\r\n",
       "<text text-anchor=\"middle\" x=\"37\" y=\"-14.3\" font-family=\"Helvetica,sans-Serif\" font-size=\"14.00\">(...)</text>\r\n",
       "</g>\r\n",
       "<!-- 3&#45;&gt;4 -->\r\n",
       "<g id=\"edge4\" class=\"edge\">\r\n",
       "<title>3&#45;&gt;4</title>\r\n",
       "<path fill=\"none\" stroke=\"black\" d=\"M59.18,-72C55.54,-63.28 51.64,-53.98 48.16,-45.65\"/>\r\n",
       "<polygon fill=\"black\" stroke=\"black\" points=\"51.38,-44.28 44.29,-36.4 44.92,-46.98 51.38,-44.28\"/>\r\n",
       "</g>\r\n",
       "<!-- 107 -->\r\n",
       "<g id=\"node6\" class=\"node\">\r\n",
       "<title>107</title>\r\n",
       "<path fill=\"#c0c0c0\" stroke=\"black\" d=\"M124,-36C124,-36 94,-36 94,-36 88,-36 82,-30 82,-24 82,-24 82,-12 82,-12 82,-6 88,0 94,0 94,0 124,0 124,0 130,0 136,-6 136,-12 136,-12 136,-24 136,-24 136,-30 130,-36 124,-36\"/>\r\n",
       "<text text-anchor=\"middle\" x=\"109\" y=\"-14.3\" font-family=\"Helvetica,sans-Serif\" font-size=\"14.00\">(...)</text>\r\n",
       "</g>\r\n",
       "<!-- 3&#45;&gt;107 -->\r\n",
       "<g id=\"edge5\" class=\"edge\">\r\n",
       "<title>3&#45;&gt;107</title>\r\n",
       "<path fill=\"none\" stroke=\"black\" d=\"M86.82,-72C90.46,-63.28 94.36,-53.98 97.84,-45.65\"/>\r\n",
       "<polygon fill=\"black\" stroke=\"black\" points=\"101.08,-46.98 101.71,-36.4 94.62,-44.28 101.08,-46.98\"/>\r\n",
       "</g>\r\n",
       "<!-- 113 -->\r\n",
       "<g id=\"node8\" class=\"node\">\r\n",
       "<title>113</title>\r\n",
       "<path fill=\"#c0c0c0\" stroke=\"black\" d=\"M225,-36C225,-36 195,-36 195,-36 189,-36 183,-30 183,-24 183,-24 183,-12 183,-12 183,-6 189,0 195,0 195,0 225,0 225,0 231,0 237,-6 237,-12 237,-12 237,-24 237,-24 237,-30 231,-36 225,-36\"/>\r\n",
       "<text text-anchor=\"middle\" x=\"210\" y=\"-14.3\" font-family=\"Helvetica,sans-Serif\" font-size=\"14.00\">(...)</text>\r\n",
       "</g>\r\n",
       "<!-- 112&#45;&gt;113 -->\r\n",
       "<g id=\"edge7\" class=\"edge\">\r\n",
       "<title>112&#45;&gt;113</title>\r\n",
       "<path fill=\"none\" stroke=\"black\" d=\"M233.42,-72C229.57,-63.28 225.46,-53.98 221.78,-45.65\"/>\r\n",
       "<polygon fill=\"black\" stroke=\"black\" points=\"224.93,-44.14 217.69,-36.4 218.53,-46.96 224.93,-44.14\"/>\r\n",
       "</g>\r\n",
       "<!-- 122 -->\r\n",
       "<g id=\"node9\" class=\"node\">\r\n",
       "<title>122</title>\r\n",
       "<path fill=\"#c0c0c0\" stroke=\"black\" d=\"M297,-36C297,-36 267,-36 267,-36 261,-36 255,-30 255,-24 255,-24 255,-12 255,-12 255,-6 261,0 267,0 267,0 297,0 297,0 303,0 309,-6 309,-12 309,-12 309,-24 309,-24 309,-30 303,-36 297,-36\"/>\r\n",
       "<text text-anchor=\"middle\" x=\"282\" y=\"-14.3\" font-family=\"Helvetica,sans-Serif\" font-size=\"14.00\">(...)</text>\r\n",
       "</g>\r\n",
       "<!-- 112&#45;&gt;122 -->\r\n",
       "<g id=\"edge8\" class=\"edge\">\r\n",
       "<title>112&#45;&gt;122</title>\r\n",
       "<path fill=\"none\" stroke=\"black\" d=\"M261.05,-72C264.46,-63.38 268.09,-54.19 271.36,-45.92\"/>\r\n",
       "<polygon fill=\"black\" stroke=\"black\" points=\"274.7,-46.99 275.12,-36.4 268.19,-44.42 274.7,-46.99\"/>\r\n",
       "</g>\r\n",
       "<!-- 160 -->\r\n",
       "<g id=\"node11\" class=\"node\">\r\n",
       "<title>160</title>\r\n",
       "<path fill=\"#cfe7f9\" stroke=\"black\" d=\"M484,-140C484,-140 362,-140 362,-140 356,-140 350,-134 350,-128 350,-128 350,-84 350,-84 350,-78 356,-72 362,-72 362,-72 484,-72 484,-72 490,-72 496,-78 496,-84 496,-84 496,-128 496,-128 496,-134 490,-140 484,-140\"/>\r\n",
       "<text text-anchor=\"middle\" x=\"423\" y=\"-124.8\" font-family=\"Helvetica,sans-Serif\" font-size=\"14.00\">capital&#45;gain &lt;= 78.0</text>\r\n",
       "<text text-anchor=\"middle\" x=\"423\" y=\"-109.8\" font-family=\"Helvetica,sans-Serif\" font-size=\"14.00\">gini = 0.49</text>\r\n",
       "<text text-anchor=\"middle\" x=\"423\" y=\"-94.8\" font-family=\"Helvetica,sans-Serif\" font-size=\"14.00\">samples = 2097</text>\r\n",
       "<text text-anchor=\"middle\" x=\"423\" y=\"-79.8\" font-family=\"Helvetica,sans-Serif\" font-size=\"14.00\">value = [1403, 1855]</text>\r\n",
       "</g>\r\n",
       "<!-- 159&#45;&gt;160 -->\r\n",
       "<g id=\"edge10\" class=\"edge\">\r\n",
       "<title>159&#45;&gt;160</title>\r\n",
       "<path fill=\"none\" stroke=\"black\" d=\"M510.79,-175.88C498.87,-166.53 485.78,-156.26 473.43,-146.57\"/>\r\n",
       "<polygon fill=\"black\" stroke=\"black\" points=\"475.47,-143.72 465.44,-140.3 471.15,-149.23 475.47,-143.72\"/>\r\n",
       "</g>\r\n",
       "<!-- 239 -->\r\n",
       "<g id=\"node14\" class=\"node\">\r\n",
       "<title>239</title>\r\n",
       "<path fill=\"#fcf2eb\" stroke=\"black\" d=\"M669.5,-140C669.5,-140 526.5,-140 526.5,-140 520.5,-140 514.5,-134 514.5,-128 514.5,-128 514.5,-84 514.5,-84 514.5,-78 520.5,-72 526.5,-72 526.5,-72 669.5,-72 669.5,-72 675.5,-72 681.5,-78 681.5,-84 681.5,-84 681.5,-128 681.5,-128 681.5,-134 675.5,-140 669.5,-140\"/>\r\n",
       "<text text-anchor=\"middle\" x=\"598\" y=\"-124.8\" font-family=\"Helvetica,sans-Serif\" font-size=\"14.00\">hours&#45;per&#45;week &lt;= 77.5</text>\r\n",
       "<text text-anchor=\"middle\" x=\"598\" y=\"-109.8\" font-family=\"Helvetica,sans-Serif\" font-size=\"14.00\">gini = 0.499</text>\r\n",
       "<text text-anchor=\"middle\" x=\"598\" y=\"-94.8\" font-family=\"Helvetica,sans-Serif\" font-size=\"14.00\">samples = 296</text>\r\n",
       "<text text-anchor=\"middle\" x=\"598\" y=\"-79.8\" font-family=\"Helvetica,sans-Serif\" font-size=\"14.00\">value = [246, 221]</text>\r\n",
       "</g>\r\n",
       "<!-- 159&#45;&gt;239 -->\r\n",
       "<g id=\"edge13\" class=\"edge\">\r\n",
       "<title>159&#45;&gt;239</title>\r\n",
       "<path fill=\"none\" stroke=\"black\" d=\"M567.61,-175.88C571.3,-167.51 575.32,-158.4 579.19,-149.63\"/>\r\n",
       "<polygon fill=\"black\" stroke=\"black\" points=\"582.47,-150.86 583.31,-140.3 576.07,-148.04 582.47,-150.86\"/>\r\n",
       "</g>\r\n",
       "<!-- 161 -->\r\n",
       "<g id=\"node12\" class=\"node\">\r\n",
       "<title>161</title>\r\n",
       "<path fill=\"#c0c0c0\" stroke=\"black\" d=\"M397,-36C397,-36 367,-36 367,-36 361,-36 355,-30 355,-24 355,-24 355,-12 355,-12 355,-6 361,0 367,0 367,0 397,0 397,0 403,0 409,-6 409,-12 409,-12 409,-24 409,-24 409,-30 403,-36 397,-36\"/>\r\n",
       "<text text-anchor=\"middle\" x=\"382\" y=\"-14.3\" font-family=\"Helvetica,sans-Serif\" font-size=\"14.00\">(...)</text>\r\n",
       "</g>\r\n",
       "<!-- 160&#45;&gt;161 -->\r\n",
       "<g id=\"edge11\" class=\"edge\">\r\n",
       "<title>160&#45;&gt;161</title>\r\n",
       "<path fill=\"none\" stroke=\"black\" d=\"M407.27,-72C403.11,-63.28 398.68,-53.98 394.71,-45.65\"/>\r\n",
       "<polygon fill=\"black\" stroke=\"black\" points=\"397.76,-43.92 390.3,-36.4 391.44,-46.94 397.76,-43.92\"/>\r\n",
       "</g>\r\n",
       "<!-- 234 -->\r\n",
       "<g id=\"node13\" class=\"node\">\r\n",
       "<title>234</title>\r\n",
       "<path fill=\"#c0c0c0\" stroke=\"black\" d=\"M469,-36C469,-36 439,-36 439,-36 433,-36 427,-30 427,-24 427,-24 427,-12 427,-12 427,-6 433,0 439,0 439,0 469,0 469,0 475,0 481,-6 481,-12 481,-12 481,-24 481,-24 481,-30 475,-36 469,-36\"/>\r\n",
       "<text text-anchor=\"middle\" x=\"454\" y=\"-14.3\" font-family=\"Helvetica,sans-Serif\" font-size=\"14.00\">(...)</text>\r\n",
       "</g>\r\n",
       "<!-- 160&#45;&gt;234 -->\r\n",
       "<g id=\"edge12\" class=\"edge\">\r\n",
       "<title>160&#45;&gt;234</title>\r\n",
       "<path fill=\"none\" stroke=\"black\" d=\"M434.9,-72C438,-63.38 441.32,-54.19 444.3,-45.92\"/>\r\n",
       "<polygon fill=\"black\" stroke=\"black\" points=\"447.63,-47 447.73,-36.4 441.04,-44.62 447.63,-47\"/>\r\n",
       "</g>\r\n",
       "<!-- 240 -->\r\n",
       "<g id=\"node15\" class=\"node\">\r\n",
       "<title>240</title>\r\n",
       "<path fill=\"#c0c0c0\" stroke=\"black\" d=\"M555,-36C555,-36 525,-36 525,-36 519,-36 513,-30 513,-24 513,-24 513,-12 513,-12 513,-6 519,0 525,0 525,0 555,0 555,0 561,0 567,-6 567,-12 567,-12 567,-24 567,-24 567,-30 561,-36 555,-36\"/>\r\n",
       "<text text-anchor=\"middle\" x=\"540\" y=\"-14.3\" font-family=\"Helvetica,sans-Serif\" font-size=\"14.00\">(...)</text>\r\n",
       "</g>\r\n",
       "<!-- 239&#45;&gt;240 -->\r\n",
       "<g id=\"edge14\" class=\"edge\">\r\n",
       "<title>239&#45;&gt;240</title>\r\n",
       "<path fill=\"none\" stroke=\"black\" d=\"M575.74,-72C569.67,-63 563.18,-53.38 557.43,-44.84\"/>\r\n",
       "<polygon fill=\"black\" stroke=\"black\" points=\"560.23,-42.74 551.74,-36.4 554.43,-46.65 560.23,-42.74\"/>\r\n",
       "</g>\r\n",
       "<!-- 271 -->\r\n",
       "<g id=\"node16\" class=\"node\">\r\n",
       "<title>271</title>\r\n",
       "<path fill=\"#c0c0c0\" stroke=\"black\" d=\"M627,-36C627,-36 597,-36 597,-36 591,-36 585,-30 585,-24 585,-24 585,-12 585,-12 585,-6 591,0 597,0 597,0 627,0 627,0 633,0 639,-6 639,-12 639,-12 639,-24 639,-24 639,-30 633,-36 627,-36\"/>\r\n",
       "<text text-anchor=\"middle\" x=\"612\" y=\"-14.3\" font-family=\"Helvetica,sans-Serif\" font-size=\"14.00\">(...)</text>\r\n",
       "</g>\r\n",
       "<!-- 239&#45;&gt;271 -->\r\n",
       "<g id=\"edge15\" class=\"edge\">\r\n",
       "<title>239&#45;&gt;271</title>\r\n",
       "<path fill=\"none\" stroke=\"black\" d=\"M603.37,-72C604.75,-63.56 606.21,-54.59 607.53,-46.47\"/>\r\n",
       "<polygon fill=\"black\" stroke=\"black\" points=\"611.01,-46.84 609.17,-36.4 604.11,-45.71 611.01,-46.84\"/>\r\n",
       "</g>\r\n",
       "<!-- 281 -->\r\n",
       "<g id=\"node18\" class=\"node\">\r\n",
       "<title>281</title>\r\n",
       "<path fill=\"#e78a48\" stroke=\"black\" d=\"M886.5,-244C886.5,-244 743.5,-244 743.5,-244 737.5,-244 731.5,-238 731.5,-232 731.5,-232 731.5,-188 731.5,-188 731.5,-182 737.5,-176 743.5,-176 743.5,-176 886.5,-176 886.5,-176 892.5,-176 898.5,-182 898.5,-188 898.5,-188 898.5,-232 898.5,-232 898.5,-238 892.5,-244 886.5,-244\"/>\r\n",
       "<text text-anchor=\"middle\" x=\"815\" y=\"-228.8\" font-family=\"Helvetica,sans-Serif\" font-size=\"14.00\">hours&#45;per&#45;week &lt;= 41.5</text>\r\n",
       "<text text-anchor=\"middle\" x=\"815\" y=\"-213.8\" font-family=\"Helvetica,sans-Serif\" font-size=\"14.00\">gini = 0.13</text>\r\n",
       "<text text-anchor=\"middle\" x=\"815\" y=\"-198.8\" font-family=\"Helvetica,sans-Serif\" font-size=\"14.00\">samples = 7814</text>\r\n",
       "<text text-anchor=\"middle\" x=\"815\" y=\"-183.8\" font-family=\"Helvetica,sans-Serif\" font-size=\"14.00\">value = [11556, 870]</text>\r\n",
       "</g>\r\n",
       "<!-- 280&#45;&gt;281 -->\r\n",
       "<g id=\"edge17\" class=\"edge\">\r\n",
       "<title>280&#45;&gt;281</title>\r\n",
       "<path fill=\"none\" stroke=\"black\" d=\"M815,-279.88C815,-271.78 815,-262.98 815,-254.47\"/>\r\n",
       "<polygon fill=\"black\" stroke=\"black\" points=\"818.5,-254.3 815,-244.3 811.5,-254.3 818.5,-254.3\"/>\r\n",
       "</g>\r\n",
       "<!-- 554 -->\r\n",
       "<g id=\"node25\" class=\"node\">\r\n",
       "<title>554</title>\r\n",
       "<path fill=\"#fdf4ee\" stroke=\"black\" d=\"M1158,-244C1158,-244 1042,-244 1042,-244 1036,-244 1030,-238 1030,-232 1030,-232 1030,-188 1030,-188 1030,-182 1036,-176 1042,-176 1042,-176 1158,-176 1158,-176 1164,-176 1170,-182 1170,-188 1170,-188 1170,-232 1170,-232 1170,-238 1164,-244 1158,-244\"/>\r\n",
       "<text text-anchor=\"middle\" x=\"1100\" y=\"-228.8\" font-family=\"Helvetica,sans-Serif\" font-size=\"14.00\">capital&#45;gain &lt;= 78.0</text>\r\n",
       "<text text-anchor=\"middle\" x=\"1100\" y=\"-213.8\" font-family=\"Helvetica,sans-Serif\" font-size=\"14.00\">gini = 0.499</text>\r\n",
       "<text text-anchor=\"middle\" x=\"1100\" y=\"-198.8\" font-family=\"Helvetica,sans-Serif\" font-size=\"14.00\">samples = 710</text>\r\n",
       "<text text-anchor=\"middle\" x=\"1100\" y=\"-183.8\" font-family=\"Helvetica,sans-Serif\" font-size=\"14.00\">value = [619, 567]</text>\r\n",
       "</g>\r\n",
       "<!-- 280&#45;&gt;554 -->\r\n",
       "<g id=\"edge24\" class=\"edge\">\r\n",
       "<title>280&#45;&gt;554</title>\r\n",
       "<path fill=\"none\" stroke=\"black\" d=\"M892.5,-285.26C932.18,-271.06 980.41,-253.8 1020.38,-239.49\"/>\r\n",
       "<polygon fill=\"black\" stroke=\"black\" points=\"1021.59,-242.78 1029.83,-236.11 1019.23,-236.19 1021.59,-242.78\"/>\r\n",
       "</g>\r\n",
       "<!-- 282 -->\r\n",
       "<g id=\"node19\" class=\"node\">\r\n",
       "<title>282</title>\r\n",
       "<path fill=\"#e68742\" stroke=\"black\" d=\"M828,-140C828,-140 712,-140 712,-140 706,-140 700,-134 700,-128 700,-128 700,-84 700,-84 700,-78 706,-72 712,-72 712,-72 828,-72 828,-72 834,-72 840,-78 840,-84 840,-84 840,-128 840,-128 840,-134 834,-140 828,-140\"/>\r\n",
       "<text text-anchor=\"middle\" x=\"770\" y=\"-124.8\" font-family=\"Helvetica,sans-Serif\" font-size=\"14.00\">capital&#45;loss &lt;= 65.5</text>\r\n",
       "<text text-anchor=\"middle\" x=\"770\" y=\"-109.8\" font-family=\"Helvetica,sans-Serif\" font-size=\"14.00\">gini = 0.081</text>\r\n",
       "<text text-anchor=\"middle\" x=\"770\" y=\"-94.8\" font-family=\"Helvetica,sans-Serif\" font-size=\"14.00\">samples = 6185</text>\r\n",
       "<text text-anchor=\"middle\" x=\"770\" y=\"-79.8\" font-family=\"Helvetica,sans-Serif\" font-size=\"14.00\">value = [9412, 417]</text>\r\n",
       "</g>\r\n",
       "<!-- 281&#45;&gt;282 -->\r\n",
       "<g id=\"edge18\" class=\"edge\">\r\n",
       "<title>281&#45;&gt;282</title>\r\n",
       "<path fill=\"none\" stroke=\"black\" d=\"M800.39,-175.88C796.7,-167.51 792.68,-158.4 788.81,-149.63\"/>\r\n",
       "<polygon fill=\"black\" stroke=\"black\" points=\"791.93,-148.04 784.69,-140.3 785.53,-150.86 791.93,-148.04\"/>\r\n",
       "</g>\r\n",
       "<!-- 413 -->\r\n",
       "<g id=\"node22\" class=\"node\">\r\n",
       "<title>413</title>\r\n",
       "<path fill=\"#ea9c63\" stroke=\"black\" d=\"M986,-140C986,-140 870,-140 870,-140 864,-140 858,-134 858,-128 858,-128 858,-84 858,-84 858,-78 864,-72 870,-72 870,-72 986,-72 986,-72 992,-72 998,-78 998,-84 998,-84 998,-128 998,-128 998,-134 992,-140 986,-140\"/>\r\n",
       "<text text-anchor=\"middle\" x=\"928\" y=\"-124.8\" font-family=\"Helvetica,sans-Serif\" font-size=\"14.00\">capital&#45;loss &lt;= 67.0</text>\r\n",
       "<text text-anchor=\"middle\" x=\"928\" y=\"-109.8\" font-family=\"Helvetica,sans-Serif\" font-size=\"14.00\">gini = 0.288</text>\r\n",
       "<text text-anchor=\"middle\" x=\"928\" y=\"-94.8\" font-family=\"Helvetica,sans-Serif\" font-size=\"14.00\">samples = 1629</text>\r\n",
       "<text text-anchor=\"middle\" x=\"928\" y=\"-79.8\" font-family=\"Helvetica,sans-Serif\" font-size=\"14.00\">value = [2144, 453]</text>\r\n",
       "</g>\r\n",
       "<!-- 281&#45;&gt;413 -->\r\n",
       "<g id=\"edge21\" class=\"edge\">\r\n",
       "<title>281&#45;&gt;413</title>\r\n",
       "<path fill=\"none\" stroke=\"black\" d=\"M851.69,-175.88C861.85,-166.71 873,-156.65 883.55,-147.12\"/>\r\n",
       "<polygon fill=\"black\" stroke=\"black\" points=\"886.03,-149.6 891.11,-140.3 881.34,-144.4 886.03,-149.6\"/>\r\n",
       "</g>\r\n",
       "<!-- 283 -->\r\n",
       "<g id=\"node20\" class=\"node\">\r\n",
       "<title>283</title>\r\n",
       "<path fill=\"#c0c0c0\" stroke=\"black\" d=\"M720,-36C720,-36 690,-36 690,-36 684,-36 678,-30 678,-24 678,-24 678,-12 678,-12 678,-6 684,0 690,0 690,0 720,0 720,0 726,0 732,-6 732,-12 732,-12 732,-24 732,-24 732,-30 726,-36 720,-36\"/>\r\n",
       "<text text-anchor=\"middle\" x=\"705\" y=\"-14.3\" font-family=\"Helvetica,sans-Serif\" font-size=\"14.00\">(...)</text>\r\n",
       "</g>\r\n",
       "<!-- 282&#45;&gt;283 -->\r\n",
       "<g id=\"edge19\" class=\"edge\">\r\n",
       "<title>282&#45;&gt;283</title>\r\n",
       "<path fill=\"none\" stroke=\"black\" d=\"M745.06,-72C738.18,-62.9 730.83,-53.18 724.33,-44.57\"/>\r\n",
       "<polygon fill=\"black\" stroke=\"black\" points=\"726.98,-42.27 718.15,-36.4 721.39,-46.49 726.98,-42.27\"/>\r\n",
       "</g>\r\n",
       "<!-- 410 -->\r\n",
       "<g id=\"node21\" class=\"node\">\r\n",
       "<title>410</title>\r\n",
       "<path fill=\"#c0c0c0\" stroke=\"black\" d=\"M792,-36C792,-36 762,-36 762,-36 756,-36 750,-30 750,-24 750,-24 750,-12 750,-12 750,-6 756,0 762,0 762,0 792,0 792,0 798,0 804,-6 804,-12 804,-12 804,-24 804,-24 804,-30 798,-36 792,-36\"/>\r\n",
       "<text text-anchor=\"middle\" x=\"777\" y=\"-14.3\" font-family=\"Helvetica,sans-Serif\" font-size=\"14.00\">(...)</text>\r\n",
       "</g>\r\n",
       "<!-- 282&#45;&gt;410 -->\r\n",
       "<g id=\"edge20\" class=\"edge\">\r\n",
       "<title>282&#45;&gt;410</title>\r\n",
       "<path fill=\"none\" stroke=\"black\" d=\"M772.69,-72C773.37,-63.56 774.1,-54.59 774.76,-46.47\"/>\r\n",
       "<polygon fill=\"black\" stroke=\"black\" points=\"778.26,-46.65 775.58,-36.4 771.28,-46.09 778.26,-46.65\"/>\r\n",
       "</g>\r\n",
       "<!-- 414 -->\r\n",
       "<g id=\"node23\" class=\"node\">\r\n",
       "<title>414</title>\r\n",
       "<path fill=\"#c0c0c0\" stroke=\"black\" d=\"M903,-36C903,-36 873,-36 873,-36 867,-36 861,-30 861,-24 861,-24 861,-12 861,-12 861,-6 867,0 873,0 873,0 903,0 903,0 909,0 915,-6 915,-12 915,-12 915,-24 915,-24 915,-30 909,-36 903,-36\"/>\r\n",
       "<text text-anchor=\"middle\" x=\"888\" y=\"-14.3\" font-family=\"Helvetica,sans-Serif\" font-size=\"14.00\">(...)</text>\r\n",
       "</g>\r\n",
       "<!-- 413&#45;&gt;414 -->\r\n",
       "<g id=\"edge22\" class=\"edge\">\r\n",
       "<title>413&#45;&gt;414</title>\r\n",
       "<path fill=\"none\" stroke=\"black\" d=\"M912.65,-72C908.6,-63.28 904.27,-53.98 900.4,-45.65\"/>\r\n",
       "<polygon fill=\"black\" stroke=\"black\" points=\"903.49,-43.99 896.09,-36.4 897.14,-46.95 903.49,-43.99\"/>\r\n",
       "</g>\r\n",
       "<!-- 551 -->\r\n",
       "<g id=\"node24\" class=\"node\">\r\n",
       "<title>551</title>\r\n",
       "<path fill=\"#c0c0c0\" stroke=\"black\" d=\"M975,-36C975,-36 945,-36 945,-36 939,-36 933,-30 933,-24 933,-24 933,-12 933,-12 933,-6 939,0 945,0 945,0 975,0 975,0 981,0 987,-6 987,-12 987,-12 987,-24 987,-24 987,-30 981,-36 975,-36\"/>\r\n",
       "<text text-anchor=\"middle\" x=\"960\" y=\"-14.3\" font-family=\"Helvetica,sans-Serif\" font-size=\"14.00\">(...)</text>\r\n",
       "</g>\r\n",
       "<!-- 413&#45;&gt;551 -->\r\n",
       "<g id=\"edge23\" class=\"edge\">\r\n",
       "<title>413&#45;&gt;551</title>\r\n",
       "<path fill=\"none\" stroke=\"black\" d=\"M940.28,-72C943.49,-63.38 946.91,-54.19 949.98,-45.92\"/>\r\n",
       "<polygon fill=\"black\" stroke=\"black\" points=\"953.32,-47 953.52,-36.4 946.76,-44.56 953.32,-47\"/>\r\n",
       "</g>\r\n",
       "<!-- 555 -->\r\n",
       "<g id=\"node26\" class=\"node\">\r\n",
       "<title>555</title>\r\n",
       "<path fill=\"#f9e3d3\" stroke=\"black\" d=\"M1171.5,-140C1171.5,-140 1028.5,-140 1028.5,-140 1022.5,-140 1016.5,-134 1016.5,-128 1016.5,-128 1016.5,-84 1016.5,-84 1016.5,-78 1022.5,-72 1028.5,-72 1028.5,-72 1171.5,-72 1171.5,-72 1177.5,-72 1183.5,-78 1183.5,-84 1183.5,-84 1183.5,-128 1183.5,-128 1183.5,-134 1177.5,-140 1171.5,-140\"/>\r\n",
       "<text text-anchor=\"middle\" x=\"1100\" y=\"-124.8\" font-family=\"Helvetica,sans-Serif\" font-size=\"14.00\">hours&#45;per&#45;week &lt;= 26.5</text>\r\n",
       "<text text-anchor=\"middle\" x=\"1100\" y=\"-109.8\" font-family=\"Helvetica,sans-Serif\" font-size=\"14.00\">gini = 0.492</text>\r\n",
       "<text text-anchor=\"middle\" x=\"1100\" y=\"-94.8\" font-family=\"Helvetica,sans-Serif\" font-size=\"14.00\">samples = 657</text>\r\n",
       "<text text-anchor=\"middle\" x=\"1100\" y=\"-79.8\" font-family=\"Helvetica,sans-Serif\" font-size=\"14.00\">value = [619, 480]</text>\r\n",
       "</g>\r\n",
       "<!-- 554&#45;&gt;555 -->\r\n",
       "<g id=\"edge25\" class=\"edge\">\r\n",
       "<title>554&#45;&gt;555</title>\r\n",
       "<path fill=\"none\" stroke=\"black\" d=\"M1100,-175.88C1100,-167.78 1100,-158.98 1100,-150.47\"/>\r\n",
       "<polygon fill=\"black\" stroke=\"black\" points=\"1103.5,-150.3 1100,-140.3 1096.5,-150.3 1103.5,-150.3\"/>\r\n",
       "</g>\r\n",
       "<!-- 614 -->\r\n",
       "<g id=\"node29\" class=\"node\">\r\n",
       "<title>614</title>\r\n",
       "<path fill=\"#399de5\" stroke=\"black\" d=\"M1294.5,-132.5C1294.5,-132.5 1213.5,-132.5 1213.5,-132.5 1207.5,-132.5 1201.5,-126.5 1201.5,-120.5 1201.5,-120.5 1201.5,-91.5 1201.5,-91.5 1201.5,-85.5 1207.5,-79.5 1213.5,-79.5 1213.5,-79.5 1294.5,-79.5 1294.5,-79.5 1300.5,-79.5 1306.5,-85.5 1306.5,-91.5 1306.5,-91.5 1306.5,-120.5 1306.5,-120.5 1306.5,-126.5 1300.5,-132.5 1294.5,-132.5\"/>\r\n",
       "<text text-anchor=\"middle\" x=\"1254\" y=\"-117.3\" font-family=\"Helvetica,sans-Serif\" font-size=\"14.00\">gini = 0.0</text>\r\n",
       "<text text-anchor=\"middle\" x=\"1254\" y=\"-102.3\" font-family=\"Helvetica,sans-Serif\" font-size=\"14.00\">samples = 53</text>\r\n",
       "<text text-anchor=\"middle\" x=\"1254\" y=\"-87.3\" font-family=\"Helvetica,sans-Serif\" font-size=\"14.00\">value = [0, 87]</text>\r\n",
       "</g>\r\n",
       "<!-- 554&#45;&gt;614 -->\r\n",
       "<g id=\"edge28\" class=\"edge\">\r\n",
       "<title>554&#45;&gt;614</title>\r\n",
       "<path fill=\"none\" stroke=\"black\" d=\"M1150,-175.88C1168.26,-163.79 1188.85,-150.15 1206.86,-138.22\"/>\r\n",
       "<polygon fill=\"black\" stroke=\"black\" points=\"1209.07,-140.96 1215.47,-132.52 1205.2,-135.12 1209.07,-140.96\"/>\r\n",
       "</g>\r\n",
       "<!-- 556 -->\r\n",
       "<g id=\"node27\" class=\"node\">\r\n",
       "<title>556</title>\r\n",
       "<path fill=\"#c0c0c0\" stroke=\"black\" d=\"M1079,-36C1079,-36 1049,-36 1049,-36 1043,-36 1037,-30 1037,-24 1037,-24 1037,-12 1037,-12 1037,-6 1043,0 1049,0 1049,0 1079,0 1079,0 1085,0 1091,-6 1091,-12 1091,-12 1091,-24 1091,-24 1091,-30 1085,-36 1079,-36\"/>\r\n",
       "<text text-anchor=\"middle\" x=\"1064\" y=\"-14.3\" font-family=\"Helvetica,sans-Serif\" font-size=\"14.00\">(...)</text>\r\n",
       "</g>\r\n",
       "<!-- 555&#45;&gt;556 -->\r\n",
       "<g id=\"edge26\" class=\"edge\">\r\n",
       "<title>555&#45;&gt;556</title>\r\n",
       "<path fill=\"none\" stroke=\"black\" d=\"M1086.18,-72C1082.54,-63.28 1078.64,-53.98 1075.16,-45.65\"/>\r\n",
       "<polygon fill=\"black\" stroke=\"black\" points=\"1078.38,-44.28 1071.29,-36.4 1071.92,-46.98 1078.38,-44.28\"/>\r\n",
       "</g>\r\n",
       "<!-- 573 -->\r\n",
       "<g id=\"node28\" class=\"node\">\r\n",
       "<title>573</title>\r\n",
       "<path fill=\"#c0c0c0\" stroke=\"black\" d=\"M1151,-36C1151,-36 1121,-36 1121,-36 1115,-36 1109,-30 1109,-24 1109,-24 1109,-12 1109,-12 1109,-6 1115,0 1121,0 1121,0 1151,0 1151,0 1157,0 1163,-6 1163,-12 1163,-12 1163,-24 1163,-24 1163,-30 1157,-36 1151,-36\"/>\r\n",
       "<text text-anchor=\"middle\" x=\"1136\" y=\"-14.3\" font-family=\"Helvetica,sans-Serif\" font-size=\"14.00\">(...)</text>\r\n",
       "</g>\r\n",
       "<!-- 555&#45;&gt;573 -->\r\n",
       "<g id=\"edge27\" class=\"edge\">\r\n",
       "<title>555&#45;&gt;573</title>\r\n",
       "<path fill=\"none\" stroke=\"black\" d=\"M1113.82,-72C1117.46,-63.28 1121.36,-53.98 1124.84,-45.65\"/>\r\n",
       "<polygon fill=\"black\" stroke=\"black\" points=\"1128.08,-46.98 1128.71,-36.4 1121.62,-44.28 1128.08,-46.98\"/>\r\n",
       "</g>\r\n",
       "</g>\r\n",
       "</svg>\r\n"
      ],
      "text/plain": [
       "<graphviz.files.Source at 0x24e62a0e100>"
      ]
     },
     "execution_count": 37,
     "metadata": {},
     "output_type": "execute_result"
    }
   ],
   "source": [
    "# 위에서 생성된 tree.dot 파일을 Graphviz 읽어서 Jupyter Notebook상에서 시각화 \n",
    "with open(\"tree2.dot\") as f:\n",
    "    dot_graph = f.read()\n",
    "graphviz.Source(dot_graph)"
   ]
  },
  {
   "cell_type": "markdown",
   "id": "c8e74781",
   "metadata": {},
   "source": [
    "### <li>각 파라미터의 정밀도 재현율 그래프"
   ]
  },
  {
   "cell_type": "code",
   "execution_count": 38,
   "id": "801f774b",
   "metadata": {
    "scrolled": false
   },
   "outputs": [
    {
     "data": {
      "image/png": "[encoded data removed]",
      "text/plain": [
       "<Figure size 576x432 with 1 Axes>"
      ]
     },
     "metadata": {
      "needs_background": "light"
     },
     "output_type": "display_data"
    }
   ],
   "source": [
    "pred_proba_c1 = grid_cv.predict_proba(X_test)[:, 1]\n",
    "precision_recall_curve_plot(y_test, pred_proba_c1)"
   ]
  },
  {
   "cell_type": "markdown",
   "id": "6dd965c6",
   "metadata": {},
   "source": [
    "### <li>최적 파라미터 예측 점수"
   ]
  },
  {
   "cell_type": "code",
   "execution_count": 39,
   "id": "a357799d",
   "metadata": {},
   "outputs": [
    {
     "name": "stdout",
     "output_type": "stream",
     "text": [
      "예측 정확도: 0.8578\n",
      "예측 정밀도: 0.78584\n",
      "예측 재현율: 0.57035\n",
      "예측 f1스코어: 0.66097\n",
      "예측 roc_auc_스코어: 0.76022\n"
     ]
    }
   ],
   "source": [
    "### <li>최적 파라미터 예측 점수# GridSearchCV의 best_estimator_는 이미 최적 하이퍼 파라미터로 학습이 됨\n",
    "pred = estimator.predict(X_test)\n",
    "print('예측 정확도: {0:.4f}'.format(accuracy_score(y_test , pred)))\n",
    "print('예측 정밀도: {0:.5f}'.format(precision_score(y_test,pred)))\n",
    "print('예측 재현율: {0:.5f}'.format(recall_score(y_test,pred)))\n",
    "print('예측 f1스코어: {0:.5f}'.format(f1_score(y_test,pred)))\n",
    "print('예측 roc_auc_스코어: {0:.5f}'.format(roc_auc_score(y_test,pred)))"
   ]
  },
  {
   "cell_type": "markdown",
   "id": "a1af5cc7",
   "metadata": {},
   "source": [
    "### <li>최적 파라미터 특징 중요도"
   ]
  },
  {
   "cell_type": "code",
   "execution_count": 40,
   "id": "98163ebd",
   "metadata": {},
   "outputs": [
    {
     "data": {
      "image/png": "[encoded data removed]",
      "text/plain": [
       "<Figure size 720x432 with 1 Axes>"
      ]
     },
     "metadata": {
      "needs_background": "light"
     },
     "output_type": "display_data"
    }
   ],
   "source": [
    "ftr_importances_values = estimator.feature_importances_\n",
    "ftr_importances = pd.Series(ftr_importances_values,index=X_train.columns)\n",
    "ftr_top = ftr_importances.sort_values(ascending=False)\n",
    "\n",
    "plt.figure(figsize=(10,6))\n",
    "plt.title('Random Forest Feature importances')\n",
    "sns.barplot(x=ftr_top , y = ftr_top.index)\n",
    "plt.show()"
   ]
  },
  {
   "cell_type": "markdown",
   "id": "b3ceaddd",
   "metadata": {},
   "source": [
    "## Gradient Boost"
   ]
  },
  {
   "cell_type": "markdown",
   "id": "9f39dcf5",
   "metadata": {},
   "source": [
    "### <li>최적 파라미터 탐색"
   ]
  },
  {
   "cell_type": "code",
   "execution_count": 41,
   "id": "6b42d149",
   "metadata": {},
   "outputs": [
    {
     "name": "stdout",
     "output_type": "stream",
     "text": [
      "예측 정확도: 0.8654\n",
      "수행시간: 1.1368s\n"
     ]
    }
   ],
   "source": [
    "warnings.filterwarnings('ignore')\n",
    "start_time = time.time()\n",
    "gb_clf = GradientBoostingClassifier(random_state = 0)\n",
    "gb_clf.fit(X_train, y_train)\n",
    "gb_pred = gb_clf.predict(X_test)\n",
    "gb_accuracy = accuracy_score(y_test,gb_pred)\n",
    "\n",
    "print('예측 정확도: {0:.4f}'.format(gb_accuracy))\n",
    "print('수행시간: {0:.4f}s'.format(time.time() - start_time))"
   ]
  },
  {
   "cell_type": "markdown",
   "id": "0f7de676",
   "metadata": {},
   "source": [
    "### <li>최적 파라미터 예측 점수"
   ]
  },
  {
   "cell_type": "code",
   "execution_count": 42,
   "id": "c3b92e02",
   "metadata": {},
   "outputs": [
    {
     "name": "stdout",
     "output_type": "stream",
     "text": [
      "Fitting 2 folds for each of 12 candidates, totalling 24 fits\n",
      "최적 하이퍼 파라미터:\n",
      " {'learning_rate': 0.1, 'n_estimators': 300}\n",
      "최고 예측 정확도: 0.8674\n",
      "수행시간: 40.9773s\n"
     ]
    }
   ],
   "source": [
    "params = {\n",
    "    'n_estimators':[100,200,300,500],\n",
    "    'learning_rate':[0.05,0.1,0.2]\n",
    "}\n",
    "start_time = time.time()\n",
    "grid_cv = GridSearchCV(gb_clf , param_grid=params , cv=2, verbose=1 )\n",
    "grid_cv.fit(X_train , y_train)\n",
    "\n",
    "print('최적 하이퍼 파라미터:\\n', grid_cv.best_params_)\n",
    "print('최고 예측 정확도: {0:.4f}'.format(grid_cv.best_score_))\n",
    "print('수행시간: {0:.4f}s'.format(time.time() - start_time))"
   ]
  },
  {
   "cell_type": "markdown",
   "id": "4bcb4bfa",
   "metadata": {},
   "source": [
    "### <li>각 파라미터의 정밀도 재현율 그래프"
   ]
  },
  {
   "cell_type": "code",
   "execution_count": 43,
   "id": "e72dea15",
   "metadata": {},
   "outputs": [
    {
     "data": {
      "image/png": "[encoded data removed]",
      "text/plain": [
       "<Figure size 576x432 with 1 Axes>"
      ]
     },
     "metadata": {
      "needs_background": "light"
     },
     "output_type": "display_data"
    }
   ],
   "source": [
    "pred_proba_c1 = grid_cv.predict_proba(X_test)[:, 1]\n",
    "precision_recall_curve_plot(y_test, pred_proba_c1)"
   ]
  },
  {
   "cell_type": "code",
   "execution_count": 44,
   "id": "7df2d3ab",
   "metadata": {},
   "outputs": [
    {
     "name": "stdout",
     "output_type": "stream",
     "text": [
      "예측 정확도: 0.8716\n",
      "예측 정밀도: 0.78455\n",
      "예측 재현율: 0.65038\n",
      "예측 f1스코어: 0.71119\n",
      "예측 roc_auc_스코어: 0.79652\n"
     ]
    }
   ],
   "source": [
    "estimator = grid_cv.best_estimator_\n",
    "\n",
    "# GridSearchCV의 best_estimator_는 이미 최적 하이퍼 파라미터로 학습이 됨\n",
    "pred = estimator.predict(X_test)\n",
    "print('예측 정확도: {0:.4f}'.format(accuracy_score(y_test , pred)))\n",
    "print('예측 정밀도: {0:.5f}'.format(precision_score(y_test,pred)))\n",
    "print('예측 재현율: {0:.5f}'.format(recall_score(y_test,pred)))\n",
    "print('예측 f1스코어: {0:.5f}'.format(f1_score(y_test,pred)))\n",
    "print('예측 roc_auc_스코어: {0:.5f}'.format(roc_auc_score(y_test,pred)))"
   ]
  },
  {
   "cell_type": "markdown",
   "id": "6a667571",
   "metadata": {},
   "source": [
    "### <li>최적 파라미터 특징 중요도"
   ]
  },
  {
   "cell_type": "code",
   "execution_count": 45,
   "id": "b75ce62e",
   "metadata": {},
   "outputs": [
    {
     "data": {
      "image/png": "[encoded data removed]",
      "text/plain": [
       "<Figure size 720x432 with 1 Axes>"
      ]
     },
     "metadata": {
      "needs_background": "light"
     },
     "output_type": "display_data"
    }
   ],
   "source": [
    "ftr_importances_values = estimator.feature_importances_\n",
    "ftr_importances = pd.Series(ftr_importances_values,index=X_train.columns)\n",
    "ftr_top = ftr_importances.sort_values(ascending=False)\n",
    "\n",
    "plt.figure(figsize=(10,6))\n",
    "plt.title('Gradient Boost Feature importances')\n",
    "sns.barplot(x=ftr_top , y = ftr_top.index)\n",
    "plt.show()"
   ]
  },
  {
   "cell_type": "markdown",
   "id": "4371531d",
   "metadata": {},
   "source": [
    "## Logistic Regression"
   ]
  },
  {
   "cell_type": "code",
   "execution_count": 46,
   "id": "6adf43da",
   "metadata": {},
   "outputs": [
    {
     "name": "stdout",
     "output_type": "stream",
     "text": [
      "accuracy: 0.822\n",
      "roc_auc: 0.696\n"
     ]
    }
   ],
   "source": [
    "lr_clf = LogisticRegression()\n",
    "lr_clf.fit(X_train, y_train)\n",
    "lr_preds = lr_clf.predict(X_test)\n",
    "\n",
    "# accuracy와 roc_auc 측정\n",
    "print('accuracy: {:0.3f}'.format(accuracy_score(y_test, lr_preds)))\n",
    "print('roc_auc: {:0.3f}'.format(roc_auc_score(y_test , lr_preds)))"
   ]
  },
  {
   "cell_type": "markdown",
   "id": "ad71ec82",
   "metadata": {},
   "source": [
    "### <li>최적 파라미터 탐색"
   ]
  },
  {
   "cell_type": "code",
   "execution_count": 47,
   "id": "32a95dae",
   "metadata": {},
   "outputs": [
    {
     "name": "stdout",
     "output_type": "stream",
     "text": [
      "최적 하이퍼 파라미터:{'C': 1, 'penalty': 'l2'}, 최적 평균 정확도:0.822\n"
     ]
    }
   ],
   "source": [
    "params={'penalty':['l2', 'l1'],\n",
    "        'C':[0.01, 0.1, 1, 1, 5, 10]}\n",
    "\n",
    "grid_clf = GridSearchCV(lr_clf, param_grid=params, scoring='accuracy', cv=3 )\n",
    "grid_clf.fit(X_train , y_train)\n",
    "print('최적 하이퍼 파라미터:{0}, 최적 평균 정확도:{1:.3f}'.format(grid_clf.best_params_, \n",
    "                                                  grid_clf.best_score_))\n",
    "estimator = grid_clf.best_estimator_"
   ]
  },
  {
   "cell_type": "markdown",
   "id": "59df9342",
   "metadata": {},
   "source": [
    "### <li>각 파라미터의 정밀도 재현율 그래프"
   ]
  },
  {
   "cell_type": "code",
   "execution_count": 48,
   "id": "3e0ad86c",
   "metadata": {},
   "outputs": [
    {
     "data": {
      "image/png": "[encoded data removed]",
      "text/plain": [
       "<Figure size 576x432 with 1 Axes>"
      ]
     },
     "metadata": {
      "needs_background": "light"
     },
     "output_type": "display_data"
    }
   ],
   "source": [
    "pred_proba_c1 = grid_clf.predict_proba(X_test)[:, 1]\n",
    "precision_recall_curve_plot(y_test, pred_proba_c1)"
   ]
  },
  {
   "cell_type": "markdown",
   "id": "4d1c7b70",
   "metadata": {},
   "source": [
    "### <li>최적 파라미터 예측 점수"
   ]
  },
  {
   "cell_type": "code",
   "execution_count": 49,
   "id": "57bc1cff",
   "metadata": {},
   "outputs": [
    {
     "name": "stdout",
     "output_type": "stream",
     "text": [
      "예측 정확도: 0.8220\n",
      "예측 정밀도: 0.71153\n",
      "예측 재현율: 0.44987\n",
      "예측 f1스코어: 0.55123\n",
      "예측 roc_auc_스코어: 0.69566\n"
     ]
    }
   ],
   "source": [
    "# GridSearchCV의 best_estimator_는 이미 최적 하이퍼 파라미터로 학습이 됨\n",
    "pred = estimator.predict(X_test)\n",
    "print('예측 정확도: {0:.4f}'.format(accuracy_score(y_test , pred)))\n",
    "print('예측 정밀도: {0:.5f}'.format(precision_score(y_test,pred)))\n",
    "print('예측 재현율: {0:.5f}'.format(recall_score(y_test,pred)))\n",
    "print('예측 f1스코어: {0:.5f}'.format(f1_score(y_test,pred)))\n",
    "print('예측 roc_auc_스코어: {0:.5f}'.format(roc_auc_score(y_test,pred)))"
   ]
  },
  {
   "cell_type": "code",
   "execution_count": null,
   "id": "6ef52447",
   "metadata": {},
   "outputs": [],
   "source": []
  }
 ],
 "metadata": {
  "kernelspec": {
   "display_name": "Python 3",
   "language": "python",
   "name": "python3"
  },
  "language_info": {
   "codemirror_mode": {
    "name": "ipython",
    "version": 3
   },
   "file_extension": ".py",
   "mimetype": "text/x-python",
   "name": "python",
   "nbconvert_exporter": "python",
   "pygments_lexer": "ipython3",
   "version": "3.8.9"
  }
 },
 "nbformat": 4,
 "nbformat_minor": 5
}
